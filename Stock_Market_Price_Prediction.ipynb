{
  "nbformat": 4,
  "nbformat_minor": 0,
  "metadata": {
    "colab": {
      "name": "Stock_Market_Price_Prediction (1).ipynb",
      "provenance": [],
      "collapsed_sections": []
    },
    "kernelspec": {
      "display_name": "Python 3",
      "language": "python",
      "name": "python3"
    },
    "language_info": {
      "codemirror_mode": {
        "name": "ipython",
        "version": 3
      },
      "file_extension": ".py",
      "mimetype": "text/x-python",
      "name": "python",
      "nbconvert_exporter": "python",
      "pygments_lexer": "ipython3",
      "version": "3.7.6"
    }
  },
  "cells": [
    {
      "cell_type": "markdown",
      "metadata": {
        "id": "53F9o5vhxJ9a"
      },
      "source": [
        "We have used Amazon stock price from \"1998-01-01\" to \"2020-10-01\" .\n",
        "Source : Yahoo Finance.\n",
        "The ticker and date range can be changed in the code manually.\n",
        "Here are the list of models we have used\n",
        "1. Linear-Regression Algorithm\n",
        "2. Logistic-Regression Algorithm\n",
        "3. K-Nearest-Neighbors Algorithm\n",
        "4. Support-Vector-Machine Algorithm\n",
        "5. Long Term-Short Memory \n",
        "6. Auto-ARIMA\n",
        "\n"
      ]
    },
    {
      "cell_type": "code",
      "metadata": {
        "colab": {
          "base_uri": "https://localhost:8080/"
        },
        "id": "mRQoS1qVvSKW",
        "scrolled": true,
        "outputId": "6702a782-3cd4-4e41-977e-350be4007eba"
      },
      "source": [
        "pip install yfinance"
      ],
      "execution_count": null,
      "outputs": [
        {
          "output_type": "stream",
          "text": [
            "Collecting yfinance\n",
            "  Downloading yfinance-0.1.63.tar.gz (26 kB)\n",
            "Requirement already satisfied: pandas>=0.24 in /usr/local/lib/python3.7/dist-packages (from yfinance) (1.1.5)\n",
            "Requirement already satisfied: numpy>=1.15 in /usr/local/lib/python3.7/dist-packages (from yfinance) (1.19.5)\n",
            "Requirement already satisfied: requests>=2.20 in /usr/local/lib/python3.7/dist-packages (from yfinance) (2.23.0)\n",
            "Requirement already satisfied: multitasking>=0.0.7 in /usr/local/lib/python3.7/dist-packages (from yfinance) (0.0.9)\n",
            "Collecting lxml>=4.5.1\n",
            "  Downloading lxml-4.6.3-cp37-cp37m-manylinux2014_x86_64.whl (6.3 MB)\n",
            "\u001b[K     |████████████████████████████████| 6.3 MB 35.1 MB/s \n",
            "\u001b[?25hRequirement already satisfied: python-dateutil>=2.7.3 in /usr/local/lib/python3.7/dist-packages (from pandas>=0.24->yfinance) (2.8.1)\n",
            "Requirement already satisfied: pytz>=2017.2 in /usr/local/lib/python3.7/dist-packages (from pandas>=0.24->yfinance) (2018.9)\n",
            "Requirement already satisfied: six>=1.5 in /usr/local/lib/python3.7/dist-packages (from python-dateutil>=2.7.3->pandas>=0.24->yfinance) (1.15.0)\n",
            "Requirement already satisfied: chardet<4,>=3.0.2 in /usr/local/lib/python3.7/dist-packages (from requests>=2.20->yfinance) (3.0.4)\n",
            "Requirement already satisfied: certifi>=2017.4.17 in /usr/local/lib/python3.7/dist-packages (from requests>=2.20->yfinance) (2021.5.30)\n",
            "Requirement already satisfied: idna<3,>=2.5 in /usr/local/lib/python3.7/dist-packages (from requests>=2.20->yfinance) (2.10)\n",
            "Requirement already satisfied: urllib3!=1.25.0,!=1.25.1,<1.26,>=1.21.1 in /usr/local/lib/python3.7/dist-packages (from requests>=2.20->yfinance) (1.24.3)\n",
            "Building wheels for collected packages: yfinance\n",
            "  Building wheel for yfinance (setup.py) ... \u001b[?25l\u001b[?25hdone\n",
            "  Created wheel for yfinance: filename=yfinance-0.1.63-py2.py3-none-any.whl size=23919 sha256=d826778214d65764fd538c3deb41d71759dd0b54fa08563bcff29e4124fb1b45\n",
            "  Stored in directory: /root/.cache/pip/wheels/fe/87/8b/7ec24486e001d3926537f5f7801f57a74d181be25b11157983\n",
            "Successfully built yfinance\n",
            "Installing collected packages: lxml, yfinance\n",
            "  Attempting uninstall: lxml\n",
            "    Found existing installation: lxml 4.2.6\n",
            "    Uninstalling lxml-4.2.6:\n",
            "      Successfully uninstalled lxml-4.2.6\n",
            "Successfully installed lxml-4.6.3 yfinance-0.1.63\n"
          ],
          "name": "stdout"
        }
      ]
    },
    {
      "cell_type": "code",
      "metadata": {
        "id": "U22jkPurvSKh"
      },
      "source": [
        "import pandas as pd\n",
        "import numpy as np\n",
        "#to plot within notebook\n",
        "import matplotlib.pyplot as plt\n",
        "%matplotlib inline\n",
        "\n",
        "#setting figure size\n",
        "from matplotlib.pylab import rcParams\n",
        "rcParams['figure.figsize'] = 20,10\n",
        "\n",
        "#for normalizing data\n",
        "from sklearn.preprocessing import MinMaxScaler\n",
        "scaler = MinMaxScaler(feature_range=(0, 1))\n",
        "\n",
        "import yfinance as yf\n",
        "\n",
        "msft = yf.Ticker(\"AMZN\")\n",
        "\n",
        "# get historical market data\n",
        "\n",
        "df = msft.history(start = \"1998-01-01\",end = \"2020-10-01\")\n",
        "\n",
        "df.to_csv('stock_Price.csv')"
      ],
      "execution_count": null,
      "outputs": []
    },
    {
      "cell_type": "code",
      "metadata": {
        "id": "SYChicqhvSKp"
      },
      "source": [
        "df.dropna(axis=0, inplace=True)"
      ],
      "execution_count": null,
      "outputs": []
    },
    {
      "cell_type": "code",
      "metadata": {
        "colab": {
          "base_uri": "https://localhost:8080/",
          "height": 447
        },
        "id": "VVhA4XXpByGX",
        "outputId": "25f0d76d-b607-48b9-9e3a-a8d6e5592ee9"
      },
      "source": [
        "df"
      ],
      "execution_count": null,
      "outputs": [
        {
          "output_type": "execute_result",
          "data": {
            "text/html": [
              "<div>\n",
              "<style scoped>\n",
              "    .dataframe tbody tr th:only-of-type {\n",
              "        vertical-align: middle;\n",
              "    }\n",
              "\n",
              "    .dataframe tbody tr th {\n",
              "        vertical-align: top;\n",
              "    }\n",
              "\n",
              "    .dataframe thead th {\n",
              "        text-align: right;\n",
              "    }\n",
              "</style>\n",
              "<table border=\"1\" class=\"dataframe\">\n",
              "  <thead>\n",
              "    <tr style=\"text-align: right;\">\n",
              "      <th></th>\n",
              "      <th>Open</th>\n",
              "      <th>High</th>\n",
              "      <th>Low</th>\n",
              "      <th>Close</th>\n",
              "      <th>Volume</th>\n",
              "      <th>Dividends</th>\n",
              "      <th>Stock Splits</th>\n",
              "    </tr>\n",
              "    <tr>\n",
              "      <th>Date</th>\n",
              "      <th></th>\n",
              "      <th></th>\n",
              "      <th></th>\n",
              "      <th></th>\n",
              "      <th></th>\n",
              "      <th></th>\n",
              "      <th></th>\n",
              "    </tr>\n",
              "  </thead>\n",
              "  <tbody>\n",
              "    <tr>\n",
              "      <th>1998-01-02</th>\n",
              "      <td>5.000000</td>\n",
              "      <td>5.000000</td>\n",
              "      <td>4.796875</td>\n",
              "      <td>4.958333</td>\n",
              "      <td>1660800</td>\n",
              "      <td>0</td>\n",
              "      <td>0.0</td>\n",
              "    </tr>\n",
              "    <tr>\n",
              "      <th>1998-01-05</th>\n",
              "      <td>4.885417</td>\n",
              "      <td>4.937500</td>\n",
              "      <td>4.708333</td>\n",
              "      <td>4.750000</td>\n",
              "      <td>3590400</td>\n",
              "      <td>0</td>\n",
              "      <td>0.0</td>\n",
              "    </tr>\n",
              "    <tr>\n",
              "      <th>1998-01-06</th>\n",
              "      <td>4.697917</td>\n",
              "      <td>4.875000</td>\n",
              "      <td>4.666667</td>\n",
              "      <td>4.838542</td>\n",
              "      <td>4174800</td>\n",
              "      <td>0</td>\n",
              "      <td>0.0</td>\n",
              "    </tr>\n",
              "    <tr>\n",
              "      <th>1998-01-07</th>\n",
              "      <td>4.833333</td>\n",
              "      <td>4.833333</td>\n",
              "      <td>4.692708</td>\n",
              "      <td>4.781250</td>\n",
              "      <td>2725200</td>\n",
              "      <td>0</td>\n",
              "      <td>0.0</td>\n",
              "    </tr>\n",
              "    <tr>\n",
              "      <th>1998-01-08</th>\n",
              "      <td>4.697917</td>\n",
              "      <td>4.703125</td>\n",
              "      <td>4.531250</td>\n",
              "      <td>4.614583</td>\n",
              "      <td>6015600</td>\n",
              "      <td>0</td>\n",
              "      <td>0.0</td>\n",
              "    </tr>\n",
              "    <tr>\n",
              "      <th>...</th>\n",
              "      <td>...</td>\n",
              "      <td>...</td>\n",
              "      <td>...</td>\n",
              "      <td>...</td>\n",
              "      <td>...</td>\n",
              "      <td>...</td>\n",
              "      <td>...</td>\n",
              "    </tr>\n",
              "    <tr>\n",
              "      <th>2020-09-24</th>\n",
              "      <td>2977.790039</td>\n",
              "      <td>3069.300049</td>\n",
              "      <td>2965.000000</td>\n",
              "      <td>3019.790039</td>\n",
              "      <td>5529400</td>\n",
              "      <td>0</td>\n",
              "      <td>0.0</td>\n",
              "    </tr>\n",
              "    <tr>\n",
              "      <th>2020-09-25</th>\n",
              "      <td>3054.860107</td>\n",
              "      <td>3101.540039</td>\n",
              "      <td>2999.000000</td>\n",
              "      <td>3095.129883</td>\n",
              "      <td>4615200</td>\n",
              "      <td>0</td>\n",
              "      <td>0.0</td>\n",
              "    </tr>\n",
              "    <tr>\n",
              "      <th>2020-09-28</th>\n",
              "      <td>3148.850098</td>\n",
              "      <td>3175.040039</td>\n",
              "      <td>3117.169922</td>\n",
              "      <td>3174.050049</td>\n",
              "      <td>4224200</td>\n",
              "      <td>0</td>\n",
              "      <td>0.0</td>\n",
              "    </tr>\n",
              "    <tr>\n",
              "      <th>2020-09-29</th>\n",
              "      <td>3175.389893</td>\n",
              "      <td>3188.260010</td>\n",
              "      <td>3132.540039</td>\n",
              "      <td>3144.879883</td>\n",
              "      <td>3495800</td>\n",
              "      <td>0</td>\n",
              "      <td>0.0</td>\n",
              "    </tr>\n",
              "    <tr>\n",
              "      <th>2020-09-30</th>\n",
              "      <td>3141.139893</td>\n",
              "      <td>3212.879883</td>\n",
              "      <td>3133.989990</td>\n",
              "      <td>3148.729980</td>\n",
              "      <td>4896100</td>\n",
              "      <td>0</td>\n",
              "      <td>0.0</td>\n",
              "    </tr>\n",
              "  </tbody>\n",
              "</table>\n",
              "<p>5724 rows × 7 columns</p>\n",
              "</div>"
            ],
            "text/plain": [
              "                   Open         High  ...  Dividends  Stock Splits\n",
              "Date                                  ...                         \n",
              "1998-01-02     5.000000     5.000000  ...          0           0.0\n",
              "1998-01-05     4.885417     4.937500  ...          0           0.0\n",
              "1998-01-06     4.697917     4.875000  ...          0           0.0\n",
              "1998-01-07     4.833333     4.833333  ...          0           0.0\n",
              "1998-01-08     4.697917     4.703125  ...          0           0.0\n",
              "...                 ...          ...  ...        ...           ...\n",
              "2020-09-24  2977.790039  3069.300049  ...          0           0.0\n",
              "2020-09-25  3054.860107  3101.540039  ...          0           0.0\n",
              "2020-09-28  3148.850098  3175.040039  ...          0           0.0\n",
              "2020-09-29  3175.389893  3188.260010  ...          0           0.0\n",
              "2020-09-30  3141.139893  3212.879883  ...          0           0.0\n",
              "\n",
              "[5724 rows x 7 columns]"
            ]
          },
          "metadata": {
            "tags": []
          },
          "execution_count": 3
        }
      ]
    },
    {
      "cell_type": "code",
      "metadata": {
        "colab": {
          "base_uri": "https://localhost:8080/"
        },
        "id": "aOmbi43gvSKw",
        "outputId": "78bcbac0-914d-4ec1-f343-36ad38084533"
      },
      "source": [
        "df.isnull().sum()"
      ],
      "execution_count": null,
      "outputs": [
        {
          "output_type": "execute_result",
          "data": {
            "text/plain": [
              "Open            0\n",
              "High            0\n",
              "Low             0\n",
              "Close           0\n",
              "Volume          0\n",
              "Dividends       0\n",
              "Stock Splits    0\n",
              "dtype: int64"
            ]
          },
          "metadata": {
            "tags": []
          },
          "execution_count": 8
        }
      ]
    },
    {
      "cell_type": "code",
      "metadata": {
        "colab": {
          "base_uri": "https://localhost:8080/"
        },
        "id": "o_0wSjAtvSK3",
        "outputId": "280f7628-5650-4b65-fd55-c817f9882693"
      },
      "source": [
        "print('Shape of the data:')\n",
        "print(df.shape)"
      ],
      "execution_count": null,
      "outputs": [
        {
          "output_type": "stream",
          "text": [
            "Shape of the data:\n",
            "(5724, 7)\n"
          ],
          "name": "stdout"
        }
      ]
    },
    {
      "cell_type": "code",
      "metadata": {
        "id": "Yv5U38zxvSK-"
      },
      "source": [
        "df['Date'] = pd.to_datetime(df.index,format='%Y-%m-%d')\n",
        "df.index = df['Date']"
      ],
      "execution_count": null,
      "outputs": []
    },
    {
      "cell_type": "code",
      "metadata": {
        "id": "BeGhGdNYvSLG"
      },
      "source": [
        "data = df.sort_index(ascending=True, axis=0)\n",
        "new_data = pd.DataFrame(index=range(0,len(df)),columns=['Date', 'Close'])"
      ],
      "execution_count": null,
      "outputs": []
    },
    {
      "cell_type": "code",
      "metadata": {
        "id": "NOq1R-v9vSLO"
      },
      "source": [
        "for i in range(0,len(data)):\n",
        "     new_data['Date'][i] = data['Date'][i]\n",
        "     new_data['Close'][i] = data['Close'][i]"
      ],
      "execution_count": null,
      "outputs": []
    },
    {
      "cell_type": "code",
      "metadata": {
        "colab": {
          "base_uri": "https://localhost:8080/"
        },
        "id": "sTmJ-EwDvSLU",
        "outputId": "ab73c260-f809-4928-86f8-717c0dcc3db4"
      },
      "source": [
        "new_data.shape"
      ],
      "execution_count": null,
      "outputs": [
        {
          "output_type": "execute_result",
          "data": {
            "text/plain": [
              "(5724, 2)"
            ]
          },
          "metadata": {
            "tags": []
          },
          "execution_count": 13
        }
      ]
    },
    {
      "cell_type": "code",
      "metadata": {
        "id": "oZk1xaY-FFo7"
      },
      "source": [
        "split = round(0.7*len(new_data))\n",
        "valid = new_data[split:]\n",
        "train = new_data[:split]"
      ],
      "execution_count": null,
      "outputs": []
    },
    {
      "cell_type": "code",
      "metadata": {
        "colab": {
          "base_uri": "https://localhost:8080/"
        },
        "id": "SGlCpwomvSLi",
        "outputId": "e8272436-b3a8-41a9-84ba-eb1dfcf0ff47"
      },
      "source": [
        "print('Shape of training set:')\n",
        "print(train.shape)"
      ],
      "execution_count": null,
      "outputs": [
        {
          "output_type": "stream",
          "text": [
            "Shape of training set:\n",
            "(4007, 2)\n"
          ],
          "name": "stdout"
        }
      ]
    },
    {
      "cell_type": "code",
      "metadata": {
        "colab": {
          "base_uri": "https://localhost:8080/"
        },
        "id": "0p1Hm144vSLq",
        "outputId": "8095bbb0-bec4-4d8d-a4ad-6425f24aecc2"
      },
      "source": [
        "\n",
        "print('Shape of validation set:')\n",
        "print(valid.shape)"
      ],
      "execution_count": null,
      "outputs": [
        {
          "output_type": "stream",
          "text": [
            "Shape of validation set:\n",
            "(1717, 2)\n"
          ],
          "name": "stdout"
        }
      ]
    },
    {
      "cell_type": "code",
      "metadata": {
        "colab": {
          "base_uri": "https://localhost:8080/",
          "height": 206
        },
        "id": "zsspRQJzGdxm",
        "outputId": "39a7e2c8-a522-4160-caf3-d4d3d5d1c94b"
      },
      "source": [
        "valid.head()"
      ],
      "execution_count": null,
      "outputs": [
        {
          "output_type": "execute_result",
          "data": {
            "text/html": [
              "<div>\n",
              "<style scoped>\n",
              "    .dataframe tbody tr th:only-of-type {\n",
              "        vertical-align: middle;\n",
              "    }\n",
              "\n",
              "    .dataframe tbody tr th {\n",
              "        vertical-align: top;\n",
              "    }\n",
              "\n",
              "    .dataframe thead th {\n",
              "        text-align: right;\n",
              "    }\n",
              "</style>\n",
              "<table border=\"1\" class=\"dataframe\">\n",
              "  <thead>\n",
              "    <tr style=\"text-align: right;\">\n",
              "      <th></th>\n",
              "      <th>Date</th>\n",
              "      <th>Close</th>\n",
              "    </tr>\n",
              "  </thead>\n",
              "  <tbody>\n",
              "    <tr>\n",
              "      <th>4007</th>\n",
              "      <td>2013-12-05 00:00:00</td>\n",
              "      <td>384.49</td>\n",
              "    </tr>\n",
              "    <tr>\n",
              "      <th>4008</th>\n",
              "      <td>2013-12-06 00:00:00</td>\n",
              "      <td>386.95</td>\n",
              "    </tr>\n",
              "    <tr>\n",
              "      <th>4009</th>\n",
              "      <td>2013-12-09 00:00:00</td>\n",
              "      <td>384.89</td>\n",
              "    </tr>\n",
              "    <tr>\n",
              "      <th>4010</th>\n",
              "      <td>2013-12-10 00:00:00</td>\n",
              "      <td>387.78</td>\n",
              "    </tr>\n",
              "    <tr>\n",
              "      <th>4011</th>\n",
              "      <td>2013-12-11 00:00:00</td>\n",
              "      <td>382.19</td>\n",
              "    </tr>\n",
              "  </tbody>\n",
              "</table>\n",
              "</div>"
            ],
            "text/plain": [
              "                     Date   Close\n",
              "4007  2013-12-05 00:00:00  384.49\n",
              "4008  2013-12-06 00:00:00  386.95\n",
              "4009  2013-12-09 00:00:00  384.89\n",
              "4010  2013-12-10 00:00:00  387.78\n",
              "4011  2013-12-11 00:00:00  382.19"
            ]
          },
          "metadata": {
            "tags": []
          },
          "execution_count": 17
        }
      ]
    },
    {
      "cell_type": "code",
      "metadata": {
        "id": "GDEpkG9XvSLw"
      },
      "source": [
        "preds = []\n",
        "for i in range(0,valid.shape[0]):\n",
        "    a = valid['Close'][len(valid)-split+i:].sum() + sum(preds)\n",
        "    b = a/split\n",
        "    preds.append(b)"
      ],
      "execution_count": null,
      "outputs": []
    },
    {
      "cell_type": "code",
      "metadata": {
        "colab": {
          "base_uri": "https://localhost:8080/"
        },
        "id": "1KL9V3UGvSL2",
        "outputId": "9406888e-58e5-4fdb-f1c1-377ac9961722"
      },
      "source": [
        "MA_rms=np.sqrt(np.mean(np.power((np.array(valid['Close'])-preds),2)))\n",
        "print('\\n RMSE value on validation set:')\n",
        "print(MA_rms)"
      ],
      "execution_count": null,
      "outputs": [
        {
          "output_type": "stream",
          "text": [
            "\n",
            " RMSE value on validation set:\n",
            "933.3739145507287\n"
          ],
          "name": "stdout"
        }
      ]
    },
    {
      "cell_type": "code",
      "metadata": {
        "colab": {
          "base_uri": "https://localhost:8080/",
          "height": 501
        },
        "id": "-Id9FD2FvSL9",
        "outputId": "1450d28d-2a85-40c5-ce21-8e93942ff44d"
      },
      "source": [
        "#setting index as date\n",
        "import matplotlib.pyplot as plt\n",
        "df['Date'] = pd.to_datetime(df.Date,format='%Y-%m-%d')\n",
        "df.index = df['Date']\n",
        "\n",
        "#plot\n",
        "plt.figure(figsize=(16,8))\n",
        "plt.plot(df['Close'], label='Close Price history')"
      ],
      "execution_count": null,
      "outputs": [
        {
          "output_type": "execute_result",
          "data": {
            "text/plain": [
              "[<matplotlib.lines.Line2D at 0x7fac059e6fd0>]"
            ]
          },
          "metadata": {
            "tags": []
          },
          "execution_count": 20
        },
        {
          "output_type": "display_data",
          "data": {
            "image/png": "[encoded data removed]",
            "text/plain": [
              "<Figure size 1152x576 with 1 Axes>"
            ]
          },
          "metadata": {
            "tags": [],
            "needs_background": "light"
          }
        }
      ]
    },
    {
      "cell_type": "code",
      "metadata": {
        "colab": {
          "base_uri": "https://localhost:8080/",
          "height": 740
        },
        "id": "jZVRb5UlvSME",
        "outputId": "9ca07433-4499-4cb1-972c-bcb018e30182"
      },
      "source": [
        "#plot\n",
        "plt.figure(figsize=(16,8))\n",
        "valid['Predictions'] = 0\n",
        "valid['Predictions'] = preds\n",
        "plt.plot(train['Close'])\n",
        "plt.plot(valid[['Close', 'Predictions']])"
      ],
      "execution_count": null,
      "outputs": [
        {
          "output_type": "stream",
          "text": [
            "/usr/local/lib/python3.6/dist-packages/ipykernel_launcher.py:3: SettingWithCopyWarning: \n",
            "A value is trying to be set on a copy of a slice from a DataFrame.\n",
            "Try using .loc[row_indexer,col_indexer] = value instead\n",
            "\n",
            "See the caveats in the documentation: https://pandas.pydata.org/pandas-docs/stable/user_guide/indexing.html#returning-a-view-versus-a-copy\n",
            "  This is separate from the ipykernel package so we can avoid doing imports until\n",
            "/usr/local/lib/python3.6/dist-packages/ipykernel_launcher.py:4: SettingWithCopyWarning: \n",
            "A value is trying to be set on a copy of a slice from a DataFrame.\n",
            "Try using .loc[row_indexer,col_indexer] = value instead\n",
            "\n",
            "See the caveats in the documentation: https://pandas.pydata.org/pandas-docs/stable/user_guide/indexing.html#returning-a-view-versus-a-copy\n",
            "  after removing the cwd from sys.path.\n"
          ],
          "name": "stderr"
        },
        {
          "output_type": "execute_result",
          "data": {
            "text/plain": [
              "[<matplotlib.lines.Line2D at 0x7fac05471940>,\n",
              " <matplotlib.lines.Line2D at 0x7fac05471a90>]"
            ]
          },
          "metadata": {
            "tags": []
          },
          "execution_count": 22
        },
        {
          "output_type": "display_data",
          "data": {
            "image/png": "[encoded data removed]",
            "text/plain": [
              "<Figure size 1152x576 with 1 Axes>"
            ]
          },
          "metadata": {
            "tags": [],
            "needs_background": "light"
          }
        }
      ]
    },
    {
      "cell_type": "code",
      "metadata": {
        "id": "tVMHHpx0vSMK"
      },
      "source": [
        "#setting index as date values\n",
        "df['Date'] = pd.to_datetime(df.Date,format='%Y-%m-%d')\n",
        "df.index = df['Date']\n",
        "\n",
        "#sorting\n",
        "data = df.sort_index(ascending=True, axis=0)\n",
        "\n",
        "#creating a separate dataset\n",
        "new_data = pd.DataFrame(index=range(0,len(df)),columns=['Date', 'Close'])\n",
        "\n",
        "for i in range(0,len(data)):\n",
        "    new_data['Date'][i] = data['Date'][i]\n",
        "    new_data['Close'][i] = data['Close'][i]\n"
      ],
      "execution_count": null,
      "outputs": []
    },
    {
      "cell_type": "code",
      "metadata": {
        "colab": {
          "base_uri": "https://localhost:8080/"
        },
        "id": "YXaqbXspHqJy",
        "outputId": "b1aabc1c-806e-4b85-bbf9-c2917fba85ee"
      },
      "source": [
        "!pip install fastai"
      ],
      "execution_count": null,
      "outputs": [
        {
          "output_type": "stream",
          "text": [
            "Requirement already satisfied: fastai in /usr/local/lib/python3.6/dist-packages (1.0.61)\n",
            "Requirement already satisfied: numpy>=1.15 in /usr/local/lib/python3.6/dist-packages (from fastai) (1.18.5)\n",
            "Requirement already satisfied: numexpr in /usr/local/lib/python3.6/dist-packages (from fastai) (2.7.1)\n",
            "Requirement already satisfied: nvidia-ml-py3 in /usr/local/lib/python3.6/dist-packages (from fastai) (7.352.0)\n",
            "Requirement already satisfied: pyyaml in /usr/local/lib/python3.6/dist-packages (from fastai) (3.13)\n",
            "Requirement already satisfied: requests in /usr/local/lib/python3.6/dist-packages (from fastai) (2.23.0)\n",
            "Requirement already satisfied: spacy>=2.0.18; python_version < \"3.8\" in /usr/local/lib/python3.6/dist-packages (from fastai) (2.2.4)\n",
            "Requirement already satisfied: matplotlib in /usr/local/lib/python3.6/dist-packages (from fastai) (3.2.2)\n",
            "Requirement already satisfied: pandas in /usr/local/lib/python3.6/dist-packages (from fastai) (1.1.4)\n",
            "Requirement already satisfied: Pillow in /usr/local/lib/python3.6/dist-packages (from fastai) (7.0.0)\n",
            "Requirement already satisfied: beautifulsoup4 in /usr/local/lib/python3.6/dist-packages (from fastai) (4.6.3)\n",
            "Requirement already satisfied: torch>=1.0.0 in /usr/local/lib/python3.6/dist-packages (from fastai) (1.7.0+cu101)\n",
            "Requirement already satisfied: scipy in /usr/local/lib/python3.6/dist-packages (from fastai) (1.4.1)\n",
            "Requirement already satisfied: torchvision in /usr/local/lib/python3.6/dist-packages (from fastai) (0.8.1+cu101)\n",
            "Requirement already satisfied: dataclasses; python_version < \"3.7\" in /usr/local/lib/python3.6/dist-packages (from fastai) (0.7)\n",
            "Requirement already satisfied: packaging in /usr/local/lib/python3.6/dist-packages (from fastai) (20.4)\n",
            "Requirement already satisfied: bottleneck in /usr/local/lib/python3.6/dist-packages (from fastai) (1.3.2)\n",
            "Requirement already satisfied: fastprogress>=0.2.1 in /usr/local/lib/python3.6/dist-packages (from fastai) (1.0.0)\n",
            "Requirement already satisfied: certifi>=2017.4.17 in /usr/local/lib/python3.6/dist-packages (from requests->fastai) (2020.6.20)\n",
            "Requirement already satisfied: idna<3,>=2.5 in /usr/local/lib/python3.6/dist-packages (from requests->fastai) (2.10)\n",
            "Requirement already satisfied: chardet<4,>=3.0.2 in /usr/local/lib/python3.6/dist-packages (from requests->fastai) (3.0.4)\n",
            "Requirement already satisfied: urllib3!=1.25.0,!=1.25.1,<1.26,>=1.21.1 in /usr/local/lib/python3.6/dist-packages (from requests->fastai) (1.24.3)\n",
            "Requirement already satisfied: tqdm<5.0.0,>=4.38.0 in /usr/local/lib/python3.6/dist-packages (from spacy>=2.0.18; python_version < \"3.8\"->fastai) (4.41.1)\n",
            "Requirement already satisfied: cymem<2.1.0,>=2.0.2 in /usr/local/lib/python3.6/dist-packages (from spacy>=2.0.18; python_version < \"3.8\"->fastai) (2.0.4)\n",
            "Requirement already satisfied: catalogue<1.1.0,>=0.0.7 in /usr/local/lib/python3.6/dist-packages (from spacy>=2.0.18; python_version < \"3.8\"->fastai) (1.0.0)\n",
            "Requirement already satisfied: murmurhash<1.1.0,>=0.28.0 in /usr/local/lib/python3.6/dist-packages (from spacy>=2.0.18; python_version < \"3.8\"->fastai) (1.0.3)\n",
            "Requirement already satisfied: preshed<3.1.0,>=3.0.2 in /usr/local/lib/python3.6/dist-packages (from spacy>=2.0.18; python_version < \"3.8\"->fastai) (3.0.2)\n",
            "Requirement already satisfied: plac<1.2.0,>=0.9.6 in /usr/local/lib/python3.6/dist-packages (from spacy>=2.0.18; python_version < \"3.8\"->fastai) (1.1.3)\n",
            "Requirement already satisfied: blis<0.5.0,>=0.4.0 in /usr/local/lib/python3.6/dist-packages (from spacy>=2.0.18; python_version < \"3.8\"->fastai) (0.4.1)\n",
            "Requirement already satisfied: setuptools in /usr/local/lib/python3.6/dist-packages (from spacy>=2.0.18; python_version < \"3.8\"->fastai) (50.3.2)\n",
            "Requirement already satisfied: thinc==7.4.0 in /usr/local/lib/python3.6/dist-packages (from spacy>=2.0.18; python_version < \"3.8\"->fastai) (7.4.0)\n",
            "Requirement already satisfied: wasabi<1.1.0,>=0.4.0 in /usr/local/lib/python3.6/dist-packages (from spacy>=2.0.18; python_version < \"3.8\"->fastai) (0.8.0)\n",
            "Requirement already satisfied: srsly<1.1.0,>=1.0.2 in /usr/local/lib/python3.6/dist-packages (from spacy>=2.0.18; python_version < \"3.8\"->fastai) (1.0.2)\n",
            "Requirement already satisfied: pyparsing!=2.0.4,!=2.1.2,!=2.1.6,>=2.0.1 in /usr/local/lib/python3.6/dist-packages (from matplotlib->fastai) (2.4.7)\n",
            "Requirement already satisfied: cycler>=0.10 in /usr/local/lib/python3.6/dist-packages (from matplotlib->fastai) (0.10.0)\n",
            "Requirement already satisfied: kiwisolver>=1.0.1 in /usr/local/lib/python3.6/dist-packages (from matplotlib->fastai) (1.3.1)\n",
            "Requirement already satisfied: python-dateutil>=2.1 in /usr/local/lib/python3.6/dist-packages (from matplotlib->fastai) (2.8.1)\n",
            "Requirement already satisfied: pytz>=2017.2 in /usr/local/lib/python3.6/dist-packages (from pandas->fastai) (2018.9)\n",
            "Requirement already satisfied: typing-extensions in /usr/local/lib/python3.6/dist-packages (from torch>=1.0.0->fastai) (3.7.4.3)\n",
            "Requirement already satisfied: future in /usr/local/lib/python3.6/dist-packages (from torch>=1.0.0->fastai) (0.16.0)\n",
            "Requirement already satisfied: six in /usr/local/lib/python3.6/dist-packages (from packaging->fastai) (1.15.0)\n",
            "Requirement already satisfied: importlib-metadata>=0.20; python_version < \"3.8\" in /usr/local/lib/python3.6/dist-packages (from catalogue<1.1.0,>=0.0.7->spacy>=2.0.18; python_version < \"3.8\"->fastai) (2.0.0)\n",
            "Requirement already satisfied: zipp>=0.5 in /usr/local/lib/python3.6/dist-packages (from importlib-metadata>=0.20; python_version < \"3.8\"->catalogue<1.1.0,>=0.0.7->spacy>=2.0.18; python_version < \"3.8\"->fastai) (3.4.0)\n"
          ],
          "name": "stdout"
        }
      ]
    },
    {
      "cell_type": "code",
      "metadata": {
        "colab": {
          "base_uri": "https://localhost:8080/"
        },
        "id": "1mmDKcM0HqJ4",
        "outputId": "7103c999-a70f-49f5-9959-ffc14281f06f"
      },
      "source": [
        "pip install torch==1.4.0"
      ],
      "execution_count": null,
      "outputs": [
        {
          "output_type": "stream",
          "text": [
            "Collecting torch==1.4.0\n",
            "\u001b[?25l  Downloading https://files.pythonhosted.org/packages/24/19/4804aea17cd136f1705a5e98a00618cb8f6ccc375ad8bfa437408e09d058/torch-1.4.0-cp36-cp36m-manylinux1_x86_64.whl (753.4MB)\n",
            "\u001b[K     |████████████████████████████████| 753.4MB 19kB/s \n",
            "\u001b[31mERROR: torchvision 0.8.1+cu101 has requirement torch==1.7.0, but you'll have torch 1.4.0 which is incompatible.\u001b[0m\n",
            "\u001b[?25hInstalling collected packages: torch\n",
            "  Found existing installation: torch 1.7.0+cu101\n",
            "    Uninstalling torch-1.7.0+cu101:\n",
            "      Successfully uninstalled torch-1.7.0+cu101\n",
            "Successfully installed torch-1.4.0\n"
          ],
          "name": "stdout"
        }
      ]
    },
    {
      "cell_type": "code",
      "metadata": {
        "id": "WH8tSV4FvSMX"
      },
      "source": [
        "from fastai.tabular import add_datepart\n"
      ],
      "execution_count": null,
      "outputs": []
    },
    {
      "cell_type": "code",
      "metadata": {
        "colab": {
          "base_uri": "https://localhost:8080/"
        },
        "id": "08ZlkJlovSMh",
        "outputId": "b2d7d408-a1ce-444c-85d0-53bc6b262da5"
      },
      "source": [
        "add_datepart(new_data, 'Date')\n",
        "new_data.drop('Elapsed', axis=1, inplace=True)  #elapsed will be the time stamp"
      ],
      "execution_count": null,
      "outputs": [
        {
          "output_type": "stream",
          "text": [
            "/usr/local/lib/python3.6/dist-packages/fastai/tabular/transform.py:63: FutureWarning: Series.dt.weekofyear and Series.dt.week have been deprecated.  Please use Series.dt.isocalendar().week instead.\n",
            "  for n in attr: df[prefix + n] = getattr(field.dt, n.lower())\n"
          ],
          "name": "stderr"
        }
      ]
    },
    {
      "cell_type": "code",
      "metadata": {
        "colab": {
          "base_uri": "https://localhost:8080/"
        },
        "id": "yEO0xPeivSMm",
        "outputId": "ede0db90-3f4f-4ef6-876c-ca0063fc6f10"
      },
      "source": [
        "new_data['mon_fri'] = 0\n",
        "for i in range(0,len(new_data)):\n",
        "    if (new_data['Dayofweek'][i] == 0 or new_data['Dayofweek'][i] == 4):\n",
        "        new_data['mon_fri'][i] = 1\n",
        "    else:\n",
        "        new_data['mon_fri'][i] = 0"
      ],
      "execution_count": null,
      "outputs": [
        {
          "output_type": "stream",
          "text": [
            "/usr/local/lib/python3.6/dist-packages/ipykernel_launcher.py:4: SettingWithCopyWarning: \n",
            "A value is trying to be set on a copy of a slice from a DataFrame\n",
            "\n",
            "See the caveats in the documentation: https://pandas.pydata.org/pandas-docs/stable/user_guide/indexing.html#returning-a-view-versus-a-copy\n",
            "  after removing the cwd from sys.path.\n",
            "/usr/local/lib/python3.6/dist-packages/ipykernel_launcher.py:6: SettingWithCopyWarning: \n",
            "A value is trying to be set on a copy of a slice from a DataFrame\n",
            "\n",
            "See the caveats in the documentation: https://pandas.pydata.org/pandas-docs/stable/user_guide/indexing.html#returning-a-view-versus-a-copy\n",
            "  \n"
          ],
          "name": "stderr"
        }
      ]
    },
    {
      "cell_type": "markdown",
      "metadata": {
        "id": "DLQIWT0GvSMt"
      },
      "source": [
        "## IMPLEMENTATION OF LINEAR REGRESSION"
      ]
    },
    {
      "cell_type": "code",
      "metadata": {
        "colab": {
          "base_uri": "https://localhost:8080/"
        },
        "id": "KJfQNO4dvSMu",
        "outputId": "45495c1a-a0f9-4ed9-df27-4345967efb36"
      },
      "source": [
        "train = new_data[:split]\n",
        "valid = new_data[split:]\n",
        "\n",
        "x_train = train.drop('Close', axis=1)\n",
        "y_train = train['Close']\n",
        "x_valid = valid.drop('Close', axis=1)\n",
        "y_valid = valid['Close']\n",
        "\n",
        "#implement linear regression\n",
        "from sklearn.linear_model import LinearRegression\n",
        "model = LinearRegression()\n",
        "model.fit(x_train,y_train)"
      ],
      "execution_count": null,
      "outputs": [
        {
          "output_type": "execute_result",
          "data": {
            "text/plain": [
              "LinearRegression(copy_X=True, fit_intercept=True, n_jobs=None, normalize=False)"
            ]
          },
          "metadata": {
            "tags": []
          },
          "execution_count": 28
        }
      ]
    },
    {
      "cell_type": "code",
      "metadata": {
        "colab": {
          "base_uri": "https://localhost:8080/"
        },
        "id": "YvAfaNfNvSM3",
        "outputId": "1bd8e47e-bcd9-4a1a-d31a-b41080798867"
      },
      "source": [
        "#make predictions and find the rmse\n",
        "preds = model.predict(x_valid)\n",
        "Linearregressionrms=np.sqrt(np.mean(np.power((np.array(y_valid)-np.array(preds)),2)))\n",
        "Linearregressionrms"
      ],
      "execution_count": null,
      "outputs": [
        {
          "output_type": "execute_result",
          "data": {
            "text/plain": [
              "1148.907509370698"
            ]
          },
          "metadata": {
            "tags": []
          },
          "execution_count": 29
        }
      ]
    },
    {
      "cell_type": "code",
      "metadata": {
        "colab": {
          "base_uri": "https://localhost:8080/",
          "height": 740
        },
        "id": "D_CLgaimvSM9",
        "outputId": "3360433f-4365-400e-f752-f66b5ebfc878"
      },
      "source": [
        "#plot\n",
        "valid['Predictions'] = 0\n",
        "valid['Predictions'] = preds\n",
        "\n",
        "valid.index = new_data[split:].index\n",
        "train.index = new_data[:split].index\n",
        "plt.figure(figsize=(16,8))\n",
        "plt.plot(train['Close'])\n",
        "plt.plot(valid[['Close', 'Predictions']])"
      ],
      "execution_count": null,
      "outputs": [
        {
          "output_type": "stream",
          "text": [
            "/usr/local/lib/python3.6/dist-packages/ipykernel_launcher.py:2: SettingWithCopyWarning: \n",
            "A value is trying to be set on a copy of a slice from a DataFrame.\n",
            "Try using .loc[row_indexer,col_indexer] = value instead\n",
            "\n",
            "See the caveats in the documentation: https://pandas.pydata.org/pandas-docs/stable/user_guide/indexing.html#returning-a-view-versus-a-copy\n",
            "  \n",
            "/usr/local/lib/python3.6/dist-packages/ipykernel_launcher.py:3: SettingWithCopyWarning: \n",
            "A value is trying to be set on a copy of a slice from a DataFrame.\n",
            "Try using .loc[row_indexer,col_indexer] = value instead\n",
            "\n",
            "See the caveats in the documentation: https://pandas.pydata.org/pandas-docs/stable/user_guide/indexing.html#returning-a-view-versus-a-copy\n",
            "  This is separate from the ipykernel package so we can avoid doing imports until\n"
          ],
          "name": "stderr"
        },
        {
          "output_type": "execute_result",
          "data": {
            "text/plain": [
              "[<matplotlib.lines.Line2D at 0x7ff0aadc0358>,\n",
              " <matplotlib.lines.Line2D at 0x7ff0a9bd2a20>]"
            ]
          },
          "metadata": {
            "tags": []
          },
          "execution_count": 30
        },
        {
          "output_type": "display_data",
          "data": {
            "image/png": "[encoded data removed]",
            "text/plain": [
              "<Figure size 1152x576 with 1 Axes>"
            ]
          },
          "metadata": {
            "tags": [],
            "needs_background": "light"
          }
        }
      ]
    },
    {
      "cell_type": "markdown",
      "metadata": {
        "id": "HgSvBJ0O3hn9"
      },
      "source": [
        "## IMPLEMENTATION OF LOGISTIC REGRESSION"
      ]
    },
    {
      "cell_type": "code",
      "metadata": {
        "id": "77PtFl8Iz0YM"
      },
      "source": [
        "#importing libraries\n",
        "\n",
        "from sklearn.linear_model import LogisticRegression\n",
        "from sklearn.preprocessing import MinMaxScaler\n",
        "scaler = MinMaxScaler(feature_range=(0, 1))"
      ],
      "execution_count": null,
      "outputs": []
    },
    {
      "cell_type": "code",
      "metadata": {
        "colab": {
          "base_uri": "https://localhost:8080/"
        },
        "id": "UZznacJlz0R2",
        "outputId": "9a4a7f84-2634-4689-abdc-8c3340a5221e"
      },
      "source": [
        "#scaling data\n",
        "x_train_scaled = scaler.fit_transform(x_train)\n",
        "x_train = pd.DataFrame(x_train_scaled)\n",
        "x_valid_scaled = scaler.fit_transform(x_valid)\n",
        "x_valid = pd.DataFrame(x_valid_scaled)\n",
        "\n",
        "#fit the model and make predictions\n",
        "model.fit(x_train,y_train.ravel())\n",
        "preds = model.predict(x_valid)\n",
        "print(preds)\n",
        "print('Accuracy of trained model',model.score(x_train,y_train))"
      ],
      "execution_count": null,
      "outputs": [
        {
          "output_type": "stream",
          "text": [
            "[ -7.937892  -7.866667  -7.434242  -7.550668 ... 198.069493 198.501918 198.385492 197.417498]\n",
            "Accuracy of trained model 0.6429964070955505\n"
          ],
          "name": "stdout"
        }
      ]
    },
    {
      "cell_type": "code",
      "metadata": {
        "colab": {
          "base_uri": "https://localhost:8080/"
        },
        "id": "xlLqsrG8z0PI",
        "outputId": "1ad94252-f664-4d97-c599-d27e03ea130c"
      },
      "source": [
        "Logisticrms=np.sqrt(np.mean(np.power((np.array(y_valid)-np.array(preds)),2)))\n",
        "Logisticrms"
      ],
      "execution_count": null,
      "outputs": [
        {
          "output_type": "execute_result",
          "data": {
            "text/plain": [
              "1251.940878216623"
            ]
          },
          "metadata": {
            "tags": []
          },
          "execution_count": 33
        }
      ]
    },
    {
      "cell_type": "code",
      "metadata": {
        "colab": {
          "base_uri": "https://localhost:8080/",
          "height": 722
        },
        "id": "gu4NJQWyzz-N",
        "outputId": "59f5b654-62ed-4739-a54b-5e895d1cbfd9"
      },
      "source": [
        "plt.figure(figsize=(16,8))\n",
        "valid['Predictions'] = 0\n",
        "valid['Predictions'] = preds\n",
        "plt.plot(valid[['Close', 'Predictions']])\n",
        "plt.plot(train['Close'])"
      ],
      "execution_count": null,
      "outputs": [
        {
          "output_type": "stream",
          "text": [
            "/usr/local/lib/python3.6/dist-packages/ipykernel_launcher.py:2: SettingWithCopyWarning: \n",
            "A value is trying to be set on a copy of a slice from a DataFrame.\n",
            "Try using .loc[row_indexer,col_indexer] = value instead\n",
            "\n",
            "See the caveats in the documentation: https://pandas.pydata.org/pandas-docs/stable/user_guide/indexing.html#returning-a-view-versus-a-copy\n",
            "  \n",
            "/usr/local/lib/python3.6/dist-packages/ipykernel_launcher.py:3: SettingWithCopyWarning: \n",
            "A value is trying to be set on a copy of a slice from a DataFrame.\n",
            "Try using .loc[row_indexer,col_indexer] = value instead\n",
            "\n",
            "See the caveats in the documentation: https://pandas.pydata.org/pandas-docs/stable/user_guide/indexing.html#returning-a-view-versus-a-copy\n",
            "  This is separate from the ipykernel package so we can avoid doing imports until\n"
          ],
          "name": "stderr"
        },
        {
          "output_type": "execute_result",
          "data": {
            "text/plain": [
              "[<matplotlib.lines.Line2D at 0x7ff05c861f60>]"
            ]
          },
          "metadata": {
            "tags": []
          },
          "execution_count": 34
        },
        {
          "output_type": "display_data",
          "data": {
            "image/png": "[encoded data removed]",
            "text/plain": [
              "<Figure size 1152x576 with 1 Axes>"
            ]
          },
          "metadata": {
            "tags": [],
            "needs_background": "light"
          }
        }
      ]
    },
    {
      "cell_type": "markdown",
      "metadata": {
        "id": "pj4lf38vvSND"
      },
      "source": [
        "## IMPLEMENTATION OF KNN(K-Nearest-Neighbors)"
      ]
    },
    {
      "cell_type": "code",
      "metadata": {
        "id": "pPDXy19SvSNF"
      },
      "source": [
        "#importing libraries\n",
        "from sklearn import neighbors\n",
        "from sklearn.model_selection import GridSearchCV\n",
        "from sklearn.preprocessing import MinMaxScaler\n",
        "scaler = MinMaxScaler(feature_range=(0, 1))"
      ],
      "execution_count": null,
      "outputs": []
    },
    {
      "cell_type": "code",
      "metadata": {
        "id": "-axWAcJLGeq5"
      },
      "source": [
        ""
      ],
      "execution_count": null,
      "outputs": []
    },
    {
      "cell_type": "code",
      "metadata": {
        "colab": {
          "base_uri": "https://localhost:8080/"
        },
        "id": "Obz35mn3vSNS",
        "outputId": "52fb2a92-9ccf-45c2-9f42-20e4f70c7757"
      },
      "source": [
        "#scaling data\n",
        "x_train_scaled = scaler.fit_transform(x_train)\n",
        "x_train = pd.DataFrame(x_train_scaled)\n",
        "x_valid_scaled = scaler.fit_transform(x_valid)\n",
        "x_valid = pd.DataFrame(x_valid_scaled)\n",
        "\n",
        "#using gridsearch to find the best parameter\n",
        "params = {'n_neighbors':[2,3,4,5,6,7,8,9]}\n",
        "knn = neighbors.KNeighborsRegressor()\n",
        "model = GridSearchCV(knn, params, cv=5)\n",
        "\n",
        "#fit the model and make predictions\n",
        "model.fit(x_train,y_train)\n",
        "preds = model.predict(x_valid)\n",
        "print(preds)\n",
        "print('Accuracy of trained model',model.score(x_train,y_train))"
      ],
      "execution_count": null,
      "outputs": [
        {
          "output_type": "stream",
          "text": [
            "[40.859375 40.544270515441895 41.510416984558105 41.97656297683716 ... 289.3325080871582 288.57500076293945\n",
            " 288.37500762939453 108.11000061035156]\n",
            "Accuracy of trained model 0.8971814716781896\n"
          ],
          "name": "stdout"
        }
      ]
    },
    {
      "cell_type": "code",
      "metadata": {
        "colab": {
          "base_uri": "https://localhost:8080/"
        },
        "id": "WqPYPH9VvSNZ",
        "outputId": "9565bb19-a8a6-49e0-912c-100510f664b3"
      },
      "source": [
        "KNNrms=np.sqrt(np.mean(np.power((np.array(y_valid)-np.array(preds)),2)))\n",
        "KNNrms"
      ],
      "execution_count": null,
      "outputs": [
        {
          "output_type": "execute_result",
          "data": {
            "text/plain": [
              "1252.3142144710937"
            ]
          },
          "metadata": {
            "tags": []
          },
          "execution_count": 37
        }
      ]
    },
    {
      "cell_type": "code",
      "metadata": {
        "colab": {
          "base_uri": "https://localhost:8080/",
          "height": 722
        },
        "id": "qkqL79PzvSNf",
        "outputId": "8b39c45a-6058-4261-8e2a-2d316511ee9c"
      },
      "source": [
        "plt.figure(figsize=(16,8))\n",
        "valid['Predictions'] = 0\n",
        "valid['Predictions'] = preds\n",
        "plt.plot(valid[['Close', 'Predictions']])\n",
        "plt.plot(train['Close'])"
      ],
      "execution_count": null,
      "outputs": [
        {
          "output_type": "stream",
          "text": [
            "/usr/local/lib/python3.6/dist-packages/ipykernel_launcher.py:2: SettingWithCopyWarning: \n",
            "A value is trying to be set on a copy of a slice from a DataFrame.\n",
            "Try using .loc[row_indexer,col_indexer] = value instead\n",
            "\n",
            "See the caveats in the documentation: https://pandas.pydata.org/pandas-docs/stable/user_guide/indexing.html#returning-a-view-versus-a-copy\n",
            "  \n",
            "/usr/local/lib/python3.6/dist-packages/ipykernel_launcher.py:3: SettingWithCopyWarning: \n",
            "A value is trying to be set on a copy of a slice from a DataFrame.\n",
            "Try using .loc[row_indexer,col_indexer] = value instead\n",
            "\n",
            "See the caveats in the documentation: https://pandas.pydata.org/pandas-docs/stable/user_guide/indexing.html#returning-a-view-versus-a-copy\n",
            "  This is separate from the ipykernel package so we can avoid doing imports until\n"
          ],
          "name": "stderr"
        },
        {
          "output_type": "execute_result",
          "data": {
            "text/plain": [
              "[<matplotlib.lines.Line2D at 0x7ff059672780>]"
            ]
          },
          "metadata": {
            "tags": []
          },
          "execution_count": 38
        },
        {
          "output_type": "display_data",
          "data": {
            "image/png": "[encoded data removed]",
            "text/plain": [
              "<Figure size 1152x576 with 1 Axes>"
            ]
          },
          "metadata": {
            "tags": [],
            "needs_background": "light"
          }
        }
      ]
    },
    {
      "cell_type": "markdown",
      "metadata": {
        "id": "cK4nQCCvvSNq"
      },
      "source": [
        "##  IMPLEMENTATION OF LSTM ( Long Term-Short Memory)\n"
      ]
    },
    {
      "cell_type": "code",
      "metadata": {
        "colab": {
          "base_uri": "https://localhost:8080/"
        },
        "id": "29PLpBirvSNs",
        "outputId": "e38b666a-0371-4d17-ecc2-bea67dc09a2b"
      },
      "source": [
        "#importing required libraries\n",
        "from sklearn.preprocessing import MinMaxScaler\n",
        "from keras.models import Sequential\n",
        "from keras.layers import Dense, Dropout, LSTM\n",
        "\n",
        "#creating dataframe\n",
        "data = df.sort_index(ascending=True, axis=0)\n",
        "new_data = pd.DataFrame(index=range(0,len(df)),columns=['Date', 'Close'])\n",
        "for i in range(0,len(data)):\n",
        "    new_data['Date'][i] = data['Date'][i]\n",
        "    new_data['Close'][i] = data['Close'][i]\n",
        "\n",
        "#setting index\n",
        "new_data.index = new_data.Date\n",
        "new_data.drop('Date', axis=1, inplace=True)\n",
        "\n",
        "#creating train and test sets\n",
        "dataset = new_data.values\n",
        "\n",
        "train = dataset[0:split,:]\n",
        "valid = dataset[split:,:]\n",
        "\n",
        "#converting dataset into x_train and y_train\n",
        "scaler = MinMaxScaler(feature_range=(0, 1))\n",
        "scaled_data = scaler.fit_transform(dataset)\n",
        "\n",
        "x_train, y_train = [], []\n",
        "for i in range(60,len(train)):\n",
        "    x_train.append(scaled_data[i-60:i,0])\n",
        "    y_train.append(scaled_data[i,0])\n",
        "x_train, y_train = np.array(x_train), np.array(y_train)\n",
        "\n",
        "x_train = np.reshape(x_train, (x_train.shape[0],x_train.shape[1],1))\n",
        "\n",
        "# create and fit the LSTM network\n",
        "model = Sequential()\n",
        "model.add(LSTM(units=50, return_sequences=True, input_shape=(x_train.shape[1],1)))\n",
        "model.add(LSTM(units=50))\n",
        "model.add(Dense(1))\n",
        "\n",
        "model.compile(loss='mean_squared_error', optimizer='adam')\n",
        "model.fit(x_train, y_train, epochs=10, batch_size=1, verbose=2)\n",
        "\n",
        "#predicting 246 values, using past 60 from the train data\n",
        "inputs = new_data[len(new_data) - len(valid) - 60:].values\n",
        "inputs = inputs.reshape(-1,1)\n",
        "inputs  = scaler.transform(inputs)\n",
        "\n",
        "X_test = []\n",
        "for i in range(60,inputs.shape[0]):\n",
        "    X_test.append(inputs[i-60:i,0])\n",
        "X_test = np.array(X_test)\n",
        "\n",
        "X_test = np.reshape(X_test, (X_test.shape[0],X_test.shape[1],1))\n",
        "closing_price = model.predict(X_test)\n",
        "closing_price = scaler.inverse_transform(closing_price)"
      ],
      "execution_count": null,
      "outputs": [
        {
          "output_type": "stream",
          "text": [
            "Epoch 1/10\n",
            "3947/3947 - 84s - loss: 1.4251e-05\n",
            "Epoch 2/10\n",
            "3947/3947 - 81s - loss: 5.8960e-06\n",
            "Epoch 3/10\n",
            "3947/3947 - 80s - loss: 4.5582e-06\n",
            "Epoch 4/10\n",
            "3947/3947 - 80s - loss: 3.0348e-06\n",
            "Epoch 5/10\n",
            "3947/3947 - 81s - loss: 3.3955e-06\n",
            "Epoch 6/10\n",
            "3947/3947 - 80s - loss: 3.0535e-06\n",
            "Epoch 7/10\n",
            "3947/3947 - 81s - loss: 2.2512e-06\n",
            "Epoch 8/10\n",
            "3947/3947 - 83s - loss: 2.2461e-06\n",
            "Epoch 9/10\n",
            "3947/3947 - 88s - loss: 2.3423e-06\n",
            "Epoch 10/10\n",
            "3947/3947 - 83s - loss: 2.1111e-06\n"
          ],
          "name": "stdout"
        }
      ]
    },
    {
      "cell_type": "code",
      "metadata": {
        "colab": {
          "base_uri": "https://localhost:8080/"
        },
        "id": "dc5oM8XEvSNx",
        "outputId": "cfb83759-dbd8-4bdf-fddb-3f4d79b5ec78"
      },
      "source": [
        "LSTMrms=np.sqrt(np.mean(np.power((valid-closing_price),2)))\n",
        "LSTMrms"
      ],
      "execution_count": null,
      "outputs": [
        {
          "output_type": "execute_result",
          "data": {
            "text/plain": [
              "112.12265607381019"
            ]
          },
          "metadata": {
            "tags": []
          },
          "execution_count": 40
        }
      ]
    },
    {
      "cell_type": "code",
      "metadata": {
        "colab": {
          "base_uri": "https://localhost:8080/",
          "height": 630
        },
        "id": "vDCPrpkTvSN2",
        "outputId": "7fa650b9-3430-4fc2-a4a1-7e55b771f82f"
      },
      "source": [
        "plt.figure(figsize=(16,8))\n",
        "train = new_data[:split]\n",
        "valid = new_data[split:]\n",
        "valid['Predictions'] = closing_price\n",
        "plt.plot(train['Close'])\n",
        "plt.plot(valid[['Close','Predictions']])"
      ],
      "execution_count": null,
      "outputs": [
        {
          "output_type": "stream",
          "text": [
            "/usr/local/lib/python3.6/dist-packages/ipykernel_launcher.py:4: SettingWithCopyWarning: \n",
            "A value is trying to be set on a copy of a slice from a DataFrame.\n",
            "Try using .loc[row_indexer,col_indexer] = value instead\n",
            "\n",
            "See the caveats in the documentation: https://pandas.pydata.org/pandas-docs/stable/user_guide/indexing.html#returning-a-view-versus-a-copy\n",
            "  after removing the cwd from sys.path.\n"
          ],
          "name": "stderr"
        },
        {
          "output_type": "execute_result",
          "data": {
            "text/plain": [
              "[<matplotlib.lines.Line2D at 0x7ff05914f9e8>,\n",
              " <matplotlib.lines.Line2D at 0x7ff01f9c1e48>]"
            ]
          },
          "metadata": {
            "tags": []
          },
          "execution_count": 41
        },
        {
          "output_type": "display_data",
          "data": {
            "image/png": "[encoded data removed]",
            "text/plain": [
              "<Figure size 1152x576 with 1 Axes>"
            ]
          },
          "metadata": {
            "tags": [],
            "needs_background": "light"
          }
        }
      ]
    },
    {
      "cell_type": "markdown",
      "metadata": {
        "id": "_X07lw_K9irG"
      },
      "source": [
        "## IMPLEMENTATION OF AUTO-ARIMA"
      ]
    },
    {
      "cell_type": "code",
      "metadata": {
        "colab": {
          "base_uri": "https://localhost:8080/"
        },
        "id": "y6pH6ALDzG1j",
        "outputId": "340ee0bf-bb34-42b2-fdcb-4698e28f5c9d"
      },
      "source": [
        "pip install pyramid-arima"
      ],
      "execution_count": null,
      "outputs": [
        {
          "output_type": "stream",
          "text": [
            "Requirement already satisfied: pyramid-arima in /usr/local/lib/python3.6/dist-packages (0.9.0)\n",
            "Requirement already satisfied: statsmodels>=0.9.0 in /usr/local/lib/python3.6/dist-packages (from pyramid-arima) (0.10.2)\n",
            "Requirement already satisfied: Cython>=0.23 in /usr/local/lib/python3.6/dist-packages (from pyramid-arima) (0.29.21)\n",
            "Requirement already satisfied: pandas>=0.19 in /usr/local/lib/python3.6/dist-packages (from pyramid-arima) (1.1.4)\n",
            "Requirement already satisfied: numpy>=1.10 in /usr/local/lib/python3.6/dist-packages (from pyramid-arima) (1.18.5)\n",
            "Requirement already satisfied: scikit-learn>=0.17 in /usr/local/lib/python3.6/dist-packages (from pyramid-arima) (0.22.2.post1)\n",
            "Requirement already satisfied: scipy>=0.9 in /usr/local/lib/python3.6/dist-packages (from pyramid-arima) (1.4.1)\n",
            "Requirement already satisfied: patsy>=0.4.0 in /usr/local/lib/python3.6/dist-packages (from statsmodels>=0.9.0->pyramid-arima) (0.5.1)\n",
            "Requirement already satisfied: pytz>=2017.2 in /usr/local/lib/python3.6/dist-packages (from pandas>=0.19->pyramid-arima) (2018.9)\n",
            "Requirement already satisfied: python-dateutil>=2.7.3 in /usr/local/lib/python3.6/dist-packages (from pandas>=0.19->pyramid-arima) (2.8.1)\n",
            "Requirement already satisfied: joblib>=0.11 in /usr/local/lib/python3.6/dist-packages (from scikit-learn>=0.17->pyramid-arima) (0.17.0)\n",
            "Requirement already satisfied: six in /usr/local/lib/python3.6/dist-packages (from patsy>=0.4.0->statsmodels>=0.9.0->pyramid-arima) (1.15.0)\n"
          ],
          "name": "stdout"
        }
      ]
    },
    {
      "cell_type": "code",
      "metadata": {
        "colab": {
          "base_uri": "https://localhost:8080/"
        },
        "id": "TKdQhP1-yeRc",
        "outputId": "b688eb99-4190-45ea-983f-d37a0d6916da"
      },
      "source": [
        "from pyramid.arima import auto_arima\n",
        "\n",
        "data = df.sort_index(ascending=True, axis=0)\n",
        "\n",
        "train = data[:split]\n",
        "valid = data[split:]\n",
        "\n",
        "training = train['Close']\n",
        "validation = valid['Close']\n",
        "\n",
        "model = auto_arima(training, start_p=1, start_q=1,max_p=3, max_q=3, m=12,start_P=0, seasonal=True,d=1, D=1, trace=True,error_action='ignore',suppress_warnings=True)\n",
        "model.fit(training)\n",
        "\n",
        "forecast = model.predict(n_periods=len(validation))\n",
        "forecast = pd.DataFrame(forecast,index = valid.index,columns=['Prediction'])"
      ],
      "execution_count": null,
      "outputs": [
        {
          "output_type": "stream",
          "text": [
            "Fit ARIMA: order=(1, 1, 1) seasonal_order=(0, 1, 1, 12); AIC=19796.566, BIC=19828.029, Fit time=40.276 seconds\n",
            "Fit ARIMA: order=(0, 1, 0) seasonal_order=(0, 1, 0, 12); AIC=22583.788, BIC=22596.373, Fit time=0.396 seconds\n",
            "Fit ARIMA: order=(1, 1, 0) seasonal_order=(1, 1, 0, 12); AIC=21392.111, BIC=21417.281, Fit time=7.738 seconds\n",
            "Fit ARIMA: order=(0, 1, 1) seasonal_order=(0, 1, 1, 12); AIC=19796.725, BIC=19821.896, Fit time=25.918 seconds\n",
            "Fit ARIMA: order=(1, 1, 1) seasonal_order=(1, 1, 1, 12); AIC=19796.973, BIC=19834.729, Fit time=60.657 seconds\n",
            "Fit ARIMA: order=(1, 1, 1) seasonal_order=(0, 1, 0, 12); AIC=22587.785, BIC=22612.955, Fit time=2.531 seconds\n",
            "Fit ARIMA: order=(1, 1, 1) seasonal_order=(0, 1, 2, 12); AIC=19799.348, BIC=19837.103, Fit time=59.133 seconds\n",
            "Fit ARIMA: order=(1, 1, 1) seasonal_order=(1, 1, 2, 12); AIC=19799.236, BIC=19843.284, Fit time=141.532 seconds\n",
            "Fit ARIMA: order=(2, 1, 1) seasonal_order=(0, 1, 1, 12); AIC=19795.223, BIC=19832.979, Fit time=43.839 seconds\n",
            "Fit ARIMA: order=(2, 1, 0) seasonal_order=(0, 1, 1, 12); AIC=19786.789, BIC=19818.252, Fit time=26.619 seconds\n",
            "Fit ARIMA: order=(3, 1, 1) seasonal_order=(0, 1, 1, 12); AIC=19788.952, BIC=19832.999, Fit time=50.074 seconds\n",
            "Fit ARIMA: order=(2, 1, 0) seasonal_order=(1, 1, 1, 12); AIC=19786.280, BIC=19824.035, Fit time=46.830 seconds\n",
            "Fit ARIMA: order=(2, 1, 0) seasonal_order=(1, 1, 0, 12); AIC=21389.566, BIC=21421.029, Fit time=9.103 seconds\n",
            "Fit ARIMA: order=(2, 1, 0) seasonal_order=(1, 1, 2, 12); AIC=19789.276, BIC=19833.324, Fit time=68.293 seconds\n",
            "Fit ARIMA: order=(2, 1, 0) seasonal_order=(0, 1, 0, 12); AIC=22574.933, BIC=22600.103, Fit time=2.392 seconds\n",
            "Fit ARIMA: order=(2, 1, 0) seasonal_order=(2, 1, 2, 12); AIC=19790.042, BIC=19840.382, Fit time=126.215 seconds\n",
            "Fit ARIMA: order=(1, 1, 0) seasonal_order=(1, 1, 1, 12); AIC=19796.435, BIC=19827.898, Fit time=33.611 seconds\n",
            "Fit ARIMA: order=(3, 1, 0) seasonal_order=(1, 1, 1, 12); AIC=19787.019, BIC=19831.067, Fit time=50.992 seconds\n",
            "Fit ARIMA: order=(2, 1, 1) seasonal_order=(1, 1, 1, 12); AIC=19795.877, BIC=19839.925, Fit time=48.537 seconds\n",
            "Fit ARIMA: order=(3, 1, 1) seasonal_order=(1, 1, 1, 12); AIC=19788.098, BIC=19838.438, Fit time=76.917 seconds\n",
            "Fit ARIMA: order=(2, 1, 0) seasonal_order=(2, 1, 1, 12); AIC=19787.845, BIC=19831.893, Fit time=83.960 seconds\n",
            "Total fit time: 1005.573 seconds\n"
          ],
          "name": "stdout"
        }
      ]
    },
    {
      "cell_type": "code",
      "metadata": {
        "id": "0m0O57YXmRZP"
      },
      "source": [
        ""
      ],
      "execution_count": null,
      "outputs": []
    },
    {
      "cell_type": "code",
      "metadata": {
        "id": "OfUb_5tW9EY8"
      },
      "source": [
        "ARIMArms=np.sqrt(np.mean(np.power((np.array(valid['Close'])-np.array(forecast['Prediction'])),2)))\n",
        "ARIMArms"
      ],
      "execution_count": null,
      "outputs": []
    },
    {
      "cell_type": "code",
      "metadata": {
        "id": "-ALMACvL9En_"
      },
      "source": [
        "plt.figure(figsize=(16,8))\n",
        "plt.plot(train['Close'])\n",
        "plt.plot(valid['Close'])\n",
        "plt.plot(forecast['Prediction'])"
      ],
      "execution_count": null,
      "outputs": []
    },
    {
      "cell_type": "markdown",
      "metadata": {
        "id": "TIa_JbB8SibI"
      },
      "source": [
        "\n",
        "# IMPLEMENTATION OF SVR"
      ]
    },
    {
      "cell_type": "code",
      "metadata": {
        "id": "P7i7E6Eb-3xt"
      },
      "source": [
        "train = new_data[:split]\n",
        "valid = new_data[split:]\n",
        "\n",
        "x_train = train.drop('Close', axis=1)\n",
        "y_train = train['Close']\n",
        "x_valid = valid.drop('Close', axis=1)\n",
        "y_valid = valid['Close']\n"
      ],
      "execution_count": null,
      "outputs": []
    },
    {
      "cell_type": "code",
      "metadata": {
        "colab": {
          "base_uri": "https://localhost:8080/"
        },
        "id": "ZVxODYcC-30D",
        "outputId": "caceb4d3-5656-4132-b7a4-4ddc8fe251c2"
      },
      "source": [
        "from sklearn.svm import SVR\n",
        "model = SVR(kernel ='linear',C=1.00)\n",
        "model.fit(x_train, y_train)\n",
        "print(model)"
      ],
      "execution_count": null,
      "outputs": [
        {
          "output_type": "stream",
          "text": [
            "SVR(C=1.0, cache_size=200, coef0=0.0, degree=3, epsilon=0.1, gamma='scale',\n",
            "    kernel='linear', max_iter=-1, shrinking=True, tol=0.001, verbose=False)\n"
          ],
          "name": "stdout"
        }
      ]
    },
    {
      "cell_type": "code",
      "metadata": {
        "colab": {
          "base_uri": "https://localhost:8080/"
        },
        "id": "vKVm_Zwd-32e",
        "outputId": "a47a50b1-d754-4419-f7cf-4078ef0e5c3d"
      },
      "source": [
        "#make predictions and find the rmse\n",
        "preds = model.predict(x_valid)\n",
        "SVRrms=np.sqrt(np.mean(np.power((np.array(y_valid)-np.array(preds)),2)))\n",
        "SVRrms"
      ],
      "execution_count": null,
      "outputs": [
        {
          "output_type": "execute_result",
          "data": {
            "text/plain": [
              "1177.9816961401984"
            ]
          },
          "metadata": {
            "tags": []
          },
          "execution_count": 32
        }
      ]
    },
    {
      "cell_type": "code",
      "metadata": {
        "colab": {
          "base_uri": "https://localhost:8080/",
          "height": 740
        },
        "id": "i_UTYtYp-34n",
        "outputId": "5ac3fc28-0548-40dd-bc3d-0e2775e07203"
      },
      "source": [
        "#plot\n",
        "valid['Predictions'] = 0\n",
        "valid['Predictions'] = preds\n",
        "\n",
        "valid.index = new_data[split:].index\n",
        "train.index = new_data[:split].index\n",
        "plt.figure(figsize=(16,8))\n",
        "plt.plot(train['Close'])\n",
        "plt.plot(valid[['Close', 'Predictions']])"
      ],
      "execution_count": null,
      "outputs": [
        {
          "output_type": "stream",
          "text": [
            "/usr/local/lib/python3.6/dist-packages/ipykernel_launcher.py:2: SettingWithCopyWarning: \n",
            "A value is trying to be set on a copy of a slice from a DataFrame.\n",
            "Try using .loc[row_indexer,col_indexer] = value instead\n",
            "\n",
            "See the caveats in the documentation: https://pandas.pydata.org/pandas-docs/stable/user_guide/indexing.html#returning-a-view-versus-a-copy\n",
            "  \n",
            "/usr/local/lib/python3.6/dist-packages/ipykernel_launcher.py:3: SettingWithCopyWarning: \n",
            "A value is trying to be set on a copy of a slice from a DataFrame.\n",
            "Try using .loc[row_indexer,col_indexer] = value instead\n",
            "\n",
            "See the caveats in the documentation: https://pandas.pydata.org/pandas-docs/stable/user_guide/indexing.html#returning-a-view-versus-a-copy\n",
            "  This is separate from the ipykernel package so we can avoid doing imports until\n"
          ],
          "name": "stderr"
        },
        {
          "output_type": "execute_result",
          "data": {
            "text/plain": [
              "[<matplotlib.lines.Line2D at 0x7fa24097c160>,\n",
              " <matplotlib.lines.Line2D at 0x7fa24097c2b0>]"
            ]
          },
          "metadata": {
            "tags": []
          },
          "execution_count": 33
        },
        {
          "output_type": "display_data",
          "data": {
            "image/png": "[encoded data removed]",
            "text/plain": [
              "<Figure size 1152x576 with 1 Axes>"
            ]
          },
          "metadata": {
            "tags": [],
            "needs_background": "light"
          }
        }
      ]
    },
    {
      "cell_type": "markdown",
      "metadata": {
        "id": "ofZcwrYMZn9L"
      },
      "source": [
        "# Summary of RMSE scores"
      ]
    },
    {
      "cell_type": "code",
      "metadata": {
        "id": "KCtfGfgD-4N3"
      },
      "source": [
        "RMSE = {'Model': ['Moving Average','Linear Regression','Logistic Regression','KNN','LSTM','ARIMA','Prophet'],\n",
        "        'RMSE': [MA_rms,Linearregressionrms,Logisticrms,KNNrms,LSTMrms,ARIMArms,Prophetrms]}\n",
        "\n",
        "score = pd.DataFrame(RMSE, columns = ['Model', 'RMSE'])\n",
        "score"
      ],
      "execution_count": null,
      "outputs": []
    },
    {
      "cell_type": "markdown",
      "metadata": {
        "id": "t5I7UFSSMBJJ"
      },
      "source": [
        ""
      ]
    },
    {
      "cell_type": "code",
      "metadata": {
        "id": "PcpenCLIlt5y"
      },
      "source": [
        ""
      ],
      "execution_count": null,
      "outputs": []
    },
    {
      "cell_type": "code",
      "metadata": {
        "id": "NDr7LMqrmzXh"
      },
      "source": [
        ""
      ],
      "execution_count": null,
      "outputs": []
    }
  ]
}