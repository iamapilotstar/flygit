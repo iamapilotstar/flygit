{
 "cells": [
  {
   "cell_type": "markdown",
   "metadata": {},
   "source": [
    "## Ratings_Electronics"
   ]
  },
  {
   "cell_type": "code",
   "execution_count": 116,
   "metadata": {},
   "outputs": [],
   "source": [
    "import pandas as pd"
   ]
  },
  {
   "cell_type": "markdown",
   "metadata": {},
   "source": [
    "## Step 1 Read and explore the given dataset."
   ]
  },
  {
   "cell_type": "code",
   "execution_count": 117,
   "metadata": {},
   "outputs": [
    {
     "data": {
      "text/html": [
       "<div>\n",
       "<style scoped>\n",
       "    .dataframe tbody tr th:only-of-type {\n",
       "        vertical-align: middle;\n",
       "    }\n",
       "\n",
       "    .dataframe tbody tr th {\n",
       "        vertical-align: top;\n",
       "    }\n",
       "\n",
       "    .dataframe thead th {\n",
       "        text-align: right;\n",
       "    }\n",
       "</style>\n",
       "<table border=\"1\" class=\"dataframe\">\n",
       "  <thead>\n",
       "    <tr style=\"text-align: right;\">\n",
       "      <th></th>\n",
       "      <th>AKM1MP6P0OYPR</th>\n",
       "      <th>0132793040</th>\n",
       "      <th>5.0</th>\n",
       "      <th>1365811200</th>\n",
       "    </tr>\n",
       "  </thead>\n",
       "  <tbody>\n",
       "    <tr>\n",
       "      <th>0</th>\n",
       "      <td>A2CX7LUOHB2NDG</td>\n",
       "      <td>0321732944</td>\n",
       "      <td>5.0</td>\n",
       "      <td>1341100800</td>\n",
       "    </tr>\n",
       "    <tr>\n",
       "      <th>1</th>\n",
       "      <td>A2NWSAGRHCP8N5</td>\n",
       "      <td>0439886341</td>\n",
       "      <td>1.0</td>\n",
       "      <td>1367193600</td>\n",
       "    </tr>\n",
       "    <tr>\n",
       "      <th>2</th>\n",
       "      <td>A2WNBOD3WNDNKT</td>\n",
       "      <td>0439886341</td>\n",
       "      <td>3.0</td>\n",
       "      <td>1374451200</td>\n",
       "    </tr>\n",
       "  </tbody>\n",
       "</table>\n",
       "</div>"
      ],
      "text/plain": [
       "    AKM1MP6P0OYPR  0132793040  5.0  1365811200\n",
       "0  A2CX7LUOHB2NDG  0321732944  5.0  1341100800\n",
       "1  A2NWSAGRHCP8N5  0439886341  1.0  1367193600\n",
       "2  A2WNBOD3WNDNKT  0439886341  3.0  1374451200"
      ]
     },
     "execution_count": 117,
     "metadata": {},
     "output_type": "execute_result"
    }
   ],
   "source": [
    "electronics_ratings=pd.read_csv('ratings_Electronics.csv')\n",
    "electronics_ratings.head(3)"
   ]
  },
  {
   "cell_type": "markdown",
   "metadata": {},
   "source": [
    "#### Adding the column headers for the ratings dataset."
   ]
  },
  {
   "cell_type": "code",
   "execution_count": 118,
   "metadata": {},
   "outputs": [
    {
     "data": {
      "text/html": [
       "<div>\n",
       "<style scoped>\n",
       "    .dataframe tbody tr th:only-of-type {\n",
       "        vertical-align: middle;\n",
       "    }\n",
       "\n",
       "    .dataframe tbody tr th {\n",
       "        vertical-align: top;\n",
       "    }\n",
       "\n",
       "    .dataframe thead th {\n",
       "        text-align: right;\n",
       "    }\n",
       "</style>\n",
       "<table border=\"1\" class=\"dataframe\">\n",
       "  <thead>\n",
       "    <tr style=\"text-align: right;\">\n",
       "      <th></th>\n",
       "      <th>userId</th>\n",
       "      <th>productId</th>\n",
       "      <th>ratings</th>\n",
       "      <th>timestamp</th>\n",
       "    </tr>\n",
       "  </thead>\n",
       "  <tbody>\n",
       "    <tr>\n",
       "      <th>0</th>\n",
       "      <td>A2CX7LUOHB2NDG</td>\n",
       "      <td>0321732944</td>\n",
       "      <td>5.0</td>\n",
       "      <td>1341100800</td>\n",
       "    </tr>\n",
       "    <tr>\n",
       "      <th>1</th>\n",
       "      <td>A2NWSAGRHCP8N5</td>\n",
       "      <td>0439886341</td>\n",
       "      <td>1.0</td>\n",
       "      <td>1367193600</td>\n",
       "    </tr>\n",
       "    <tr>\n",
       "      <th>2</th>\n",
       "      <td>A2WNBOD3WNDNKT</td>\n",
       "      <td>0439886341</td>\n",
       "      <td>3.0</td>\n",
       "      <td>1374451200</td>\n",
       "    </tr>\n",
       "  </tbody>\n",
       "</table>\n",
       "</div>"
      ],
      "text/plain": [
       "           userId   productId  ratings   timestamp\n",
       "0  A2CX7LUOHB2NDG  0321732944      5.0  1341100800\n",
       "1  A2NWSAGRHCP8N5  0439886341      1.0  1367193600\n",
       "2  A2WNBOD3WNDNKT  0439886341      3.0  1374451200"
      ]
     },
     "execution_count": 118,
     "metadata": {},
     "output_type": "execute_result"
    }
   ],
   "source": [
    "electronics_ratings.columns=['userId','productId','ratings','timestamp']\n",
    "electronics_ratings.head(3)"
   ]
  },
  {
   "cell_type": "markdown",
   "metadata": {},
   "source": [
    "#### Discarding the timestamp column since its not needed for our electronic dataset usecase"
   ]
  },
  {
   "cell_type": "code",
   "execution_count": 119,
   "metadata": {},
   "outputs": [
    {
     "data": {
      "text/html": [
       "<div>\n",
       "<style scoped>\n",
       "    .dataframe tbody tr th:only-of-type {\n",
       "        vertical-align: middle;\n",
       "    }\n",
       "\n",
       "    .dataframe tbody tr th {\n",
       "        vertical-align: top;\n",
       "    }\n",
       "\n",
       "    .dataframe thead th {\n",
       "        text-align: right;\n",
       "    }\n",
       "</style>\n",
       "<table border=\"1\" class=\"dataframe\">\n",
       "  <thead>\n",
       "    <tr style=\"text-align: right;\">\n",
       "      <th></th>\n",
       "      <th>userId</th>\n",
       "      <th>productId</th>\n",
       "      <th>ratings</th>\n",
       "    </tr>\n",
       "  </thead>\n",
       "  <tbody>\n",
       "    <tr>\n",
       "      <th>0</th>\n",
       "      <td>A2CX7LUOHB2NDG</td>\n",
       "      <td>0321732944</td>\n",
       "      <td>5.0</td>\n",
       "    </tr>\n",
       "    <tr>\n",
       "      <th>1</th>\n",
       "      <td>A2NWSAGRHCP8N5</td>\n",
       "      <td>0439886341</td>\n",
       "      <td>1.0</td>\n",
       "    </tr>\n",
       "    <tr>\n",
       "      <th>2</th>\n",
       "      <td>A2WNBOD3WNDNKT</td>\n",
       "      <td>0439886341</td>\n",
       "      <td>3.0</td>\n",
       "    </tr>\n",
       "  </tbody>\n",
       "</table>\n",
       "</div>"
      ],
      "text/plain": [
       "           userId   productId  ratings\n",
       "0  A2CX7LUOHB2NDG  0321732944      5.0\n",
       "1  A2NWSAGRHCP8N5  0439886341      1.0\n",
       "2  A2WNBOD3WNDNKT  0439886341      3.0"
      ]
     },
     "execution_count": 119,
     "metadata": {},
     "output_type": "execute_result"
    }
   ],
   "source": [
    "electronics_ratings=electronics_ratings.drop(['timestamp'],axis=1)\n",
    "electronics_ratings.head(3)"
   ]
  },
  {
   "cell_type": "markdown",
   "metadata": {},
   "source": [
    "### Data Characteristics"
   ]
  },
  {
   "cell_type": "code",
   "execution_count": 120,
   "metadata": {},
   "outputs": [
    {
     "data": {
      "text/plain": [
       "(7824481, 3)"
      ]
     },
     "execution_count": 120,
     "metadata": {},
     "output_type": "execute_result"
    }
   ],
   "source": [
    "# The number of records and features in the dataset\n",
    "electronics_ratings.shape"
   ]
  },
  {
   "cell_type": "code",
   "execution_count": 121,
   "metadata": {},
   "outputs": [
    {
     "data": {
      "text/plain": [
       "userId        object\n",
       "productId     object\n",
       "ratings      float64\n",
       "dtype: object"
      ]
     },
     "execution_count": 121,
     "metadata": {},
     "output_type": "execute_result"
    }
   ],
   "source": [
    "# inspecting the datatype of each feature\n",
    "electronics_ratings.dtypes"
   ]
  },
  {
   "cell_type": "markdown",
   "metadata": {},
   "source": [
    "#### Unique values in the dataset"
   ]
  },
  {
   "cell_type": "code",
   "execution_count": 122,
   "metadata": {},
   "outputs": [
    {
     "data": {
      "text/plain": [
       "array([5., 1., 3., 2., 4.])"
      ]
     },
     "execution_count": 122,
     "metadata": {},
     "output_type": "execute_result"
    }
   ],
   "source": [
    "electronics_ratings.ratings.unique()"
   ]
  },
  {
   "cell_type": "markdown",
   "metadata": {},
   "source": [
    "#### Count of unique values"
   ]
  },
  {
   "cell_type": "code",
   "execution_count": 123,
   "metadata": {},
   "outputs": [
    {
     "data": {
      "text/plain": [
       "5.0    4347540\n",
       "4.0    1485781\n",
       "1.0     901765\n",
       "3.0     633073\n",
       "2.0     456322\n",
       "Name: ratings, dtype: int64"
      ]
     },
     "execution_count": 123,
     "metadata": {},
     "output_type": "execute_result"
    }
   ],
   "source": [
    "electronics_ratings['ratings'].value_counts()"
   ]
  },
  {
   "cell_type": "markdown",
   "metadata": {},
   "source": [
    "#### Inference from above: There are no other ratings provided apart from 1,2,3,4 and 5"
   ]
  },
  {
   "cell_type": "markdown",
   "metadata": {},
   "source": [
    "#### Checking whether null/missing values are present among the features in the dataset"
   ]
  },
  {
   "cell_type": "code",
   "execution_count": 124,
   "metadata": {},
   "outputs": [
    {
     "name": "stdout",
     "output_type": "stream",
     "text": [
      "Number of null values in userId column= 0\n",
      "Number of null values in productId column= 0\n",
      "Number of null values in ratings column= 0\n"
     ]
    }
   ],
   "source": [
    "print('Number of null values in userId column=',electronics_ratings['userId'].isnull().sum())\n",
    "print('Number of null values in productId column=',electronics_ratings['productId'].isnull().sum())\n",
    "print('Number of null values in ratings column=',electronics_ratings['ratings'].isnull().sum())"
   ]
  },
  {
   "cell_type": "code",
   "execution_count": 125,
   "metadata": {},
   "outputs": [
    {
     "name": "stdout",
     "output_type": "stream",
     "text": [
      "userId       object\n",
      "productId    object\n",
      "ratings       int32\n",
      "dtype: object\n"
     ]
    },
    {
     "data": {
      "text/plain": [
       "5    4347540\n",
       "4    1485781\n",
       "1     901765\n",
       "3     633073\n",
       "2     456322\n",
       "Name: ratings, dtype: int64"
      ]
     },
     "execution_count": 125,
     "metadata": {},
     "output_type": "execute_result"
    }
   ],
   "source": [
    "electronics_ratings['ratings']=electronics_ratings['ratings'].astype('int')\n",
    "print(electronics_ratings.dtypes)\n",
    "electronics_ratings['ratings'].value_counts()"
   ]
  },
  {
   "cell_type": "markdown",
   "metadata": {},
   "source": [
    "### Histograms"
   ]
  },
  {
   "cell_type": "code",
   "execution_count": 126,
   "metadata": {},
   "outputs": [],
   "source": [
    "import seaborn as sns"
   ]
  },
  {
   "cell_type": "code",
   "execution_count": 127,
   "metadata": {},
   "outputs": [
    {
     "data": {
      "text/plain": [
       "<matplotlib.axes._subplots.AxesSubplot at 0xdfc99ccc18>"
      ]
     },
     "execution_count": 127,
     "metadata": {},
     "output_type": "execute_result"
    },
    {
     "data": {
      "image/png": "[encoded data removed]",
      "text/plain": [
       "<Figure size 432x288 with 1 Axes>"
      ]
     },
     "metadata": {
      "needs_background": "light"
     },
     "output_type": "display_data"
    }
   ],
   "source": [
    "sns.countplot(x='ratings',data=electronics_ratings)"
   ]
  },
  {
   "cell_type": "markdown",
   "metadata": {},
   "source": [
    "#### Inference from above: Rating of 5 has been given the most (>4million),followed by a rating for 4 and rating for 3.  Rating of  2 is given the least (~4.5million)"
   ]
  },
  {
   "cell_type": "markdown",
   "metadata": {},
   "source": [
    "## Step 2 Take a subset of the dataset to make it less sparse/ denser."
   ]
  },
  {
   "cell_type": "markdown",
   "metadata": {},
   "source": [
    "#### Take the users who has given only 50 or more number of ratings"
   ]
  },
  {
   "cell_type": "code",
   "execution_count": 132,
   "metadata": {},
   "outputs": [],
   "source": [
    "userRatings_Counts=electronics_ratings['userId'].value_counts()"
   ]
  },
  {
   "cell_type": "code",
   "execution_count": 133,
   "metadata": {},
   "outputs": [
    {
     "data": {
      "text/html": [
       "<div>\n",
       "<style scoped>\n",
       "    .dataframe tbody tr th:only-of-type {\n",
       "        vertical-align: middle;\n",
       "    }\n",
       "\n",
       "    .dataframe tbody tr th {\n",
       "        vertical-align: top;\n",
       "    }\n",
       "\n",
       "    .dataframe thead th {\n",
       "        text-align: right;\n",
       "    }\n",
       "</style>\n",
       "<table border=\"1\" class=\"dataframe\">\n",
       "  <thead>\n",
       "    <tr style=\"text-align: right;\">\n",
       "      <th></th>\n",
       "      <th>userId</th>\n",
       "      <th>productId</th>\n",
       "      <th>ratings</th>\n",
       "    </tr>\n",
       "  </thead>\n",
       "  <tbody>\n",
       "    <tr>\n",
       "      <th>93</th>\n",
       "      <td>A3BY5KCNQZXV5U</td>\n",
       "      <td>0594451647</td>\n",
       "      <td>5</td>\n",
       "    </tr>\n",
       "    <tr>\n",
       "      <th>117</th>\n",
       "      <td>AT09WGFUM934H</td>\n",
       "      <td>0594481813</td>\n",
       "      <td>3</td>\n",
       "    </tr>\n",
       "    <tr>\n",
       "      <th>176</th>\n",
       "      <td>A32HSNCNPRUMTR</td>\n",
       "      <td>0970407998</td>\n",
       "      <td>1</td>\n",
       "    </tr>\n",
       "    <tr>\n",
       "      <th>177</th>\n",
       "      <td>A17HMM1M7T9PJ1</td>\n",
       "      <td>0970407998</td>\n",
       "      <td>4</td>\n",
       "    </tr>\n",
       "    <tr>\n",
       "      <th>491</th>\n",
       "      <td>A3CLWR1UUZT6TG</td>\n",
       "      <td>0972683275</td>\n",
       "      <td>5</td>\n",
       "    </tr>\n",
       "  </tbody>\n",
       "</table>\n",
       "</div>"
      ],
      "text/plain": [
       "             userId   productId  ratings\n",
       "93   A3BY5KCNQZXV5U  0594451647        5\n",
       "117   AT09WGFUM934H  0594481813        3\n",
       "176  A32HSNCNPRUMTR  0970407998        1\n",
       "177  A17HMM1M7T9PJ1  0970407998        4\n",
       "491  A3CLWR1UUZT6TG  0972683275        5"
      ]
     },
     "execution_count": 133,
     "metadata": {},
     "output_type": "execute_result"
    }
   ],
   "source": [
    "electronics_ratings=electronics_ratings[electronics_ratings['userId'].isin(userRatings_Counts[userRatings_Counts>=50].index)]\n",
    "electronics_ratings.head(5)"
   ]
  },
  {
   "cell_type": "code",
   "execution_count": 134,
   "metadata": {},
   "outputs": [
    {
     "data": {
      "text/plain": [
       "(125871, 3)"
      ]
     },
     "execution_count": 134,
     "metadata": {},
     "output_type": "execute_result"
    }
   ],
   "source": [
    "electronics_ratings.shape"
   ]
  },
  {
   "cell_type": "markdown",
   "metadata": {},
   "source": [
    "## Step 3 Build Popularity Recommender model"
   ]
  },
  {
   "cell_type": "markdown",
   "metadata": {},
   "source": [
    "#### Get the mean of the ratings for each product"
   ]
  },
  {
   "cell_type": "code",
   "execution_count": 172,
   "metadata": {},
   "outputs": [
    {
     "data": {
      "text/plain": [
       "productId\n",
       "0594451647    5.000000\n",
       "0594481813    3.000000\n",
       "0970407998    2.500000\n",
       "0972683275    4.750000\n",
       "1400501466    3.333333\n",
       "Name: ratings, dtype: float64"
      ]
     },
     "execution_count": 172,
     "metadata": {},
     "output_type": "execute_result"
    }
   ],
   "source": [
    "electronics_ratings.groupby('productId')['ratings'].mean().head()"
   ]
  },
  {
   "cell_type": "markdown",
   "metadata": {},
   "source": [
    "#### Get the top mean ratings by using ascending=false"
   ]
  },
  {
   "cell_type": "code",
   "execution_count": 173,
   "metadata": {},
   "outputs": [
    {
     "data": {
      "text/plain": [
       "productId\n",
       "B00LKG1MC8    5.0\n",
       "B002QUZM3M    5.0\n",
       "B002QWNZHU    5.0\n",
       "B002QXZPFE    5.0\n",
       "B002R0DWNS    5.0\n",
       "Name: ratings, dtype: float64"
      ]
     },
     "execution_count": 173,
     "metadata": {},
     "output_type": "execute_result"
    }
   ],
   "source": [
    "electronics_ratings.groupby('productId')['ratings'].mean().sort_values(ascending=False).head()"
   ]
  },
  {
   "cell_type": "markdown",
   "metadata": {},
   "source": [
    "#### Get the products which are rated from most to least."
   ]
  },
  {
   "cell_type": "code",
   "execution_count": 176,
   "metadata": {},
   "outputs": [
    {
     "data": {
      "text/plain": [
       "productId\n",
       "B0088CJT4U    206\n",
       "B003ES5ZUU    184\n",
       "B000N99BBC    167\n",
       "B007WTAJTO    164\n",
       "B00829TIEK    149\n",
       "Name: ratings, dtype: int64"
      ]
     },
     "execution_count": 176,
     "metadata": {},
     "output_type": "execute_result"
    }
   ],
   "source": [
    "electronics_ratings.groupby('productId')['ratings'].count().sort_values(ascending=False).head()"
   ]
  },
  {
   "cell_type": "markdown",
   "metadata": {},
   "source": [
    "#### Creating a dataframe ratings_mean_count having mean ratings along with total number of ratings for each product\n",
    "#### It depicts the popularity based recommendation model which doesnt take into account the user profile."
   ]
  },
  {
   "cell_type": "code",
   "execution_count": 188,
   "metadata": {},
   "outputs": [
    {
     "data": {
      "text/html": [
       "<div>\n",
       "<style scoped>\n",
       "    .dataframe tbody tr th:only-of-type {\n",
       "        vertical-align: middle;\n",
       "    }\n",
       "\n",
       "    .dataframe tbody tr th {\n",
       "        vertical-align: top;\n",
       "    }\n",
       "\n",
       "    .dataframe thead th {\n",
       "        text-align: right;\n",
       "    }\n",
       "</style>\n",
       "<table border=\"1\" class=\"dataframe\">\n",
       "  <thead>\n",
       "    <tr style=\"text-align: right;\">\n",
       "      <th></th>\n",
       "      <th>rating_counts</th>\n",
       "      <th>mean_Ratings</th>\n",
       "    </tr>\n",
       "    <tr>\n",
       "      <th>productId</th>\n",
       "      <th></th>\n",
       "      <th></th>\n",
       "    </tr>\n",
       "  </thead>\n",
       "  <tbody>\n",
       "    <tr>\n",
       "      <th>0594451647</th>\n",
       "      <td>1</td>\n",
       "      <td>5.000000</td>\n",
       "    </tr>\n",
       "    <tr>\n",
       "      <th>0594481813</th>\n",
       "      <td>1</td>\n",
       "      <td>3.000000</td>\n",
       "    </tr>\n",
       "    <tr>\n",
       "      <th>0970407998</th>\n",
       "      <td>2</td>\n",
       "      <td>2.500000</td>\n",
       "    </tr>\n",
       "    <tr>\n",
       "      <th>0972683275</th>\n",
       "      <td>4</td>\n",
       "      <td>4.750000</td>\n",
       "    </tr>\n",
       "    <tr>\n",
       "      <th>1400501466</th>\n",
       "      <td>6</td>\n",
       "      <td>3.333333</td>\n",
       "    </tr>\n",
       "  </tbody>\n",
       "</table>\n",
       "</div>"
      ],
      "text/plain": [
       "            rating_counts  mean_Ratings\n",
       "productId                              \n",
       "0594451647              1      5.000000\n",
       "0594481813              1      3.000000\n",
       "0970407998              2      2.500000\n",
       "0972683275              4      4.750000\n",
       "1400501466              6      3.333333"
      ]
     },
     "execution_count": 188,
     "metadata": {},
     "output_type": "execute_result"
    }
   ],
   "source": [
    "ratings_mean_count['mean_Ratings']=pd.DataFrame(electronics_ratings.groupby('productId')['ratings'].mean())\n",
    "ratings_mean_count['rating_counts']=pd.DataFrame(electronics_ratings.groupby('productId')['ratings'].count())\n",
    "ratings_mean_count.head()"
   ]
  },
  {
   "cell_type": "markdown",
   "metadata": {},
   "source": [
    "## Step 4 Build Collaborative Filtering model"
   ]
  },
  {
   "cell_type": "code",
   "execution_count": 247,
   "metadata": {},
   "outputs": [],
   "source": [
    "from surprise import KNNWithMeans,KNNBaseline,KNNWithZScore\n",
    "from surprise import Dataset,Reader\n",
    "from surprise import accuracy\n",
    "from surprise.model_selection import train_test_split"
   ]
  },
  {
   "cell_type": "code",
   "execution_count": 145,
   "metadata": {},
   "outputs": [],
   "source": [
    "reader=Reader(rating_scale=(1,5))\n",
    "data=Dataset.load_from_df(electronics_ratings,reader)"
   ]
  },
  {
   "cell_type": "markdown",
   "metadata": {},
   "source": [
    "## Step 5 Split the data randomly into train and test dataset. ( For example, split it in 70/30 ratio)"
   ]
  },
  {
   "cell_type": "code",
   "execution_count": 146,
   "metadata": {},
   "outputs": [],
   "source": [
    "trainset, testset = train_test_split(data, test_size=.3)"
   ]
  },
  {
   "cell_type": "markdown",
   "metadata": {},
   "source": [
    "### 5.1 Using User User Collaborative Filtering Model with ----KNNWithMeans ALGORITHM---- ->user_based': True"
   ]
  },
  {
   "cell_type": "code",
   "execution_count": 161,
   "metadata": {},
   "outputs": [
    {
     "name": "stdout",
     "output_type": "stream",
     "text": [
      "Estimating biases using als...\n",
      "Computing the pearson_baseline similarity matrix...\n",
      "Done computing similarity matrix.\n"
     ]
    },
    {
     "data": {
      "text/plain": [
       "<surprise.prediction_algorithms.knns.KNNWithMeans at 0xdfcfebcf28>"
      ]
     },
     "execution_count": 161,
     "metadata": {},
     "output_type": "execute_result"
    }
   ],
   "source": [
    "algo = KNNWithMeans(k=15, sim_options={'name': 'pearson_baseline', 'user_based': True})\n",
    "algo.fit(trainset)"
   ]
  },
  {
   "cell_type": "code",
   "execution_count": 162,
   "metadata": {},
   "outputs": [],
   "source": [
    "# run the trained model against the testset\n",
    "test_pred = algo.test(testset)"
   ]
  },
  {
   "cell_type": "code",
   "execution_count": 163,
   "metadata": {},
   "outputs": [
    {
     "data": {
      "text/plain": [
       "[Prediction(uid='AEIB3UR05OP7A', iid='B0099SMFVQ', r_ui=5.0, est=5, details={'actual_k': 2, 'was_impossible': False}),\n",
       " Prediction(uid='A2VH0UT5EQFB6P', iid='B009NUK6S4', r_ui=4.0, est=3.5338827838827838, details={'actual_k': 1, 'was_impossible': False}),\n",
       " Prediction(uid='A1KDUQ2HU0WD68', iid='B00HRQB28Y', r_ui=5.0, est=4.67312703455122, details={'actual_k': 8, 'was_impossible': False}),\n",
       " Prediction(uid='A3D5B2CBFNJB0K', iid='B00F0DD0I6', r_ui=5.0, est=4.162162162162162, details={'actual_k': 0, 'was_impossible': False}),\n",
       " Prediction(uid='A35IX2GE0VC0JP', iid='B0049ZE9JA', r_ui=5.0, est=3.66, details={'actual_k': 0, 'was_impossible': False}),\n",
       " Prediction(uid='A20ZM879PCQQEZ', iid='B007MXGG5Q', r_ui=4.0, est=4.262595194588521, details={'was_impossible': True, 'reason': 'User and/or item is unkown.'}),\n",
       " Prediction(uid='A1KD8NJPZ01R37', iid='B0006ZM4XK', r_ui=4.0, est=4.262595194588521, details={'was_impossible': True, 'reason': 'User and/or item is unkown.'}),\n",
       " Prediction(uid='A18OTCHQ6MXD6X', iid='B0013P3ZOE', r_ui=5.0, est=4.413043478260869, details={'actual_k': 0, 'was_impossible': False}),\n",
       " Prediction(uid='AVSMRPI23DQI2', iid='B0009U7Y0U', r_ui=5.0, est=4.482142857142857, details={'actual_k': 0, 'was_impossible': False}),\n",
       " Prediction(uid='A5JLAU2ARJ0BO', iid='B0001WV09M', r_ui=5.0, est=4.262595194588521, details={'was_impossible': True, 'reason': 'User and/or item is unkown.'}),\n",
       " Prediction(uid='A1W415JP5WEAJK', iid='B008MAMC2Y', r_ui=5.0, est=4.262595194588521, details={'was_impossible': True, 'reason': 'User and/or item is unkown.'}),\n",
       " Prediction(uid='A36K2N527TXXJN', iid='B00FWUIYC4', r_ui=4.0, est=3.9838723016390665, details={'actual_k': 2, 'was_impossible': False}),\n",
       " Prediction(uid='A37CEYB95LK6R6', iid='B0002J2ANE', r_ui=3.0, est=4.262595194588521, details={'was_impossible': True, 'reason': 'User and/or item is unkown.'}),\n",
       " Prediction(uid='A3EXWV8FNSSFL6', iid='B004JK1VMS', r_ui=4.0, est=3.9454813628882075, details={'actual_k': 2, 'was_impossible': False}),\n",
       " Prediction(uid='A1B6O7SAIYG2N0', iid='B004SBBDD0', r_ui=5.0, est=4.25531914893617, details={'actual_k': 0, 'was_impossible': False}),\n",
       " Prediction(uid='A3F7F7QKQP2FKT', iid='B003O2S080', r_ui=5.0, est=4.65, details={'actual_k': 0, 'was_impossible': False}),\n",
       " Prediction(uid='A3N8O68DOEQ2FE', iid='B000HCGAFK', r_ui=5.0, est=4.787878787878788, details={'actual_k': 0, 'was_impossible': False}),\n",
       " Prediction(uid='A2ME89MSWVG9NF', iid='B007GMPZ9Q', r_ui=5.0, est=3.7868852459016393, details={'actual_k': 0, 'was_impossible': False}),\n",
       " Prediction(uid='AGXMC3ITWZASE', iid='B0078SAIUY', r_ui=4.0, est=3.9130434782608696, details={'actual_k': 0, 'was_impossible': False}),\n",
       " Prediction(uid='AK3GKIV8DEY8B', iid='B0002FCHEU', r_ui=5.0, est=4.262595194588521, details={'was_impossible': True, 'reason': 'User and/or item is unkown.'}),\n",
       " Prediction(uid='A11I1I9QLMAM1A', iid='B00DQZQG3G', r_ui=3.0, est=4.963665406732827, details={'actual_k': 2, 'was_impossible': False}),\n",
       " Prediction(uid='A1XE3M22N91451', iid='B00FL4EWEK', r_ui=1.0, est=4.262595194588521, details={'was_impossible': True, 'reason': 'User and/or item is unkown.'}),\n",
       " Prediction(uid='A32LX4XJ2LU740', iid='B003GSL6UQ', r_ui=2.0, est=4.350877192982456, details={'actual_k': 0, 'was_impossible': False}),\n",
       " Prediction(uid='AEAFHD09X8044', iid='B008AG097A', r_ui=4.0, est=4.151515151515151, details={'actual_k': 0, 'was_impossible': False}),\n",
       " Prediction(uid='AV8MDYLHHTUOY', iid='B00062RGRM', r_ui=2.0, est=4.262595194588521, details={'was_impossible': True, 'reason': 'User and/or item is unkown.'}),\n",
       " Prediction(uid='A3IUW081KXD3PE', iid='B000P5KW7G', r_ui=5.0, est=4.262595194588521, details={'was_impossible': True, 'reason': 'User and/or item is unkown.'}),\n",
       " Prediction(uid='ALQ4USPEQ9L5N', iid='B005QCDY50', r_ui=3.0, est=4.107113582395444, details={'actual_k': 15, 'was_impossible': False}),\n",
       " Prediction(uid='A3KCETSIJNOK56', iid='B003ULJU2A', r_ui=5.0, est=3.923076923076923, details={'actual_k': 0, 'was_impossible': False}),\n",
       " Prediction(uid='A3RMEU4GNP60BM', iid='B00IMPO5OW', r_ui=4.0, est=4.262595194588521, details={'was_impossible': True, 'reason': 'User and/or item is unkown.'}),\n",
       " Prediction(uid='A1H0D7635GEEJ1', iid='B000Q82PIQ', r_ui=5.0, est=4.216216216216216, details={'actual_k': 0, 'was_impossible': False}),\n",
       " Prediction(uid='A2LEIANN1UZTHP', iid='B000COSPYW', r_ui=5.0, est=4.262595194588521, details={'was_impossible': True, 'reason': 'User and/or item is unkown.'}),\n",
       " Prediction(uid='A1MFAPVBW9BEGD', iid='B003FVI2KQ', r_ui=5.0, est=3.5806451612903225, details={'actual_k': 0, 'was_impossible': False}),\n",
       " Prediction(uid='A2T24Z5QP2OMXU', iid='B008JJLW4M', r_ui=4.0, est=4.305555555555555, details={'actual_k': 0, 'was_impossible': False}),\n",
       " Prediction(uid='AP53MVRC8ZEW2', iid='B0093L2SIE', r_ui=5.0, est=4.262595194588521, details={'was_impossible': True, 'reason': 'User and/or item is unkown.'}),\n",
       " Prediction(uid='A1TQBAHI3M4ZBQ', iid='B0007A1IRC', r_ui=5.0, est=4.9743589743589745, details={'actual_k': 0, 'was_impossible': False}),\n",
       " Prediction(uid='A1C47ROOK7BSVL', iid='B007RFW1NA', r_ui=1.0, est=2.826923076923077, details={'actual_k': 0, 'was_impossible': False}),\n",
       " Prediction(uid='AEZJTA4KDIWY8', iid='B00CO8TBOW', r_ui=4.0, est=4.38, details={'actual_k': 0, 'was_impossible': False}),\n",
       " Prediction(uid='ARBKYIVNYWK3C', iid='B000OW3524', r_ui=5.0, est=4.262595194588521, details={'was_impossible': True, 'reason': 'User and/or item is unkown.'}),\n",
       " Prediction(uid='A1RL1OTV8IJMVD', iid='B00838XV6G', r_ui=4.0, est=4.262595194588521, details={'was_impossible': True, 'reason': 'User and/or item is unkown.'}),\n",
       " Prediction(uid='A781ITP3HE2N5', iid='B000Q76LBY', r_ui=5.0, est=4.641025641025641, details={'actual_k': 0, 'was_impossible': False}),\n",
       " Prediction(uid='A2VIYTWXANL343', iid='B003P5SCT8', r_ui=5.0, est=4.262595194588521, details={'was_impossible': True, 'reason': 'User and/or item is unkown.'}),\n",
       " Prediction(uid='A3N8O68DOEQ2FE', iid='B00DSUTVK4', r_ui=5.0, est=4.787878787878788, details={'actual_k': 0, 'was_impossible': False}),\n",
       " Prediction(uid='A1FDSZISWIXH1A', iid='B000ROE0SW', r_ui=5.0, est=4.262595194588521, details={'was_impossible': True, 'reason': 'User and/or item is unkown.'}),\n",
       " Prediction(uid='A3IY316DRNF5F2', iid='B000VOAKNM', r_ui=5.0, est=4.262595194588521, details={'was_impossible': True, 'reason': 'User and/or item is unkown.'}),\n",
       " Prediction(uid='AR3EVUQF0AC7R', iid='B00DBX371C', r_ui=3.0, est=4.649305896722871, details={'actual_k': 2, 'was_impossible': False}),\n",
       " Prediction(uid='A5JLAU2ARJ0BO', iid='B000WF1PJS', r_ui=5.0, est=4.262595194588521, details={'was_impossible': True, 'reason': 'User and/or item is unkown.'}),\n",
       " Prediction(uid='A203OCQQ12MAVT', iid='B001H0GEW0', r_ui=5.0, est=4.449438202247191, details={'actual_k': 0, 'was_impossible': False}),\n",
       " Prediction(uid='A20DDH4NT6Q1E8', iid='B007ZZ6OW6', r_ui=4.0, est=4.731755804079808, details={'actual_k': 3, 'was_impossible': False}),\n",
       " Prediction(uid='A1AKW788238PWQ', iid='B000N2N24G', r_ui=5.0, est=4.262595194588521, details={'was_impossible': True, 'reason': 'User and/or item is unkown.'}),\n",
       " Prediction(uid='A1143YEAZYMYHJ', iid='B004HO58KC', r_ui=4.0, est=3.6445073078736447, details={'actual_k': 1, 'was_impossible': False}),\n",
       " Prediction(uid='A2XHOLOLKGV1FE', iid='B00KGEOMKO', r_ui=3.0, est=4.262595194588521, details={'was_impossible': True, 'reason': 'User and/or item is unkown.'}),\n",
       " Prediction(uid='A680RUE1FDO8B', iid='B00E0HITQ6', r_ui=5.0, est=4.82988890033574, details={'actual_k': 6, 'was_impossible': False}),\n",
       " Prediction(uid='A2ME89MSWVG9NF', iid='B00BFYVXYM', r_ui=4.0, est=2.6916471506635444, details={'actual_k': 1, 'was_impossible': False}),\n",
       " Prediction(uid='A3NHUQ33CFH3VM', iid='B00834SJSK', r_ui=4.0, est=4.7700321749095025, details={'actual_k': 14, 'was_impossible': False}),\n",
       " Prediction(uid='A2RW587355CMVA', iid='B005O88CY4', r_ui=5.0, est=4.74986123959297, details={'actual_k': 1, 'was_impossible': False}),\n",
       " Prediction(uid='AC9QEWWN4W9MC', iid='B008OEHPPM', r_ui=5.0, est=4.382978723404255, details={'actual_k': 0, 'was_impossible': False}),\n",
       " Prediction(uid='A2FRKEXDXDN1KI', iid='B001DGZ05A', r_ui=5.0, est=4.262595194588521, details={'was_impossible': True, 'reason': 'User and/or item is unkown.'}),\n",
       " Prediction(uid='A6FIAB28IS79', iid='B002J95GVI', r_ui=3.0, est=4.188552188552189, details={'actual_k': 0, 'was_impossible': False}),\n",
       " Prediction(uid='A12R3YGEHW7D8G', iid='B00005AB9R', r_ui=4.0, est=4.262595194588521, details={'was_impossible': True, 'reason': 'User and/or item is unkown.'}),\n",
       " Prediction(uid='A3V0YR50F1XSKP', iid='B000TG4BA0', r_ui=5.0, est=5, details={'actual_k': 1, 'was_impossible': False}),\n",
       " Prediction(uid='A1GBU479WXR7UG', iid='B004NNQD60', r_ui=5.0, est=4.262595194588521, details={'was_impossible': True, 'reason': 'User and/or item is unkown.'}),\n",
       " Prediction(uid='A2LCE1D0TW2XY0', iid='B00918MEZG', r_ui=5.0, est=4.194805194805195, details={'actual_k': 0, 'was_impossible': False}),\n",
       " Prediction(uid='A13WOT3RSXKRD5', iid='B004GCJEZU', r_ui=5.0, est=4.5127376153333465, details={'actual_k': 4, 'was_impossible': False}),\n",
       " Prediction(uid='A1ZVFCPHCWFV71', iid='B00834SJSK', r_ui=4.0, est=4.990326279317765, details={'actual_k': 3, 'was_impossible': False}),\n",
       " Prediction(uid='A3P1508PZ0UADD', iid='B00005UK9P', r_ui=4.0, est=4.0181818181818185, details={'actual_k': 0, 'was_impossible': False}),\n",
       " Prediction(uid='A3FEGTOLCWXSV4', iid='B001ENW61I', r_ui=5.0, est=4.802272727272728, details={'actual_k': 1, 'was_impossible': False}),\n",
       " Prediction(uid='A2PSD2R9A1CXG7', iid='B005PUZOYM', r_ui=4.0, est=2.9346915460776843, details={'actual_k': 1, 'was_impossible': False}),\n",
       " Prediction(uid='A3V7D0LH8L7BG0', iid='B000GTAGKY', r_ui=5.0, est=4.262595194588521, details={'was_impossible': True, 'reason': 'User and/or item is unkown.'}),\n",
       " Prediction(uid='A3EM243NDJ4DF3', iid='B000FOV0IC', r_ui=5.0, est=4.262595194588521, details={'was_impossible': True, 'reason': 'User and/or item is unkown.'}),\n",
       " Prediction(uid='A3EZEP0FX5BC1P', iid='B00BW0QC72', r_ui=5.0, est=4.0602409638554215, details={'actual_k': 0, 'was_impossible': False}),\n",
       " Prediction(uid='A3JNBO7H2SPL44', iid='B005B9A2DU', r_ui=5.0, est=4.262595194588521, details={'was_impossible': True, 'reason': 'User and/or item is unkown.'}),\n",
       " Prediction(uid='A33SX0AD5PYD9B', iid='B009AYVOG6', r_ui=3.0, est=4.085714285714285, details={'actual_k': 0, 'was_impossible': False}),\n",
       " Prediction(uid='AGVWTYW0ULXHT', iid='B002OOWC3S', r_ui=4.0, est=4.003912966146914, details={'actual_k': 1, 'was_impossible': False}),\n",
       " Prediction(uid='A2G563AC1HME2R', iid='B00HBYKVA2', r_ui=4.0, est=4.475, details={'actual_k': 0, 'was_impossible': False}),\n",
       " Prediction(uid='A33YZNZIRA3H97', iid='B002931GP4', r_ui=3.0, est=3.9603960396039604, details={'actual_k': 0, 'was_impossible': False}),\n",
       " Prediction(uid='A1JZFGZEZVWQPY', iid='B003LZYXYU', r_ui=4.0, est=3.8615384615384616, details={'actual_k': 0, 'was_impossible': False}),\n",
       " Prediction(uid='AGHZXQL9F94T9', iid='B00008PVXA', r_ui=3.0, est=2.2448979591836733, details={'actual_k': 1, 'was_impossible': False}),\n",
       " Prediction(uid='APBB297H3ZA5E', iid='B008D9AIMA', r_ui=5.0, est=4.262595194588521, details={'was_impossible': True, 'reason': 'User and/or item is unkown.'}),\n",
       " Prediction(uid='A18A5VSD0IPN14', iid='B006NTM5H8', r_ui=5.0, est=4.413043478260869, details={'actual_k': 0, 'was_impossible': False}),\n",
       " Prediction(uid='A2BCDZO1XQLDH', iid='B001U3Y8QI', r_ui=5.0, est=4.262595194588521, details={'was_impossible': True, 'reason': 'User and/or item is unkown.'}),\n",
       " Prediction(uid='A1VQHH85U7PX0', iid='B000VEPC6W', r_ui=5.0, est=4.262595194588521, details={'was_impossible': True, 'reason': 'User and/or item is unkown.'}),\n",
       " Prediction(uid='AFQBS241UKPAZ', iid='B00004Z6PI', r_ui=5.0, est=3.9714285714285715, details={'actual_k': 0, 'was_impossible': False}),\n",
       " Prediction(uid='A3CW0ZLUO5X2B1', iid='B001F8SCRE', r_ui=5.0, est=4.939130434782609, details={'actual_k': 1, 'was_impossible': False}),\n",
       " Prediction(uid='A1UL2JH7XOUGM5', iid='B008OEHV6U', r_ui=3.0, est=4.052631578947368, details={'actual_k': 0, 'was_impossible': False}),\n",
       " Prediction(uid='AN2IZT80ZUNJN', iid='B00889ST2G', r_ui=5.0, est=3.9722222222222223, details={'actual_k': 0, 'was_impossible': False}),\n",
       " Prediction(uid='A110VKXAVLAYKY', iid='B005AAWC56', r_ui=5.0, est=4.262595194588521, details={'was_impossible': True, 'reason': 'User and/or item is unkown.'}),\n",
       " Prediction(uid='A1TR1R2QKWRSRA', iid='B00HGLOQ24', r_ui=4.0, est=3.0539284870169494, details={'actual_k': 2, 'was_impossible': False}),\n",
       " Prediction(uid='A250AXLRBVYKB4', iid='B001PLIG68', r_ui=5.0, est=5, details={'actual_k': 1, 'was_impossible': False}),\n",
       " Prediction(uid='ASJZT7DM51QEM', iid='B00829THK0', r_ui=5.0, est=4.338984842302871, details={'actual_k': 12, 'was_impossible': False}),\n",
       " Prediction(uid='AFR9GYKAHM37U', iid='B009F1INL8', r_ui=2.0, est=4.685185185185185, details={'actual_k': 0, 'was_impossible': False}),\n",
       " Prediction(uid='A2SPV96SGOEO2', iid='B008EQZ25K', r_ui=5.0, est=4.074754999102107, details={'actual_k': 4, 'was_impossible': False}),\n",
       " Prediction(uid='A11KZ906QD08C5', iid='B0035BGHOY', r_ui=4.0, est=4.262595194588521, details={'was_impossible': True, 'reason': 'User and/or item is unkown.'}),\n",
       " Prediction(uid='A22S7D0LP8GRDH', iid='B004ELA0SS', r_ui=5.0, est=5, details={'actual_k': 1, 'was_impossible': False}),\n",
       " Prediction(uid='A17BUUBOU0598B', iid='B0097CZHAU', r_ui=4.0, est=2.9376952280190207, details={'actual_k': 9, 'was_impossible': False}),\n",
       " Prediction(uid='A18U49406IPPIJ', iid='B00H8ZS53Y', r_ui=5.0, est=4.262595194588521, details={'was_impossible': True, 'reason': 'User and/or item is unkown.'}),\n",
       " Prediction(uid='A3DQWFWINN3V5A', iid='B0007M3PGC', r_ui=5.0, est=4.262595194588521, details={'was_impossible': True, 'reason': 'User and/or item is unkown.'}),\n",
       " Prediction(uid='A2KIJBT9HRIOM8', iid='B004WB8EYM', r_ui=5.0, est=4.5, details={'actual_k': 0, 'was_impossible': False}),\n",
       " Prediction(uid='A1MRPX3RM48T2I', iid='B0015AARJI', r_ui=5.0, est=5, details={'actual_k': 4, 'was_impossible': False}),\n",
       " Prediction(uid='A3QMJMTLJC34QC', iid='B0040HEMP8', r_ui=4.0, est=4.298701298701299, details={'actual_k': 0, 'was_impossible': False}),\n",
       " Prediction(uid='A3EWJX7W1X7E79', iid='B0032B0XUG', r_ui=4.0, est=4.262595194588521, details={'was_impossible': True, 'reason': 'User and/or item is unkown.'}),\n",
       " Prediction(uid='A1RCGK44YXNBBB', iid='B000F71700', r_ui=5.0, est=4.262595194588521, details={'was_impossible': True, 'reason': 'User and/or item is unkown.'}),\n",
       " Prediction(uid='A25C2M3QF9G7OQ', iid='B00EZL1GH6', r_ui=5.0, est=4.613526570048309, details={'actual_k': 0, 'was_impossible': False}),\n",
       " Prediction(uid='A25HBO5V8S8SEA', iid='B00026KJ26', r_ui=5.0, est=4.950413223140496, details={'actual_k': 0, 'was_impossible': False}),\n",
       " Prediction(uid='AONUCJBC85BL', iid='B005LMWPGY', r_ui=5.0, est=3.8206185567010307, details={'actual_k': 1, 'was_impossible': False}),\n",
       " Prediction(uid='A13BX9O5UDBILC', iid='B004GK0GKO', r_ui=4.0, est=4.222222222222222, details={'actual_k': 0, 'was_impossible': False}),\n",
       " Prediction(uid='A3MQ15651KGVLJ', iid='B008X9Z3UC', r_ui=4.0, est=4.354179442313142, details={'actual_k': 7, 'was_impossible': False}),\n",
       " Prediction(uid='A32NEDX6UVV8DE', iid='B003FVVMS0', r_ui=4.0, est=4.413043478260869, details={'actual_k': 0, 'was_impossible': False}),\n",
       " Prediction(uid='AQ3IN3MRXQ5KH', iid='B0014DUHLO', r_ui=3.0, est=4.026315789473684, details={'actual_k': 0, 'was_impossible': False}),\n",
       " Prediction(uid='A38RMU1Y5TDP9', iid='B002LVUIS0', r_ui=5.0, est=4.314009661835748, details={'actual_k': 0, 'was_impossible': False}),\n",
       " Prediction(uid='A1CMD08Z49PGKQ', iid='B00BOHNYTW', r_ui=5.0, est=5, details={'actual_k': 9, 'was_impossible': False}),\n",
       " Prediction(uid='AH3LF9RAD1O2V', iid='B000NJGNY0', r_ui=3.0, est=4.262595194588521, details={'was_impossible': True, 'reason': 'User and/or item is unkown.'}),\n",
       " Prediction(uid='AMKNPIDFLRFMP', iid='B000BFO384', r_ui=5.0, est=3.8076923076923075, details={'actual_k': 0, 'was_impossible': False}),\n",
       " Prediction(uid='ASCBJEPXTOU0V', iid='B00HWQUJ24', r_ui=5.0, est=4.262595194588521, details={'was_impossible': True, 'reason': 'User and/or item is unkown.'}),\n",
       " Prediction(uid='A17BUUBOU0598B', iid='B0012ZO3F0', r_ui=4.0, est=4.262595194588521, details={'was_impossible': True, 'reason': 'User and/or item is unkown.'}),\n",
       " Prediction(uid='AR3EVUQF0AC7R', iid='B006TF3746', r_ui=4.0, est=4.201612903225806, details={'actual_k': 1, 'was_impossible': False}),\n",
       " Prediction(uid='A3M7BCQKSQAK4L', iid='B00DIOALPE', r_ui=4.0, est=5, details={'actual_k': 2, 'was_impossible': False}),\n",
       " Prediction(uid='AX7317G153T8W', iid='B0002JFN10', r_ui=5.0, est=4.366197183098592, details={'actual_k': 0, 'was_impossible': False}),\n",
       " Prediction(uid='A3LPL35P7FH78Y', iid='B005SCYFPQ', r_ui=5.0, est=4.262595194588521, details={'was_impossible': True, 'reason': 'User and/or item is unkown.'}),\n",
       " Prediction(uid='A5QDZEOIMQ4LW', iid='B00GQSBP90', r_ui=5.0, est=4.262595194588521, details={'was_impossible': True, 'reason': 'User and/or item is unkown.'}),\n",
       " Prediction(uid='A28BX3MM90A6FI', iid='B004QOA920', r_ui=5.0, est=4.4375, details={'actual_k': 0, 'was_impossible': False}),\n",
       " Prediction(uid='A28P7V9KI7MXP', iid='B006CV7J6E', r_ui=5.0, est=4.262595194588521, details={'was_impossible': True, 'reason': 'User and/or item is unkown.'}),\n",
       " Prediction(uid='A2HMF8ZR67BNZS', iid='B00004ZCJE', r_ui=5.0, est=3.8804057802740295, details={'actual_k': 3, 'was_impossible': False}),\n",
       " Prediction(uid='A23GFTVIETX7DS', iid='B00F3T0DKK', r_ui=4.0, est=3.4566091472608473, details={'actual_k': 1, 'was_impossible': False}),\n",
       " Prediction(uid='AX7317G153T8W', iid='B001E1Y5O6', r_ui=4.0, est=4.366197183098592, details={'actual_k': 0, 'was_impossible': False}),\n",
       " Prediction(uid='A2RGA7UGAN3UL7', iid='B000B9RI14', r_ui=5.0, est=4.638888888888889, details={'actual_k': 0, 'was_impossible': False}),\n",
       " Prediction(uid='A27TN8D0CZ8LUY', iid='B003ES5ZUU', r_ui=5.0, est=5, details={'actual_k': 1, 'was_impossible': False}),\n",
       " Prediction(uid='A2UOHALGF2X77Q', iid='B00IVPU786', r_ui=5.0, est=4.437086092715232, details={'actual_k': 0, 'was_impossible': False}),\n",
       " Prediction(uid='A3CJOB7CHOSZUG', iid='B0044DEEJC', r_ui=4.0, est=4.628571428571429, details={'actual_k': 0, 'was_impossible': False}),\n",
       " Prediction(uid='AGILRZOT49R0V', iid='B002S53LJ2', r_ui=5.0, est=4.5, details={'actual_k': 0, 'was_impossible': False}),\n",
       " Prediction(uid='A2UQK3DAZ8NO2T', iid='B000HAOVC6', r_ui=5.0, est=4.262595194588521, details={'was_impossible': True, 'reason': 'User and/or item is unkown.'}),\n",
       " Prediction(uid='A1HBI9BBQIG1NH', iid='B0047EKLWW', r_ui=4.0, est=4.064516129032258, details={'actual_k': 0, 'was_impossible': False}),\n",
       " Prediction(uid='A1QJ10LEINDRWW', iid='B0043VE29C', r_ui=3.0, est=4.2444444444444445, details={'actual_k': 0, 'was_impossible': False}),\n",
       " Prediction(uid='A2PICNZWHEINQC', iid='B002PF5PFS', r_ui=5.0, est=4.262595194588521, details={'was_impossible': True, 'reason': 'User and/or item is unkown.'}),\n",
       " Prediction(uid='A3HCMJOGRRSAF2', iid='B001GN7A8A', r_ui=4.0, est=3.5161290322580645, details={'actual_k': 0, 'was_impossible': False}),\n",
       " Prediction(uid='A2BUQ240COLAOP', iid='B002HJ9PTO', r_ui=4.0, est=4.357142857142857, details={'actual_k': 0, 'was_impossible': False}),\n",
       " Prediction(uid='AVBLGXSWRN666', iid='B000LRMS66', r_ui=4.0, est=4.42246511202161, details={'actual_k': 2, 'was_impossible': False}),\n",
       " Prediction(uid='A87CILADRIZW0', iid='B0046HAW7Y', r_ui=5.0, est=4.65, details={'actual_k': 0, 'was_impossible': False}),\n",
       " Prediction(uid='A3QNQQKJTL76H0', iid='B002HWRJXU', r_ui=2.0, est=4.168141592920354, details={'actual_k': 0, 'was_impossible': False}),\n",
       " Prediction(uid='A1KWPIORLG2QV', iid='B003B41XYO', r_ui=5.0, est=4.878048780487805, details={'actual_k': 0, 'was_impossible': False}),\n",
       " Prediction(uid='A35IX2GE0VC0JP', iid='B004L9M4AK', r_ui=4.0, est=3.66, details={'actual_k': 0, 'was_impossible': False}),\n",
       " Prediction(uid='AP2NZAALUQKF5', iid='B0051WEZ3K', r_ui=4.0, est=4.262595194588521, details={'was_impossible': True, 'reason': 'User and/or item is unkown.'}),\n",
       " Prediction(uid='A209G57KXCBF4C', iid='B0049U3TVE', r_ui=4.0, est=3.6774193548387095, details={'actual_k': 0, 'was_impossible': False}),\n",
       " Prediction(uid='A31RULW0KNYJ5H', iid='B00141AYM8', r_ui=4.0, est=3.971874313337728, details={'actual_k': 1, 'was_impossible': False}),\n",
       " Prediction(uid='A1ODOGXEYECQQ8', iid='B000VZX5R4', r_ui=3.0, est=4.262595194588521, details={'was_impossible': True, 'reason': 'User and/or item is unkown.'}),\n",
       " Prediction(uid='A2ARDVMUGDFED6', iid='B007B5S8BU', r_ui=5.0, est=4.23469387755102, details={'actual_k': 0, 'was_impossible': False}),\n",
       " Prediction(uid='A296QED1MV1V0J', iid='B008OJ6ZYY', r_ui=2.0, est=4.262595194588521, details={'was_impossible': True, 'reason': 'User and/or item is unkown.'}),\n",
       " Prediction(uid='A3UKWQS8SRW6IO', iid='B003OC6LWM', r_ui=5.0, est=4.766666666666667, details={'actual_k': 0, 'was_impossible': False}),\n",
       " Prediction(uid='A1X1CEGHTHMBL1', iid='B002MAWN10', r_ui=5.0, est=4.262595194588521, details={'was_impossible': True, 'reason': 'User and/or item is unkown.'}),\n",
       " Prediction(uid='A32O98PFC3OP7K', iid='B003V3GW82', r_ui=3.0, est=4.262595194588521, details={'was_impossible': True, 'reason': 'User and/or item is unkown.'}),\n",
       " Prediction(uid='AEL6CQNQXONBX', iid='B000JV9LUK', r_ui=5.0, est=5, details={'actual_k': 1, 'was_impossible': False}),\n",
       " Prediction(uid='A2NXRD80LWHUOP', iid='B000VSY3L8', r_ui=2.0, est=4.262595194588521, details={'was_impossible': True, 'reason': 'User and/or item is unkown.'}),\n",
       " Prediction(uid='A2Y1WNETD9AYHO', iid='B001E78UQY', r_ui=4.0, est=4.311111111111111, details={'actual_k': 0, 'was_impossible': False}),\n",
       " Prediction(uid='A1E3OB6QMBKRYZ', iid='B0093HMKVI', r_ui=4.0, est=3.675675675675676, details={'actual_k': 0, 'was_impossible': False}),\n",
       " Prediction(uid='A1SHHQSPOWR00F', iid='B000K7NAQ4', r_ui=2.0, est=4.262595194588521, details={'was_impossible': True, 'reason': 'User and/or item is unkown.'}),\n",
       " Prediction(uid='A2MSBIA18RXYQC', iid='B000XGVOP6', r_ui=4.0, est=4.262595194588521, details={'was_impossible': True, 'reason': 'User and/or item is unkown.'}),\n",
       " Prediction(uid='A3PD8JD9L4WEII', iid='B00D03BNW8', r_ui=4.0, est=4.262595194588521, details={'was_impossible': True, 'reason': 'User and/or item is unkown.'}),\n",
       " Prediction(uid='A203OCQQ12MAVT', iid='B0000ET9DG', r_ui=5.0, est=4.262595194588521, details={'was_impossible': True, 'reason': 'User and/or item is unkown.'}),\n",
       " Prediction(uid='A17HMM1M7T9PJ1', iid='B004HB2X4Y', r_ui=3.0, est=4.2745098039215685, details={'actual_k': 0, 'was_impossible': False}),\n",
       " Prediction(uid='A3DGJMO6VPG6FJ', iid='B001DYC0CS', r_ui=4.0, est=4.142857142857143, details={'actual_k': 0, 'was_impossible': False}),\n",
       " Prediction(uid='A35W3JQYP0M655', iid='B004RO3QLU', r_ui=4.0, est=4.293103448275862, details={'actual_k': 0, 'was_impossible': False}),\n",
       " Prediction(uid='A356RFKNIG043B', iid='B0076POAOE', r_ui=3.0, est=3.9375, details={'actual_k': 0, 'was_impossible': False}),\n",
       " Prediction(uid='A1VGXHHR08G044', iid='B000BKJZ9Q', r_ui=5.0, est=3.864049706230975, details={'actual_k': 2, 'was_impossible': False}),\n",
       " Prediction(uid='A1ZTR0FR5AW9B4', iid='B003ZSHNFO', r_ui=5.0, est=4.262595194588521, details={'was_impossible': True, 'reason': 'User and/or item is unkown.'}),\n",
       " Prediction(uid='A1WUQF5HWBAQJU', iid='B008RM235I', r_ui=4.0, est=4.4523809523809526, details={'actual_k': 0, 'was_impossible': False}),\n",
       " Prediction(uid='A3QRW0UJPKIAX7', iid='B002ZV51DI', r_ui=4.0, est=4.054054054054054, details={'actual_k': 0, 'was_impossible': False}),\n",
       " Prediction(uid='A12DQZKRKTNF5E', iid='B002U6EWPG', r_ui=3.0, est=4.143520908621579, details={'actual_k': 1, 'was_impossible': False}),\n",
       " Prediction(uid='A3FKQQTSMHOCE0', iid='B000FQ2JLW', r_ui=5.0, est=4.666666666666667, details={'actual_k': 0, 'was_impossible': False}),\n",
       " Prediction(uid='A3F3B1JPACN215', iid='B0089L4TL8', r_ui=4.0, est=4.045454545454546, details={'actual_k': 0, 'was_impossible': False}),\n",
       " Prediction(uid='AY3XPKRAMKKY7', iid='B001FB0JGI', r_ui=3.0, est=4.262595194588521, details={'was_impossible': True, 'reason': 'User and/or item is unkown.'}),\n",
       " Prediction(uid='A203OCQQ12MAVT', iid='B00002NAXD', r_ui=5.0, est=4.262595194588521, details={'was_impossible': True, 'reason': 'User and/or item is unkown.'}),\n",
       " Prediction(uid='A200DY76VXVGP9', iid='B004CAHTCQ', r_ui=5.0, est=4.902439024390244, details={'actual_k': 0, 'was_impossible': False}),\n",
       " Prediction(uid='A35HOUWHAYZZN6', iid='B002TLSOGA', r_ui=5.0, est=3.858232931726908, details={'actual_k': 1, 'was_impossible': False}),\n",
       " Prediction(uid='AVBLGXSWRN666', iid='B009OZUPUC', r_ui=4.0, est=3.0863636363636364, details={'actual_k': 1, 'was_impossible': False}),\n",
       " Prediction(uid='A28UMA3GW9L124', iid='B0026JORAW', r_ui=5.0, est=4.262595194588521, details={'was_impossible': True, 'reason': 'User and/or item is unkown.'}),\n",
       " Prediction(uid='A2LEIANN1UZTHP', iid='B007UR1PIC', r_ui=1.0, est=4.262595194588521, details={'was_impossible': True, 'reason': 'User and/or item is unkown.'}),\n",
       " Prediction(uid='A1TQZUSOU22E9M', iid='B0035JJJPU', r_ui=4.0, est=4.340699158557462, details={'actual_k': 4, 'was_impossible': False}),\n",
       " Prediction(uid='A10ZFE6YE0UHW8', iid='B000QHOB4S', r_ui=2.0, est=3.8255813953488373, details={'actual_k': 0, 'was_impossible': False}),\n",
       " Prediction(uid='A2V1J3JT5OOZFO', iid='B003A8V21K', r_ui=5.0, est=4.262595194588521, details={'was_impossible': True, 'reason': 'User and/or item is unkown.'}),\n",
       " Prediction(uid='A32JCI4AK2JTTG', iid='B000Z9R2QQ', r_ui=3.0, est=4.864864864864865, details={'actual_k': 0, 'was_impossible': False}),\n",
       " Prediction(uid='A1U5IJHJK84S54', iid='B0058OGZIY', r_ui=5.0, est=4.262595194588521, details={'was_impossible': True, 'reason': 'User and/or item is unkown.'}),\n",
       " Prediction(uid='A1RL1OTV8IJMVD', iid='B00D68ZVY8', r_ui=4.0, est=4.544223451303086, details={'actual_k': 6, 'was_impossible': False}),\n",
       " Prediction(uid='A1BXVZSQOJE6UE', iid='B003ZUIHY8', r_ui=5.0, est=3.9210526315789473, details={'actual_k': 0, 'was_impossible': False}),\n",
       " Prediction(uid='AMUP8DYE7EAN2', iid='B000WS204Y', r_ui=3.0, est=2.588518017196029, details={'actual_k': 4, 'was_impossible': False}),\n",
       " Prediction(uid='A35W3JQYP0M655', iid='B0071CVTAK', r_ui=5.0, est=4.262595194588521, details={'was_impossible': True, 'reason': 'User and/or item is unkown.'}),\n",
       " Prediction(uid='A34C9AFFZOI45T', iid='B009IM6RWQ', r_ui=5.0, est=4.7594936708860756, details={'actual_k': 0, 'was_impossible': False}),\n",
       " Prediction(uid='A38QEATH3NODFM', iid='B000FNJYZO', r_ui=5.0, est=5, details={'actual_k': 1, 'was_impossible': False}),\n",
       " Prediction(uid='A3SX5MZTCZRQLF', iid='B00BCEK2M4', r_ui=4.0, est=3.8229355112516266, details={'actual_k': 2, 'was_impossible': False}),\n",
       " Prediction(uid='A3N0P5AAMP6XD2', iid='B004Z0S6WK', r_ui=5.0, est=3.52, details={'actual_k': 0, 'was_impossible': False}),\n",
       " Prediction(uid='AROQO2VDODT7', iid='B0034X6SCY', r_ui=1.0, est=4.4, details={'actual_k': 0, 'was_impossible': False}),\n",
       " Prediction(uid='A1Z3598J0371ND', iid='B00EZ2E8KC', r_ui=5.0, est=4.684210526315789, details={'actual_k': 0, 'was_impossible': False}),\n",
       " Prediction(uid='AGFSSC5DBY2HU', iid='B00604YSNK', r_ui=5.0, est=5, details={'actual_k': 1, 'was_impossible': False}),\n",
       " Prediction(uid='A292TRC6DX2GKK', iid='B000FBK3QK', r_ui=5.0, est=4.739130434782608, details={'actual_k': 0, 'was_impossible': False}),\n",
       " Prediction(uid='A28UMA3GW9L124', iid='B008DWCRQW', r_ui=4.0, est=2.926356789282357, details={'actual_k': 15, 'was_impossible': False}),\n",
       " Prediction(uid='A1VJ0V58N0698J', iid='B0075SUK14', r_ui=1.0, est=2.2857142857142856, details={'actual_k': 0, 'was_impossible': False}),\n",
       " Prediction(uid='ABDR6IJ93HFIO', iid='B00D02AG7C', r_ui=5.0, est=4.8125, details={'actual_k': 0, 'was_impossible': False}),\n",
       " Prediction(uid='A1F9Z42CFF9IAY', iid='B000071A7U', r_ui=4.0, est=3.4836601307189543, details={'actual_k': 0, 'was_impossible': False}),\n",
       " Prediction(uid='A2J8T58Z4X15IO', iid='B005KMOK6I', r_ui=5.0, est=4.262595194588521, details={'was_impossible': True, 'reason': 'User and/or item is unkown.'}),\n",
       " Prediction(uid='A2JMJVNTBL7K7E', iid='B000092TS9', r_ui=4.0, est=3.6363636363636362, details={'actual_k': 0, 'was_impossible': False}),\n",
       " Prediction(uid='AW3LX47IHPFRL', iid='B000MPM6T6', r_ui=1.0, est=4.262595194588521, details={'was_impossible': True, 'reason': 'User and/or item is unkown.'}),\n",
       " Prediction(uid='A2QI2NTDTMK2FV', iid='B001LK6ZAC', r_ui=5.0, est=4.253012048192771, details={'actual_k': 0, 'was_impossible': False}),\n",
       " Prediction(uid='A1RJKTYC03L0JY', iid='B0045FM6SU', r_ui=5.0, est=4.172413793103448, details={'actual_k': 0, 'was_impossible': False}),\n",
       " Prediction(uid='AGEWOMQ90BV8R', iid='B001212ELY', r_ui=5.0, est=4.0, details={'actual_k': 0, 'was_impossible': False}),\n",
       " Prediction(uid='A3IJ4Z18FTIIP', iid='B004G8QO8E', r_ui=3.0, est=3.9069767441860463, details={'actual_k': 0, 'was_impossible': False}),\n",
       " Prediction(uid='A3L6L5O89JTX2T', iid='B0010T8X9A', r_ui=2.0, est=4.630769230769231, details={'actual_k': 0, 'was_impossible': False}),\n",
       " Prediction(uid='A10ZFE6YE0UHW8', iid='B00ADG5FLK', r_ui=4.0, est=2.483339249901233, details={'actual_k': 4, 'was_impossible': False}),\n",
       " Prediction(uid='A1EH2S92FHWZRP', iid='B00006B8JX', r_ui=4.0, est=4.087248322147651, details={'actual_k': 0, 'was_impossible': False}),\n",
       " Prediction(uid='A2V7EO331SFUF6', iid='B000WXAX6G', r_ui=5.0, est=4.22, details={'actual_k': 0, 'was_impossible': False}),\n",
       " Prediction(uid='ADLVFFE4VBT8', iid='B000BYA5NC', r_ui=5.0, est=4.262595194588521, details={'was_impossible': True, 'reason': 'User and/or item is unkown.'}),\n",
       " Prediction(uid='AO09RWV40IX78', iid='B001UE6HZ2', r_ui=5.0, est=4.262595194588521, details={'was_impossible': True, 'reason': 'User and/or item is unkown.'}),\n",
       " Prediction(uid='A1LD5SE8IZ1H70', iid='B0034CL2ZI', r_ui=5.0, est=5, details={'actual_k': 2, 'was_impossible': False}),\n",
       " Prediction(uid='AMRMK86X3PKXD', iid='B0016O8HP4', r_ui=3.0, est=3.9616600790513834, details={'actual_k': 1, 'was_impossible': False}),\n",
       " Prediction(uid='A178M2AHNWQZB0', iid='B003LZ5SM6', r_ui=4.0, est=4.902439024390244, details={'actual_k': 0, 'was_impossible': False}),\n",
       " Prediction(uid='A2LXX47A0KMJVX', iid='B0001YFXNO', r_ui=1.0, est=4.262595194588521, details={'was_impossible': True, 'reason': 'User and/or item is unkown.'}),\n",
       " Prediction(uid='AYCAIHABPYWVJ', iid='B00006I53V', r_ui=3.0, est=4.184210526315789, details={'actual_k': 0, 'was_impossible': False}),\n",
       " Prediction(uid='A2O6HZ2B9YSRXR', iid='B002VKVZ1A', r_ui=4.0, est=4.9824016563147, details={'actual_k': 1, 'was_impossible': False}),\n",
       " Prediction(uid='A2IMLOJ2Z2QEU2', iid='B008Y1KK6Q', r_ui=4.0, est=4.696126568466994, details={'actual_k': 1, 'was_impossible': False}),\n",
       " Prediction(uid='A1LD5SE8IZ1H70', iid='B00EOI2TD0', r_ui=3.0, est=4.520833333333333, details={'actual_k': 0, 'was_impossible': False}),\n",
       " Prediction(uid='A30J7WQV0ZNRXG', iid='B000KEDT90', r_ui=4.0, est=4.262595194588521, details={'was_impossible': True, 'reason': 'User and/or item is unkown.'}),\n",
       " Prediction(uid='A1143YEAZYMYHJ', iid='B005X9XVNQ', r_ui=4.0, est=3.994531974454182, details={'actual_k': 4, 'was_impossible': False}),\n",
       " Prediction(uid='A3U029B8Z5WGI2', iid='B005GOINEK', r_ui=4.0, est=5, details={'actual_k': 2, 'was_impossible': False}),\n",
       " Prediction(uid='A3PD8JD9L4WEII', iid='B0043VE26U', r_ui=5.0, est=4.354838709677419, details={'actual_k': 0, 'was_impossible': False}),\n",
       " Prediction(uid='A1K4G5YJDJQI6Q', iid='B0009GZSSO', r_ui=1.0, est=2.8142857142857145, details={'actual_k': 0, 'was_impossible': False}),\n",
       " Prediction(uid='A1JZFGZEZVWQPY', iid='B00JAZGUBE', r_ui=4.0, est=4.792488357667934, details={'actual_k': 2, 'was_impossible': False}),\n",
       " Prediction(uid='A1VOFY3QFT9WCG', iid='B000HLZXH2', r_ui=4.0, est=4.84375, details={'actual_k': 0, 'was_impossible': False}),\n",
       " Prediction(uid='A28P7V9KI7MXP', iid='B005GNP0JM', r_ui=5.0, est=4.262595194588521, details={'was_impossible': True, 'reason': 'User and/or item is unkown.'}),\n",
       " Prediction(uid='A3J6Q0Y0SKY7AR', iid='B000EFIJTA', r_ui=5.0, est=4.472222222222222, details={'actual_k': 0, 'was_impossible': False}),\n",
       " Prediction(uid='ADLVFFE4VBT8', iid='B0027P9C9G', r_ui=5.0, est=4.325779036827195, details={'actual_k': 0, 'was_impossible': False}),\n",
       " Prediction(uid='A2HPJKM7L4EOQB', iid='B000FH7WDQ', r_ui=5.0, est=4.262595194588521, details={'was_impossible': True, 'reason': 'User and/or item is unkown.'}),\n",
       " Prediction(uid='A1P3DDFL423B3C', iid='B000FJUBE6', r_ui=4.0, est=4.262595194588521, details={'was_impossible': True, 'reason': 'User and/or item is unkown.'}),\n",
       " Prediction(uid='A3L9E0YI7C5G0W', iid='B00020S7XK', r_ui=5.0, est=4.346666666666667, details={'actual_k': 0, 'was_impossible': False}),\n",
       " Prediction(uid='A3CG93783LP0FO', iid='B003WVFAO0', r_ui=2.0, est=4.932929348574576, details={'actual_k': 1, 'was_impossible': False}),\n",
       " Prediction(uid='A2BYV7S1QP2YIG', iid='B00HNL4122', r_ui=4.0, est=4.262595194588521, details={'was_impossible': True, 'reason': 'User and/or item is unkown.'}),\n",
       " Prediction(uid='AEL6CQNQXONBX', iid='B00BIFNTMC', r_ui=5.0, est=4.457446808510638, details={'actual_k': 0, 'was_impossible': False}),\n",
       " Prediction(uid='A3NOBH42C7UI5M', iid='B00EOI2SYK', r_ui=5.0, est=3.7260273972602738, details={'actual_k': 0, 'was_impossible': False}),\n",
       " Prediction(uid='A2NN1KIYEM2SKS', iid='B00DHW07XS', r_ui=1.0, est=4.262595194588521, details={'was_impossible': True, 'reason': 'User and/or item is unkown.'}),\n",
       " Prediction(uid='AP53MVRC8ZEW2', iid='B006EKIQYM', r_ui=5.0, est=4.7272727272727275, details={'actual_k': 0, 'was_impossible': False}),\n",
       " Prediction(uid='A27ADCSD15F3GL', iid='B00E20SSWQ', r_ui=2.0, est=4.076923076923077, details={'actual_k': 0, 'was_impossible': False}),\n",
       " Prediction(uid='A3JNBO7H2SPL44', iid='B008COJXHC', r_ui=5.0, est=4.925, details={'actual_k': 0, 'was_impossible': False}),\n",
       " Prediction(uid='A1F0KPA232MTYC', iid='B001IBMLKM', r_ui=1.0, est=4.017543859649122, details={'actual_k': 0, 'was_impossible': False}),\n",
       " Prediction(uid='A11OTLEDSW8ZXD', iid='B0064P5I1G', r_ui=4.0, est=4.257142857142857, details={'actual_k': 0, 'was_impossible': False}),\n",
       " Prediction(uid='A2TN0U8173HM7A', iid='B00548SKH8', r_ui=5.0, est=5, details={'actual_k': 0, 'was_impossible': False}),\n",
       " Prediction(uid='AS2II0671KT2C', iid='B003U4IROY', r_ui=5.0, est=4.75, details={'actual_k': 0, 'was_impossible': False}),\n",
       " Prediction(uid='A31RULW0KNYJ5H', iid='B0036B4KT2', r_ui=5.0, est=3.926829268292683, details={'actual_k': 0, 'was_impossible': False}),\n",
       " Prediction(uid='AX7317G153T8W', iid='B00365EVWO', r_ui=2.0, est=4.366197183098592, details={'actual_k': 0, 'was_impossible': False}),\n",
       " Prediction(uid='A3KNGMX2RVQG91', iid='B00A66XB54', r_ui=4.0, est=4.416666666666667, details={'actual_k': 0, 'was_impossible': False}),\n",
       " Prediction(uid='A1R19YYR5OR26T', iid='B002WP2QGM', r_ui=1.0, est=4.357142857142857, details={'actual_k': 0, 'was_impossible': False}),\n",
       " Prediction(uid='A14X244VGHWPSX', iid='B009APBY0G', r_ui=5.0, est=5, details={'actual_k': 1, 'was_impossible': False}),\n",
       " Prediction(uid='A1J5HIF41ENSMZ', iid='B00FG38L16', r_ui=4.0, est=4.192997896539527, details={'actual_k': 2, 'was_impossible': False}),\n",
       " Prediction(uid='A3PD8JD9L4WEII', iid='B00DO7FQ0K', r_ui=5.0, est=4.262595194588521, details={'was_impossible': True, 'reason': 'User and/or item is unkown.'}),\n",
       " Prediction(uid='AL9WKVMRI6GFB', iid='B00AZW4MYI', r_ui=4.0, est=4.362222576909639, details={'actual_k': 2, 'was_impossible': False}),\n",
       " Prediction(uid='A37D1ZP8GBHE38', iid='B00F6E8OUS', r_ui=5.0, est=4.337304784084591, details={'actual_k': 3, 'was_impossible': False}),\n",
       " Prediction(uid='AN81JUYW2SL24', iid='B000A6PPOK', r_ui=5.0, est=4.112284189906755, details={'actual_k': 4, 'was_impossible': False}),\n",
       " Prediction(uid='ALDAF4VVLFRHP', iid='B0046SZE6M', r_ui=5.0, est=4.504347826086956, details={'actual_k': 0, 'was_impossible': False}),\n",
       " Prediction(uid='A2J96FILPQA01', iid='B004DP2TC0', r_ui=5.0, est=4.7555555555555555, details={'actual_k': 0, 'was_impossible': False}),\n",
       " Prediction(uid='A1SB9BNNGKNX2Z', iid='B00B7Y7HF4', r_ui=5.0, est=3.774810157249221, details={'actual_k': 3, 'was_impossible': False}),\n",
       " Prediction(uid='A4H4KYSM2KQ85', iid='B0054L8N7M', r_ui=5.0, est=4.344827586206897, details={'actual_k': 0, 'was_impossible': False}),\n",
       " Prediction(uid='A8CKH8XB33XGN', iid='B000067RT6', r_ui=5.0, est=4.625775783765671, details={'actual_k': 2, 'was_impossible': False}),\n",
       " Prediction(uid='A3J2YU2D9BH2J7', iid='B0037NYQ7K', r_ui=5.0, est=4.262595194588521, details={'was_impossible': True, 'reason': 'User and/or item is unkown.'}),\n",
       " Prediction(uid='A1TQBAHI3M4ZBQ', iid='B000HWVOFQ', r_ui=5.0, est=4.9743589743589745, details={'actual_k': 0, 'was_impossible': False}),\n",
       " Prediction(uid='AKX9EQ37PAYMY', iid='B001BM5XB2', r_ui=5.0, est=4.618181818181818, details={'actual_k': 0, 'was_impossible': False}),\n",
       " Prediction(uid='A316XO4RWX21YN', iid='B00ICDAAXO', r_ui=4.0, est=3.7346938775510203, details={'actual_k': 1, 'was_impossible': False}),\n",
       " Prediction(uid='A30UP2KKD5IQEP', iid='B002HWRJY4', r_ui=5.0, est=4.810819740751514, details={'actual_k': 2, 'was_impossible': False}),\n",
       " Prediction(uid='A145LBW8ZHF0TW', iid='B0031PVDMA', r_ui=5.0, est=4.262595194588521, details={'was_impossible': True, 'reason': 'User and/or item is unkown.'}),\n",
       " Prediction(uid='A1TQBAHI3M4ZBQ', iid='B0015ZIS8K', r_ui=5.0, est=4.9743589743589745, details={'actual_k': 0, 'was_impossible': False}),\n",
       " Prediction(uid='A1TQBAHI3M4ZBQ', iid='B00COX9UXY', r_ui=5.0, est=4.262595194588521, details={'was_impossible': True, 'reason': 'User and/or item is unkown.'}),\n",
       " Prediction(uid='A2L9OPJAAEK08Q', iid='B0085D7U20', r_ui=5.0, est=4.262595194588521, details={'was_impossible': True, 'reason': 'User and/or item is unkown.'}),\n",
       " Prediction(uid='A16C19G0I2DE8S', iid='B004G7D0EG', r_ui=5.0, est=4.782608695652174, details={'actual_k': 0, 'was_impossible': False}),\n",
       " Prediction(uid='A6VXZ1EEPRTLV', iid='B000M4ZF1S', r_ui=5.0, est=4.138461538461539, details={'actual_k': 0, 'was_impossible': False}),\n",
       " Prediction(uid='A132ETQPMHQ585', iid='B008BTFDCC', r_ui=5.0, est=4.262595194588521, details={'was_impossible': True, 'reason': 'User and/or item is unkown.'}),\n",
       " Prediction(uid='A1VHCO8RQFIGQJ', iid='B0019CSVMW', r_ui=5.0, est=4.36986301369863, details={'actual_k': 0, 'was_impossible': False}),\n",
       " Prediction(uid='A2TRXEZYU9GYY8', iid='B007R9CRGW', r_ui=5.0, est=4.262595194588521, details={'was_impossible': True, 'reason': 'User and/or item is unkown.'}),\n",
       " Prediction(uid='A2I357I10ZY7CI', iid='B0054EONVO', r_ui=5.0, est=4.262595194588521, details={'was_impossible': True, 'reason': 'User and/or item is unkown.'}),\n",
       " Prediction(uid='A1J75JJ0Q2OEJN', iid='B00CLVNDZA', r_ui=5.0, est=4.262595194588521, details={'was_impossible': True, 'reason': 'User and/or item is unkown.'}),\n",
       " Prediction(uid='A2JXS1JII6SAUD', iid='B000A8PF1Q', r_ui=5.0, est=4.262595194588521, details={'was_impossible': True, 'reason': 'User and/or item is unkown.'}),\n",
       " Prediction(uid='A1MCH5RXDOH87H', iid='B00009R6K1', r_ui=3.0, est=3.4722222222222223, details={'actual_k': 0, 'was_impossible': False}),\n",
       " Prediction(uid='A1IU7S4HCK1XK0', iid='B005FDXZJU', r_ui=5.0, est=4.23000976047137, details={'actual_k': 2, 'was_impossible': False}),\n",
       " Prediction(uid='A22CW0ZHY3NJH8', iid='B0053R0WWG', r_ui=4.0, est=4.202268013538279, details={'actual_k': 6, 'was_impossible': False}),\n",
       " Prediction(uid='ADOR3TR7GDF68', iid='B00IF4OF7W', r_ui=1.0, est=4.262595194588521, details={'was_impossible': True, 'reason': 'User and/or item is unkown.'}),\n",
       " Prediction(uid='A2L4ZGN7GZJ95T', iid='B007FPIP2I', r_ui=3.0, est=4.228232450724775, details={'actual_k': 4, 'was_impossible': False}),\n",
       " Prediction(uid='A11EYMH9UV9XG7', iid='B003O2RVGM', r_ui=3.0, est=4.543478260869565, details={'actual_k': 0, 'was_impossible': False}),\n",
       " Prediction(uid='A316XO4RWX21YN', iid='B00ATM1MVU', r_ui=3.0, est=4.0, details={'actual_k': 0, 'was_impossible': False}),\n",
       " Prediction(uid='A2IFKH3TJ10387', iid='B003CFATT2', r_ui=5.0, est=5, details={'actual_k': 6, 'was_impossible': False}),\n",
       " Prediction(uid='A8CKH8XB33XGN', iid='B000MTXFXS', r_ui=4.0, est=4.262595194588521, details={'was_impossible': True, 'reason': 'User and/or item is unkown.'}),\n",
       " Prediction(uid='A2J0IBS4PFRO2C', iid='B001AYW91I', r_ui=3.0, est=3.389618511569731, details={'actual_k': 1, 'was_impossible': False}),\n",
       " Prediction(uid='A1SDPA1J98UP4L', iid='B0015V1H28', r_ui=1.0, est=2.3706521739130437, details={'actual_k': 1, 'was_impossible': False}),\n",
       " Prediction(uid='A1UCAVBNJUZMPR', iid='B0085E1BN8', r_ui=5.0, est=4.621621621621622, details={'actual_k': 0, 'was_impossible': False}),\n",
       " Prediction(uid='A3F9CMU8KNAY1M', iid='B002J9HBIO', r_ui=5.0, est=3.510718213108534, details={'actual_k': 3, 'was_impossible': False}),\n",
       " Prediction(uid='A6FIAB28IS79', iid='B0039UJNOW', r_ui=4.0, est=4.262595194588521, details={'was_impossible': True, 'reason': 'User and/or item is unkown.'}),\n",
       " Prediction(uid='A2KOV8XWZOZ0FQ', iid='B004DVEW8I', r_ui=5.0, est=3.7759453766723556, details={'actual_k': 2, 'was_impossible': False}),\n",
       " Prediction(uid='A2NYK9KWFMJV4Y', iid='B00JWV1LP6', r_ui=5.0, est=5, details={'actual_k': 5, 'was_impossible': False}),\n",
       " Prediction(uid='A3H6NNGCINPLEC', iid='B0024BQ214', r_ui=4.0, est=4.262595194588521, details={'was_impossible': True, 'reason': 'User and/or item is unkown.'}),\n",
       " Prediction(uid='A2ZR3YTMEEIIZ4', iid='B0007KX4TC', r_ui=5.0, est=4.262595194588521, details={'was_impossible': True, 'reason': 'User and/or item is unkown.'}),\n",
       " Prediction(uid='A1VFX417XDNWIU', iid='B00DBX371C', r_ui=4.0, est=4.973522167487684, details={'actual_k': 1, 'was_impossible': False}),\n",
       " Prediction(uid='A2JRDFIGWTX50J', iid='B0001GRTTS', r_ui=5.0, est=4.262595194588521, details={'was_impossible': True, 'reason': 'User and/or item is unkown.'}),\n",
       " Prediction(uid='A203OCQQ12MAVT', iid='B002O3KVSC', r_ui=5.0, est=4.449438202247191, details={'actual_k': 0, 'was_impossible': False}),\n",
       " Prediction(uid='A3F3B6HY9RJI04', iid='B005AT2RB6', r_ui=2.0, est=4.262595194588521, details={'was_impossible': True, 'reason': 'User and/or item is unkown.'}),\n",
       " Prediction(uid='A3AZI828WJN1CD', iid='B00CZDT30S', r_ui=5.0, est=4.009459819820732, details={'actual_k': 2, 'was_impossible': False}),\n",
       " Prediction(uid='A2XRMQA6PJ5ZJ8', iid='B001XURP7W', r_ui=3.0, est=4.947182599164555, details={'actual_k': 11, 'was_impossible': False}),\n",
       " Prediction(uid='A3CMO216CWOF5N', iid='B0013FDLM0', r_ui=5.0, est=4.055555555555555, details={'actual_k': 0, 'was_impossible': False}),\n",
       " Prediction(uid='A1FDV3WPOHREY9', iid='B004SBB664', r_ui=2.0, est=4.262595194588521, details={'was_impossible': True, 'reason': 'User and/or item is unkown.'}),\n",
       " Prediction(uid='A2CL818RN52NWN', iid='B0002XJAKG', r_ui=4.0, est=4.262595194588521, details={'was_impossible': True, 'reason': 'User and/or item is unkown.'}),\n",
       " Prediction(uid='A3BACUOZV1M0WM', iid='B0007GIXS8', r_ui=5.0, est=4.426229508196721, details={'actual_k': 0, 'was_impossible': False}),\n",
       " Prediction(uid='AT6CZDCP4TRGA', iid='B000EO55TI', r_ui=5.0, est=4.262595194588521, details={'was_impossible': True, 'reason': 'User and/or item is unkown.'}),\n",
       " Prediction(uid='AFH97KY1SBP2C', iid='B000EWHH7I', r_ui=5.0, est=4.159090909090909, details={'actual_k': 0, 'was_impossible': False}),\n",
       " Prediction(uid='A1NAA1R38JSNHV', iid='B001O51H48', r_ui=5.0, est=4.262595194588521, details={'was_impossible': True, 'reason': 'User and/or item is unkown.'}),\n",
       " Prediction(uid='A1ITRGMT80D5TK', iid='B007Q8GOGI', r_ui=4.0, est=2.717629679427076, details={'actual_k': 5, 'was_impossible': False}),\n",
       " Prediction(uid='A2ZR3YTMEEIIZ4', iid='B000095IRZ', r_ui=4.0, est=4.262595194588521, details={'was_impossible': True, 'reason': 'User and/or item is unkown.'}),\n",
       " Prediction(uid='A19XMHRB3G4DIR', iid='B0092ML8QW', r_ui=4.0, est=4.0038197097020625, details={'actual_k': 1, 'was_impossible': False}),\n",
       " Prediction(uid='AOJA1LC8PN7K1', iid='B007ZW7YJQ', r_ui=5.0, est=3.4761904761904763, details={'actual_k': 0, 'was_impossible': False}),\n",
       " Prediction(uid='A23R3EOZ837242', iid='B00ITI058W', r_ui=5.0, est=4.071428571428571, details={'actual_k': 0, 'was_impossible': False}),\n",
       " Prediction(uid='A1MBXP3NZM2BUO', iid='B00D349WB8', r_ui=4.0, est=4.520833333333333, details={'actual_k': 0, 'was_impossible': False}),\n",
       " Prediction(uid='A386LG0LRWKJZP', iid='B00104XCVO', r_ui=3.0, est=3.9749999999999996, details={'actual_k': 1, 'was_impossible': False}),\n",
       " Prediction(uid='A1ZU55TM45Y2R8', iid='B008ULPA2O', r_ui=4.0, est=4.343607841338115, details={'actual_k': 7, 'was_impossible': False}),\n",
       " Prediction(uid='A3077MQTAKOVFZ', iid='B0094S8SGC', r_ui=5.0, est=4.262595194588521, details={'was_impossible': True, 'reason': 'User and/or item is unkown.'}),\n",
       " Prediction(uid='A145LBW8ZHF0TW', iid='B00004T8R2', r_ui=5.0, est=4.043478260869565, details={'actual_k': 0, 'was_impossible': False}),\n",
       " Prediction(uid='A2QDOJFFLFGF18', iid='B008ULPA2O', r_ui=5.0, est=4.852942309454863, details={'actual_k': 7, 'was_impossible': False}),\n",
       " Prediction(uid='AT28RL25Q2OLK', iid='B004OHX6P6', r_ui=1.0, est=4.287769784172662, details={'actual_k': 0, 'was_impossible': False}),\n",
       " Prediction(uid='A1R377IPZOKLMM', iid='B000BQ57BU', r_ui=4.0, est=3.7634575569358177, details={'actual_k': 1, 'was_impossible': False}),\n",
       " Prediction(uid='A1D9V11QUHXENQ', iid='B008O2HWTI', r_ui=5.0, est=4.177777777777778, details={'actual_k': 0, 'was_impossible': False}),\n",
       " Prediction(uid='A1EXGL6L0QQ0M5', iid='B002VPDM2K', r_ui=3.0, est=3.8808576757108506, details={'actual_k': 3, 'was_impossible': False}),\n",
       " Prediction(uid='A3JAH5WW61N2EK', iid='B009QXFFDO', r_ui=4.0, est=4.461538461538462, details={'actual_k': 0, 'was_impossible': False}),\n",
       " Prediction(uid='A1MRRMHGV3PN5W', iid='B00861DI4U', r_ui=4.0, est=4.1395348837209305, details={'actual_k': 0, 'was_impossible': False}),\n",
       " Prediction(uid='AI8EMB0HUC6Z5', iid='B0007Z1M50', r_ui=5.0, est=4.337078651685394, details={'actual_k': 0, 'was_impossible': False}),\n",
       " Prediction(uid='A27GITTN6AVW5I', iid='B001IOPIRM', r_ui=5.0, est=4.170731707317073, details={'actual_k': 0, 'was_impossible': False}),\n",
       " Prediction(uid='AMVXR3NPL0GWX', iid='B00746O3X8', r_ui=5.0, est=4.599037393557942, details={'actual_k': 1, 'was_impossible': False}),\n",
       " Prediction(uid='A3F7USIDJBR8WU', iid='B0085DZRDE', r_ui=5.0, est=4.262595194588521, details={'was_impossible': True, 'reason': 'User and/or item is unkown.'}),\n",
       " Prediction(uid='A30UP2KKD5IQEP', iid='B00305D9K0', r_ui=5.0, est=4.262595194588521, details={'was_impossible': True, 'reason': 'User and/or item is unkown.'}),\n",
       " Prediction(uid='A3077MQTAKOVFZ', iid='B00GMFYM8I', r_ui=5.0, est=4.262595194588521, details={'was_impossible': True, 'reason': 'User and/or item is unkown.'}),\n",
       " Prediction(uid='A1TR1R2QKWRSRA', iid='B00DR0C96S', r_ui=4.0, est=3.531361550766956, details={'actual_k': 2, 'was_impossible': False}),\n",
       " Prediction(uid='A14MZJTZAQS6CV', iid='B00B29GST0', r_ui=5.0, est=4.262595194588521, details={'was_impossible': True, 'reason': 'User and/or item is unkown.'}),\n",
       " Prediction(uid='A2EZTM9WY5B5IL', iid='B002W3IXZW', r_ui=3.0, est=3.6382978723404253, details={'actual_k': 0, 'was_impossible': False}),\n",
       " Prediction(uid='A353U0L2HAMSHV', iid='B00DQZTJKI', r_ui=4.0, est=4.346528973034997, details={'actual_k': 1, 'was_impossible': False}),\n",
       " Prediction(uid='A1L1N3J6XNABO2', iid='B0093JQM56', r_ui=3.0, est=4.262595194588521, details={'was_impossible': True, 'reason': 'User and/or item is unkown.'}),\n",
       " Prediction(uid='A1X1CEGHTHMBL1', iid='B0007YFQH6', r_ui=5.0, est=5, details={'actual_k': 1, 'was_impossible': False}),\n",
       " Prediction(uid='A110PC8C5Y7MQD', iid='B007VDTTTM', r_ui=4.0, est=4.262595194588521, details={'was_impossible': True, 'reason': 'User and/or item is unkown.'}),\n",
       " Prediction(uid='A32QOZWIKQDNZX', iid='B000E204LY', r_ui=5.0, est=4.409090909090909, details={'actual_k': 0, 'was_impossible': False}),\n",
       " Prediction(uid='A2NJQF2UI60VGT', iid='B003YNQ6DK', r_ui=5.0, est=4.569230769230769, details={'actual_k': 0, 'was_impossible': False}),\n",
       " Prediction(uid='A26EQ8U96JA92T', iid='B0079TOET8', r_ui=4.0, est=4.679245283018868, details={'actual_k': 0, 'was_impossible': False}),\n",
       " Prediction(uid='ASJLXOX1VD4DF', iid='B003FMVCRU', r_ui=1.0, est=2.9755324504998635, details={'actual_k': 3, 'was_impossible': False}),\n",
       " Prediction(uid='A3CFU12GS5CZCN', iid='B001K26D8K', r_ui=5.0, est=4.262595194588521, details={'was_impossible': True, 'reason': 'User and/or item is unkown.'}),\n",
       " Prediction(uid='A2H4OMJLE7JFM2', iid='B00CTWDNS8', r_ui=5.0, est=4.262595194588521, details={'was_impossible': True, 'reason': 'User and/or item is unkown.'}),\n",
       " Prediction(uid='A105TOJ6LTVMBG', iid='B001AZV2WY', r_ui=5.0, est=4.043478260869565, details={'actual_k': 0, 'was_impossible': False}),\n",
       " Prediction(uid='A1DQHS7MOVYYYA', iid='B0058SRNZ4', r_ui=4.0, est=4.117647058823529, details={'actual_k': 0, 'was_impossible': False}),\n",
       " Prediction(uid='A3FEGTOLCWXSV4', iid='B0041L3JS4', r_ui=4.0, est=4.461013431543228, details={'actual_k': 2, 'was_impossible': False}),\n",
       " Prediction(uid='A3DOPYDOS49I3T', iid='B003Z6ZR5O', r_ui=5.0, est=4.262595194588521, details={'was_impossible': True, 'reason': 'User and/or item is unkown.'}),\n",
       " Prediction(uid='A3FPSY1M6G7XIB', iid='B000V6MSRG', r_ui=5.0, est=4.639078051335778, details={'actual_k': 1, 'was_impossible': False}),\n",
       " Prediction(uid='A20OBCQWBKCGZT', iid='B00KK9481I', r_ui=3.0, est=4.27710843373494, details={'actual_k': 0, 'was_impossible': False}),\n",
       " Prediction(uid='A3S5EXYZDEBF3K', iid='B0028Y4CWI', r_ui=5.0, est=3.7672947985714385, details={'actual_k': 4, 'was_impossible': False}),\n",
       " Prediction(uid='A3QNX5KWHDV0GD', iid='B00065AO0K', r_ui=5.0, est=3.4, details={'actual_k': 0, 'was_impossible': False}),\n",
       " Prediction(uid='A1L5TA5UQF7EWE', iid='B004UJGBVO', r_ui=3.0, est=4.262595194588521, details={'was_impossible': True, 'reason': 'User and/or item is unkown.'}),\n",
       " Prediction(uid='A3R19YKNL641X3', iid='B0050A1O64', r_ui=5.0, est=4.273137381974867, details={'actual_k': 4, 'was_impossible': False}),\n",
       " Prediction(uid='AWPN47SSWK1JV', iid='B0036TGGVY', r_ui=4.0, est=4.262595194588521, details={'was_impossible': True, 'reason': 'User and/or item is unkown.'}),\n",
       " Prediction(uid='AXU3VKZE848IY', iid='B00704UJ1Y', r_ui=5.0, est=4.262595194588521, details={'was_impossible': True, 'reason': 'User and/or item is unkown.'}),\n",
       " Prediction(uid='AT53ZTTO707MB', iid='B0057UUB1G', r_ui=3.0, est=5, details={'actual_k': 3, 'was_impossible': False}),\n",
       " Prediction(uid='AFQBS241UKPAZ', iid='B000SJ2TJ8', r_ui=2.0, est=4.262595194588521, details={'was_impossible': True, 'reason': 'User and/or item is unkown.'}),\n",
       " Prediction(uid='A361U4SXK7FCQE', iid='B009T0NM0M', r_ui=5.0, est=4.32, details={'actual_k': 0, 'was_impossible': False}),\n",
       " Prediction(uid='A1PAGHECG401K1', iid='B000051123', r_ui=5.0, est=4.371428571428571, details={'actual_k': 0, 'was_impossible': False}),\n",
       " Prediction(uid='A3ER6ARJ23CIN8', iid='B003X26PMO', r_ui=5.0, est=4.508196721311475, details={'actual_k': 0, 'was_impossible': False}),\n",
       " Prediction(uid='A3KZ7OH4VRL048', iid='B00BFO14W8', r_ui=4.0, est=5, details={'actual_k': 1, 'was_impossible': False}),\n",
       " Prediction(uid='A3U5HKDHPYBAK3', iid='B00G4FCHH4', r_ui=5.0, est=2.999197543791933, details={'actual_k': 3, 'was_impossible': False}),\n",
       " Prediction(uid='A204K1OFE8OB9Y', iid='B001RTS3OI', r_ui=5.0, est=4.262595194588521, details={'was_impossible': True, 'reason': 'User and/or item is unkown.'}),\n",
       " Prediction(uid='A2J0IBS4PFRO2C', iid='B000ONDRDU', r_ui=2.0, est=3.902439024390244, details={'actual_k': 0, 'was_impossible': False}),\n",
       " Prediction(uid='AA3FTJYJYX55C', iid='B00CEC3YH8', r_ui=4.0, est=4.262595194588521, details={'was_impossible': True, 'reason': 'User and/or item is unkown.'}),\n",
       " Prediction(uid='A3D822N1K2IAQD', iid='B0000AOWW9', r_ui=5.0, est=4.650735294117647, details={'actual_k': 1, 'was_impossible': False}),\n",
       " Prediction(uid='AEJAGHLC675A7', iid='B0009HN588', r_ui=5.0, est=4.740963855421687, details={'actual_k': 0, 'was_impossible': False}),\n",
       " Prediction(uid='A1U5NWJOYH2QQH', iid='B00007KDVI', r_ui=1.0, est=3.7875, details={'actual_k': 0, 'was_impossible': False}),\n",
       " Prediction(uid='A3EK2KTYHJCPB9', iid='B008X9Z44M', r_ui=4.0, est=4.5378834502311305, details={'actual_k': 4, 'was_impossible': False}),\n",
       " Prediction(uid='A2SGAJWXG65464', iid='B005T3GPXE', r_ui=5.0, est=4.021739130434782, details={'actual_k': 0, 'was_impossible': False}),\n",
       " Prediction(uid='A3OXHLG6DIBRW8', iid='B00E87E1OM', r_ui=5.0, est=4.44489716834544, details={'actual_k': 9, 'was_impossible': False}),\n",
       " Prediction(uid='A209G57KXCBF4C', iid='B00A9NE84C', r_ui=5.0, est=3.6774193548387095, details={'actual_k': 0, 'was_impossible': False}),\n",
       " Prediction(uid='AGOH8N902URMW', iid='B0090XWU8S', r_ui=5.0, est=4.453608247422681, details={'actual_k': 0, 'was_impossible': False}),\n",
       " Prediction(uid='AOEAD7DPLZE53', iid='B0084ZY3QK', r_ui=4.0, est=3.554140127388535, details={'actual_k': 0, 'was_impossible': False}),\n",
       " Prediction(uid='A100UD67AHFODS', iid='B00HHRP11C', r_ui=5.0, est=5, details={'actual_k': 1, 'was_impossible': False}),\n",
       " Prediction(uid='A1CMD08Z49PGKQ', iid='B00A86QWN0', r_ui=5.0, est=4.80503144654088, details={'actual_k': 0, 'was_impossible': False}),\n",
       " Prediction(uid='A24QFMD1RXLJMB', iid='B0055QYJIS', r_ui=5.0, est=4.025, details={'actual_k': 0, 'was_impossible': False}),\n",
       " Prediction(uid='A2NYK9KWFMJV4Y', iid='B000031KIM', r_ui=5.0, est=4.798701298701299, details={'actual_k': 0, 'was_impossible': False}),\n",
       " Prediction(uid='AGYH5U11ZKPFB', iid='B001DFR58G', r_ui=4.0, est=4.262595194588521, details={'was_impossible': True, 'reason': 'User and/or item is unkown.'}),\n",
       " Prediction(uid='A2WC9NFLG57W4H', iid='B00EXPNFQO', r_ui=5.0, est=5, details={'actual_k': 7, 'was_impossible': False}),\n",
       " Prediction(uid='A1NAA1R38JSNHV', iid='B000TXEE14', r_ui=5.0, est=4.884469696969697, details={'actual_k': 1, 'was_impossible': False}),\n",
       " Prediction(uid='ADKZOXAOV8EXD', iid='B001G7PMMC', r_ui=5.0, est=4.262595194588521, details={'was_impossible': True, 'reason': 'User and/or item is unkown.'}),\n",
       " Prediction(uid='A1IBKN1GXYJ3K4', iid='B002BDU8WY', r_ui=4.0, est=4.262595194588521, details={'was_impossible': True, 'reason': 'User and/or item is unkown.'}),\n",
       " Prediction(uid='A2EZTM9WY5B5IL', iid='B00HZV58FO', r_ui=5.0, est=4.262595194588521, details={'was_impossible': True, 'reason': 'User and/or item is unkown.'}),\n",
       " Prediction(uid='AN9WA4C5E7YY5', iid='B007KPWMOK', r_ui=5.0, est=4.262595194588521, details={'was_impossible': True, 'reason': 'User and/or item is unkown.'}),\n",
       " Prediction(uid='ACSX5AIZE3MJ9', iid='B0009STJIW', r_ui=3.0, est=4.180116360380262, details={'actual_k': 3, 'was_impossible': False}),\n",
       " Prediction(uid='A3FEGTOLCWXSV4', iid='B002DS4HTM', r_ui=4.0, est=3.875, details={'actual_k': 0, 'was_impossible': False}),\n",
       " Prediction(uid='A2Y4H3PXB07WQI', iid='B002HMWQE2', r_ui=2.0, est=4.880103316113981, details={'actual_k': 1, 'was_impossible': False}),\n",
       " Prediction(uid='A1DO9LRCO23EOM', iid='B001GIPSAW', r_ui=5.0, est=4.621621621621622, details={'actual_k': 0, 'was_impossible': False}),\n",
       " Prediction(uid='A3NXJDNTQK2YJL', iid='B003M0NURK', r_ui=4.0, est=4.432584618938304, details={'actual_k': 4, 'was_impossible': False}),\n",
       " Prediction(uid='A25C2M3QF9G7OQ', iid='B00HPPL1M4', r_ui=5.0, est=4.833805447352411, details={'actual_k': 3, 'was_impossible': False}),\n",
       " Prediction(uid='A3EXWV8FNSSFL6', iid='B006DY3C5W', r_ui=5.0, est=5, details={'actual_k': 3, 'was_impossible': False}),\n",
       " Prediction(uid='A3H6NNGCINPLEC', iid='B004M8SBQQ', r_ui=5.0, est=4.262595194588521, details={'was_impossible': True, 'reason': 'User and/or item is unkown.'}),\n",
       " Prediction(uid='A386LG0LRWKJZP', iid='B000OEX4UK', r_ui=2.0, est=4.262595194588521, details={'was_impossible': True, 'reason': 'User and/or item is unkown.'}),\n",
       " Prediction(uid='A2HBOG4LVIY15L', iid='B005LTU6VI', r_ui=4.0, est=4.421052631578948, details={'actual_k': 0, 'was_impossible': False}),\n",
       " Prediction(uid='A2J8T58Z4X15IO', iid='B005PV608A', r_ui=4.0, est=4.262595194588521, details={'was_impossible': True, 'reason': 'User and/or item is unkown.'}),\n",
       " Prediction(uid='ACY9QYNDFLVBI', iid='B00B2ZZFHU', r_ui=1.0, est=4.262595194588521, details={'was_impossible': True, 'reason': 'User and/or item is unkown.'}),\n",
       " Prediction(uid='ADOR3TR7GDF68', iid='B001O4EPHA', r_ui=5.0, est=5, details={'actual_k': 1, 'was_impossible': False}),\n",
       " Prediction(uid='A31N0XY2UTB25C', iid='B005QZ8BCI', r_ui=5.0, est=5, details={'actual_k': 1, 'was_impossible': False}),\n",
       " Prediction(uid='ABDR6IJ93HFIO', iid='B00KWL62QI', r_ui=5.0, est=5, details={'actual_k': 2, 'was_impossible': False}),\n",
       " Prediction(uid='A1B4MIXYVIKMU2', iid='B00C0NWAPS', r_ui=4.0, est=4.842168674698795, details={'actual_k': 1, 'was_impossible': False}),\n",
       " Prediction(uid='ATS2855497V0I', iid='B003GR0WGQ', r_ui=5.0, est=4.493654999302747, details={'actual_k': 1, 'was_impossible': False}),\n",
       " Prediction(uid='A21VM9WVF8EOSJ', iid='B00000K13L', r_ui=4.0, est=3.326530612244898, details={'actual_k': 0, 'was_impossible': False}),\n",
       " Prediction(uid='A1XE3M22N91451', iid='B000JC5GSK', r_ui=5.0, est=4.578125, details={'actual_k': 0, 'was_impossible': False}),\n",
       " Prediction(uid='AK3GKIV8DEY8B', iid='B0014CTAM2', r_ui=5.0, est=4.262595194588521, details={'was_impossible': True, 'reason': 'User and/or item is unkown.'}),\n",
       " Prediction(uid='A2EHYCA29NSQLU', iid='B000VE4PNS', r_ui=1.0, est=2.675, details={'actual_k': 0, 'was_impossible': False}),\n",
       " Prediction(uid='A16RI68PS6T5CA', iid='B00B7XC6PQ', r_ui=2.0, est=4.639082751744766, details={'actual_k': 1, 'was_impossible': False}),\n",
       " Prediction(uid='A7EJERNB7IK3Z', iid='B001LBVCQS', r_ui=3.0, est=4.262595194588521, details={'was_impossible': True, 'reason': 'User and/or item is unkown.'}),\n",
       " Prediction(uid='AEL6CQNQXONBX', iid='B00HYPCP0M', r_ui=5.0, est=4.457446808510638, details={'actual_k': 0, 'was_impossible': False}),\n",
       " Prediction(uid='A3EZFFPVS34AMO', iid='B006DY3CRK', r_ui=3.0, est=4.582278481012659, details={'actual_k': 0, 'was_impossible': False}),\n",
       " Prediction(uid='A1ZU55TM45Y2R8', iid='B003M8HWDA', r_ui=5.0, est=4.352853267321775, details={'actual_k': 8, 'was_impossible': False}),\n",
       " Prediction(uid='A14JBDSWKPKTZA', iid='B000VXD2S8', r_ui=5.0, est=4.76, details={'actual_k': 0, 'was_impossible': False}),\n",
       " Prediction(uid='A2IMLOJ2Z2QEU2', iid='B0090IA4KE', r_ui=4.0, est=4.1063829787234045, details={'actual_k': 0, 'was_impossible': False}),\n",
       " Prediction(uid='A36K2N527TXXJN', iid='B00EMHVVLY', r_ui=4.0, est=3.890031011460332, details={'actual_k': 9, 'was_impossible': False}),\n",
       " Prediction(uid='A2M9ME0N2S3R39', iid='B000VK5BMQ', r_ui=4.0, est=4.262595194588521, details={'was_impossible': True, 'reason': 'User and/or item is unkown.'}),\n",
       " Prediction(uid='A6VXZ1EEPRTLV', iid='B004MMEI0K', r_ui=4.0, est=4.262595194588521, details={'was_impossible': True, 'reason': 'User and/or item is unkown.'}),\n",
       " Prediction(uid='A1CPRP3VFJRS1R', iid='B003IT6YFK', r_ui=1.0, est=3.332611832611833, details={'actual_k': 1, 'was_impossible': False}),\n",
       " Prediction(uid='A2D1LPEUCTNT8X', iid='B00343DNJK', r_ui=5.0, est=4.424242424242424, details={'actual_k': 0, 'was_impossible': False}),\n",
       " Prediction(uid='AQIJ3ZEEVCIKU', iid='B002BA596W', r_ui=4.0, est=4.162772001128581, details={'actual_k': 2, 'was_impossible': False}),\n",
       " Prediction(uid='AGVWTYW0ULXHT', iid='B00B4OCWE8', r_ui=4.0, est=4.037502251654571, details={'actual_k': 4, 'was_impossible': False}),\n",
       " Prediction(uid='A37PV5GMP2ILJC', iid='B002Y6CJJ8', r_ui=5.0, est=4.026315789473684, details={'actual_k': 0, 'was_impossible': False}),\n",
       " Prediction(uid='ABAPF3XY1W6JX', iid='B000BSKO84', r_ui=5.0, est=4.262595194588521, details={'was_impossible': True, 'reason': 'User and/or item is unkown.'}),\n",
       " Prediction(uid='A35A2RWUMC737N', iid='B001VLIL3K', r_ui=5.0, est=4.318181818181818, details={'actual_k': 0, 'was_impossible': False}),\n",
       " Prediction(uid='AFQBS241UKPAZ', iid='B00CPY7GW4', r_ui=4.0, est=4.262595194588521, details={'was_impossible': True, 'reason': 'User and/or item is unkown.'}),\n",
       " Prediction(uid='AQR4HPVSOPS08', iid='B002HEQCIQ', r_ui=5.0, est=4.262595194588521, details={'was_impossible': True, 'reason': 'User and/or item is unkown.'}),\n",
       " Prediction(uid='A2TN0U8173HM7A', iid='B005AYSO18', r_ui=5.0, est=4.262595194588521, details={'was_impossible': True, 'reason': 'User and/or item is unkown.'}),\n",
       " Prediction(uid='A2JE071UW97J2A', iid='B00009UTRW', r_ui=5.0, est=4.686746987951807, details={'actual_k': 0, 'was_impossible': False}),\n",
       " Prediction(uid='A95PWI4S6WHGL', iid='B00068NSZA', r_ui=2.0, est=4.262595194588521, details={'was_impossible': True, 'reason': 'User and/or item is unkown.'}),\n",
       " Prediction(uid='AELK0E5DK7LIZ', iid='B006EKIQYM', r_ui=5.0, est=5, details={'actual_k': 5, 'was_impossible': False}),\n",
       " Prediction(uid='AD0J5KK4WQXNS', iid='B0002ED4PM', r_ui=5.0, est=4.6, details={'actual_k': 0, 'was_impossible': False}),\n",
       " Prediction(uid='AX05DBU8IRUWY', iid='B00FDLAGLO', r_ui=4.0, est=4.069444444444445, details={'actual_k': 0, 'was_impossible': False}),\n",
       " Prediction(uid='A1U5NWJOYH2QQH', iid='B0001WXTF0', r_ui=5.0, est=3.7875, details={'actual_k': 0, 'was_impossible': False}),\n",
       " Prediction(uid='A25HBO5V8S8SEA', iid='B000050ZUC', r_ui=5.0, est=4.262595194588521, details={'was_impossible': True, 'reason': 'User and/or item is unkown.'}),\n",
       " Prediction(uid='A1HBI9BBQIG1NH', iid='B001C53ZWM', r_ui=1.0, est=4.064516129032258, details={'actual_k': 0, 'was_impossible': False}),\n",
       " Prediction(uid='A1L64KDYO5BOJA', iid='B0009X1U3O', r_ui=5.0, est=4.262595194588521, details={'was_impossible': True, 'reason': 'User and/or item is unkown.'}),\n",
       " Prediction(uid='A26EQ8U96JA92T', iid='B002IWP87S', r_ui=5.0, est=4.679245283018868, details={'actual_k': 0, 'was_impossible': False}),\n",
       " Prediction(uid='A2NP9CGUSFP22E', iid='B006JGXOSY', r_ui=5.0, est=4.262595194588521, details={'was_impossible': True, 'reason': 'User and/or item is unkown.'}),\n",
       " Prediction(uid='A2PK64OVZA1U8Z', iid='B003ULNA3K', r_ui=5.0, est=4.525865905535068, details={'actual_k': 2, 'was_impossible': False}),\n",
       " Prediction(uid='A2WB7LZ595CR50', iid='B00433SORQ', r_ui=5.0, est=4.838990825688073, details={'actual_k': 1, 'was_impossible': False}),\n",
       " Prediction(uid='A3L1VJMHFWONCB', iid='B003ES5ZSW', r_ui=5.0, est=4.419458349377487, details={'actual_k': 1, 'was_impossible': False}),\n",
       " Prediction(uid='A1143YEAZYMYHJ', iid='B001GS8FZ2', r_ui=4.0, est=4.476190476190476, details={'actual_k': 0, 'was_impossible': False}),\n",
       " Prediction(uid='A2V7EO331SFUF6', iid='B003ES5ZUU', r_ui=5.0, est=4.414968553459119, details={'actual_k': 1, 'was_impossible': False}),\n",
       " Prediction(uid='A30X750M8V1XXW', iid='B003L4P872', r_ui=4.0, est=3.9158878504672896, details={'actual_k': 0, 'was_impossible': False}),\n",
       " Prediction(uid='A10ZBR6O8S8OCY', iid='B001CHHVCU', r_ui=4.0, est=4.185535124718428, details={'actual_k': 2, 'was_impossible': False}),\n",
       " Prediction(uid='A1AZQCVCDBQP6', iid='B007SSH3J8', r_ui=5.0, est=4.262595194588521, details={'was_impossible': True, 'reason': 'User and/or item is unkown.'}),\n",
       " Prediction(uid='A25C2M3QF9G7OQ', iid='B001CE5LNY', r_ui=5.0, est=5, details={'actual_k': 2, 'was_impossible': False}),\n",
       " Prediction(uid='A11IXJ8M1JO296', iid='B008JF5MSS', r_ui=5.0, est=4.262595194588521, details={'was_impossible': True, 'reason': 'User and/or item is unkown.'}),\n",
       " Prediction(uid='A3R4794K2RVU1S', iid='B00DYVK304', r_ui=3.0, est=4.925782796170941, details={'actual_k': 3, 'was_impossible': False}),\n",
       " Prediction(uid='A2K6CDQ9HZ359G', iid='B001GCUO8Y', r_ui=5.0, est=4.575, details={'actual_k': 0, 'was_impossible': False}),\n",
       " Prediction(uid='AU3GYRAKBUAEU', iid='B001EO6QR2', r_ui=3.0, est=2.465099715099715, details={'actual_k': 1, 'was_impossible': False}),\n",
       " Prediction(uid='A250AXLRBVYKB4', iid='B00005LEN4', r_ui=5.0, est=4.865134533753695, details={'actual_k': 2, 'was_impossible': False}),\n",
       " Prediction(uid='A204K1OFE8OB9Y', iid='B007CKQMPI', r_ui=1.0, est=4.262595194588521, details={'was_impossible': True, 'reason': 'User and/or item is unkown.'}),\n",
       " Prediction(uid='A2WPL6Y08K6ZQH', iid='B001OC5JLI', r_ui=5.0, est=4.26530612244898, details={'actual_k': 0, 'was_impossible': False}),\n",
       " Prediction(uid='A2VALCFTOWFYXZ', iid='B00B46XKKQ', r_ui=5.0, est=4.262595194588521, details={'was_impossible': True, 'reason': 'User and/or item is unkown.'}),\n",
       " Prediction(uid='A2F2GLVFRNV7JJ', iid='B001T9EYFI', r_ui=4.0, est=4.448979591836735, details={'actual_k': 0, 'was_impossible': False}),\n",
       " Prediction(uid='ABSYIF0ONC2AF', iid='B008KCSPRK', r_ui=4.0, est=4.262595194588521, details={'was_impossible': True, 'reason': 'User and/or item is unkown.'}),\n",
       " Prediction(uid='ARBKYIVNYWK3C', iid='B00IWQREOE', r_ui=5.0, est=4.422018348623853, details={'actual_k': 0, 'was_impossible': False}),\n",
       " Prediction(uid='A1E1LEVQ9VQNK', iid='B00IP8IBYG', r_ui=5.0, est=5, details={'actual_k': 1, 'was_impossible': False}),\n",
       " Prediction(uid='A3BVN2QBNPBHCR', iid='B0027VT6V4', r_ui=2.0, est=4.553846153846154, details={'actual_k': 0, 'was_impossible': False}),\n",
       " Prediction(uid='A1XXMNLOLKNO0I', iid='B0000BZL1P', r_ui=5.0, est=5, details={'actual_k': 5, 'was_impossible': False}),\n",
       " Prediction(uid='A2F4HP0J5VNOYR', iid='B0014IM2RQ', r_ui=5.0, est=4.454545454545454, details={'actual_k': 0, 'was_impossible': False}),\n",
       " Prediction(uid='AY6A8KPYCE6B0', iid='B00DRKQPTU', r_ui=5.0, est=4.262595194588521, details={'was_impossible': True, 'reason': 'User and/or item is unkown.'}),\n",
       " Prediction(uid='A3D0UM4ZD2CMAW', iid='B00568KKOW', r_ui=5.0, est=4.262595194588521, details={'was_impossible': True, 'reason': 'User and/or item is unkown.'}),\n",
       " Prediction(uid='A34BZM6S9L7QI4', iid='B004CLYEH8', r_ui=5.0, est=4.658089708515392, details={'actual_k': 15, 'was_impossible': False}),\n",
       " Prediction(uid='AOMEH9W6LHC4S', iid='B002TLTE6Y', r_ui=5.0, est=4.433022350329463, details={'actual_k': 5, 'was_impossible': False}),\n",
       " Prediction(uid='A19X4BF861LQST', iid='B0050QJUP0', r_ui=4.0, est=3.717948717948718, details={'actual_k': 0, 'was_impossible': False}),\n",
       " Prediction(uid='AJEOFP6ZWY0MK', iid='B002GHBTNC', r_ui=5.0, est=4.262595194588521, details={'was_impossible': True, 'reason': 'User and/or item is unkown.'}),\n",
       " Prediction(uid='A3LGT6UZL99IW1', iid='B00AM4A87O', r_ui=4.0, est=4.908163265306122, details={'actual_k': 1, 'was_impossible': False}),\n",
       " Prediction(uid='A2XA8CW5DF4MNZ', iid='B00BFYVXYM', r_ui=4.0, est=3.4392446633825946, details={'actual_k': 1, 'was_impossible': False}),\n",
       " Prediction(uid='AZMY6E8B52L2T', iid='B00KGTDDIG', r_ui=5.0, est=4.262595194588521, details={'was_impossible': True, 'reason': 'User and/or item is unkown.'}),\n",
       " Prediction(uid='AFXTKAO0CB354', iid='B00006B9H9', r_ui=5.0, est=4.592592592592593, details={'actual_k': 0, 'was_impossible': False}),\n",
       " Prediction(uid='A96JD9312DHWC', iid='B002J9HBSE', r_ui=5.0, est=4.5396825396825395, details={'actual_k': 0, 'was_impossible': False}),\n",
       " Prediction(uid='A1HFT68GJ42LTM', iid='B0081FLFQE', r_ui=5.0, est=3.9254077714090774, details={'actual_k': 3, 'was_impossible': False}),\n",
       " Prediction(uid='ACJT8MUC0LRF0', iid='B003725D32', r_ui=5.0, est=5, details={'actual_k': 2, 'was_impossible': False}),\n",
       " Prediction(uid='ANEXFROORI6F6', iid='B00DKTVM3M', r_ui=5.0, est=4.262595194588521, details={'was_impossible': True, 'reason': 'User and/or item is unkown.'}),\n",
       " Prediction(uid='A1F7YU6O5RU432', iid='B001AW8W7A', r_ui=5.0, est=5, details={'actual_k': 1, 'was_impossible': False}),\n",
       " Prediction(uid='A11KZ906QD08C5', iid='B00B5FL04E', r_ui=5.0, est=4.5, details={'actual_k': 0, 'was_impossible': False}),\n",
       " Prediction(uid='A1CMWB7AWQUQH4', iid='B009H0XQPU', r_ui=3.0, est=3.925, details={'actual_k': 0, 'was_impossible': False}),\n",
       " Prediction(uid='A28BX3MM90A6FI', iid='B007BXD66E', r_ui=5.0, est=4.4375, details={'actual_k': 0, 'was_impossible': False}),\n",
       " Prediction(uid='A1VEELTKS8NLZB', iid='B0013DXVYK', r_ui=4.0, est=3.8780487804878048, details={'actual_k': 0, 'was_impossible': False}),\n",
       " Prediction(uid='A25UZ7MA72SMKM', iid='B002SG7LUQ', r_ui=5.0, est=4.262595194588521, details={'was_impossible': True, 'reason': 'User and/or item is unkown.'}),\n",
       " Prediction(uid='A3IOQ7NVVLAUEE', iid='B001LF40KE', r_ui=5.0, est=4.262595194588521, details={'was_impossible': True, 'reason': 'User and/or item is unkown.'}),\n",
       " Prediction(uid='A12DQZKRKTNF5E', iid='B004GF1PC2', r_ui=5.0, est=4.230769230769231, details={'actual_k': 0, 'was_impossible': False}),\n",
       " Prediction(uid='A303SNZ4AR7TDQ', iid='B000NX1UNU', r_ui=3.0, est=4.262595194588521, details={'was_impossible': True, 'reason': 'User and/or item is unkown.'}),\n",
       " Prediction(uid='A2PSC7LUNIDEAH', iid='B0093IZOV0', r_ui=5.0, est=3.759036144578313, details={'actual_k': 1, 'was_impossible': False}),\n",
       " Prediction(uid='AY4EXFOO43C3S', iid='B0002JSTXY', r_ui=3.0, est=4.262595194588521, details={'was_impossible': True, 'reason': 'User and/or item is unkown.'}),\n",
       " Prediction(uid='A1F5O1USOUOOXI', iid='B00D3F7D7M', r_ui=4.0, est=4.062651249929874, details={'actual_k': 2, 'was_impossible': False}),\n",
       " Prediction(uid='A17O9AHKHK66AI', iid='B008KVUAGU', r_ui=4.0, est=3.8253968253968256, details={'actual_k': 0, 'was_impossible': False}),\n",
       " Prediction(uid='A16C19G0I2DE8S', iid='B00GSK46D8', r_ui=5.0, est=4.782608695652174, details={'actual_k': 0, 'was_impossible': False}),\n",
       " Prediction(uid='AEWYUPCNDV7HY', iid='B007X3VEUW', r_ui=1.0, est=2.96661708478592, details={'actual_k': 4, 'was_impossible': False}),\n",
       " Prediction(uid='A1YN5I4FINMBTI', iid='B004SCSV2U', r_ui=5.0, est=4.6, details={'actual_k': 0, 'was_impossible': False}),\n",
       " Prediction(uid='A231WM2Z2JL0U3', iid='B00004SCKA', r_ui=4.0, est=4.3721674220207944, details={'actual_k': 1, 'was_impossible': False}),\n",
       " Prediction(uid='A36K2N527TXXJN', iid='B000N3LL02', r_ui=5.0, est=4.262595194588521, details={'was_impossible': True, 'reason': 'User and/or item is unkown.'}),\n",
       " Prediction(uid='AVU1ILDDYW301', iid='B005CX5AJQ', r_ui=5.0, est=4.262595194588521, details={'was_impossible': True, 'reason': 'User and/or item is unkown.'}),\n",
       " Prediction(uid='ADLVFFE4VBT8', iid='B002C1B9PU', r_ui=5.0, est=5, details={'actual_k': 1, 'was_impossible': False}),\n",
       " Prediction(uid='A3S5EXYZDEBF3K', iid='B0015F1L7A', r_ui=4.0, est=3.6666666666666665, details={'actual_k': 0, 'was_impossible': False}),\n",
       " Prediction(uid='A1VYFEJM12ZP11', iid='B007XXVA60', r_ui=3.0, est=4.262595194588521, details={'was_impossible': True, 'reason': 'User and/or item is unkown.'}),\n",
       " Prediction(uid='A370XYLIZCSK1Y', iid='B003VWZEBY', r_ui=5.0, est=4.527027027027027, details={'actual_k': 0, 'was_impossible': False}),\n",
       " Prediction(uid='A2WPL6Y08K6ZQH', iid='B00EVIBMR2', r_ui=4.0, est=4.26530612244898, details={'actual_k': 0, 'was_impossible': False}),\n",
       " Prediction(uid='A3977M5S0GIG5H', iid='B00005T39Y', r_ui=5.0, est=4.507692307692308, details={'actual_k': 0, 'was_impossible': False}),\n",
       " Prediction(uid='A257X1MQJO82P2', iid='B00B5FL04E', r_ui=5.0, est=4.782608695652174, details={'actual_k': 0, 'was_impossible': False}),\n",
       " Prediction(uid='A33YZNZIRA3H97', iid='B00FT34ROS', r_ui=3.0, est=4.262595194588521, details={'was_impossible': True, 'reason': 'User and/or item is unkown.'}),\n",
       " Prediction(uid='A1VRANSQ0WF1YS', iid='B00006HYKM', r_ui=5.0, est=1.7763605442176873, details={'actual_k': 1, 'was_impossible': False}),\n",
       " Prediction(uid='A3TBMAWIIHKHFN', iid='B00103BRMQ', r_ui=1.0, est=3.326923076923077, details={'actual_k': 0, 'was_impossible': False}),\n",
       " Prediction(uid='APGQTZZ4ZFPHO', iid='B00180MMZC', r_ui=1.0, est=4.5, details={'actual_k': 0, 'was_impossible': False}),\n",
       " Prediction(uid='A3P4T1DKRWTL36', iid='B00CHYOLHK', r_ui=5.0, est=4.262595194588521, details={'was_impossible': True, 'reason': 'User and/or item is unkown.'}),\n",
       " Prediction(uid='A2BLFCOPSMBOZ9', iid='B005FDXZJU', r_ui=5.0, est=4.4528029071888495, details={'actual_k': 11, 'was_impossible': False}),\n",
       " Prediction(uid='A3KNGMX2RVQG91', iid='B000GUTMPI', r_ui=5.0, est=4.262595194588521, details={'was_impossible': True, 'reason': 'User and/or item is unkown.'}),\n",
       " Prediction(uid='A2X06FP2PQ6EK0', iid='B002HR2LSI', r_ui=5.0, est=4.262595194588521, details={'was_impossible': True, 'reason': 'User and/or item is unkown.'}),\n",
       " Prediction(uid='A1QNYLBG73QRNF', iid='B00171HK6S', r_ui=4.0, est=4.262595194588521, details={'was_impossible': True, 'reason': 'User and/or item is unkown.'}),\n",
       " Prediction(uid='A6VPK7X53QNAQ', iid='B001ELJ9QK', r_ui=5.0, est=3.9134615384615383, details={'actual_k': 0, 'was_impossible': False}),\n",
       " Prediction(uid='AC6Z7DP1Z5GHD', iid='B004G8CBFY', r_ui=5.0, est=4.313953488372093, details={'actual_k': 0, 'was_impossible': False}),\n",
       " Prediction(uid='A1FR68QH6Z4YZM', iid='B0019U5T24', r_ui=4.0, est=4.262595194588521, details={'was_impossible': True, 'reason': 'User and/or item is unkown.'}),\n",
       " Prediction(uid='A1Z16630QMH8Q6', iid='B002W6Z80C', r_ui=5.0, est=5, details={'actual_k': 1, 'was_impossible': False}),\n",
       " Prediction(uid='A3T7V207KRDE2O', iid='B0081FLFQE', r_ui=5.0, est=4.6831667797809295, details={'actual_k': 3, 'was_impossible': False}),\n",
       " Prediction(uid='A25C2M3QF9G7OQ', iid='B000VL1QF6', r_ui=2.0, est=4.613526570048309, details={'actual_k': 0, 'was_impossible': False}),\n",
       " Prediction(uid='A1VS1LL905P5L5', iid='B004IQ04YY', r_ui=3.0, est=4.262595194588521, details={'was_impossible': True, 'reason': 'User and/or item is unkown.'}),\n",
       " Prediction(uid='AGHZXQL9F94T9', iid='B00008LUN6', r_ui=4.0, est=3.2448979591836733, details={'actual_k': 0, 'was_impossible': False}),\n",
       " Prediction(uid='A3LGT6UZL99IW1', iid='B001DO1Q1O', r_ui=5.0, est=4.262595194588521, details={'was_impossible': True, 'reason': 'User and/or item is unkown.'}),\n",
       " Prediction(uid='A2LW5AL0KQ9P1M', iid='B0064RY5PO', r_ui=3.0, est=3.594675206476736, details={'actual_k': 2, 'was_impossible': False}),\n",
       " Prediction(uid='A2W9I628I6SE1U', iid='B00CD1PTF0', r_ui=4.0, est=4.414068015218782, details={'actual_k': 2, 'was_impossible': False}),\n",
       " Prediction(uid='A35C2IVVQR1HTK', iid='B0007N55NM', r_ui=3.0, est=4.1923076923076925, details={'actual_k': 0, 'was_impossible': False}),\n",
       " Prediction(uid='A22CW0ZHY3NJH8', iid='B003AM8OXK', r_ui=4.0, est=4.262595194588521, details={'was_impossible': True, 'reason': 'User and/or item is unkown.'}),\n",
       " Prediction(uid='A1ILWPH1GHUXE2', iid='B001EYU8FI', r_ui=2.0, est=3.2037037037037037, details={'actual_k': 1, 'was_impossible': False}),\n",
       " Prediction(uid='AEL6CQNQXONBX', iid='B000O8WE66', r_ui=5.0, est=5, details={'actual_k': 4, 'was_impossible': False}),\n",
       " Prediction(uid='A5KMMY627T3W', iid='B002PHM0XQ', r_ui=5.0, est=4.262595194588521, details={'was_impossible': True, 'reason': 'User and/or item is unkown.'}),\n",
       " Prediction(uid='A6FIAB28IS79', iid='B000X3F6IU', r_ui=5.0, est=4.262595194588521, details={'was_impossible': True, 'reason': 'User and/or item is unkown.'}),\n",
       " Prediction(uid='A3AYSYSLHU26U9', iid='B003Y74AXO', r_ui=3.0, est=2.903083712932955, details={'actual_k': 5, 'was_impossible': False}),\n",
       " Prediction(uid='A31ICLWQ9CSHRS', iid='B00I0WGGIK', r_ui=5.0, est=4.975832438238453, details={'actual_k': 1, 'was_impossible': False}),\n",
       " Prediction(uid='A2DKQQIZ793AV5', iid='B00AHBKW2S', r_ui=5.0, est=5, details={'actual_k': 0, 'was_impossible': False}),\n",
       " Prediction(uid='A3UKWQS8SRW6IO', iid='B004NBL9WK', r_ui=4.0, est=4.766666666666667, details={'actual_k': 0, 'was_impossible': False}),\n",
       " Prediction(uid='A105S56ODHGJEK', iid='B00F36Y9XU', r_ui=5.0, est=3.7045454545454546, details={'actual_k': 0, 'was_impossible': False}),\n",
       " Prediction(uid='AFQBS241UKPAZ', iid='B002YOENAS', r_ui=4.0, est=1.5406593406593405, details={'actual_k': 1, 'was_impossible': False}),\n",
       " Prediction(uid='A2JOPUWVV0XQJ3', iid='B005LJQNQU', r_ui=4.0, est=4.440136054421769, details={'actual_k': 1, 'was_impossible': False}),\n",
       " Prediction(uid='AAEVGE52KL0DJ', iid='B00D1KWRMA', r_ui=5.0, est=4.262595194588521, details={'was_impossible': True, 'reason': 'User and/or item is unkown.'}),\n",
       " Prediction(uid='A2VH0UT5EQFB6P', iid='B007X3VC7W', r_ui=4.0, est=4.0576923076923075, details={'actual_k': 0, 'was_impossible': False}),\n",
       " Prediction(uid='A3R19YKNL641X3', iid='B000UY1MB2', r_ui=5.0, est=4.6607992460486045, details={'actual_k': 6, 'was_impossible': False}),\n",
       " Prediction(uid='ANXEW7IDYDJEH', iid='B004EPV7TK', r_ui=4.0, est=4.555555555555555, details={'actual_k': 0, 'was_impossible': False}),\n",
       " Prediction(uid='AN81JUYW2SL24', iid='B00BP5MB56', r_ui=5.0, est=4.129770992366412, details={'actual_k': 0, 'was_impossible': False}),\n",
       " Prediction(uid='A28J3123I1QDKI', iid='B0007R4LI8', r_ui=5.0, est=3.8333333333333335, details={'actual_k': 0, 'was_impossible': False}),\n",
       " Prediction(uid='A1ZPY91VE3IDN1', iid='B00166F8YU', r_ui=5.0, est=4.5, details={'actual_k': 0, 'was_impossible': False}),\n",
       " Prediction(uid='ARX0KOX5Q01BJ', iid='B008MBDY70', r_ui=5.0, est=4.262595194588521, details={'was_impossible': True, 'reason': 'User and/or item is unkown.'}),\n",
       " Prediction(uid='AT2J7H5TRZM8Z', iid='B000056SSM', r_ui=2.0, est=4.093023255813954, details={'actual_k': 0, 'was_impossible': False}),\n",
       " Prediction(uid='A3TAS1AG6FMBQW', iid='B00634PLTW', r_ui=5.0, est=5, details={'actual_k': 7, 'was_impossible': False}),\n",
       " Prediction(uid='A21INUA35HX4XQ', iid='B00007KDX5', r_ui=5.0, est=3.816326530612245, details={'actual_k': 0, 'was_impossible': False}),\n",
       " Prediction(uid='A2UOHALGF2X77Q', iid='B00AQDG96K', r_ui=4.0, est=3.5836547552127462, details={'actual_k': 4, 'was_impossible': False}),\n",
       " Prediction(uid='A1LYMYNURB9EWW', iid='B00006I53D', r_ui=4.0, est=4.353801169590644, details={'actual_k': 1, 'was_impossible': False}),\n",
       " Prediction(uid='A36K2N527TXXJN', iid='B00EMB4LU8', r_ui=4.0, est=4.068258383437248, details={'actual_k': 4, 'was_impossible': False}),\n",
       " Prediction(uid='AL5CUWBFBMWYQ', iid='B002FB7IWU', r_ui=3.0, est=3.659090909090909, details={'actual_k': 0, 'was_impossible': False}),\n",
       " Prediction(uid='A9J4UURM4OSDW', iid='B00894YP00', r_ui=4.0, est=4.323529411764706, details={'actual_k': 0, 'was_impossible': False}),\n",
       " Prediction(uid='A3OYO7B6SS7QLH', iid='B006X2HD2M', r_ui=4.0, est=4.045454545454546, details={'actual_k': 0, 'was_impossible': False}),\n",
       " Prediction(uid='A1IU7S4HCK1XK0', iid='B00005AT7Y', r_ui=5.0, est=4.43010752688172, details={'actual_k': 0, 'was_impossible': False}),\n",
       " Prediction(uid='AVU1ILDDYW301', iid='B002VPE1XE', r_ui=5.0, est=4.471503496503496, details={'actual_k': 1, 'was_impossible': False}),\n",
       " Prediction(uid='A3PU3EDJ2FG1AW', iid='B003VANO7C', r_ui=5.0, est=3.825, details={'actual_k': 0, 'was_impossible': False}),\n",
       " Prediction(uid='A2QDOJFFLFGF18', iid='B00366KE3I', r_ui=5.0, est=4.589285714285714, details={'actual_k': 0, 'was_impossible': False}),\n",
       " Prediction(uid='A2NLI1M5K2MQ5E', iid='B007IVDBTG', r_ui=5.0, est=4.262595194588521, details={'was_impossible': True, 'reason': 'User and/or item is unkown.'}),\n",
       " Prediction(uid='AELK0E5DK7LIZ', iid='B00EXPNFQO', r_ui=5.0, est=4.449493716422552, details={'actual_k': 3, 'was_impossible': False}),\n",
       " Prediction(uid='A2OOLI2WFY4L2', iid='B005553CUU', r_ui=3.0, est=4.262595194588521, details={'was_impossible': True, 'reason': 'User and/or item is unkown.'}),\n",
       " Prediction(uid='A2JE071UW97J2A', iid='B004UTQRHW', r_ui=5.0, est=5, details={'actual_k': 2, 'was_impossible': False}),\n",
       " Prediction(uid='ABIVKBMSIPEDY', iid='B005X9Y0YU', r_ui=5.0, est=4.338521524322562, details={'actual_k': 2, 'was_impossible': False}),\n",
       " Prediction(uid='AHR86ZEYETLJI', iid='B003TY54IW', r_ui=5.0, est=4.262595194588521, details={'was_impossible': True, 'reason': 'User and/or item is unkown.'}),\n",
       " Prediction(uid='A30XZK10EZN9V4', iid='B003OC6LWM', r_ui=5.0, est=4.475609756097561, details={'actual_k': 0, 'was_impossible': False}),\n",
       " Prediction(uid='A2NYK9KWFMJV4Y', iid='B00G4V0QSK', r_ui=5.0, est=4.91580887526711, details={'actual_k': 7, 'was_impossible': False}),\n",
       " Prediction(uid='A7EJERNB7IK3Z', iid='B001AWW6QI', r_ui=1.0, est=4.262595194588521, details={'was_impossible': True, 'reason': 'User and/or item is unkown.'}),\n",
       " Prediction(uid='A2GKMXRLI7KLFP', iid='B002Y2NI4M', r_ui=5.0, est=4.5964912280701755, details={'actual_k': 0, 'was_impossible': False}),\n",
       " Prediction(uid='AUITG1DJ3QUGK', iid='B000JJSQAI', r_ui=2.0, est=4.262595194588521, details={'was_impossible': True, 'reason': 'User and/or item is unkown.'}),\n",
       " Prediction(uid='ARX0KOX5Q01BJ', iid='B00CPU8MOO', r_ui=3.0, est=4.262595194588521, details={'was_impossible': True, 'reason': 'User and/or item is unkown.'}),\n",
       " Prediction(uid='A2503LT8PZIHAD', iid='B00651BY08', r_ui=4.0, est=4.262595194588521, details={'was_impossible': True, 'reason': 'User and/or item is unkown.'}),\n",
       " Prediction(uid='A2PICNZWHEINQC', iid='B004QX6E4S', r_ui=4.0, est=4.262595194588521, details={'was_impossible': True, 'reason': 'User and/or item is unkown.'}),\n",
       " Prediction(uid='A18S2VGUH9SCV5', iid='B004TPJKEY', r_ui=3.0, est=3.2853637283851014, details={'actual_k': 6, 'was_impossible': False}),\n",
       " Prediction(uid='A1T1YSCDW0PD25', iid='B001F4YIYY', r_ui=4.0, est=4.262595194588521, details={'was_impossible': True, 'reason': 'User and/or item is unkown.'}),\n",
       " Prediction(uid='ABXANRX4GPYRZ', iid='B001NG6SSS', r_ui=1.0, est=4.262595194588521, details={'was_impossible': True, 'reason': 'User and/or item is unkown.'}),\n",
       " Prediction(uid='A1V4VVBQBFXRHC', iid='B00JEVI0US', r_ui=4.0, est=3.2949143879376432, details={'actual_k': 1, 'was_impossible': False}),\n",
       " Prediction(uid='AATWFX0ZZSE6C', iid='B008B9UVBA', r_ui=5.0, est=4.262595194588521, details={'was_impossible': True, 'reason': 'User and/or item is unkown.'}),\n",
       " Prediction(uid='A3UKWQS8SRW6IO', iid='B00D429Y12', r_ui=5.0, est=4.642718635106406, details={'actual_k': 3, 'was_impossible': False}),\n",
       " Prediction(uid='A18U49406IPPIJ', iid='B008AST7R6', r_ui=5.0, est=4.972972972972973, details={'actual_k': 0, 'was_impossible': False}),\n",
       " Prediction(uid='A2NYK9KWFMJV4Y', iid='B005I7X3RC', r_ui=5.0, est=5, details={'actual_k': 3, 'was_impossible': False}),\n",
       " Prediction(uid='A9Y5O2R4D6EH5', iid='B005IA843W', r_ui=5.0, est=4.781967213114754, details={'actual_k': 1, 'was_impossible': False}),\n",
       " Prediction(uid='A2NOIWPJDD7WIQ', iid='B0000AI1JU', r_ui=5.0, est=4.262595194588521, details={'was_impossible': True, 'reason': 'User and/or item is unkown.'}),\n",
       " Prediction(uid='AGXMC3ITWZASE', iid='B001D60LG8', r_ui=1.0, est=3.9130434782608696, details={'actual_k': 0, 'was_impossible': False}),\n",
       " Prediction(uid='AVPNQUVZWMDSX', iid='B000QU8J8E', r_ui=5.0, est=4.262595194588521, details={'was_impossible': True, 'reason': 'User and/or item is unkown.'}),\n",
       " Prediction(uid='A1BXVZSQOJE6UE', iid='B005FPT56K', r_ui=3.0, est=3.9210526315789473, details={'actual_k': 0, 'was_impossible': False}),\n",
       " Prediction(uid='A1EH2S92FHWZRP', iid='B003LZYXYU', r_ui=5.0, est=4.087248322147651, details={'actual_k': 0, 'was_impossible': False}),\n",
       " Prediction(uid='A22CW0ZHY3NJH8', iid='B003PJI9II', r_ui=5.0, est=1, details={'actual_k': 1, 'was_impossible': False}),\n",
       " Prediction(uid='A2NJQF2UI60VGT', iid='B00BTCPQ5C', r_ui=5.0, est=4.569230769230769, details={'actual_k': 0, 'was_impossible': False}),\n",
       " Prediction(uid='A3EX8ZFNVDHGPM', iid='B00354MVP0', r_ui=5.0, est=4.25, details={'actual_k': 0, 'was_impossible': False}),\n",
       " Prediction(uid='A1ZTR0FR5AW9B4', iid='B005HN5CUS', r_ui=4.0, est=4.262595194588521, details={'was_impossible': True, 'reason': 'User and/or item is unkown.'}),\n",
       " Prediction(uid='A2F92M62KN324B', iid='B002SZEOLG', r_ui=5.0, est=4.507518796992481, details={'actual_k': 1, 'was_impossible': False}),\n",
       " Prediction(uid='AT6CZDCP4TRGA', iid='B000CSQJ8C', r_ui=4.0, est=3.668831168831169, details={'actual_k': 0, 'was_impossible': False}),\n",
       " Prediction(uid='A1P3DDFL423B3C', iid='B0018CWY3A', r_ui=1.0, est=3.7948717948717947, details={'actual_k': 0, 'was_impossible': False}),\n",
       " Prediction(uid='A214W7SK2DJQ99', iid='B003LYF5P2', r_ui=4.0, est=4.3076923076923075, details={'actual_k': 0, 'was_impossible': False}),\n",
       " Prediction(uid='A33CNFK776MTWR', iid='B00E9YIFKA', r_ui=5.0, est=4.225, details={'actual_k': 0, 'was_impossible': False}),\n",
       " Prediction(uid='A2BIJMB2BITQUM', iid='B0088CJT4U', r_ui=3.0, est=4.352444998753314, details={'actual_k': 11, 'was_impossible': False}),\n",
       " Prediction(uid='A2UOHALGF2X77Q', iid='B00DR8L7M2', r_ui=5.0, est=4.437086092715232, details={'actual_k': 0, 'was_impossible': False}),\n",
       " Prediction(uid='A3775OP5VTX5ON', iid='B005420JFA', r_ui=4.0, est=4.262595194588521, details={'was_impossible': True, 'reason': 'User and/or item is unkown.'}),\n",
       " Prediction(uid='A376OJHLE6SU9Q', iid='B0037W6692', r_ui=4.0, est=4.262595194588521, details={'was_impossible': True, 'reason': 'User and/or item is unkown.'}),\n",
       " Prediction(uid='A87N6UTYA6NOB', iid='B0057AVXJA', r_ui=4.0, est=4.206896551724138, details={'actual_k': 0, 'was_impossible': False}),\n",
       " Prediction(uid='A2SGAJWXG65464', iid='B009D7XPJY', r_ui=4.0, est=4.021739130434782, details={'actual_k': 0, 'was_impossible': False}),\n",
       " Prediction(uid='A2RN2AO4BE6F4K', iid='B003XM9774', r_ui=5.0, est=4.490909090909091, details={'actual_k': 0, 'was_impossible': False}),\n",
       " Prediction(uid='AT09WGFUM934H', iid='B008A36R2Y', r_ui=5.0, est=4.3164556962025316, details={'actual_k': 0, 'was_impossible': False}),\n",
       " Prediction(uid='A2CIQEY05SPHTZ', iid='B001TK3ACA', r_ui=4.0, est=4.07028407439298, details={'actual_k': 2, 'was_impossible': False}),\n",
       " Prediction(uid='A25UZ7MA72SMKM', iid='B003ZX8B1E', r_ui=5.0, est=4.260273972602739, details={'actual_k': 0, 'was_impossible': False}),\n",
       " Prediction(uid='ASJLXOX1VD4DF', iid='B005UA65YK', r_ui=3.0, est=3.5833333333333335, details={'actual_k': 0, 'was_impossible': False}),\n",
       " Prediction(uid='A2NYK9KWFMJV4Y', iid='B0047T79VS', r_ui=5.0, est=4.798701298701299, details={'actual_k': 0, 'was_impossible': False}),\n",
       " Prediction(uid='A2AY4YUOX2N1BQ', iid='B001A5V1K2', r_ui=4.0, est=4.562790697674418, details={'actual_k': 0, 'was_impossible': False}),\n",
       " Prediction(uid='A1A306IAZ3TM1', iid='B000SK9DLY', r_ui=3.0, est=4.262595194588521, details={'was_impossible': True, 'reason': 'User and/or item is unkown.'}),\n",
       " Prediction(uid='A3M7R4PD0FEPUB', iid='B002R5AM7C', r_ui=5.0, est=5, details={'actual_k': 6, 'was_impossible': False}),\n",
       " Prediction(uid='A37CEYB95LK6R6', iid='B007R3YHVG', r_ui=4.0, est=4.262595194588521, details={'was_impossible': True, 'reason': 'User and/or item is unkown.'}),\n",
       " Prediction(uid='A3CP3J7OEGQMD5', iid='B005KQ0S8S', r_ui=5.0, est=4.25, details={'actual_k': 0, 'was_impossible': False}),\n",
       " Prediction(uid='A32QOZWIKQDNZX', iid='B000FYZARY', r_ui=5.0, est=4.409090909090909, details={'actual_k': 0, 'was_impossible': False}),\n",
       " Prediction(uid='A16J281SJ9QXIQ', iid='B0014Z29OU', r_ui=5.0, est=5, details={'actual_k': 1, 'was_impossible': False}),\n",
       " Prediction(uid='A1VRANSQ0WF1YS', iid='B0000C20XI', r_ui=3.0, est=4.041666666666667, details={'actual_k': 0, 'was_impossible': False}),\n",
       " Prediction(uid='A3TCMJ6GKZJFBQ', iid='B00022VBAE', r_ui=2.0, est=4.019230769230769, details={'actual_k': 0, 'was_impossible': False}),\n",
       " Prediction(uid='A3AYSYSLHU26U9', iid='B007X3VEUW', r_ui=2.0, est=3.0847640168268278, details={'actual_k': 2, 'was_impossible': False}),\n",
       " Prediction(uid='AGX2K0FMS0IVL', iid='B002EEP24O', r_ui=5.0, est=4.262595194588521, details={'was_impossible': True, 'reason': 'User and/or item is unkown.'}),\n",
       " Prediction(uid='A1B6O7SAIYG2N0', iid='B00BEHRQB4', r_ui=4.0, est=5, details={'actual_k': 1, 'was_impossible': False}),\n",
       " Prediction(uid='A1EVV74UQYVKRY', iid='B000O8I474', r_ui=5.0, est=5, details={'actual_k': 1, 'was_impossible': False}),\n",
       " Prediction(uid='A12EVK82QUTSA6', iid='B002KC55OM', r_ui=4.0, est=4.1875, details={'actual_k': 1, 'was_impossible': False}),\n",
       " Prediction(uid='A2BLFCOPSMBOZ9', iid='B006YQBKE4', r_ui=5.0, est=5, details={'actual_k': 1, 'was_impossible': False}),\n",
       " Prediction(uid='A2X695AM08AIN1', iid='B0027VT6V4', r_ui=4.0, est=4.162162162162162, details={'actual_k': 0, 'was_impossible': False}),\n",
       " Prediction(uid='A1DTCJV6KOMJOA', iid='B002TOJXMQ', r_ui=5.0, est=3.6775568181818183, details={'actual_k': 1, 'was_impossible': False}),\n",
       " Prediction(uid='A3PU3EDJ2FG1AW', iid='B004KU0RJK', r_ui=4.0, est=3.825, details={'actual_k': 0, 'was_impossible': False}),\n",
       " Prediction(uid='A6XDZ1MJ0B1A2', iid='B00APP6694', r_ui=5.0, est=3.275967143614203, details={'actual_k': 1, 'was_impossible': False}),\n",
       " Prediction(uid='A1QNYLBG73QRNF', iid='B0000V3OKM', r_ui=1.0, est=4.262595194588521, details={'was_impossible': True, 'reason': 'User and/or item is unkown.'}),\n",
       " Prediction(uid='A1W415JP5WEAJK', iid='B004TLH7C0', r_ui=5.0, est=4.395348837209302, details={'actual_k': 0, 'was_impossible': False}),\n",
       " Prediction(uid='A1F1A0QQP2XVH5', iid='B00AW54Z7C', r_ui=4.0, est=4.030769230769231, details={'actual_k': 0, 'was_impossible': False}),\n",
       " Prediction(uid='A2HXEJXEQQTM1D', iid='B001I4HF8W', r_ui=5.0, est=4.262595194588521, details={'was_impossible': True, 'reason': 'User and/or item is unkown.'}),\n",
       " Prediction(uid='A1F9Z42CFF9IAY', iid='B000JMJWV2', r_ui=4.0, est=3.694505937673679, details={'actual_k': 4, 'was_impossible': False}),\n",
       " Prediction(uid='A3QJU4FEN8PQSZ', iid='B005D9LG6K', r_ui=4.0, est=3.788732394366197, details={'actual_k': 0, 'was_impossible': False}),\n",
       " Prediction(uid='A1BT6TL7UCIC5Y', iid='B005IHAIHA', r_ui=5.0, est=4.356521739130435, details={'actual_k': 0, 'was_impossible': False}),\n",
       " Prediction(uid='A36K2N527TXXJN', iid='B004XANKWI', r_ui=2.0, est=2.0285968743679095, details={'actual_k': 2, 'was_impossible': False}),\n",
       " Prediction(uid='A1XXMNLOLKNO0I', iid='B007PTCFFW', r_ui=5.0, est=4.823529411764706, details={'actual_k': 0, 'was_impossible': False}),\n",
       " Prediction(uid='A3FPSY1M6G7XIB', iid='B003ZSHNGS', r_ui=5.0, est=4.713353413654619, details={'actual_k': 1, 'was_impossible': False}),\n",
       " Prediction(uid='AKT8TGIT6VVZ5', iid='B0081ZDVI4', r_ui=5.0, est=4.262595194588521, details={'was_impossible': True, 'reason': 'User and/or item is unkown.'}),\n",
       " Prediction(uid='A15T9G38F589KM', iid='B009VV56TY', r_ui=5.0, est=4.629108120673835, details={'actual_k': 2, 'was_impossible': False}),\n",
       " Prediction(uid='AYCAIHABPYWVJ', iid='B0039NLS4C', r_ui=4.0, est=4.184210526315789, details={'actual_k': 0, 'was_impossible': False}),\n",
       " Prediction(uid='A1AZQCVCDBQP6', iid='B002J9GDBA', r_ui=5.0, est=4.262595194588521, details={'was_impossible': True, 'reason': 'User and/or item is unkown.'}),\n",
       " Prediction(uid='A1IBKN1GXYJ3K4', iid='B00006LHF0', r_ui=2.0, est=4.262595194588521, details={'was_impossible': True, 'reason': 'User and/or item is unkown.'}),\n",
       " Prediction(uid='A3N8O68DOEQ2FE', iid='B0012Z3MKW', r_ui=5.0, est=4.787878787878788, details={'actual_k': 0, 'was_impossible': False}),\n",
       " Prediction(uid='A1J75JJ0Q2OEJN', iid='B0034CL2ZI', r_ui=5.0, est=4.309294457368174, details={'actual_k': 15, 'was_impossible': False}),\n",
       " Prediction(uid='A12DQZKRKTNF5E', iid='B009F1K79Y', r_ui=4.0, est=4.230769230769231, details={'actual_k': 0, 'was_impossible': False}),\n",
       " Prediction(uid='A2I18AO597DSDI', iid='B00JXLGE70', r_ui=4.0, est=3.6363636363636362, details={'actual_k': 0, 'was_impossible': False}),\n",
       " Prediction(uid='ATDQ9CGCWTT8D', iid='B004UAKCS6', r_ui=3.0, est=4.175, details={'actual_k': 0, 'was_impossible': False}),\n",
       " Prediction(uid='A17BUUBOU0598B', iid='B000S5QIL2', r_ui=3.0, est=4.262595194588521, details={'was_impossible': True, 'reason': 'User and/or item is unkown.'}),\n",
       " Prediction(uid='A3PCEB9ND82AGE', iid='B00HC0ZDOE', r_ui=5.0, est=4.909090909090909, details={'actual_k': 0, 'was_impossible': False}),\n",
       " Prediction(uid='A2YHXGPCTENZY3', iid='B007FEFQDA', r_ui=5.0, est=2.267857142857143, details={'actual_k': 0, 'was_impossible': False}),\n",
       " Prediction(uid='A200RY2ELZL2Q3', iid='B007L6NYAO', r_ui=5.0, est=4.262595194588521, details={'was_impossible': True, 'reason': 'User and/or item is unkown.'}),\n",
       " Prediction(uid='A2PSC7LUNIDEAH', iid='B0006TOGLY', r_ui=4.0, est=4.262595194588521, details={'was_impossible': True, 'reason': 'User and/or item is unkown.'}),\n",
       " Prediction(uid='AWH2AY17ZU7W2', iid='B002YCIN9W', r_ui=4.0, est=4.285714285714286, details={'actual_k': 0, 'was_impossible': False}),\n",
       " Prediction(uid='A1URXSRV6WDHVY', iid='B004CLYE8C', r_ui=5.0, est=4.868000999903633, details={'actual_k': 8, 'was_impossible': False}),\n",
       " Prediction(uid='A3FEGTOLCWXSV4', iid='B0084Z0YJU', r_ui=5.0, est=3.6780303030303028, details={'actual_k': 1, 'was_impossible': False}),\n",
       " Prediction(uid='A2R6RA8FRBS608', iid='B000EUFJX4', r_ui=4.0, est=4.447916666666667, details={'actual_k': 0, 'was_impossible': False}),\n",
       " Prediction(uid='A11FX8HL2ANK6T', iid='B003LSTD38', r_ui=5.0, est=4.716787439613527, details={'actual_k': 1, 'was_impossible': False}),\n",
       " Prediction(uid='A1UEL5C1N6E5SE', iid='B000E1PTGK', r_ui=4.0, est=4.093333333333334, details={'actual_k': 0, 'was_impossible': False}),\n",
       " Prediction(uid='A2XIOXRRYX0KZY', iid='B00ARB5FLQ', r_ui=4.0, est=3.970313247623392, details={'actual_k': 14, 'was_impossible': False}),\n",
       " Prediction(uid='A30R8VFR16RE32', iid='B007RFW1NA', r_ui=3.0, est=4.882539682539683, details={'actual_k': 1, 'was_impossible': False}),\n",
       " Prediction(uid='ABH9D1TEOJ56E', iid='B00006LV79', r_ui=4.0, est=2.67741935483871, details={'actual_k': 1, 'was_impossible': False}),\n",
       " Prediction(uid='A2N3JSOIQ6ZNFL', iid='B003TP2PU6', r_ui=5.0, est=4.262595194588521, details={'was_impossible': True, 'reason': 'User and/or item is unkown.'}),\n",
       " Prediction(uid='A2JE071UW97J2A', iid='B004YIZXF6', r_ui=1.0, est=4.686746987951807, details={'actual_k': 0, 'was_impossible': False}),\n",
       " Prediction(uid='A186697K4XKXQL', iid='B008R7EWF2', r_ui=4.0, est=4.479565223021373, details={'actual_k': 2, 'was_impossible': False}),\n",
       " Prediction(uid='A680RUE1FDO8B', iid='B000I68LQG', r_ui=5.0, est=4.262595194588521, details={'was_impossible': True, 'reason': 'User and/or item is unkown.'}),\n",
       " Prediction(uid='A3OZA8HNJM26DC', iid='B00C5B18CQ', r_ui=5.0, est=4.262595194588521, details={'was_impossible': True, 'reason': 'User and/or item is unkown.'}),\n",
       " Prediction(uid='A2KYRPDKVBI2R4', iid='B003YTSXYO', r_ui=5.0, est=4.738738738738738, details={'actual_k': 0, 'was_impossible': False}),\n",
       " Prediction(uid='A1E1LEVQ9VQNK', iid='B005HMKKH4', r_ui=5.0, est=5, details={'actual_k': 5, 'was_impossible': False}),\n",
       " Prediction(uid='A257X1MQJO82P2', iid='B007SBYKNC', r_ui=5.0, est=4.262595194588521, details={'was_impossible': True, 'reason': 'User and/or item is unkown.'}),\n",
       " Prediction(uid='AW63IRQWH10GF', iid='B00BLGUKDE', r_ui=3.0, est=4.03030303030303, details={'actual_k': 0, 'was_impossible': False}),\n",
       " Prediction(uid='A2FHTXLKY1XJDB', iid='B0024NKHAE', r_ui=5.0, est=3.911111111111111, details={'actual_k': 0, 'was_impossible': False}),\n",
       " Prediction(uid='A2A4X545ERLS7H', iid='B00B46XUQU', r_ui=1.0, est=4.921513050250971, details={'actual_k': 4, 'was_impossible': False}),\n",
       " Prediction(uid='A14X244VGHWPSX', iid='B0015VW3BM', r_ui=5.0, est=4.166388239224858, details={'actual_k': 1, 'was_impossible': False}),\n",
       " Prediction(uid='A3OYO7B6SS7QLH', iid='B00009R6WO', r_ui=5.0, est=4.045454545454546, details={'actual_k': 0, 'was_impossible': False}),\n",
       " Prediction(uid='A2TRXEZYU9GYY8', iid='B000BNUDXA', r_ui=5.0, est=4.262595194588521, details={'was_impossible': True, 'reason': 'User and/or item is unkown.'}),\n",
       " Prediction(uid='ARW8VGT10JG60', iid='B005BMWV54', r_ui=5.0, est=4.262595194588521, details={'was_impossible': True, 'reason': 'User and/or item is unkown.'}),\n",
       " Prediction(uid='A1QRST0A3IQIEF', iid='B000HDJY7K', r_ui=5.0, est=4.944444444444445, details={'actual_k': 0, 'was_impossible': False}),\n",
       " Prediction(uid='A1YEPFLLH42OU1', iid='B002MUGUFK', r_ui=4.0, est=4.4646464646464645, details={'actual_k': 0, 'was_impossible': False}),\n",
       " Prediction(uid='A2V0I904FH7ABY', iid='B001TZWNF0', r_ui=5.0, est=4.796416673185203, details={'actual_k': 2, 'was_impossible': False}),\n",
       " Prediction(uid='A2PK64OVZA1U8Z', iid='B000066E6Y', r_ui=1.0, est=4.383333333333334, details={'actual_k': 0, 'was_impossible': False}),\n",
       " Prediction(uid='A361M14PU2GUEG', iid='B007FNF5IC', r_ui=4.0, est=5, details={'actual_k': 1, 'was_impossible': False}),\n",
       " Prediction(uid='A1J75JJ0Q2OEJN', iid='B0043T7FXE', r_ui=4.0, est=3.585104496269097, details={'actual_k': 5, 'was_impossible': False}),\n",
       " Prediction(uid='AFM7FK7NFEKFZ', iid='B0079MX4Q4', r_ui=5.0, est=4.8108108108108105, details={'actual_k': 0, 'was_impossible': False}),\n",
       " Prediction(uid='A23R3EOZ837242', iid='B006K550J0', r_ui=4.0, est=4.43984962406015, details={'actual_k': 1, 'was_impossible': False}),\n",
       " Prediction(uid='AONUCJBC85BL', iid='B001O5CCQK', r_ui=4.0, est=4.0100338621038, details={'actual_k': 4, 'was_impossible': False}),\n",
       " Prediction(uid='A2NXRD80LWHUOP', iid='B000MAF0X0', r_ui=1.0, est=2.7857142857142856, details={'actual_k': 0, 'was_impossible': False}),\n",
       " Prediction(uid='AA8RBTN3J2F5H', iid='B004X49TAG', r_ui=5.0, est=4.828571428571428, details={'actual_k': 0, 'was_impossible': False}),\n",
       " Prediction(uid='A3NYBI5VMVEEIK', iid='B003O3RSDC', r_ui=3.0, est=4.262595194588521, details={'was_impossible': True, 'reason': 'User and/or item is unkown.'}),\n",
       " Prediction(uid='A1YEPFLLH42OU1', iid='B002YU83YO', r_ui=5.0, est=5, details={'actual_k': 3, 'was_impossible': False}),\n",
       " Prediction(uid='A141OPVE376YFI', iid='B002ZAVVHY', r_ui=5.0, est=4.574074074074074, details={'actual_k': 0, 'was_impossible': False}),\n",
       " Prediction(uid='A3CEUT263RNUDO', iid='B003M0NURK', r_ui=3.0, est=4.467070823128114, details={'actual_k': 6, 'was_impossible': False}),\n",
       " Prediction(uid='A31HE83MU98GBV', iid='B0016ZUPVM', r_ui=5.0, est=4.262595194588521, details={'was_impossible': True, 'reason': 'User and/or item is unkown.'}),\n",
       " Prediction(uid='AOTZOHB2LZGYR', iid='B008U5ZM6E', r_ui=5.0, est=4.447368421052632, details={'actual_k': 0, 'was_impossible': False}),\n",
       " Prediction(uid='A38RMU1Y5TDP9', iid='B005UBNGY6', r_ui=3.0, est=4.842995169082125, details={'actual_k': 1, 'was_impossible': False}),\n",
       " Prediction(uid='A3J8A5L5AF5TX9', iid='B0028N6VN2', r_ui=4.0, est=4.029545454545454, details={'actual_k': 1, 'was_impossible': False}),\n",
       " Prediction(uid='A2DIQTZPF26T1L', iid='B002TA7VO2', r_ui=5.0, est=4.705882352941177, details={'actual_k': 0, 'was_impossible': False}),\n",
       " Prediction(uid='A3GVXKCTFN3YDN', iid='B00BOHNYTW', r_ui=5.0, est=5, details={'actual_k': 4, 'was_impossible': False}),\n",
       " Prediction(uid='A362FM6FYA1SYS', iid='B000EM8GDW', r_ui=5.0, est=5, details={'actual_k': 1, 'was_impossible': False}),\n",
       " Prediction(uid='A3RGJ1FXOB1ZLL', iid='B004CFHKPC', r_ui=5.0, est=4.892857142857143, details={'actual_k': 0, 'was_impossible': False}),\n",
       " Prediction(uid='A1ZXMMQPYC3Z9I', iid='B000CSIJIK', r_ui=5.0, est=4.262595194588521, details={'was_impossible': True, 'reason': 'User and/or item is unkown.'}),\n",
       " Prediction(uid='A2J4XMWKR8PPD0', iid='B000V4X22I', r_ui=5.0, est=4.262595194588521, details={'was_impossible': True, 'reason': 'User and/or item is unkown.'}),\n",
       " Prediction(uid='A1IU7S4HCK1XK0', iid='B006GWO5WK', r_ui=3.0, est=3.6978758841583037, details={'actual_k': 4, 'was_impossible': False}),\n",
       " Prediction(uid='A18S2VGUH9SCV5', iid='B004NNVHUC', r_ui=4.0, est=4.262595194588521, details={'was_impossible': True, 'reason': 'User and/or item is unkown.'}),\n",
       " Prediction(uid='A2PB325LKXYDOL', iid='B0031GK3OI', r_ui=5.0, est=5, details={'actual_k': 0, 'was_impossible': False}),\n",
       " Prediction(uid='A3PDWA32BAMB2Y', iid='B000P0PF9G', r_ui=5.0, est=4.122448979591836, details={'actual_k': 0, 'was_impossible': False}),\n",
       " Prediction(uid='A3CIET1UO3G51E', iid='B003TFO82E', r_ui=5.0, est=4.317073170731708, details={'actual_k': 0, 'was_impossible': False}),\n",
       " Prediction(uid='A2L9OPJAAEK08Q', iid='B00083XXZS', r_ui=3.0, est=4.262595194588521, details={'was_impossible': True, 'reason': 'User and/or item is unkown.'}),\n",
       " Prediction(uid='A25C2M3QF9G7OQ', iid='B000ERAON2', r_ui=5.0, est=4.613526570048309, details={'actual_k': 0, 'was_impossible': False}),\n",
       " Prediction(uid='A3LPL35P7FH78Y', iid='B0074J7ITG', r_ui=5.0, est=5, details={'actual_k': 1, 'was_impossible': False}),\n",
       " Prediction(uid='APG2BHOAXPNEQ', iid='B0054OWT0G', r_ui=5.0, est=4.2727272727272725, details={'actual_k': 0, 'was_impossible': False}),\n",
       " Prediction(uid='A1TR1R2QKWRSRA', iid='B004CLYEH8', r_ui=4.0, est=3.9737332558657754, details={'actual_k': 15, 'was_impossible': False}),\n",
       " Prediction(uid='A3CKI6VEH0HBMJ', iid='B000ARPLXY', r_ui=5.0, est=4.262595194588521, details={'was_impossible': True, 'reason': 'User and/or item is unkown.'}),\n",
       " Prediction(uid='A25WJCAP606YMP', iid='B00EOI2SR2', r_ui=5.0, est=4.3, details={'actual_k': 0, 'was_impossible': False}),\n",
       " Prediction(uid='AAXAKFQEAQPWC', iid='B003ES5ZUU', r_ui=3.0, est=4.6001611290911795, details={'actual_k': 2, 'was_impossible': False}),\n",
       " Prediction(uid='A3OA4DV4L81N1D', iid='B0000YD2JC', r_ui=4.0, est=4.262595194588521, details={'was_impossible': True, 'reason': 'User and/or item is unkown.'}),\n",
       " Prediction(uid='A3MFORLOKIOEQY', iid='B00D6KQ2GC', r_ui=5.0, est=4.235280314314197, details={'actual_k': 4, 'was_impossible': False}),\n",
       " Prediction(uid='A2M14CFAMF8J7I', iid='B00BOHNYU6', r_ui=5.0, est=5, details={'actual_k': 4, 'was_impossible': False}),\n",
       " Prediction(uid='AR3EVUQF0AC7R', iid='B004YIZWXO', r_ui=2.0, est=2.309322033898305, details={'actual_k': 1, 'was_impossible': False}),\n",
       " Prediction(uid='A1ODOGXEYECQQ8', iid='B005HMO6A6', r_ui=4.0, est=4.292857142857143, details={'actual_k': 0, 'was_impossible': False}),\n",
       " Prediction(uid='A3RR2P5IS3DGPR', iid='B005JK62R6', r_ui=4.0, est=3.115977875282958, details={'actual_k': 2, 'was_impossible': False}),\n",
       " Prediction(uid='A15J9K7O10A3M6', iid='B0081UEAH0', r_ui=5.0, est=4.262595194588521, details={'was_impossible': True, 'reason': 'User and/or item is unkown.'}),\n",
       " Prediction(uid='A2QNS95WGN35G9', iid='B001N85NMI', r_ui=5.0, est=3.4727891156462585, details={'actual_k': 1, 'was_impossible': False}),\n",
       " Prediction(uid='AW68KVDV7BBRS', iid='B002JCSV8U', r_ui=5.0, est=4.2727272727272725, details={'actual_k': 0, 'was_impossible': False}),\n",
       " Prediction(uid='A1ODOGXEYECQQ8', iid='B00J5174TU', r_ui=5.0, est=4.78423645320197, details={'actual_k': 1, 'was_impossible': False}),\n",
       " Prediction(uid='AUUV3XDYB16X5', iid='B006RJQ74G', r_ui=3.0, est=4.262595194588521, details={'was_impossible': True, 'reason': 'User and/or item is unkown.'}),\n",
       " Prediction(uid='A3CEUT263RNUDO', iid='B0019R560C', r_ui=5.0, est=4.262595194588521, details={'was_impossible': True, 'reason': 'User and/or item is unkown.'}),\n",
       " Prediction(uid='A20OBCQWBKCGZT', iid='B00009W3TY', r_ui=3.0, est=2.7712061327238704, details={'actual_k': 2, 'was_impossible': False}),\n",
       " Prediction(uid='A36K2N527TXXJN', iid='B00BALK9CM', r_ui=4.0, est=3.2369339698734767, details={'actual_k': 2, 'was_impossible': False}),\n",
       " Prediction(uid='A2E1EFNIZL2FVA', iid='B006RG21ZS', r_ui=5.0, est=4.461538461538462, details={'actual_k': 0, 'was_impossible': False}),\n",
       " Prediction(uid='A1V4A5U5O3TMMD', iid='B003CTR3ME', r_ui=5.0, est=4.262595194588521, details={'was_impossible': True, 'reason': 'User and/or item is unkown.'}),\n",
       " Prediction(uid='A1EOTB1WHLSW6G', iid='B00EU8ZR8I', r_ui=3.0, est=4.4375, details={'actual_k': 0, 'was_impossible': False}),\n",
       " Prediction(uid='A2JKM8KF3296CW', iid='B00HPM1FZ0', r_ui=4.0, est=3.5239390513238513, details={'actual_k': 4, 'was_impossible': False}),\n",
       " Prediction(uid='A3EFSLEMHNPP6A', iid='B008Y1KK6Q', r_ui=4.0, est=4.364232460835751, details={'actual_k': 4, 'was_impossible': False}),\n",
       " Prediction(uid='AAA0TUKS5VBSA', iid='B003F5NS9W', r_ui=4.0, est=4.208955223880597, details={'actual_k': 0, 'was_impossible': False}),\n",
       " Prediction(uid='A2R6RA8FRBS608', iid='B00029U1DK', r_ui=5.0, est=5, details={'actual_k': 1, 'was_impossible': False}),\n",
       " Prediction(uid='A3MQAQT8C6D1I7', iid='B00006RVPW', r_ui=5.0, est=4.9374016644737715, details={'actual_k': 2, 'was_impossible': False}),\n",
       " Prediction(uid='A30ADSBTWCORYC', iid='B006JH8T3S', r_ui=5.0, est=4.722222222222222, details={'actual_k': 0, 'was_impossible': False}),\n",
       " Prediction(uid='A2XA8CW5DF4MNZ', iid='B0025ZH43O', r_ui=5.0, est=4.5344827586206895, details={'actual_k': 0, 'was_impossible': False}),\n",
       " Prediction(uid='AGHZXQL9F94T9', iid='B00009VSIM', r_ui=3.0, est=4.262595194588521, details={'was_impossible': True, 'reason': 'User and/or item is unkown.'}),\n",
       " Prediction(uid='A25WJCAP606YMP', iid='B003WM89UQ', r_ui=5.0, est=4.262595194588521, details={'was_impossible': True, 'reason': 'User and/or item is unkown.'}),\n",
       " Prediction(uid='ACYZXQ2JKPZKT', iid='B005DTN1WW', r_ui=4.0, est=4.262595194588521, details={'was_impossible': True, 'reason': 'User and/or item is unkown.'}),\n",
       " Prediction(uid='A11KQADBYE0UZL', iid='B005CTKYB4', r_ui=3.0, est=4.617647058823529, details={'actual_k': 0, 'was_impossible': False}),\n",
       " Prediction(uid='AZMY6E8B52L2T', iid='B00HA4ORMQ', r_ui=5.0, est=5, details={'actual_k': 3, 'was_impossible': False}),\n",
       " Prediction(uid='A1MCH5RXDOH87H', iid='B003ES5ZSW', r_ui=3.0, est=3.4722222222222223, details={'actual_k': 0, 'was_impossible': False}),\n",
       " Prediction(uid='A2WJ5XSE4I9F55', iid='B001EYU3L2', r_ui=3.0, est=3.283333333333333, details={'actual_k': 0, 'was_impossible': False}),\n",
       " Prediction(uid='A28UMA3GW9L124', iid='B00D3F7D7M', r_ui=3.0, est=2.8140459348527873, details={'actual_k': 3, 'was_impossible': False}),\n",
       " Prediction(uid='A2CIQEY05SPHTZ', iid='B0030M5NFC', r_ui=4.0, est=3.925, details={'actual_k': 0, 'was_impossible': False}),\n",
       " Prediction(uid='A1XEQGYY1IL8CD', iid='B0002HMRL6', r_ui=5.0, est=4.620689655172414, details={'actual_k': 0, 'was_impossible': False}),\n",
       " Prediction(uid='AT09WGFUM934H', iid='B0090IA3AU', r_ui=5.0, est=4.3164556962025316, details={'actual_k': 0, 'was_impossible': False}),\n",
       " Prediction(uid='AXU3VKZE848IY', iid='B0026MRTHM', r_ui=3.0, est=4.377917102055033, details={'actual_k': 1, 'was_impossible': False}),\n",
       " Prediction(uid='A680RUE1FDO8B', iid='B001B0APOO', r_ui=5.0, est=2.2092580304259135, details={'actual_k': 1, 'was_impossible': False}),\n",
       " Prediction(uid='A3OXHLG6DIBRW8', iid='B000NVR9SM', r_ui=5.0, est=4.427728613569322, details={'actual_k': 0, 'was_impossible': False}),\n",
       " Prediction(uid='A1E55W6ES0FY17', iid='B000V1PB0M', r_ui=5.0, est=4.262595194588521, details={'was_impossible': True, 'reason': 'User and/or item is unkown.'}),\n",
       " Prediction(uid='A26EQ8U96JA92T', iid='B005MR6CLM', r_ui=5.0, est=4.679245283018868, details={'actual_k': 0, 'was_impossible': False}),\n",
       " Prediction(uid='A24HWYHR28JJ7A', iid='B004MSQZUU', r_ui=4.0, est=4.743815078192763, details={'actual_k': 3, 'was_impossible': False}),\n",
       " Prediction(uid='A21I62TCDL4754', iid='B009JRMBVG', r_ui=4.0, est=4.74573055028463, details={'actual_k': 1, 'was_impossible': False}),\n",
       " Prediction(uid='A3P69DTOXII004', iid='B00DXFF6EO', r_ui=5.0, est=4.262595194588521, details={'was_impossible': True, 'reason': 'User and/or item is unkown.'}),\n",
       " Prediction(uid='A27AF4DLLOBQDQ', iid='B0027VT6OG', r_ui=4.0, est=4.288888888888889, details={'actual_k': 0, 'was_impossible': False}),\n",
       " Prediction(uid='AL1XV4L25FZ2S', iid='B004TBBSNY', r_ui=5.0, est=3.6595744680851063, details={'actual_k': 0, 'was_impossible': False}),\n",
       " Prediction(uid='A1QVFHPY8418HC', iid='B004LB4N02', r_ui=5.0, est=4.392129884424876, details={'actual_k': 1, 'was_impossible': False}),\n",
       " Prediction(uid='A2LCE1D0TW2XY0', iid='B000ALLMI8', r_ui=2.0, est=4.194805194805195, details={'actual_k': 0, 'was_impossible': False}),\n",
       " Prediction(uid='APBB297H3ZA5E', iid='B000EMXB82', r_ui=5.0, est=4.262595194588521, details={'was_impossible': True, 'reason': 'User and/or item is unkown.'}),\n",
       " Prediction(uid='A1PI8VBCXXSGC7', iid='B009X01C64', r_ui=3.0, est=4.752034286190066, details={'actual_k': 3, 'was_impossible': False}),\n",
       " Prediction(uid='A1WF4QNIE2Z3I7', iid='B003FVJYF8', r_ui=5.0, est=5, details={'actual_k': 1, 'was_impossible': False}),\n",
       " Prediction(uid='A1URXSRV6WDHVY', iid='B00119T6NQ', r_ui=5.0, est=5, details={'actual_k': 5, 'was_impossible': False}),\n",
       " Prediction(uid='A25FL6VLD7S23S', iid='B00005B6UF', r_ui=3.0, est=4.933333333333334, details={'actual_k': 0, 'was_impossible': False}),\n",
       " Prediction(uid='A2LXX47A0KMJVX', iid='B0008ESGAY', r_ui=5.0, est=4.262595194588521, details={'was_impossible': True, 'reason': 'User and/or item is unkown.'}),\n",
       " Prediction(uid='A2AF0NOCM71J0B', iid='B000243DNA', r_ui=5.0, est=4.461538461538462, details={'actual_k': 0, 'was_impossible': False}),\n",
       " Prediction(uid='AXU3VKZE848IY', iid='B008VD4TLY', r_ui=3.0, est=4.0344827586206895, details={'actual_k': 0, 'was_impossible': False}),\n",
       " Prediction(uid='A30C8WHQ2CYFO4', iid='B002C6QC3E', r_ui=5.0, est=4.262595194588521, details={'was_impossible': True, 'reason': 'User and/or item is unkown.'}),\n",
       " Prediction(uid='AGXV8E7XK9J6H', iid='B00065ANYW', r_ui=4.0, est=4.709302325581396, details={'actual_k': 1, 'was_impossible': False}),\n",
       " Prediction(uid='A2I6GN7OHB9JKF', iid='B009OBCAW2', r_ui=5.0, est=5, details={'actual_k': 1, 'was_impossible': False}),\n",
       " Prediction(uid='AEL6CQNQXONBX', iid='B000OTF6G0', r_ui=2.0, est=4.936832651895243, details={'actual_k': 2, 'was_impossible': False}),\n",
       " Prediction(uid='AG5WSXI52FPKH', iid='B00834SJNA', r_ui=5.0, est=4.558833738285317, details={'actual_k': 1, 'was_impossible': False}),\n",
       " Prediction(uid='A30X750M8V1XXW', iid='B001GEC7YG', r_ui=3.0, est=4.262595194588521, details={'was_impossible': True, 'reason': 'User and/or item is unkown.'}),\n",
       " Prediction(uid='A38KK0SZYEH5UD', iid='B0081FLFQE', r_ui=4.0, est=4.192577121637358, details={'actual_k': 4, 'was_impossible': False}),\n",
       " Prediction(uid='A1CPRP3VFJRS1R', iid='B003TSZ3IY', r_ui=5.0, est=4.262595194588521, details={'was_impossible': True, 'reason': 'User and/or item is unkown.'}),\n",
       " Prediction(uid='A16C19G0I2DE8S', iid='B00D856NOG', r_ui=5.0, est=4.782608695652174, details={'actual_k': 0, 'was_impossible': False}),\n",
       " Prediction(uid='A23ONMGKEWDG4M', iid='B000MXDRXM', r_ui=5.0, est=4.285714285714286, details={'actual_k': 0, 'was_impossible': False}),\n",
       " Prediction(uid='A38NHXL5257E3B', iid='B003SGCO3E', r_ui=5.0, est=4.777777777777778, details={'actual_k': 1, 'was_impossible': False}),\n",
       " Prediction(uid='A2PY5ED630H0QJ', iid='B000I97FJ2', r_ui=5.0, est=3.875, details={'actual_k': 0, 'was_impossible': False}),\n",
       " Prediction(uid='A2L90SGUP36KGA', iid='B00AVBDGHM', r_ui=4.0, est=5, details={'actual_k': 1, 'was_impossible': False}),\n",
       " Prediction(uid='AWPODHOB4GFWL', iid='B0038W0N8G', r_ui=4.0, est=4.396039603960396, details={'actual_k': 0, 'was_impossible': False}),\n",
       " Prediction(uid='A3775OP5VTX5ON', iid='B0019UDB1A', r_ui=5.0, est=4.262595194588521, details={'was_impossible': True, 'reason': 'User and/or item is unkown.'}),\n",
       " Prediction(uid='A2D1ZQEFS1NBH2', iid='B006TG7KWU', r_ui=4.0, est=4.938095238095238, details={'actual_k': 1, 'was_impossible': False}),\n",
       " Prediction(uid='AD8DLOGHAXL', iid='B000051299', r_ui=5.0, est=4.5813953488372094, details={'actual_k': 0, 'was_impossible': False}),\n",
       " Prediction(uid='AQM0K7MBBT4AY', iid='B005HY4UPK', r_ui=3.0, est=3.8313110886417254, details={'actual_k': 1, 'was_impossible': False}),\n",
       " Prediction(uid='A3NG7X4APIV649', iid='B00310PJM0', r_ui=5.0, est=4.506371621341427, details={'actual_k': 2, 'was_impossible': False}),\n",
       " Prediction(uid='AGFSSC5DBY2HU', iid='B000KO0GY6', r_ui=5.0, est=4.578611035678707, details={'actual_k': 2, 'was_impossible': False}),\n",
       " Prediction(uid='A3284KYDZ00BZA', iid='B000RZQZM0', r_ui=5.0, est=4.507848730224467, details={'actual_k': 5, 'was_impossible': False}),\n",
       " Prediction(uid='A21T0D2F7SKG5S', iid='B005VF62KG', r_ui=2.0, est=4.262595194588521, details={'was_impossible': True, 'reason': 'User and/or item is unkown.'}),\n",
       " Prediction(uid='A200DY76VXVGP9', iid='B002VR6A9K', r_ui=5.0, est=4.902439024390244, details={'actual_k': 0, 'was_impossible': False}),\n",
       " Prediction(uid='A1W415JP5WEAJK', iid='B002XVUTPK', r_ui=4.0, est=4.395348837209302, details={'actual_k': 0, 'was_impossible': False}),\n",
       " Prediction(uid='A2CL818RN52NWN', iid='B0000300EC', r_ui=5.0, est=4.262595194588521, details={'was_impossible': True, 'reason': 'User and/or item is unkown.'}),\n",
       " Prediction(uid='A28CCQNXWV6WA2', iid='B000M4KXH4', r_ui=3.0, est=3.272727272727273, details={'actual_k': 0, 'was_impossible': False}),\n",
       " Prediction(uid='A64LEAZ2QF8L2', iid='B000F9YN22', r_ui=5.0, est=4.914893617021277, details={'actual_k': 0, 'was_impossible': False}),\n",
       " Prediction(uid='A3HR0ZZOFKQ97N', iid='B003X26T70', r_ui=5.0, est=4.262595194588521, details={'was_impossible': True, 'reason': 'User and/or item is unkown.'}),\n",
       " Prediction(uid='A357B3PUHSVQA', iid='B004N6ZC8W', r_ui=5.0, est=4.078947368421053, details={'actual_k': 1, 'was_impossible': False}),\n",
       " Prediction(uid='A1VS1LL905P5L5', iid='B00005UKBD', r_ui=5.0, est=4.262595194588521, details={'was_impossible': True, 'reason': 'User and/or item is unkown.'}),\n",
       " Prediction(uid='A3PD8JD9L4WEII', iid='B003732AE6', r_ui=5.0, est=4.354838709677419, details={'actual_k': 0, 'was_impossible': False}),\n",
       " Prediction(uid='A1W415JP5WEAJK', iid='B00E56WY18', r_ui=4.0, est=4.8132592849704965, details={'actual_k': 1, 'was_impossible': False}),\n",
       " Prediction(uid='A28P7V9KI7MXP', iid='B00698WP50', r_ui=5.0, est=4.848484848484849, details={'actual_k': 0, 'was_impossible': False}),\n",
       " Prediction(uid='A31BD4RXCON7QO', iid='B0000AQFZ9', r_ui=5.0, est=4.150943396226415, details={'actual_k': 0, 'was_impossible': False}),\n",
       " Prediction(uid='A3IJL9A50KVVZ1', iid='B001GCUC6S', r_ui=5.0, est=4.676470588235294, details={'actual_k': 0, 'was_impossible': False}),\n",
       " Prediction(uid='A2HXE29CU1I24Y', iid='B00006L7TT', r_ui=5.0, est=4.262595194588521, details={'was_impossible': True, 'reason': 'User and/or item is unkown.'}),\n",
       " Prediction(uid='A2TA40MV2H4O6F', iid='B006TT91TW', r_ui=5.0, est=4.615384615384615, details={'actual_k': 0, 'was_impossible': False}),\n",
       " Prediction(uid='ALQ4USPEQ9L5N', iid='B0043M66XG', r_ui=4.0, est=4.203703703703703, details={'actual_k': 0, 'was_impossible': False}),\n",
       " Prediction(uid='A12ANFNOSMW5VD', iid='B009VV56TY', r_ui=4.0, est=3.469837084083958, details={'actual_k': 2, 'was_impossible': False}),\n",
       " Prediction(uid='A1YEPFLLH42OU1', iid='B00CMHSIFS', r_ui=5.0, est=5, details={'actual_k': 1, 'was_impossible': False}),\n",
       " Prediction(uid='A203OCQQ12MAVT', iid='B001JMRVVO', r_ui=5.0, est=4.449438202247191, details={'actual_k': 0, 'was_impossible': False}),\n",
       " Prediction(uid='A12ANFNOSMW5VD', iid='B004XNLR16', r_ui=4.0, est=3.7941176470588234, details={'actual_k': 0, 'was_impossible': False}),\n",
       " Prediction(uid='A231WM2Z2JL0U3', iid='B00005UT2Q', r_ui=4.0, est=4.262595194588521, details={'was_impossible': True, 'reason': 'User and/or item is unkown.'}),\n",
       " Prediction(uid='A1ZBEIL78MLR9Z', iid='B0015DYMVO', r_ui=5.0, est=4.444230865275294, details={'actual_k': 3, 'was_impossible': False}),\n",
       " Prediction(uid='A2SYAQXJGRY3XE', iid='B007G5NNOW', r_ui=4.0, est=4.072727272727272, details={'actual_k': 0, 'was_impossible': False}),\n",
       " Prediction(uid='A19EKT8H85AKO5', iid='B002SQZ9E6', r_ui=5.0, est=4.262595194588521, details={'was_impossible': True, 'reason': 'User and/or item is unkown.'}),\n",
       " Prediction(uid='ANFJYYQ0P35CW', iid='B001FOR1G6', r_ui=5.0, est=4.262595194588521, details={'was_impossible': True, 'reason': 'User and/or item is unkown.'}),\n",
       " Prediction(uid='AGEWOMQ90BV8R', iid='B001FA0AM2', r_ui=4.0, est=4.0, details={'actual_k': 0, 'was_impossible': False}),\n",
       " Prediction(uid='A2DS9DLMSU2M2Z', iid='B000QIZXHG', r_ui=5.0, est=4.54054054054054, details={'actual_k': 0, 'was_impossible': False}),\n",
       " Prediction(uid='AA91O96C1Z18W', iid='B0011ZK6ZM', r_ui=3.0, est=4.346153846153846, details={'actual_k': 0, 'was_impossible': False}),\n",
       " Prediction(uid='A19RGDJPNZ7NZ', iid='B00825BZUY', r_ui=4.0, est=5, details={'actual_k': 1, 'was_impossible': False}),\n",
       " Prediction(uid='ADLVFFE4VBT8', iid='B002Y6CJJ8', r_ui=3.0, est=4.899614229437193, details={'actual_k': 8, 'was_impossible': False}),\n",
       " Prediction(uid='A5GPH59NDWJRB', iid='B003YNO0LA', r_ui=4.0, est=4.085714285714285, details={'actual_k': 0, 'was_impossible': False}),\n",
       " Prediction(uid='AIBRTGBN07D6A', iid='B0050A1O64', r_ui=4.0, est=3.5750786163522013, details={'actual_k': 1, 'was_impossible': False}),\n",
       " Prediction(uid='A3DWO5RJDA430F', iid='B0001L10Y8', r_ui=5.0, est=4.073684210526316, details={'actual_k': 0, 'was_impossible': False}),\n",
       " Prediction(uid='A3F9CMU8KNAY1M', iid='B004YQX0SK', r_ui=4.0, est=4.15625, details={'actual_k': 0, 'was_impossible': False}),\n",
       " Prediction(uid='A2VODABWSVHV8E', iid='B002L0LC8G', r_ui=5.0, est=4.262595194588521, details={'was_impossible': True, 'reason': 'User and/or item is unkown.'}),\n",
       " Prediction(uid='AEAFHD09X8044', iid='B0000C4DX5', r_ui=5.0, est=4.151515151515151, details={'actual_k': 0, 'was_impossible': False}),\n",
       " Prediction(uid='A27GITTN6AVW5I', iid='B0087Y1XS4', r_ui=4.0, est=4.170731707317073, details={'actual_k': 0, 'was_impossible': False}),\n",
       " Prediction(uid='A215WH6RUDUCMP', iid='B00L21HC7A', r_ui=3.0, est=4.940559635086891, details={'actual_k': 3, 'was_impossible': False}),\n",
       " Prediction(uid='A3QNQQKJTL76H0', iid='B001CZ5BOW', r_ui=4.0, est=4.168141592920354, details={'actual_k': 0, 'was_impossible': False}),\n",
       " Prediction(uid='A680RUE1FDO8B', iid='B007VR4376', r_ui=5.0, est=5, details={'actual_k': 1, 'was_impossible': False}),\n",
       " Prediction(uid='A14Z6D3IRJ23F7', iid='B000WMTVQK', r_ui=5.0, est=4.262595194588521, details={'was_impossible': True, 'reason': 'User and/or item is unkown.'}),\n",
       " Prediction(uid='A17V9XL4CWTQ6G', iid='B003W5QCTI', r_ui=4.0, est=4.262595194588521, details={'was_impossible': True, 'reason': 'User and/or item is unkown.'}),\n",
       " Prediction(uid='A1R377IPZOKLMM', iid='B00752QXZ2', r_ui=4.0, est=4.608695652173913, details={'actual_k': 0, 'was_impossible': False}),\n",
       " Prediction(uid='A18HE80910BTZI', iid='B007AMIXM8', r_ui=4.0, est=4.262595194588521, details={'was_impossible': True, 'reason': 'User and/or item is unkown.'}),\n",
       " Prediction(uid='A1LD5SE8IZ1H70', iid='B004Q7IABO', r_ui=4.0, est=4.262595194588521, details={'was_impossible': True, 'reason': 'User and/or item is unkown.'}),\n",
       " Prediction(uid='A3CW0ZLUO5X2B1', iid='B002P3KMPI', r_ui=4.0, est=4.262595194588521, details={'was_impossible': True, 'reason': 'User and/or item is unkown.'}),\n",
       " Prediction(uid='A1OO9N1MRNQ7K0', iid='B0001VWHH2', r_ui=5.0, est=4.78, details={'actual_k': 0, 'was_impossible': False}),\n",
       " Prediction(uid='A2WLNSZ9U0T1S3', iid='B0012GK3MQ', r_ui=5.0, est=4.875293343266572, details={'actual_k': 2, 'was_impossible': False}),\n",
       " Prediction(uid='A1C5WS021EL3WO', iid='B00069R0LM', r_ui=4.0, est=4.262595194588521, details={'was_impossible': True, 'reason': 'User and/or item is unkown.'}),\n",
       " Prediction(uid='A4H4KYSM2KQ85', iid='B005D5M122', r_ui=5.0, est=4.344827586206897, details={'actual_k': 0, 'was_impossible': False}),\n",
       " Prediction(uid='A506HOOCVL8GW', iid='B002B9J3R4', r_ui=3.0, est=4.262595194588521, details={'was_impossible': True, 'reason': 'User and/or item is unkown.'}),\n",
       " Prediction(uid='A3NEAETOSXDBOM', iid='B00DKBU5W4', r_ui=5.0, est=5, details={'actual_k': 2, 'was_impossible': False}),\n",
       " Prediction(uid='A1REY92IEZJUSX', iid='B003Y2KCG8', r_ui=5.0, est=4.262595194588521, details={'was_impossible': True, 'reason': 'User and/or item is unkown.'}),\n",
       " Prediction(uid='AUITG1DJ3QUGK', iid='B003LSTD38', r_ui=5.0, est=4.808031457336349, details={'actual_k': 2, 'was_impossible': False}),\n",
       " Prediction(uid='A2NJQF2UI60VGT', iid='B003VAK1I2', r_ui=5.0, est=4.575218793182865, details={'actual_k': 1, 'was_impossible': False}),\n",
       " Prediction(uid='A3G5MOHY1U635N', iid='B00BD99JSQ', r_ui=3.0, est=2.786363636363636, details={'actual_k': 1, 'was_impossible': False}),\n",
       " Prediction(uid='A3LZA698SQPCXE', iid='B004Q3R9AQ', r_ui=5.0, est=4.377463257754055, details={'actual_k': 2, 'was_impossible': False}),\n",
       " Prediction(uid='A1TQZUSOU22E9M', iid='B005FVNHBI', r_ui=4.0, est=4.813740169713196, details={'actual_k': 4, 'was_impossible': False}),\n",
       " Prediction(uid='A2SNE4QQGVP13U', iid='B001G0WPLK', r_ui=1.0, est=5, details={'actual_k': 1, 'was_impossible': False}),\n",
       " Prediction(uid='A2NOIWPJDD7WIQ', iid='B0007U00X0', r_ui=4.0, est=3.6818181818181817, details={'actual_k': 0, 'was_impossible': False}),\n",
       " Prediction(uid='A1P0JSFW184ZXJ', iid='B000ETTKNU', r_ui=5.0, est=4.262595194588521, details={'was_impossible': True, 'reason': 'User and/or item is unkown.'}),\n",
       " Prediction(uid='AAEVGE52KL0DJ', iid='B0018PXRN8', r_ui=5.0, est=4.262595194588521, details={'was_impossible': True, 'reason': 'User and/or item is unkown.'}),\n",
       " Prediction(uid='AJCR7L4AXL2OG', iid='B0012OI6EA', r_ui=4.0, est=4.262595194588521, details={'was_impossible': True, 'reason': 'User and/or item is unkown.'}),\n",
       " Prediction(uid='A16QODENBJVUI1', iid='B003LSTD3S', r_ui=2.0, est=4.232395539177006, details={'actual_k': 2, 'was_impossible': False}),\n",
       " Prediction(uid='A2BMZRO0H7TFCS', iid='B005GJC01C', r_ui=5.0, est=3.9577464788732395, details={'actual_k': 0, 'was_impossible': False}),\n",
       " Prediction(uid='ADLVFFE4VBT8', iid='B004CLYEH8', r_ui=5.0, est=4.627431875644357, details={'actual_k': 15, 'was_impossible': False}),\n",
       " Prediction(uid='AELK0E5DK7LIZ', iid='B008D97LNE', r_ui=4.0, est=4.995989304812834, details={'actual_k': 1, 'was_impossible': False}),\n",
       " Prediction(uid='A1F1A0QQP2XVH5', iid='B002LLK5CO', r_ui=3.0, est=3.675036267666102, details={'actual_k': 5, 'was_impossible': False}),\n",
       " Prediction(uid='A2XCCN239AR1XK', iid='B00I0GR112', r_ui=5.0, est=4.043597379392496, details={'actual_k': 1, 'was_impossible': False}),\n",
       " Prediction(uid='A26BDXG9KVH7SU', iid='B001FA1O1S', r_ui=5.0, est=3.557377049180328, details={'actual_k': 0, 'was_impossible': False}),\n",
       " Prediction(uid='A3SX5MZTCZRQLF', iid='B000MUV6BA', r_ui=4.0, est=3.9074074074074074, details={'actual_k': 0, 'was_impossible': False}),\n",
       " Prediction(uid='A1AWL9JASMG904', iid='B006K556QM', r_ui=4.0, est=3.4901960784313726, details={'actual_k': 0, 'was_impossible': False}),\n",
       " Prediction(uid='A3QD59N3M7O7KB', iid='B00EXK1L38', r_ui=3.0, est=4.129032258064516, details={'actual_k': 0, 'was_impossible': False}),\n",
       " Prediction(uid='A38NELQT98S4H8', iid='B001U5YZ4G', r_ui=1.0, est=4.048387096774194, details={'actual_k': 0, 'was_impossible': False}),\n",
       " Prediction(uid='A3EXWV8FNSSFL6', iid='B002WE0QN8', r_ui=5.0, est=5, details={'actual_k': 4, 'was_impossible': False}),\n",
       " Prediction(uid='A6FIAB28IS79', iid='B000MY39BQ', r_ui=5.0, est=4.262595194588521, details={'was_impossible': True, 'reason': 'User and/or item is unkown.'}),\n",
       " Prediction(uid='A2HRHF83I3NDGT', iid='B00834SJSK', r_ui=5.0, est=5, details={'actual_k': 2, 'was_impossible': False}),\n",
       " Prediction(uid='A2L90SGUP36KGA', iid='B006LWYM96', r_ui=5.0, est=4.262595194588521, details={'was_impossible': True, 'reason': 'User and/or item is unkown.'}),\n",
       " Prediction(uid='AYB4ELCS5AM8P', iid='B007ZZ6OW6', r_ui=4.0, est=5, details={'actual_k': 4, 'was_impossible': False}),\n",
       " Prediction(uid='A35KBAQ4VBNQ6L', iid='B0002L5R78', r_ui=4.0, est=5, details={'actual_k': 1, 'was_impossible': False}),\n",
       " Prediction(uid='A2BYV7S1QP2YIG', iid='B00076WOC4', r_ui=5.0, est=4.262595194588521, details={'was_impossible': True, 'reason': 'User and/or item is unkown.'}),\n",
       " Prediction(uid='A3L9E0YI7C5G0W', iid='B005FYNSPK', r_ui=5.0, est=4.475740042455855, details={'actual_k': 7, 'was_impossible': False}),\n",
       " Prediction(uid='A1CMD08Z49PGKQ', iid='B00DIFIM36', r_ui=5.0, est=4.959084099351827, details={'actual_k': 2, 'was_impossible': False}),\n",
       " Prediction(uid='A22CW0ZHY3NJH8', iid='B00BB6LTI4', r_ui=5.0, est=4.676053548098096, details={'actual_k': 4, 'was_impossible': False}),\n",
       " Prediction(uid='A3KCKECEO3E2AN', iid='B007K3SB6K', r_ui=5.0, est=3.9714285714285715, details={'actual_k': 0, 'was_impossible': False}),\n",
       " Prediction(uid='A3EXWV8FNSSFL6', iid='B002SK1EDW', r_ui=5.0, est=4.506849315068493, details={'actual_k': 0, 'was_impossible': False}),\n",
       " Prediction(uid='A2KHG3JOFXQ4CE', iid='B00CD1PTF0', r_ui=4.0, est=3.7358490566037736, details={'actual_k': 0, 'was_impossible': False}),\n",
       " Prediction(uid='A3IJL9A50KVVZ1', iid='B004O6MW48', r_ui=5.0, est=4.262595194588521, details={'was_impossible': True, 'reason': 'User and/or item is unkown.'}),\n",
       " Prediction(uid='A25UZ7MA72SMKM', iid='B00E98O7GC', r_ui=5.0, est=4.567616167098697, details={'actual_k': 2, 'was_impossible': False}),\n",
       " Prediction(uid='A2WPL6Y08K6ZQH', iid='B0079UAT0A', r_ui=4.0, est=4.770089243301842, details={'actual_k': 9, 'was_impossible': False}),\n",
       " Prediction(uid='A3QJU4FEN8PQSZ', iid='B001F7AP1Q', r_ui=2.0, est=3.788732394366197, details={'actual_k': 0, 'was_impossible': False}),\n",
       " Prediction(uid='A14X244VGHWPSX', iid='B001EYU8FI', r_ui=3.0, est=4.824765478424015, details={'actual_k': 1, 'was_impossible': False}),\n",
       " Prediction(uid='A2W9I628I6SE1U', iid='B0071BTJPI', r_ui=4.0, est=4.183098591549296, details={'actual_k': 0, 'was_impossible': False}),\n",
       " Prediction(uid='A1MRPX3RM48T2I', iid='B004E10KFG', r_ui=4.0, est=2.211315898657659, details={'actual_k': 2, 'was_impossible': False}),\n",
       " Prediction(uid='A17HMM1M7T9PJ1', iid='B00009R6VZ', r_ui=4.0, est=4.2745098039215685, details={'actual_k': 0, 'was_impossible': False}),\n",
       " Prediction(uid='A2V2URLB31HG59', iid='B004XZHY34', r_ui=5.0, est=4.2, details={'actual_k': 0, 'was_impossible': False}),\n",
       " Prediction(uid='A1CN1P7147QDJC', iid='B006ZGCH18', r_ui=5.0, est=4.387096774193548, details={'actual_k': 0, 'was_impossible': False}),\n",
       " Prediction(uid='A3977M5S0GIG5H', iid='B000H4CLXS', r_ui=5.0, est=4.507692307692308, details={'actual_k': 0, 'was_impossible': False}),\n",
       " Prediction(uid='A38NHXL5257E3B', iid='B007KZQM8W', r_ui=5.0, est=5, details={'actual_k': 3, 'was_impossible': False}),\n",
       " Prediction(uid='A2WLNSZ9U0T1S3', iid='B0046SUPQQ', r_ui=1.0, est=4.333333333333333, details={'actual_k': 0, 'was_impossible': False}),\n",
       " Prediction(uid='A3IUW081KXD3PE', iid='B0032JRRWK', r_ui=5.0, est=4.154166666666667, details={'actual_k': 1, 'was_impossible': False}),\n",
       " Prediction(uid='A3LGT6UZL99IW1', iid='B00A7PPLP2', r_ui=4.0, est=3.7746998223802075, details={'actual_k': 8, 'was_impossible': False}),\n",
       " Prediction(uid='A20G074MWH9U7O', iid='B003WJR68U', r_ui=2.0, est=4.1, details={'actual_k': 0, 'was_impossible': False}),\n",
       " Prediction(uid='A2MJ8OL2FYN7CW', iid='B006422BWS', r_ui=5.0, est=5, details={'actual_k': 1, 'was_impossible': False}),\n",
       " Prediction(uid='A2AY4YUOX2N1BQ', iid='B0032H4EX2', r_ui=4.0, est=4.262595194588521, details={'was_impossible': True, 'reason': 'User and/or item is unkown.'}),\n",
       " Prediction(uid='A2BX8DDQGCCG2J', iid='B000067RVL', r_ui=5.0, est=4.696969696969697, details={'actual_k': 0, 'was_impossible': False}),\n",
       " Prediction(uid='A3D7BGK0P5QY0X', iid='B003IUWNVI', r_ui=4.0, est=4.262595194588521, details={'was_impossible': True, 'reason': 'User and/or item is unkown.'}),\n",
       " Prediction(uid='A231WM2Z2JL0U3', iid='B00005BABT', r_ui=4.0, est=4.262595194588521, details={'was_impossible': True, 'reason': 'User and/or item is unkown.'}),\n",
       " Prediction(uid='A2NJQF2UI60VGT', iid='B005GI19HY', r_ui=5.0, est=4.569230769230769, details={'actual_k': 0, 'was_impossible': False}),\n",
       " Prediction(uid='A1VVRA3P6G1TWH', iid='B0036WT4C4', r_ui=4.0, est=4.14, details={'actual_k': 0, 'was_impossible': False}),\n",
       " Prediction(uid='A2MJ8OL2FYN7CW', iid='B009AR2MD2', r_ui=3.0, est=4.403225806451613, details={'actual_k': 0, 'was_impossible': False}),\n",
       " Prediction(uid='A3284KYDZ00BZA', iid='B004ETQHDM', r_ui=4.0, est=3.074598681245526, details={'actual_k': 3, 'was_impossible': False}),\n",
       " Prediction(uid='A11KZ906QD08C5', iid='B00004ZC9Y', r_ui=5.0, est=4.5, details={'actual_k': 0, 'was_impossible': False}),\n",
       " Prediction(uid='A2PL06HW6KZH2', iid='B000067RC4', r_ui=5.0, est=5, details={'actual_k': 1, 'was_impossible': False}),\n",
       " Prediction(uid='A1F1A0QQP2XVH5', iid='B000TXZIDM', r_ui=4.0, est=3.7856534198877005, details={'actual_k': 3, 'was_impossible': False}),\n",
       " Prediction(uid='A1N3EH28S4DI8L', iid='B000NP46K2', r_ui=4.0, est=3.925, details={'actual_k': 0, 'was_impossible': False}),\n",
       " Prediction(uid='A21S26XYPGXJZX', iid='B005TDWSF8', r_ui=5.0, est=4.4, details={'actual_k': 0, 'was_impossible': False}),\n",
       " Prediction(uid='AIBRTGBN07D6A', iid='B003O5LLFG', r_ui=5.0, est=4.262595194588521, details={'was_impossible': True, 'reason': 'User and/or item is unkown.'}),\n",
       " Prediction(uid='AUCISQA1YXX86', iid='B0001B1QMY', r_ui=1.0, est=4.262595194588521, details={'was_impossible': True, 'reason': 'User and/or item is unkown.'}),\n",
       " Prediction(uid='A2NB2E5DXE319Z', iid='B005LU2YZ8', r_ui=4.0, est=4.262595194588521, details={'was_impossible': True, 'reason': 'User and/or item is unkown.'}),\n",
       " Prediction(uid='A2KOV8XWZOZ0FQ', iid='B005HY4UG4', r_ui=3.0, est=3.984359718417404, details={'actual_k': 3, 'was_impossible': False}),\n",
       " Prediction(uid='A291XTI6NO7DEG', iid='B0000AQIFY', r_ui=2.0, est=4.262595194588521, details={'was_impossible': True, 'reason': 'User and/or item is unkown.'}),\n",
       " Prediction(uid='A35IX2GE0VC0JP', iid='B0009GZG5O', r_ui=5.0, est=4.262595194588521, details={'was_impossible': True, 'reason': 'User and/or item is unkown.'}),\n",
       " Prediction(uid='A1X3ESYZ79H59E', iid='B009X2OS72', r_ui=5.0, est=4.558297014370564, details={'actual_k': 2, 'was_impossible': False}),\n",
       " Prediction(uid='A1EXGL6L0QQ0M5', iid='B002KKFP9Y', r_ui=5.0, est=3.4336452589779105, details={'actual_k': 6, 'was_impossible': False}),\n",
       " Prediction(uid='A1P4XD7IORSEFN', iid='B000W9DJ1Q', r_ui=1.0, est=3.7, details={'actual_k': 0, 'was_impossible': False}),\n",
       " Prediction(uid='A24RCBRDXRXR0Y', iid='B00634PLTW', r_ui=5.0, est=3.9583855970181814, details={'actual_k': 3, 'was_impossible': False}),\n",
       " Prediction(uid='A17UNMURMLX0ZE', iid='B005KOZNBW', r_ui=4.0, est=4.518508258740419, details={'actual_k': 4, 'was_impossible': False}),\n",
       " Prediction(uid='A19HKRB4LU5YR', iid='B009QV72VY', r_ui=4.0, est=4.061452200396974, details={'actual_k': 3, 'was_impossible': False}),\n",
       " Prediction(uid='A3F3B1JPACN215', iid='B004YHXXKO', r_ui=4.0, est=4.97348543489386, details={'actual_k': 2, 'was_impossible': False}),\n",
       " Prediction(uid='AHROSV6WJOEGY', iid='B007MD4C8O', r_ui=2.0, est=4.262595194588521, details={'was_impossible': True, 'reason': 'User and/or item is unkown.'}),\n",
       " Prediction(uid='A11KZ906QD08C5', iid='B0001KWGP6', r_ui=5.0, est=4.5, details={'actual_k': 0, 'was_impossible': False}),\n",
       " Prediction(uid='A2FRKEXDXDN1KI', iid='B00829THK0', r_ui=5.0, est=4.560147766160895, details={'actual_k': 15, 'was_impossible': False}),\n",
       " Prediction(uid='A8WEXFRWX1ZHH', iid='B00429N16A', r_ui=1.0, est=3.3333333333333335, details={'actual_k': 0, 'was_impossible': False}),\n",
       " Prediction(uid='A1USYP4AXF5I1D', iid='B002V88HFE', r_ui=5.0, est=4.121951219512195, details={'actual_k': 0, 'was_impossible': False}),\n",
       " Prediction(uid='A35HNL2VEDK9Z1', iid='B008DWH00K', r_ui=5.0, est=4.111111111111111, details={'actual_k': 0, 'was_impossible': False}),\n",
       " Prediction(uid='A2MR696ZU17F12', iid='B000AAZQKO', r_ui=5.0, est=3.6481988624394353, details={'actual_k': 1, 'was_impossible': False}),\n",
       " Prediction(uid='A3DWO5RJDA430F', iid='B00F4A8FQM', r_ui=1.0, est=4.073684210526316, details={'actual_k': 0, 'was_impossible': False}),\n",
       " Prediction(uid='A1QNYLBG73QRNF', iid='B0019F33O0', r_ui=3.0, est=4.262595194588521, details={'was_impossible': True, 'reason': 'User and/or item is unkown.'}),\n",
       " Prediction(uid='A33775AIB1A664', iid='B004V4HLCG', r_ui=4.0, est=3.9365079365079363, details={'actual_k': 0, 'was_impossible': False}),\n",
       " Prediction(uid='A28J3123I1QDKI', iid='B003ES5ZUU', r_ui=5.0, est=4.722222222222222, details={'actual_k': 1, 'was_impossible': False}),\n",
       " Prediction(uid='A3T4OHEAHOJ700', iid='B005KFONIU', r_ui=5.0, est=3.9713287029670203, details={'actual_k': 3, 'was_impossible': False}),\n",
       " Prediction(uid='A26KXNN6H1IL0I', iid='B000JMJWV2', r_ui=5.0, est=4.905442164509184, details={'actual_k': 4, 'was_impossible': False}),\n",
       " Prediction(uid='A1F9Z42CFF9IAY', iid='B0009RKL5S', r_ui=1.0, est=3.4836601307189543, details={'actual_k': 0, 'was_impossible': False}),\n",
       " Prediction(uid='ACQYIC13JXAOI', iid='B00EMHVVNM', r_ui=5.0, est=5, details={'actual_k': 5, 'was_impossible': False}),\n",
       " Prediction(uid='A3Q4TYJVAM4IRM', iid='B00006B6SC', r_ui=3.0, est=4.262595194588521, details={'was_impossible': True, 'reason': 'User and/or item is unkown.'}),\n",
       " Prediction(uid='A1YEPFLLH42OU1', iid='B00B9OTEVM', r_ui=3.0, est=3.7261093247590167, details={'actual_k': 2, 'was_impossible': False}),\n",
       " Prediction(uid='A23WPWLYT3P1CZ', iid='B004PLLA9U', r_ui=5.0, est=4.262595194588521, details={'was_impossible': True, 'reason': 'User and/or item is unkown.'}),\n",
       " Prediction(uid='A8P6GIIQ6YQV8', iid='B00HCPX4CM', r_ui=4.0, est=4.262595194588521, details={'was_impossible': True, 'reason': 'User and/or item is unkown.'}),\n",
       " Prediction(uid='A31N0XY2UTB25C', iid='B001TGUYI2', r_ui=5.0, est=4.6892655367231635, details={'actual_k': 0, 'was_impossible': False}),\n",
       " Prediction(uid='A23NSKTMSPPBTR', iid='B00HUTAO5K', r_ui=4.0, est=3.7444444444444445, details={'actual_k': 0, 'was_impossible': False}),\n",
       " Prediction(uid='A28621TSIR5EOG', iid='B003IKTATG', r_ui=5.0, est=4.262595194588521, details={'was_impossible': True, 'reason': 'User and/or item is unkown.'}),\n",
       " Prediction(uid='AG7EF0SVBQOUX', iid='B0032CSA6O', r_ui=5.0, est=4.262595194588521, details={'was_impossible': True, 'reason': 'User and/or item is unkown.'}),\n",
       " Prediction(uid='A1QQA7Y92L4F9R', iid='B0019RBJOE', r_ui=5.0, est=4.6968531468531465, details={'actual_k': 1, 'was_impossible': False}),\n",
       " Prediction(uid='A1PAGHECG401K1', iid='B000FOI2TW', r_ui=1.0, est=4.262595194588521, details={'was_impossible': True, 'reason': 'User and/or item is unkown.'}),\n",
       " Prediction(uid='A20G074MWH9U7O', iid='B0081G3XEU', r_ui=4.0, est=4.262595194588521, details={'was_impossible': True, 'reason': 'User and/or item is unkown.'}),\n",
       " Prediction(uid='A16HXVNPU5TCGE', iid='B006Y0YZZ6', r_ui=5.0, est=4.74468085106383, details={'actual_k': 0, 'was_impossible': False}),\n",
       " Prediction(uid='AYOTEJ617O60K', iid='B0000ACOBL', r_ui=3.0, est=3.938775510204082, details={'actual_k': 0, 'was_impossible': False}),\n",
       " Prediction(uid='A3PPO2X5PJE1L9', iid='B000EM8GDW', r_ui=5.0, est=4.35, details={'actual_k': 0, 'was_impossible': False}),\n",
       " Prediction(uid='AN9CP6J4JF91X', iid='B008RI1YKC', r_ui=5.0, est=4.666666666666667, details={'actual_k': 0, 'was_impossible': False}),\n",
       " Prediction(uid='A3EK2KTYHJCPB9', iid='B008DWCRQW', r_ui=5.0, est=4.044264397631627, details={'actual_k': 15, 'was_impossible': False}),\n",
       " Prediction(uid='A28X0LT2100RL1', iid='B001QTXKB0', r_ui=5.0, est=4.348837209302325, details={'actual_k': 0, 'was_impossible': False}),\n",
       " Prediction(uid='A17HMM1M7T9PJ1', iid='B005KTIX50', r_ui=5.0, est=3.9711363132888957, details={'actual_k': 2, 'was_impossible': False}),\n",
       " Prediction(uid='A1G650TTTHEAL5', iid='B00EO080QS', r_ui=5.0, est=4.262595194588521, details={'was_impossible': True, 'reason': 'User and/or item is unkown.'}),\n",
       " Prediction(uid='A2EZTM9WY5B5IL', iid='B002SWA530', r_ui=3.0, est=4.262595194588521, details={'was_impossible': True, 'reason': 'User and/or item is unkown.'}),\n",
       " Prediction(uid='A2RIL2NXHE00AQ', iid='B002E6R7NG', r_ui=5.0, est=4.420289855072464, details={'actual_k': 0, 'was_impossible': False}),\n",
       " Prediction(uid='AS8C336DDLSO4', iid='B0016J1EH2', r_ui=5.0, est=4.262595194588521, details={'was_impossible': True, 'reason': 'User and/or item is unkown.'}),\n",
       " Prediction(uid='A1HBI9BBQIG1NH', iid='B0096W1P6G', r_ui=5.0, est=4.778801843317972, details={'actual_k': 1, 'was_impossible': False}),\n",
       " Prediction(uid='A3GVXKCTFN3YDN', iid='B001E5CDSW', r_ui=5.0, est=4.88135593220339, details={'actual_k': 0, 'was_impossible': False}),\n",
       " Prediction(uid='A3NHUQ33CFH3VM', iid='B000Z80ICM', r_ui=4.0, est=4.3492834423074225, details={'actual_k': 3, 'was_impossible': False}),\n",
       " Prediction(uid='AFHYEO3Y1IIDD', iid='B00007KDVI', r_ui=1.0, est=4.1020408163265305, details={'actual_k': 0, 'was_impossible': False}),\n",
       " Prediction(uid='A3EWJX7W1X7E79', iid='B002DUD1UQ', r_ui=5.0, est=4.262595194588521, details={'was_impossible': True, 'reason': 'User and/or item is unkown.'}),\n",
       " Prediction(uid='A1U4GOVZWL8ZTL', iid='B001M4HTAW', r_ui=5.0, est=4.262595194588521, details={'was_impossible': True, 'reason': 'User and/or item is unkown.'}),\n",
       " Prediction(uid='A3TP31S61PPE3G', iid='B00JEOC1LO', r_ui=3.0, est=4.116279069767442, details={'actual_k': 0, 'was_impossible': False}),\n",
       " Prediction(uid='A2NOW4U7W3F7RI', iid='B00D02AG7C', r_ui=4.0, est=4.814814814814815, details={'actual_k': 0, 'was_impossible': False}),\n",
       " Prediction(uid='A3TBMGNSEQBWIL', iid='B007136CKQ', r_ui=5.0, est=4.262595194588521, details={'was_impossible': True, 'reason': 'User and/or item is unkown.'}),\n",
       " Prediction(uid='AQSV34W54L0VO', iid='B008999I5M', r_ui=5.0, est=4.262595194588521, details={'was_impossible': True, 'reason': 'User and/or item is unkown.'}),\n",
       " Prediction(uid='A7QMQBGJ2TCQG', iid='B00009R6TL', r_ui=5.0, est=4.262595194588521, details={'was_impossible': True, 'reason': 'User and/or item is unkown.'}),\n",
       " Prediction(uid='A1YEPFLLH42OU1', iid='B002W5V8SE', r_ui=5.0, est=5, details={'actual_k': 1, 'was_impossible': False}),\n",
       " Prediction(uid='A3H4S6YO9VNGDZ', iid='B000I98ZYG', r_ui=2.0, est=4.5285714285714285, details={'actual_k': 0, 'was_impossible': False}),\n",
       " Prediction(uid='A21Q9JVG4SII51', iid='B0015HYPOO', r_ui=5.0, est=4.59375, details={'actual_k': 0, 'was_impossible': False}),\n",
       " Prediction(uid='A1W4F91DH3XPB2', iid='B000JMJWV2', r_ui=5.0, est=3.917445482866044, details={'actual_k': 1, 'was_impossible': False}),\n",
       " Prediction(uid='A7QMQBGJ2TCQG', iid='B001E1Y5O6', r_ui=5.0, est=4.341772151898734, details={'actual_k': 0, 'was_impossible': False}),\n",
       " Prediction(uid='A506HOOCVL8GW', iid='B0051OKCHG', r_ui=1.0, est=3.195960093607587, details={'actual_k': 1, 'was_impossible': False}),\n",
       " Prediction(uid='AUCISQA1YXX86', iid='B0015EWMX8', r_ui=2.0, est=3.3500298151460943, details={'actual_k': 1, 'was_impossible': False}),\n",
       " Prediction(uid='A2CIQEY05SPHTZ', iid='B000FVXZ2E', r_ui=2.0, est=3.925, details={'actual_k': 0, 'was_impossible': False}),\n",
       " Prediction(uid='ADZF3QDGSZE7K', iid='B0069RZ0LW', r_ui=4.0, est=4.262595194588521, details={'was_impossible': True, 'reason': 'User and/or item is unkown.'}),\n",
       " Prediction(uid='A2POXR5VS3PHKR', iid='B000E8OVNK', r_ui=5.0, est=4.823529411764706, details={'actual_k': 0, 'was_impossible': False}),\n",
       " Prediction(uid='A203OCQQ12MAVT', iid='B0074WDFSQ', r_ui=4.0, est=4.449438202247191, details={'actual_k': 0, 'was_impossible': False}),\n",
       " Prediction(uid='A2EN82VBJT44QP', iid='B002EA9438', r_ui=5.0, est=4.262595194588521, details={'was_impossible': True, 'reason': 'User and/or item is unkown.'}),\n",
       " Prediction(uid='A28BX3MM90A6FI', iid='B00017LUOC', r_ui=5.0, est=4.4375, details={'actual_k': 0, 'was_impossible': False}),\n",
       " Prediction(uid='A3QKIR8J56EUI1', iid='B009S2CWX4', r_ui=4.0, est=3.0638297872340425, details={'actual_k': 0, 'was_impossible': False}),\n",
       " Prediction(uid='A2X06FP2PQ6EK0', iid='B003FMUP3M', r_ui=4.0, est=2.925925925925926, details={'actual_k': 0, 'was_impossible': False}),\n",
       " Prediction(uid='A20DZX38KRBIT8', iid='B000UU7ZPS', r_ui=1.0, est=2.7086092715231787, details={'actual_k': 0, 'was_impossible': False}),\n",
       " Prediction(uid='A17V9XL4CWTQ6G', iid='B00IUF7VKE', r_ui=5.0, est=5, details={'actual_k': 3, 'was_impossible': False}),\n",
       " Prediction(uid='A1USYP4AXF5I1D', iid='B00474WYIG', r_ui=5.0, est=4.262595194588521, details={'was_impossible': True, 'reason': 'User and/or item is unkown.'}),\n",
       " Prediction(uid='A2YRX8J4WM5BRX', iid='B005J2E2US', r_ui=5.0, est=4.918918918918919, details={'actual_k': 0, 'was_impossible': False}),\n",
       " Prediction(uid='A3094EPI56GKZ6', iid='B007X3VECU', r_ui=5.0, est=5, details={'actual_k': 1, 'was_impossible': False}),\n",
       " Prediction(uid='A1ZTR0FR5AW9B4', iid='B0082OBSPM', r_ui=1.0, est=4.262595194588521, details={'was_impossible': True, 'reason': 'User and/or item is unkown.'}),\n",
       " Prediction(uid='A1UQBFCERIP7VJ', iid='B00BUACE8K', r_ui=5.0, est=4.700168348663748, details={'actual_k': 9, 'was_impossible': False}),\n",
       " Prediction(uid='A3MV1KKHX51FYT', iid='B000MNAK50', r_ui=5.0, est=4.262595194588521, details={'was_impossible': True, 'reason': 'User and/or item is unkown.'}),\n",
       " Prediction(uid='A3SU7JSTPH9CC9', iid='B003TM600U', r_ui=3.0, est=4.764705882352941, details={'actual_k': 0, 'was_impossible': False}),\n",
       " Prediction(uid='A13QOK3SKIT9QL', iid='B003CJTQKQ', r_ui=5.0, est=4.262595194588521, details={'was_impossible': True, 'reason': 'User and/or item is unkown.'}),\n",
       " Prediction(uid='A30X750M8V1XXW', iid='B003GJ581S', r_ui=4.0, est=3.9158878504672896, details={'actual_k': 0, 'was_impossible': False}),\n",
       " Prediction(uid='A1E1LEVQ9VQNK', iid='B00CJRZ31S', r_ui=5.0, est=4.951567583298233, details={'actual_k': 5, 'was_impossible': False}),\n",
       " Prediction(uid='A1LAGS8H4A2DR7', iid='B004T9RR6I', r_ui=3.0, est=2.136748045336766, details={'actual_k': 7, 'was_impossible': False}),\n",
       " Prediction(uid='A29KJ32G75L7G9', iid='B00B99JU5M', r_ui=5.0, est=4.587081429724597, details={'actual_k': 2, 'was_impossible': False}),\n",
       " Prediction(uid='A1TY97ZGQT5FGF', iid='B000ETXOC8', r_ui=3.0, est=2.1818181818181817, details={'actual_k': 0, 'was_impossible': False}),\n",
       " Prediction(uid='A3OXHLG6DIBRW8', iid='B00AASPQLU', r_ui=5.0, est=4.704141233106797, details={'actual_k': 3, 'was_impossible': False}),\n",
       " Prediction(uid='A298GL2D0BHGKZ', iid='B009PHSDBM', r_ui=3.0, est=4.309523809523809, details={'actual_k': 0, 'was_impossible': False}),\n",
       " Prediction(uid='A3R19YKNL641X3', iid='B0079TOG82', r_ui=4.0, est=3.4824639331504232, details={'actual_k': 3, 'was_impossible': False}),\n",
       " Prediction(uid='ACYZXQ2JKPZKT', iid='B00BKW8MKC', r_ui=4.0, est=4.262595194588521, details={'was_impossible': True, 'reason': 'User and/or item is unkown.'}),\n",
       " Prediction(uid='AFICF7DKHTQ87', iid='B00A7PPLP2', r_ui=4.0, est=2.7913908697727168, details={'actual_k': 4, 'was_impossible': False}),\n",
       " Prediction(uid='A18HE80910BTZI', iid='B00077AA5Q', r_ui=5.0, est=4.8898654864944975, details={'actual_k': 2, 'was_impossible': False}),\n",
       " Prediction(uid='A96JD9312DHWC', iid='B006DUOMAK', r_ui=5.0, est=4.5396825396825395, details={'actual_k': 0, 'was_impossible': False}),\n",
       " ...]"
      ]
     },
     "execution_count": 163,
     "metadata": {},
     "output_type": "execute_result"
    }
   ],
   "source": [
    "test_pred"
   ]
  },
  {
   "cell_type": "markdown",
   "metadata": {},
   "source": [
    "### 5.2 Using User User Collaborative Filtering Model with ----KNNBaseline Algorithm------"
   ]
  },
  {
   "cell_type": "code",
   "execution_count": 242,
   "metadata": {},
   "outputs": [
    {
     "name": "stdout",
     "output_type": "stream",
     "text": [
      "Estimating biases using als...\n",
      "Computing the pearson_baseline similarity matrix...\n",
      "Done computing similarity matrix.\n"
     ]
    }
   ],
   "source": [
    "# fit the model\n",
    "algo = KNNBaseline(k=15, sim_options={'name': 'pearson_baseline', 'user_based': True})\n",
    "algo.fit(trainset)\n",
    "\n",
    "# run the trained model against the testset\n",
    "test_pred_KNNBaseline = algo.test(testset)"
   ]
  },
  {
   "cell_type": "markdown",
   "metadata": {},
   "source": [
    "### 5.3 Using User User Collaborative Filtering Model with -----KNNWithZScore Algorithm------"
   ]
  },
  {
   "cell_type": "code",
   "execution_count": 248,
   "metadata": {},
   "outputs": [
    {
     "name": "stdout",
     "output_type": "stream",
     "text": [
      "Estimating biases using als...\n",
      "Computing the pearson_baseline similarity matrix...\n",
      "Done computing similarity matrix.\n"
     ]
    }
   ],
   "source": [
    "# fit the model\n",
    "algo = KNNWithZScore(k=15, sim_options={'name': 'pearson_baseline', 'user_based': True})\n",
    "algo.fit(trainset)\n",
    "\n",
    "# run the trained model against the testset\n",
    "test_pred_KNNWithZScore = algo.test(testset)"
   ]
  },
  {
   "cell_type": "markdown",
   "metadata": {},
   "source": [
    "## STEP 6 Evaluate both the models."
   ]
  },
  {
   "cell_type": "markdown",
   "metadata": {},
   "source": [
    "### 6.1 Getting the RMSE for Collaborative Filtering using \"KNNWithMeans\" alogorithm Model(User-User based)"
   ]
  },
  {
   "cell_type": "code",
   "execution_count": 252,
   "metadata": {},
   "outputs": [
    {
     "name": "stdout",
     "output_type": "stream",
     "text": [
      "User-User based Collaborative Filtering Model: KNNWithMeans : Test Set\n",
      "RMSE: 1.0601\n"
     ]
    },
    {
     "data": {
      "text/plain": [
       "1.0601311561825715"
      ]
     },
     "execution_count": 252,
     "metadata": {},
     "output_type": "execute_result"
    }
   ],
   "source": [
    "print(\"User-User based Collaborative Filtering Model: KNNWithMeans : Test Set\")\n",
    "accuracy.rmse(test_pred, verbose=True)"
   ]
  },
  {
   "cell_type": "markdown",
   "metadata": {},
   "source": [
    "#### Getting the MAE(Mean Absolute Error)"
   ]
  },
  {
   "cell_type": "code",
   "execution_count": 253,
   "metadata": {},
   "outputs": [
    {
     "name": "stdout",
     "output_type": "stream",
     "text": [
      "MAE:  0.7806\n"
     ]
    },
    {
     "data": {
      "text/plain": [
       "0.7806159559457233"
      ]
     },
     "execution_count": 253,
     "metadata": {},
     "output_type": "execute_result"
    }
   ],
   "source": [
    "accuracy.mae(test_pred,verbose=True)"
   ]
  },
  {
   "cell_type": "markdown",
   "metadata": {},
   "source": [
    "### 6.2 Getting the RMSE for Collaborative Filtering using \"KNNBaseline\" algorithm Model(User-User based)"
   ]
  },
  {
   "cell_type": "code",
   "execution_count": 254,
   "metadata": {},
   "outputs": [
    {
     "name": "stdout",
     "output_type": "stream",
     "text": [
      "User-User based Collaborative Filtering Model : KNNBaseline:Test Set :\n",
      "RMSE: 1.0295\n"
     ]
    },
    {
     "data": {
      "text/plain": [
       "1.029499051022781"
      ]
     },
     "execution_count": 254,
     "metadata": {},
     "output_type": "execute_result"
    }
   ],
   "source": [
    "print(\"User-User based Collaborative Filtering Model : KNNBaseline:Test Set :\")\n",
    "accuracy.rmse(test_pred_KNNBaseline, verbose=True)"
   ]
  },
  {
   "cell_type": "markdown",
   "metadata": {},
   "source": [
    "#### Getting the MAE(Mean Absolute Error)"
   ]
  },
  {
   "cell_type": "code",
   "execution_count": 255,
   "metadata": {},
   "outputs": [
    {
     "name": "stdout",
     "output_type": "stream",
     "text": [
      "MAE:  0.7533\n"
     ]
    },
    {
     "data": {
      "text/plain": [
       "0.7532693162948567"
      ]
     },
     "execution_count": 255,
     "metadata": {},
     "output_type": "execute_result"
    }
   ],
   "source": [
    "accuracy.mae(test_pred_KNNBaseline,verbose=True)"
   ]
  },
  {
   "cell_type": "markdown",
   "metadata": {},
   "source": [
    "### 6.3 Getting the RMSE for Collaborative Filtering using \"KNNWithZScore\" algorithm Model(User-User based)"
   ]
  },
  {
   "cell_type": "code",
   "execution_count": 256,
   "metadata": {},
   "outputs": [
    {
     "name": "stdout",
     "output_type": "stream",
     "text": [
      "User-User based Collaborative Filtering Model :KNNWithZScore:Test Set :\n",
      "RMSE: 1.0611\n"
     ]
    },
    {
     "data": {
      "text/plain": [
       "1.061078671698005"
      ]
     },
     "execution_count": 256,
     "metadata": {},
     "output_type": "execute_result"
    }
   ],
   "source": [
    "print(\"User-User based Collaborative Filtering Model :KNNWithZScore:Test Set :\")\n",
    "accuracy.rmse(test_pred_KNNWithZScore, verbose=True)"
   ]
  },
  {
   "cell_type": "markdown",
   "metadata": {},
   "source": [
    "#### Getting the MAE(Mean Absolute Error)"
   ]
  },
  {
   "cell_type": "code",
   "execution_count": 257,
   "metadata": {},
   "outputs": [
    {
     "name": "stdout",
     "output_type": "stream",
     "text": [
      "MAE:  0.7787\n"
     ]
    },
    {
     "data": {
      "text/plain": [
       "0.7786876535396124"
      ]
     },
     "execution_count": 257,
     "metadata": {},
     "output_type": "execute_result"
    }
   ],
   "source": [
    "accuracy.mae(test_pred_KNNWithZScore,verbose=True)"
   ]
  },
  {
   "cell_type": "markdown",
   "metadata": {},
   "source": [
    "## Step 7 Get top - K ( K = 5) recommendations.Since our goal is to recommend new products to each user based on his/her habits, we will recommend 5 new products."
   ]
  },
  {
   "cell_type": "markdown",
   "metadata": {},
   "source": [
    "#### Created a dataframe from test_pred (predictions from the test data)"
   ]
  },
  {
   "cell_type": "code",
   "execution_count": 189,
   "metadata": {
    "scrolled": true
   },
   "outputs": [
    {
     "data": {
      "text/html": [
       "<div>\n",
       "<style scoped>\n",
       "    .dataframe tbody tr th:only-of-type {\n",
       "        vertical-align: middle;\n",
       "    }\n",
       "\n",
       "    .dataframe tbody tr th {\n",
       "        vertical-align: top;\n",
       "    }\n",
       "\n",
       "    .dataframe thead th {\n",
       "        text-align: right;\n",
       "    }\n",
       "</style>\n",
       "<table border=\"1\" class=\"dataframe\">\n",
       "  <thead>\n",
       "    <tr style=\"text-align: right;\">\n",
       "      <th></th>\n",
       "      <th>UserID</th>\n",
       "      <th>ElectronicProductId</th>\n",
       "      <th>ActualRating</th>\n",
       "      <th>PredictedRating</th>\n",
       "      <th>Details</th>\n",
       "    </tr>\n",
       "  </thead>\n",
       "  <tbody>\n",
       "    <tr>\n",
       "      <th>0</th>\n",
       "      <td>AEIB3UR05OP7A</td>\n",
       "      <td>B0099SMFVQ</td>\n",
       "      <td>5.0</td>\n",
       "      <td>5.000000</td>\n",
       "      <td>{'actual_k': 2, 'was_impossible': False}</td>\n",
       "    </tr>\n",
       "    <tr>\n",
       "      <th>1</th>\n",
       "      <td>A2VH0UT5EQFB6P</td>\n",
       "      <td>B009NUK6S4</td>\n",
       "      <td>4.0</td>\n",
       "      <td>3.533883</td>\n",
       "      <td>{'actual_k': 1, 'was_impossible': False}</td>\n",
       "    </tr>\n",
       "    <tr>\n",
       "      <th>2</th>\n",
       "      <td>A1KDUQ2HU0WD68</td>\n",
       "      <td>B00HRQB28Y</td>\n",
       "      <td>5.0</td>\n",
       "      <td>4.673127</td>\n",
       "      <td>{'actual_k': 8, 'was_impossible': False}</td>\n",
       "    </tr>\n",
       "    <tr>\n",
       "      <th>3</th>\n",
       "      <td>A3D5B2CBFNJB0K</td>\n",
       "      <td>B00F0DD0I6</td>\n",
       "      <td>5.0</td>\n",
       "      <td>4.162162</td>\n",
       "      <td>{'actual_k': 0, 'was_impossible': False}</td>\n",
       "    </tr>\n",
       "    <tr>\n",
       "      <th>4</th>\n",
       "      <td>A35IX2GE0VC0JP</td>\n",
       "      <td>B0049ZE9JA</td>\n",
       "      <td>5.0</td>\n",
       "      <td>3.660000</td>\n",
       "      <td>{'actual_k': 0, 'was_impossible': False}</td>\n",
       "    </tr>\n",
       "  </tbody>\n",
       "</table>\n",
       "</div>"
      ],
      "text/plain": [
       "           UserID ElectronicProductId  ActualRating  PredictedRating  \\\n",
       "0   AEIB3UR05OP7A          B0099SMFVQ           5.0         5.000000   \n",
       "1  A2VH0UT5EQFB6P          B009NUK6S4           4.0         3.533883   \n",
       "2  A1KDUQ2HU0WD68          B00HRQB28Y           5.0         4.673127   \n",
       "3  A3D5B2CBFNJB0K          B00F0DD0I6           5.0         4.162162   \n",
       "4  A35IX2GE0VC0JP          B0049ZE9JA           5.0         3.660000   \n",
       "\n",
       "                                    Details  \n",
       "0  {'actual_k': 2, 'was_impossible': False}  \n",
       "1  {'actual_k': 1, 'was_impossible': False}  \n",
       "2  {'actual_k': 8, 'was_impossible': False}  \n",
       "3  {'actual_k': 0, 'was_impossible': False}  \n",
       "4  {'actual_k': 0, 'was_impossible': False}  "
      ]
     },
     "execution_count": 189,
     "metadata": {},
     "output_type": "execute_result"
    }
   ],
   "source": [
    "predictedElectrPdt=pd.DataFrame(data=test_pred,columns=['UserID','ElectronicProductId','ActualRating','PredictedRating','Details'])\n",
    "predictedElectrPdt.head()"
   ]
  },
  {
   "cell_type": "code",
   "execution_count": 192,
   "metadata": {},
   "outputs": [],
   "source": [
    "# Assigning the user's id  to a variable\n",
    "user='A1E1LEVQ9VQNK'"
   ]
  },
  {
   "cell_type": "markdown",
   "metadata": {},
   "source": [
    "#### Displaying Top Product ratings given by the user A1E1LEVQ9VQNK"
   ]
  },
  {
   "cell_type": "code",
   "execution_count": 204,
   "metadata": {},
   "outputs": [
    {
     "data": {
      "text/html": [
       "<div>\n",
       "<style scoped>\n",
       "    .dataframe tbody tr th:only-of-type {\n",
       "        vertical-align: middle;\n",
       "    }\n",
       "\n",
       "    .dataframe tbody tr th {\n",
       "        vertical-align: top;\n",
       "    }\n",
       "\n",
       "    .dataframe thead th {\n",
       "        text-align: right;\n",
       "    }\n",
       "</style>\n",
       "<table border=\"1\" class=\"dataframe\">\n",
       "  <thead>\n",
       "    <tr style=\"text-align: right;\">\n",
       "      <th></th>\n",
       "      <th>UserID</th>\n",
       "      <th>ElectronicProductId</th>\n",
       "      <th>ActualRating</th>\n",
       "      <th>PredictedRating</th>\n",
       "      <th>Details</th>\n",
       "    </tr>\n",
       "  </thead>\n",
       "  <tbody>\n",
       "    <tr>\n",
       "      <th>455</th>\n",
       "      <td>A1E1LEVQ9VQNK</td>\n",
       "      <td>B00IP8IBYG</td>\n",
       "      <td>5.0</td>\n",
       "      <td>5.0</td>\n",
       "      <td>{'actual_k': 1, 'was_impossible': False}</td>\n",
       "    </tr>\n",
       "    <tr>\n",
       "      <th>26459</th>\n",
       "      <td>A1E1LEVQ9VQNK</td>\n",
       "      <td>B003LVZO88</td>\n",
       "      <td>5.0</td>\n",
       "      <td>5.0</td>\n",
       "      <td>{'actual_k': 2, 'was_impossible': False}</td>\n",
       "    </tr>\n",
       "    <tr>\n",
       "      <th>17427</th>\n",
       "      <td>A1E1LEVQ9VQNK</td>\n",
       "      <td>B00DVEJA7G</td>\n",
       "      <td>5.0</td>\n",
       "      <td>5.0</td>\n",
       "      <td>{'actual_k': 1, 'was_impossible': False}</td>\n",
       "    </tr>\n",
       "    <tr>\n",
       "      <th>661</th>\n",
       "      <td>A1E1LEVQ9VQNK</td>\n",
       "      <td>B005HMKKH4</td>\n",
       "      <td>5.0</td>\n",
       "      <td>5.0</td>\n",
       "      <td>{'actual_k': 5, 'was_impossible': False}</td>\n",
       "    </tr>\n",
       "    <tr>\n",
       "      <th>18656</th>\n",
       "      <td>A1E1LEVQ9VQNK</td>\n",
       "      <td>B00DKBU5W4</td>\n",
       "      <td>5.0</td>\n",
       "      <td>5.0</td>\n",
       "      <td>{'actual_k': 4, 'was_impossible': False}</td>\n",
       "    </tr>\n",
       "  </tbody>\n",
       "</table>\n",
       "</div>"
      ],
      "text/plain": [
       "              UserID ElectronicProductId  ActualRating  PredictedRating  \\\n",
       "455    A1E1LEVQ9VQNK          B00IP8IBYG           5.0              5.0   \n",
       "26459  A1E1LEVQ9VQNK          B003LVZO88           5.0              5.0   \n",
       "17427  A1E1LEVQ9VQNK          B00DVEJA7G           5.0              5.0   \n",
       "661    A1E1LEVQ9VQNK          B005HMKKH4           5.0              5.0   \n",
       "18656  A1E1LEVQ9VQNK          B00DKBU5W4           5.0              5.0   \n",
       "\n",
       "                                        Details  \n",
       "455    {'actual_k': 1, 'was_impossible': False}  \n",
       "26459  {'actual_k': 2, 'was_impossible': False}  \n",
       "17427  {'actual_k': 1, 'was_impossible': False}  \n",
       "661    {'actual_k': 5, 'was_impossible': False}  \n",
       "18656  {'actual_k': 4, 'was_impossible': False}  "
      ]
     },
     "execution_count": 204,
     "metadata": {},
     "output_type": "execute_result"
    }
   ],
   "source": [
    "predictedRatings_user=predictedElectrPdt[predictedElectrPdt['UserID']==user]\n",
    "predictedRatings_user=predictedRatings_user.sort_values(by='PredictedRating',ascending=False)\n",
    "predictedRatings_user.head()"
   ]
  },
  {
   "cell_type": "markdown",
   "metadata": {},
   "source": [
    "#### Getting the products which aren't rated by the user A1E1LEVQ9VQNK"
   ]
  },
  {
   "cell_type": "code",
   "execution_count": 231,
   "metadata": {},
   "outputs": [
    {
     "data": {
      "text/html": [
       "<div>\n",
       "<style scoped>\n",
       "    .dataframe tbody tr th:only-of-type {\n",
       "        vertical-align: middle;\n",
       "    }\n",
       "\n",
       "    .dataframe tbody tr th {\n",
       "        vertical-align: top;\n",
       "    }\n",
       "\n",
       "    .dataframe thead th {\n",
       "        text-align: right;\n",
       "    }\n",
       "</style>\n",
       "<table border=\"1\" class=\"dataframe\">\n",
       "  <thead>\n",
       "    <tr style=\"text-align: right;\">\n",
       "      <th></th>\n",
       "      <th>UserID</th>\n",
       "      <th>ElectronicProductId</th>\n",
       "      <th>ActualRating</th>\n",
       "      <th>PredictedRating</th>\n",
       "      <th>Details</th>\n",
       "    </tr>\n",
       "  </thead>\n",
       "  <tbody>\n",
       "    <tr>\n",
       "      <th>0</th>\n",
       "      <td>AEIB3UR05OP7A</td>\n",
       "      <td>B0099SMFVQ</td>\n",
       "      <td>5.0</td>\n",
       "      <td>5.000000</td>\n",
       "      <td>{'actual_k': 2, 'was_impossible': False}</td>\n",
       "    </tr>\n",
       "    <tr>\n",
       "      <th>1</th>\n",
       "      <td>A2VH0UT5EQFB6P</td>\n",
       "      <td>B009NUK6S4</td>\n",
       "      <td>4.0</td>\n",
       "      <td>3.533883</td>\n",
       "      <td>{'actual_k': 1, 'was_impossible': False}</td>\n",
       "    </tr>\n",
       "    <tr>\n",
       "      <th>2</th>\n",
       "      <td>A1KDUQ2HU0WD68</td>\n",
       "      <td>B00HRQB28Y</td>\n",
       "      <td>5.0</td>\n",
       "      <td>4.673127</td>\n",
       "      <td>{'actual_k': 8, 'was_impossible': False}</td>\n",
       "    </tr>\n",
       "    <tr>\n",
       "      <th>3</th>\n",
       "      <td>A3D5B2CBFNJB0K</td>\n",
       "      <td>B00F0DD0I6</td>\n",
       "      <td>5.0</td>\n",
       "      <td>4.162162</td>\n",
       "      <td>{'actual_k': 0, 'was_impossible': False}</td>\n",
       "    </tr>\n",
       "    <tr>\n",
       "      <th>4</th>\n",
       "      <td>A35IX2GE0VC0JP</td>\n",
       "      <td>B0049ZE9JA</td>\n",
       "      <td>5.0</td>\n",
       "      <td>3.660000</td>\n",
       "      <td>{'actual_k': 0, 'was_impossible': False}</td>\n",
       "    </tr>\n",
       "  </tbody>\n",
       "</table>\n",
       "</div>"
      ],
      "text/plain": [
       "           UserID ElectronicProductId  ActualRating  PredictedRating  \\\n",
       "0   AEIB3UR05OP7A          B0099SMFVQ           5.0         5.000000   \n",
       "1  A2VH0UT5EQFB6P          B009NUK6S4           4.0         3.533883   \n",
       "2  A1KDUQ2HU0WD68          B00HRQB28Y           5.0         4.673127   \n",
       "3  A3D5B2CBFNJB0K          B00F0DD0I6           5.0         4.162162   \n",
       "4  A35IX2GE0VC0JP          B0049ZE9JA           5.0         3.660000   \n",
       "\n",
       "                                    Details  \n",
       "0  {'actual_k': 2, 'was_impossible': False}  \n",
       "1  {'actual_k': 1, 'was_impossible': False}  \n",
       "2  {'actual_k': 8, 'was_impossible': False}  \n",
       "3  {'actual_k': 0, 'was_impossible': False}  \n",
       "4  {'actual_k': 0, 'was_impossible': False}  "
      ]
     },
     "execution_count": 231,
     "metadata": {},
     "output_type": "execute_result"
    }
   ],
   "source": [
    "notPredictedByGivenUser=predictedElectrPdt[predictedElectrPdt['UserID']!=user]\n",
    "notPredictedByGivenUser.head()"
   ]
  },
  {
   "cell_type": "code",
   "execution_count": 232,
   "metadata": {},
   "outputs": [],
   "source": [
    "notPredictedByGivenUser=notPredictedByGivenUser.drop('UserID',axis=1)"
   ]
  },
  {
   "cell_type": "markdown",
   "metadata": {},
   "source": [
    "##    Top 5 Electronic Products Recommendations for the user with id A1E1LEVQ9VQNK"
   ]
  },
  {
   "cell_type": "code",
   "execution_count": 239,
   "metadata": {},
   "outputs": [
    {
     "data": {
      "text/html": [
       "<div>\n",
       "<style scoped>\n",
       "    .dataframe tbody tr th:only-of-type {\n",
       "        vertical-align: middle;\n",
       "    }\n",
       "\n",
       "    .dataframe tbody tr th {\n",
       "        vertical-align: top;\n",
       "    }\n",
       "\n",
       "    .dataframe thead th {\n",
       "        text-align: right;\n",
       "    }\n",
       "</style>\n",
       "<table border=\"1\" class=\"dataframe\">\n",
       "  <thead>\n",
       "    <tr style=\"text-align: right;\">\n",
       "      <th></th>\n",
       "      <th>ElectronicProductId</th>\n",
       "      <th>ActualRating</th>\n",
       "      <th>PredictedRating</th>\n",
       "      <th>Details</th>\n",
       "    </tr>\n",
       "  </thead>\n",
       "  <tbody>\n",
       "    <tr>\n",
       "      <th>0</th>\n",
       "      <td>B0099SMFVQ</td>\n",
       "      <td>5.0</td>\n",
       "      <td>5.0</td>\n",
       "      <td>{'actual_k': 2, 'was_impossible': False}</td>\n",
       "    </tr>\n",
       "    <tr>\n",
       "      <th>11383</th>\n",
       "      <td>B000X24ISU</td>\n",
       "      <td>5.0</td>\n",
       "      <td>5.0</td>\n",
       "      <td>{'actual_k': 1, 'was_impossible': False}</td>\n",
       "    </tr>\n",
       "    <tr>\n",
       "      <th>6419</th>\n",
       "      <td>B00KLGSQJ0</td>\n",
       "      <td>4.0</td>\n",
       "      <td>5.0</td>\n",
       "      <td>{'actual_k': 2, 'was_impossible': False}</td>\n",
       "    </tr>\n",
       "    <tr>\n",
       "      <th>21412</th>\n",
       "      <td>B0079TOET8</td>\n",
       "      <td>3.0</td>\n",
       "      <td>5.0</td>\n",
       "      <td>{'actual_k': 1, 'was_impossible': False}</td>\n",
       "    </tr>\n",
       "    <tr>\n",
       "      <th>26447</th>\n",
       "      <td>B0079R8KO0</td>\n",
       "      <td>5.0</td>\n",
       "      <td>5.0</td>\n",
       "      <td>{'actual_k': 2, 'was_impossible': False}</td>\n",
       "    </tr>\n",
       "  </tbody>\n",
       "</table>\n",
       "</div>"
      ],
      "text/plain": [
       "      ElectronicProductId  ActualRating  PredictedRating  \\\n",
       "0              B0099SMFVQ           5.0              5.0   \n",
       "11383          B000X24ISU           5.0              5.0   \n",
       "6419           B00KLGSQJ0           4.0              5.0   \n",
       "21412          B0079TOET8           3.0              5.0   \n",
       "26447          B0079R8KO0           5.0              5.0   \n",
       "\n",
       "                                        Details  \n",
       "0      {'actual_k': 2, 'was_impossible': False}  \n",
       "11383  {'actual_k': 1, 'was_impossible': False}  \n",
       "6419   {'actual_k': 2, 'was_impossible': False}  \n",
       "21412  {'actual_k': 1, 'was_impossible': False}  \n",
       "26447  {'actual_k': 2, 'was_impossible': False}  "
      ]
     },
     "execution_count": 239,
     "metadata": {},
     "output_type": "execute_result"
    }
   ],
   "source": [
    "notPredictedByGivenUser.sort_values(by='PredictedRating',ascending=False).head(5)"
   ]
  },
  {
   "cell_type": "markdown",
   "metadata": {},
   "source": [
    "## Step 8 Summarise your insights"
   ]
  },
  {
   "cell_type": "markdown",
   "metadata": {},
   "source": [
    "### If we benchmark the following algorithms for collaborative filtering on user user based :KNNWithMeans , KNNBaseline and KNNWithZScore\n",
    "### KNNBaseline alogorthm comes out with least RMSE: 1.0611 and MAE :0.7806 thus predicts much better than the other algorithms\n",
    "### Out of KNNWithMeans and KNNWithZScore algorithms , KNNWithZScore(MAE=0.7787,RMSE: 1.0611) is better than KNNWithMeans(MAE= 0.7806,RMSE: 1.0601) since MAE is EASEIR TO JUSTIFY THAN RMSE\n",
    "\n",
    "### Popularity Based recommendation model gives the top rated products to the user and IT DOESNT take INTO ACCOUNT USER Profiles which the Collaborative Based Recommendation Model does."
   ]
  },
  {
   "cell_type": "code",
   "execution_count": null,
   "metadata": {},
   "outputs": [],
   "source": []
  }
 ],
 "metadata": {
  "kernelspec": {
   "display_name": "Python 3",
   "language": "python",
   "name": "python3"
  },
  "language_info": {
   "codemirror_mode": {
    "name": "ipython",
    "version": 3
   },
   "file_extension": ".py",
   "mimetype": "text/x-python",
   "name": "python",
   "nbconvert_exporter": "python",
   "pygments_lexer": "ipython3",
   "version": "3.7.3"
  }
 },
 "nbformat": 4,
 "nbformat_minor": 2
}
