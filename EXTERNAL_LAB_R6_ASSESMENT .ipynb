{
 "cells": [
  {
   "cell_type": "markdown",
   "metadata": {
    "colab_type": "text",
    "id": "YYk8NG3yOIT9"
   },
   "source": [
    "### A MNIST-like fashion product database\n",
    "\n",
    "In this, we classify the images into respective classes given in the dataset. We use a Neural Net and a Deep Neural Net in Keras to solve this and check the accuracy scores."
   ]
  },
  {
   "cell_type": "markdown",
   "metadata": {
    "colab_type": "text",
    "id": "tFO6PuxzOIT_",
    "slideshow": {
     "slide_type": "slide"
    }
   },
   "source": [
    "### Load tensorflow"
   ]
  },
  {
   "cell_type": "code",
   "execution_count": 109,
   "metadata": {
    "colab": {},
    "colab_type": "code",
    "id": "efNjNImfOIUC"
   },
   "outputs": [],
   "source": [
    "import tensorflow as tf\n",
    "import pandas as pd\n",
    "import matplotlib.pyplot as plt\n",
    "import numpy as np\n",
    "from sklearn import metrics"
   ]
  },
  {
   "cell_type": "code",
   "execution_count": 78,
   "metadata": {
    "colab": {},
    "colab_type": "code",
    "id": "l9C4aAIGOIUH",
    "outputId": "5ef9aff6-a7bd-4b26-cba6-8750955f6ca3"
   },
   "outputs": [
    {
     "data": {
      "text/plain": [
       "'2.1.0'"
      ]
     },
     "execution_count": 78,
     "metadata": {},
     "output_type": "execute_result"
    }
   ],
   "source": [
    "tf.__version__\n"
   ]
  },
  {
   "cell_type": "code",
   "execution_count": 79,
   "metadata": {},
   "outputs": [],
   "source": [
    "tf.random.set_seed(42)"
   ]
  },
  {
   "cell_type": "markdown",
   "metadata": {
    "colab_type": "text",
    "id": "HcoZBStrOIUQ",
    "slideshow": {
     "slide_type": "slide"
    }
   },
   "source": [
    "### Collect Data"
   ]
  },
  {
   "cell_type": "code",
   "execution_count": 80,
   "metadata": {
    "colab": {},
    "colab_type": "code",
    "id": "XA1WsFSeOIUS"
   },
   "outputs": [],
   "source": [
    "from tensorflow import keras as keras"
   ]
  },
  {
   "cell_type": "code",
   "execution_count": 81,
   "metadata": {
    "colab": {},
    "colab_type": "code",
    "id": "qnbx7TyQOIUY"
   },
   "outputs": [],
   "source": [
    "(trainx, trainy), (testx, testy) = keras.datasets.fashion_mnist.load_data()"
   ]
  },
  {
   "cell_type": "code",
   "execution_count": 82,
   "metadata": {
    "colab": {},
    "colab_type": "code",
    "id": "UbiHj5YPOIUc",
    "outputId": "87e1b9cd-07f0-45cb-e706-0d51ad742d72",
    "slideshow": {
     "slide_type": "fragment"
    }
   },
   "outputs": [
    {
     "name": "stdout",
     "output_type": "stream",
     "text": [
      "[9 2 1 1 6]\n"
     ]
    }
   ],
   "source": [
    "print(testY[0:5])"
   ]
  },
  {
   "cell_type": "markdown",
   "metadata": {
    "colab_type": "text",
    "id": "lDAYzkwyOIUj",
    "slideshow": {
     "slide_type": "slide"
    }
   },
   "source": [
    "### Convert both training and testing labels into one-hot vectors.\n",
    "\n",
    "**Hint:** check **tf.keras.utils.to_categorical()**"
   ]
  },
  {
   "cell_type": "code",
   "execution_count": 83,
   "metadata": {},
   "outputs": [
    {
     "data": {
      "text/plain": [
       "array([[0., 0., 0., ..., 0., 0., 1.],\n",
       "       [1., 0., 0., ..., 0., 0., 0.],\n",
       "       [1., 0., 0., ..., 0., 0., 0.],\n",
       "       ...,\n",
       "       [0., 0., 0., ..., 0., 0., 0.],\n",
       "       [1., 0., 0., ..., 0., 0., 0.],\n",
       "       [0., 0., 0., ..., 0., 0., 0.]], dtype=float32)"
      ]
     },
     "execution_count": 83,
     "metadata": {},
     "output_type": "execute_result"
    }
   ],
   "source": [
    "tf.keras.utils.to_categorical(trainY)"
   ]
  },
  {
   "cell_type": "code",
   "execution_count": 84,
   "metadata": {},
   "outputs": [
    {
     "name": "stdout",
     "output_type": "stream",
     "text": [
      "(60000,)\n",
      "First 2 examples now are:  [9 0]\n"
     ]
    }
   ],
   "source": [
    "print(trainY.shape)\n",
    "\n",
    "print('First 2 examples now are: ', trainY[0:2])"
   ]
  },
  {
   "cell_type": "markdown",
   "metadata": {
    "colab_type": "text",
    "id": "FwhQ8e7VOIUw"
   },
   "source": [
    "### Visualize the data\n",
    "\n",
    "Plot first 10 images in the triaining set and their labels."
   ]
  },
  {
   "cell_type": "code",
   "execution_count": 85,
   "metadata": {},
   "outputs": [
    {
     "data": {
      "text/plain": [
       "(60000, 28, 28)"
      ]
     },
     "execution_count": 85,
     "metadata": {},
     "output_type": "execute_result"
    }
   ],
   "source": [
    "trainx.shape"
   ]
  },
  {
   "cell_type": "code",
   "execution_count": 87,
   "metadata": {},
   "outputs": [
    {
     "data": {
      "text/plain": [
       "<matplotlib.image.AxesImage at 0x25155afff08>"
      ]
     },
     "execution_count": 87,
     "metadata": {},
     "output_type": "execute_result"
    },
    {
     "data": {
      "image/png": "[encoded data removed]",
      "text/plain": [
       "<Figure size 432x288 with 1 Axes>"
      ]
     },
     "metadata": {
      "needs_background": "light"
     },
     "output_type": "display_data"
    }
   ],
   "source": [
    "plt.imshow(testX[1,:,:],cmap='gray')"
   ]
  },
  {
   "cell_type": "markdown",
   "metadata": {
    "colab_type": "text",
    "id": "l4TbJGeSOIU4",
    "slideshow": {
     "slide_type": "slide"
    }
   },
   "source": [
    "### Build a neural Network with a cross entropy loss function and sgd optimizer in Keras. The output layer with 10 neurons as we have 10 classes."
   ]
  },
  {
   "cell_type": "code",
   "execution_count": 88,
   "metadata": {},
   "outputs": [],
   "source": [
    "#Represent Training & Testing samples suitable for #tensorflow backend\n",
    "x_train=trainx.reshape(trainx.shape[0],784).astype('float32')\n",
    "x_test=testx.reshape(testx.shape[0],784).astype('float32')"
   ]
  },
  {
   "cell_type": "code",
   "execution_count": 89,
   "metadata": {},
   "outputs": [
    {
     "data": {
      "text/plain": [
       "(10000, 784)"
      ]
     },
     "execution_count": 89,
     "metadata": {},
     "output_type": "execute_result"
    }
   ],
   "source": [
    "x_test.shape"
   ]
  },
  {
   "cell_type": "code",
   "execution_count": 90,
   "metadata": {},
   "outputs": [],
   "source": [
    "x_train/=255\n",
    "x_test/=255"
   ]
  },
  {
   "cell_type": "code",
   "execution_count": 91,
   "metadata": {},
   "outputs": [],
   "source": [
    "from tensorflow import keras\n",
    "\n",
    "y_train = keras.utils.to_categorical(trainY, 10)\n",
    "y_test = keras.utils.to_categorical(testY, 10)"
   ]
  },
  {
   "cell_type": "code",
   "execution_count": 92,
   "metadata": {
    "colab": {},
    "colab_type": "code",
    "id": "Ac06XZZTOIU6"
   },
   "outputs": [],
   "source": [
    "from tensorflow.keras import Sequential\n",
    "from tensorflow.keras.layers import Dense\n",
    "\n",
    "model = Sequential()\n"
   ]
  },
  {
   "cell_type": "code",
   "execution_count": 93,
   "metadata": {},
   "outputs": [],
   "source": [
    "# Define model architecture\n",
    "\n",
    "model.add(Dense(784,activation='relu'))\n",
    "model.add(Dense(100, activation ='relu'))\n",
    "model.add(Dense(10,activation='softmax'))"
   ]
  },
  {
   "cell_type": "code",
   "execution_count": 94,
   "metadata": {},
   "outputs": [],
   "source": [
    "model.compile(loss='categorical_crossentropy',optimizer='adam',metrics=['accuracy'])"
   ]
  },
  {
   "cell_type": "code",
   "execution_count": 95,
   "metadata": {},
   "outputs": [
    {
     "name": "stdout",
     "output_type": "stream",
     "text": [
      "Train on 60000 samples\n",
      "Epoch 1/10\n",
      "60000/60000 [==============================] - 1s 22us/sample - loss: 0.5033 - accuracy: 0.8245\n",
      "Epoch 2/10\n",
      "60000/60000 [==============================] - 1s 19us/sample - loss: 0.3639 - accuracy: 0.8691\n",
      "Epoch 3/10\n",
      "60000/60000 [==============================] - 1s 19us/sample - loss: 0.3280 - accuracy: 0.8795\n",
      "Epoch 4/10\n",
      "60000/60000 [==============================] - 1s 19us/sample - loss: 0.3004 - accuracy: 0.8891\n",
      "Epoch 5/10\n",
      "60000/60000 [==============================] - 1s 19us/sample - loss: 0.2835 - accuracy: 0.8947\n",
      "Epoch 6/10\n",
      "60000/60000 [==============================] - 1s 19us/sample - loss: 0.2656 - accuracy: 0.9015\n",
      "Epoch 7/10\n",
      "60000/60000 [==============================] - 1s 21us/sample - loss: 0.2516 - accuracy: 0.9061\n",
      "Epoch 8/10\n",
      "60000/60000 [==============================] - 1s 20us/sample - loss: 0.2445 - accuracy: 0.9085\n",
      "Epoch 9/10\n",
      "60000/60000 [==============================] - 1s 20us/sample - loss: 0.2312 - accuracy: 0.9144\n",
      "Epoch 10/10\n",
      "60000/60000 [==============================] - 1s 19us/sample - loss: 0.2207 - accuracy: 0.9167\n"
     ]
    },
    {
     "data": {
      "text/plain": [
       "<tensorflow.python.keras.callbacks.History at 0x25155b92a08>"
      ]
     },
     "execution_count": 95,
     "metadata": {},
     "output_type": "execute_result"
    }
   ],
   "source": [
    "model.fit(x_train, y_train, epochs=10, batch_size=256, verbose=1)"
   ]
  },
  {
   "cell_type": "markdown",
   "metadata": {
    "colab_type": "text",
    "id": "mwk3T5LJOIVN",
    "slideshow": {
     "slide_type": "slide"
    }
   },
   "source": [
    "### Execute the model"
   ]
  },
  {
   "cell_type": "code",
   "execution_count": 96,
   "metadata": {
    "colab": {},
    "colab_type": "code",
    "id": "JNLR8tcBOIVP"
   },
   "outputs": [],
   "source": [
    "y_predict = model.predict(x_test)"
   ]
  },
  {
   "cell_type": "code",
   "execution_count": 97,
   "metadata": {},
   "outputs": [
    {
     "data": {
      "text/plain": [
       "array([5.05136768e-07, 1.17871444e-07, 1.28551665e-06, 9.08972993e-07,\n",
       "       8.44830268e-08, 6.47421577e-04, 1.41689570e-05, 4.02414193e-03,\n",
       "       7.89482385e-07, 9.95310605e-01], dtype=float32)"
      ]
     },
     "execution_count": 97,
     "metadata": {},
     "output_type": "execute_result"
    }
   ],
   "source": [
    "y_predict[0]"
   ]
  },
  {
   "cell_type": "markdown",
   "metadata": {
    "colab_type": "text",
    "id": "Py-KwkmjOIVU"
   },
   "source": [
    "### Customize the learning rate to 0.001 in sgd optimizer and run the model"
   ]
  },
  {
   "cell_type": "code",
   "execution_count": 98,
   "metadata": {},
   "outputs": [],
   "source": [
    "sgd = keras.optimizers.SGD(lr=0.01)"
   ]
  },
  {
   "cell_type": "code",
   "execution_count": 99,
   "metadata": {},
   "outputs": [],
   "source": [
    "model.compile(loss='categorical_crossentropy',optimizer='sgd',metrics=['accuracy'])"
   ]
  },
  {
   "cell_type": "code",
   "execution_count": 100,
   "metadata": {
    "colab": {},
    "colab_type": "code",
    "id": "pJUqA5T4OIVc"
   },
   "outputs": [
    {
     "name": "stdout",
     "output_type": "stream",
     "text": [
      "Train on 60000 samples\n",
      "Epoch 1/10\n",
      "60000/60000 [==============================] - 1s 20us/sample - loss: 0.1855 - accuracy: 0.9317\n",
      "Epoch 2/10\n",
      "60000/60000 [==============================] - 1s 17us/sample - loss: 0.1797 - accuracy: 0.9344\n",
      "Epoch 3/10\n",
      "60000/60000 [==============================] - 1s 17us/sample - loss: 0.1769 - accuracy: 0.9357\n",
      "Epoch 4/10\n",
      "60000/60000 [==============================] - 1s 17us/sample - loss: 0.1748 - accuracy: 0.9365\n",
      "Epoch 5/10\n",
      "60000/60000 [==============================] - 1s 17us/sample - loss: 0.1733 - accuracy: 0.9370\n",
      "Epoch 6/10\n",
      "60000/60000 [==============================] - 1s 17us/sample - loss: 0.1717 - accuracy: 0.9374\n",
      "Epoch 7/10\n",
      "60000/60000 [==============================] - 1s 17us/sample - loss: 0.1707 - accuracy: 0.9379\n",
      "Epoch 8/10\n",
      "60000/60000 [==============================] - 1s 17us/sample - loss: 0.1697 - accuracy: 0.9384\n",
      "Epoch 9/10\n",
      "60000/60000 [==============================] - 1s 17us/sample - loss: 0.1688 - accuracy: 0.9389\n",
      "Epoch 10/10\n",
      "60000/60000 [==============================] - 1s 17us/sample - loss: 0.1679 - accuracy: 0.9389\n"
     ]
    },
    {
     "data": {
      "text/plain": [
       "<tensorflow.python.keras.callbacks.History at 0x25155c59148>"
      ]
     },
     "execution_count": 100,
     "metadata": {},
     "output_type": "execute_result"
    }
   ],
   "source": [
    "\n",
    "model.fit(x_train, y_train, epochs=10, batch_size=256, verbose=1)"
   ]
  },
  {
   "cell_type": "markdown",
   "metadata": {
    "colab_type": "text",
    "id": "j9CSqKvpOIVk",
    "slideshow": {
     "slide_type": "slide"
    }
   },
   "source": [
    "### Build the Neural Network model with 3 Dense layers with 100,100,10 neurons respectively in each layer. Use cross entropy loss function and singmoid as activation in the hidden layers and softmax as activation function in the output layer. Use sgd optimizer with learning rate 0.03."
   ]
  },
  {
   "cell_type": "code",
   "execution_count": 101,
   "metadata": {
    "colab": {},
    "colab_type": "code",
    "id": "GGAad54JOIVm"
   },
   "outputs": [],
   "source": [
    "sgd = keras.optimizers.SGD(lr=0.03)"
   ]
  },
  {
   "cell_type": "code",
   "execution_count": 102,
   "metadata": {
    "colab": {},
    "colab_type": "code",
    "id": "MQ7oIymROIVp"
   },
   "outputs": [],
   "source": [
    "model.compile(loss='categorical_crossentropy',optimizer='sgd',metrics=['accuracy'])"
   ]
  },
  {
   "cell_type": "code",
   "execution_count": 103,
   "metadata": {
    "colab": {},
    "colab_type": "code",
    "id": "X-O-fFxnOIVt"
   },
   "outputs": [
    {
     "name": "stdout",
     "output_type": "stream",
     "text": [
      "Train on 60000 samples\n",
      "Epoch 1/10\n",
      "60000/60000 [==============================] - 1s 19us/sample - loss: 0.1672 - accuracy: 0.9395\n",
      "Epoch 2/10\n",
      "60000/60000 [==============================] - 1s 17us/sample - loss: 0.1664 - accuracy: 0.9395\n",
      "Epoch 3/10\n",
      "60000/60000 [==============================] - 1s 17us/sample - loss: 0.1658 - accuracy: 0.9395\n",
      "Epoch 4/10\n",
      "60000/60000 [==============================] - 1s 17us/sample - loss: 0.1651 - accuracy: 0.9401\n",
      "Epoch 5/10\n",
      "60000/60000 [==============================] - 1s 17us/sample - loss: 0.1645 - accuracy: 0.9402\n",
      "Epoch 6/10\n",
      "60000/60000 [==============================] - 1s 17us/sample - loss: 0.1637 - accuracy: 0.9402\n",
      "Epoch 7/10\n",
      "60000/60000 [==============================] - 1s 18us/sample - loss: 0.1633 - accuracy: 0.9409\n",
      "Epoch 8/10\n",
      "60000/60000 [==============================] - 1s 17us/sample - loss: 0.1627 - accuracy: 0.9410\n",
      "Epoch 9/10\n",
      "60000/60000 [==============================] - 1s 18us/sample - loss: 0.1623 - accuracy: 0.9410\n",
      "Epoch 10/10\n",
      "60000/60000 [==============================] - 1s 18us/sample - loss: 0.1617 - accuracy: 0.9411\n"
     ]
    },
    {
     "data": {
      "text/plain": [
       "<tensorflow.python.keras.callbacks.History at 0x25155cea408>"
      ]
     },
     "execution_count": 103,
     "metadata": {},
     "output_type": "execute_result"
    }
   ],
   "source": [
    "model.fit(x_train, y_train, epochs=10, batch_size=256, verbose=1)"
   ]
  },
  {
   "cell_type": "markdown",
   "metadata": {
    "colab_type": "text",
    "id": "Nr2YsZV0OIV0",
    "slideshow": {
     "slide_type": "slide"
    }
   },
   "source": [
    "## Review model"
   ]
  },
  {
   "cell_type": "code",
   "execution_count": 104,
   "metadata": {
    "colab": {},
    "colab_type": "code",
    "id": "h4ojW6-oOIV2"
   },
   "outputs": [
    {
     "name": "stdout",
     "output_type": "stream",
     "text": [
      "Accuracy: 0.896\n",
      "Loss: 0.302\n"
     ]
    }
   ],
   "source": [
    "loss, acc = model.evaluate(x_test, y_test, verbose=0)\n",
    "print('Accuracy: %.3f'  % acc)\n",
    "print('Loss: %.3f' % loss)"
   ]
  },
  {
   "cell_type": "markdown",
   "metadata": {
    "colab_type": "text",
    "id": "gfFGmbZLOIV5",
    "slideshow": {
     "slide_type": "slide"
    }
   },
   "source": [
    "### Run the model"
   ]
  },
  {
   "cell_type": "code",
   "execution_count": 105,
   "metadata": {
    "colab": {},
    "colab_type": "code",
    "id": "bIkbMEN5OIV7"
   },
   "outputs": [],
   "source": [
    "y_predict = model.predict(x_test)"
   ]
  },
  {
   "cell_type": "code",
   "execution_count": 106,
   "metadata": {},
   "outputs": [
    {
     "data": {
      "text/plain": [
       "array([2.4047770e-07, 3.8369027e-08, 1.7859847e-07, 2.5890537e-07,\n",
       "       1.2617265e-08, 9.8983823e-05, 3.9315992e-06, 1.5787475e-03,\n",
       "       1.8452383e-07, 9.9831748e-01], dtype=float32)"
      ]
     },
     "execution_count": 106,
     "metadata": {},
     "output_type": "execute_result"
    }
   ],
   "source": [
    "y_predict[0]"
   ]
  },
  {
   "cell_type": "code",
   "execution_count": 107,
   "metadata": {},
   "outputs": [
    {
     "name": "stdout",
     "output_type": "stream",
     "text": [
      "[[836   1  12  17   3   1 126   0   4   0]\n",
      " [  1 977   0  15   4   0   2   0   1   0]\n",
      " [ 16   0 812  11  84   0  77   0   0   0]\n",
      " [ 18   8  10 901  34   0  25   0   4   0]\n",
      " [  1   0  77  32 826   0  63   0   1   0]\n",
      " [  0   0   0   1   0 968   0  19   1  11]\n",
      " [ 93   0  76  27  60   0 734   0  10   0]\n",
      " [  0   0   0   0   0  11   0 970   0  19]\n",
      " [  4   0   5   6   2   2   2   3 976   0]\n",
      " [  0   0   0   0   0   7   1  35   0 957]]\n"
     ]
    }
   ],
   "source": [
    "y_pred = []\n",
    "for val in y_predict:\n",
    "    y_pred.append(np.argmax(val))\n",
    "\n",
    "cm = metrics.confusion_matrix(testY,y_pred)\n",
    "print(cm)"
   ]
  },
  {
   "cell_type": "code",
   "execution_count": 108,
   "metadata": {},
   "outputs": [
    {
     "name": "stdout",
     "output_type": "stream",
     "text": [
      "              precision    recall  f1-score   support\n",
      "\n",
      "           0       0.86      0.84      0.85      1000\n",
      "           1       0.99      0.98      0.98      1000\n",
      "           2       0.82      0.81      0.82      1000\n",
      "           3       0.89      0.90      0.90      1000\n",
      "           4       0.82      0.83      0.82      1000\n",
      "           5       0.98      0.97      0.97      1000\n",
      "           6       0.71      0.73      0.72      1000\n",
      "           7       0.94      0.97      0.96      1000\n",
      "           8       0.98      0.98      0.98      1000\n",
      "           9       0.97      0.96      0.96      1000\n",
      "\n",
      "    accuracy                           0.90     10000\n",
      "   macro avg       0.90      0.90      0.90     10000\n",
      "weighted avg       0.90      0.90      0.90     10000\n",
      "\n"
     ]
    }
   ],
   "source": [
    "cr=metrics.classification_report(testY,y_pred)\n",
    "print(cr)"
   ]
  }
 ],
 "metadata": {
  "colab": {
   "name": "R6_ExternalLab_AIML.ipynb",
   "provenance": [],
   "version": "0.3.2"
  },
  "kernelspec": {
   "display_name": "Python 3",
   "language": "python",
   "name": "python3"
  },
  "language_info": {
   "codemirror_mode": {
    "name": "ipython",
    "version": 3
   },
   "file_extension": ".py",
   "mimetype": "text/x-python",
   "name": "python",
   "nbconvert_exporter": "python",
   "pygments_lexer": "ipython3",
   "version": "3.7.4"
  }
 },
 "nbformat": 4,
 "nbformat_minor": 1
}
