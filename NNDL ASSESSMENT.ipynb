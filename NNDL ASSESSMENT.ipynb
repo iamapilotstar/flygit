{
 "cells": [
  {
   "cell_type": "code",
   "execution_count": 382,
   "metadata": {},
   "outputs": [],
   "source": [
    "import pandas as pd\n",
    "import numpy as np\n",
    "from sklearn.model_selection import train_test_split\n",
    "from sklearn import preprocessing\n",
    "from tensorflow.keras.models import Sequential\n",
    "from tensorflow.keras.layers import Dense\n",
    "from tensorflow import keras\n",
    "from keras.models import Sequential\n",
    "from keras.layers import Dense\n",
    "from sklearn import metrics\n"
   ]
  },
  {
   "cell_type": "code",
   "execution_count": 383,
   "metadata": {},
   "outputs": [],
   "source": [
    "bnk_det = pd.read_csv('bank.csv')"
   ]
  },
  {
   "cell_type": "code",
   "execution_count": 384,
   "metadata": {},
   "outputs": [
    {
     "name": "stdout",
     "output_type": "stream",
     "text": [
      "<class 'pandas.core.frame.DataFrame'>\n",
      "RangeIndex: 10000 entries, 0 to 9999\n",
      "Data columns (total 14 columns):\n",
      "RowNumber          10000 non-null int64\n",
      "CustomerId         10000 non-null int64\n",
      "Surname            10000 non-null object\n",
      "CreditScore        10000 non-null int64\n",
      "Geography          10000 non-null object\n",
      "Gender             10000 non-null object\n",
      "Age                10000 non-null int64\n",
      "Tenure             10000 non-null int64\n",
      "Balance            10000 non-null float64\n",
      "NumOfProducts      10000 non-null int64\n",
      "HasCrCard          10000 non-null int64\n",
      "IsActiveMember     10000 non-null int64\n",
      "EstimatedSalary    10000 non-null float64\n",
      "Exited             10000 non-null int64\n",
      "dtypes: float64(2), int64(9), object(3)\n",
      "memory usage: 1.1+ MB\n"
     ]
    }
   ],
   "source": [
    "bnk_det.info()"
   ]
  },
  {
   "cell_type": "code",
   "execution_count": 385,
   "metadata": {},
   "outputs": [
    {
     "data": {
      "text/html": [
       "<div>\n",
       "<style scoped>\n",
       "    .dataframe tbody tr th:only-of-type {\n",
       "        vertical-align: middle;\n",
       "    }\n",
       "\n",
       "    .dataframe tbody tr th {\n",
       "        vertical-align: top;\n",
       "    }\n",
       "\n",
       "    .dataframe thead th {\n",
       "        text-align: right;\n",
       "    }\n",
       "</style>\n",
       "<table border=\"1\" class=\"dataframe\">\n",
       "  <thead>\n",
       "    <tr style=\"text-align: right;\">\n",
       "      <th></th>\n",
       "      <th>RowNumber</th>\n",
       "      <th>CustomerId</th>\n",
       "      <th>Surname</th>\n",
       "      <th>CreditScore</th>\n",
       "      <th>Geography</th>\n",
       "      <th>Gender</th>\n",
       "      <th>Age</th>\n",
       "      <th>Tenure</th>\n",
       "      <th>Balance</th>\n",
       "      <th>NumOfProducts</th>\n",
       "      <th>HasCrCard</th>\n",
       "      <th>IsActiveMember</th>\n",
       "      <th>EstimatedSalary</th>\n",
       "      <th>Exited</th>\n",
       "    </tr>\n",
       "  </thead>\n",
       "  <tbody>\n",
       "    <tr>\n",
       "      <td>0</td>\n",
       "      <td>1</td>\n",
       "      <td>15634602</td>\n",
       "      <td>Hargrave</td>\n",
       "      <td>619</td>\n",
       "      <td>France</td>\n",
       "      <td>Female</td>\n",
       "      <td>42</td>\n",
       "      <td>2</td>\n",
       "      <td>0.00</td>\n",
       "      <td>1</td>\n",
       "      <td>1</td>\n",
       "      <td>1</td>\n",
       "      <td>101348.88</td>\n",
       "      <td>1</td>\n",
       "    </tr>\n",
       "    <tr>\n",
       "      <td>1</td>\n",
       "      <td>2</td>\n",
       "      <td>15647311</td>\n",
       "      <td>Hill</td>\n",
       "      <td>608</td>\n",
       "      <td>Spain</td>\n",
       "      <td>Female</td>\n",
       "      <td>41</td>\n",
       "      <td>1</td>\n",
       "      <td>83807.86</td>\n",
       "      <td>1</td>\n",
       "      <td>0</td>\n",
       "      <td>1</td>\n",
       "      <td>112542.58</td>\n",
       "      <td>0</td>\n",
       "    </tr>\n",
       "    <tr>\n",
       "      <td>2</td>\n",
       "      <td>3</td>\n",
       "      <td>15619304</td>\n",
       "      <td>Onio</td>\n",
       "      <td>502</td>\n",
       "      <td>France</td>\n",
       "      <td>Female</td>\n",
       "      <td>42</td>\n",
       "      <td>8</td>\n",
       "      <td>159660.80</td>\n",
       "      <td>3</td>\n",
       "      <td>1</td>\n",
       "      <td>0</td>\n",
       "      <td>113931.57</td>\n",
       "      <td>1</td>\n",
       "    </tr>\n",
       "    <tr>\n",
       "      <td>3</td>\n",
       "      <td>4</td>\n",
       "      <td>15701354</td>\n",
       "      <td>Boni</td>\n",
       "      <td>699</td>\n",
       "      <td>France</td>\n",
       "      <td>Female</td>\n",
       "      <td>39</td>\n",
       "      <td>1</td>\n",
       "      <td>0.00</td>\n",
       "      <td>2</td>\n",
       "      <td>0</td>\n",
       "      <td>0</td>\n",
       "      <td>93826.63</td>\n",
       "      <td>0</td>\n",
       "    </tr>\n",
       "    <tr>\n",
       "      <td>4</td>\n",
       "      <td>5</td>\n",
       "      <td>15737888</td>\n",
       "      <td>Mitchell</td>\n",
       "      <td>850</td>\n",
       "      <td>Spain</td>\n",
       "      <td>Female</td>\n",
       "      <td>43</td>\n",
       "      <td>2</td>\n",
       "      <td>125510.82</td>\n",
       "      <td>1</td>\n",
       "      <td>1</td>\n",
       "      <td>1</td>\n",
       "      <td>79084.10</td>\n",
       "      <td>0</td>\n",
       "    </tr>\n",
       "  </tbody>\n",
       "</table>\n",
       "</div>"
      ],
      "text/plain": [
       "   RowNumber  CustomerId   Surname  CreditScore Geography  Gender  Age  \\\n",
       "0          1    15634602  Hargrave          619    France  Female   42   \n",
       "1          2    15647311      Hill          608     Spain  Female   41   \n",
       "2          3    15619304      Onio          502    France  Female   42   \n",
       "3          4    15701354      Boni          699    France  Female   39   \n",
       "4          5    15737888  Mitchell          850     Spain  Female   43   \n",
       "\n",
       "   Tenure    Balance  NumOfProducts  HasCrCard  IsActiveMember  \\\n",
       "0       2       0.00              1          1               1   \n",
       "1       1   83807.86              1          0               1   \n",
       "2       8  159660.80              3          1               0   \n",
       "3       1       0.00              2          0               0   \n",
       "4       2  125510.82              1          1               1   \n",
       "\n",
       "   EstimatedSalary  Exited  \n",
       "0        101348.88       1  \n",
       "1        112542.58       0  \n",
       "2        113931.57       1  \n",
       "3         93826.63       0  \n",
       "4         79084.10       0  "
      ]
     },
     "execution_count": 385,
     "metadata": {},
     "output_type": "execute_result"
    }
   ],
   "source": [
    "bnk_det.head(5)"
   ]
  },
  {
   "cell_type": "code",
   "execution_count": 386,
   "metadata": {},
   "outputs": [
    {
     "name": "stdout",
     "output_type": "stream",
     "text": [
      "<class 'pandas.core.frame.DataFrame'>\n",
      "RangeIndex: 10000 entries, 0 to 9999\n",
      "Data columns (total 11 columns):\n",
      "CreditScore        10000 non-null int64\n",
      "Geography          10000 non-null object\n",
      "Gender             10000 non-null object\n",
      "Age                10000 non-null int64\n",
      "Tenure             10000 non-null int64\n",
      "Balance            10000 non-null float64\n",
      "NumOfProducts      10000 non-null int64\n",
      "HasCrCard          10000 non-null int64\n",
      "IsActiveMember     10000 non-null int64\n",
      "EstimatedSalary    10000 non-null float64\n",
      "Exited             10000 non-null int64\n",
      "dtypes: float64(2), int64(7), object(2)\n",
      "memory usage: 859.5+ KB\n"
     ]
    }
   ],
   "source": [
    "bnk_det1 = bnk_det.drop(columns=['RowNumber','CustomerId','Surname'],axis=1)\n",
    "bnk_det1.info()"
   ]
  },
  {
   "cell_type": "code",
   "execution_count": 387,
   "metadata": {},
   "outputs": [
    {
     "data": {
      "text/html": [
       "<div>\n",
       "<style scoped>\n",
       "    .dataframe tbody tr th:only-of-type {\n",
       "        vertical-align: middle;\n",
       "    }\n",
       "\n",
       "    .dataframe tbody tr th {\n",
       "        vertical-align: top;\n",
       "    }\n",
       "\n",
       "    .dataframe thead th {\n",
       "        text-align: right;\n",
       "    }\n",
       "</style>\n",
       "<table border=\"1\" class=\"dataframe\">\n",
       "  <thead>\n",
       "    <tr style=\"text-align: right;\">\n",
       "      <th></th>\n",
       "      <th>CreditScore</th>\n",
       "      <th>Geography</th>\n",
       "      <th>Gender</th>\n",
       "      <th>Age</th>\n",
       "      <th>Tenure</th>\n",
       "      <th>Balance</th>\n",
       "      <th>NumOfProducts</th>\n",
       "      <th>HasCrCard</th>\n",
       "      <th>IsActiveMember</th>\n",
       "      <th>EstimatedSalary</th>\n",
       "      <th>Exited</th>\n",
       "    </tr>\n",
       "  </thead>\n",
       "  <tbody>\n",
       "    <tr>\n",
       "      <td>0</td>\n",
       "      <td>619</td>\n",
       "      <td>France</td>\n",
       "      <td>Female</td>\n",
       "      <td>42</td>\n",
       "      <td>2</td>\n",
       "      <td>0.00</td>\n",
       "      <td>1</td>\n",
       "      <td>1</td>\n",
       "      <td>1</td>\n",
       "      <td>101348.88</td>\n",
       "      <td>1</td>\n",
       "    </tr>\n",
       "    <tr>\n",
       "      <td>1</td>\n",
       "      <td>608</td>\n",
       "      <td>Spain</td>\n",
       "      <td>Female</td>\n",
       "      <td>41</td>\n",
       "      <td>1</td>\n",
       "      <td>83807.86</td>\n",
       "      <td>1</td>\n",
       "      <td>0</td>\n",
       "      <td>1</td>\n",
       "      <td>112542.58</td>\n",
       "      <td>0</td>\n",
       "    </tr>\n",
       "  </tbody>\n",
       "</table>\n",
       "</div>"
      ],
      "text/plain": [
       "   CreditScore Geography  Gender  Age  Tenure   Balance  NumOfProducts  \\\n",
       "0          619    France  Female   42       2      0.00              1   \n",
       "1          608     Spain  Female   41       1  83807.86              1   \n",
       "\n",
       "   HasCrCard  IsActiveMember  EstimatedSalary  Exited  \n",
       "0          1               1        101348.88       1  \n",
       "1          0               1        112542.58       0  "
      ]
     },
     "execution_count": 387,
     "metadata": {},
     "output_type": "execute_result"
    }
   ],
   "source": [
    "bnk_det1.head(2)"
   ]
  },
  {
   "cell_type": "code",
   "execution_count": 388,
   "metadata": {},
   "outputs": [
    {
     "data": {
      "text/html": [
       "<div>\n",
       "<style scoped>\n",
       "    .dataframe tbody tr th:only-of-type {\n",
       "        vertical-align: middle;\n",
       "    }\n",
       "\n",
       "    .dataframe tbody tr th {\n",
       "        vertical-align: top;\n",
       "    }\n",
       "\n",
       "    .dataframe thead th {\n",
       "        text-align: right;\n",
       "    }\n",
       "</style>\n",
       "<table border=\"1\" class=\"dataframe\">\n",
       "  <thead>\n",
       "    <tr style=\"text-align: right;\">\n",
       "      <th></th>\n",
       "      <th>CreditScore</th>\n",
       "      <th>Age</th>\n",
       "      <th>Tenure</th>\n",
       "      <th>Balance</th>\n",
       "      <th>NumOfProducts</th>\n",
       "      <th>HasCrCard</th>\n",
       "      <th>IsActiveMember</th>\n",
       "      <th>EstimatedSalary</th>\n",
       "      <th>Exited</th>\n",
       "    </tr>\n",
       "  </thead>\n",
       "  <tbody>\n",
       "    <tr>\n",
       "      <td>count</td>\n",
       "      <td>10000.000000</td>\n",
       "      <td>10000.000000</td>\n",
       "      <td>10000.000000</td>\n",
       "      <td>10000.000000</td>\n",
       "      <td>10000.000000</td>\n",
       "      <td>10000.00000</td>\n",
       "      <td>10000.000000</td>\n",
       "      <td>10000.000000</td>\n",
       "      <td>10000.000000</td>\n",
       "    </tr>\n",
       "    <tr>\n",
       "      <td>mean</td>\n",
       "      <td>650.528800</td>\n",
       "      <td>38.921800</td>\n",
       "      <td>5.012800</td>\n",
       "      <td>76485.889288</td>\n",
       "      <td>1.530200</td>\n",
       "      <td>0.70550</td>\n",
       "      <td>0.515100</td>\n",
       "      <td>100090.239881</td>\n",
       "      <td>0.203700</td>\n",
       "    </tr>\n",
       "    <tr>\n",
       "      <td>std</td>\n",
       "      <td>96.653299</td>\n",
       "      <td>10.487806</td>\n",
       "      <td>2.892174</td>\n",
       "      <td>62397.405202</td>\n",
       "      <td>0.581654</td>\n",
       "      <td>0.45584</td>\n",
       "      <td>0.499797</td>\n",
       "      <td>57510.492818</td>\n",
       "      <td>0.402769</td>\n",
       "    </tr>\n",
       "    <tr>\n",
       "      <td>min</td>\n",
       "      <td>350.000000</td>\n",
       "      <td>18.000000</td>\n",
       "      <td>0.000000</td>\n",
       "      <td>0.000000</td>\n",
       "      <td>1.000000</td>\n",
       "      <td>0.00000</td>\n",
       "      <td>0.000000</td>\n",
       "      <td>11.580000</td>\n",
       "      <td>0.000000</td>\n",
       "    </tr>\n",
       "    <tr>\n",
       "      <td>25%</td>\n",
       "      <td>584.000000</td>\n",
       "      <td>32.000000</td>\n",
       "      <td>3.000000</td>\n",
       "      <td>0.000000</td>\n",
       "      <td>1.000000</td>\n",
       "      <td>0.00000</td>\n",
       "      <td>0.000000</td>\n",
       "      <td>51002.110000</td>\n",
       "      <td>0.000000</td>\n",
       "    </tr>\n",
       "    <tr>\n",
       "      <td>50%</td>\n",
       "      <td>652.000000</td>\n",
       "      <td>37.000000</td>\n",
       "      <td>5.000000</td>\n",
       "      <td>97198.540000</td>\n",
       "      <td>1.000000</td>\n",
       "      <td>1.00000</td>\n",
       "      <td>1.000000</td>\n",
       "      <td>100193.915000</td>\n",
       "      <td>0.000000</td>\n",
       "    </tr>\n",
       "    <tr>\n",
       "      <td>75%</td>\n",
       "      <td>718.000000</td>\n",
       "      <td>44.000000</td>\n",
       "      <td>7.000000</td>\n",
       "      <td>127644.240000</td>\n",
       "      <td>2.000000</td>\n",
       "      <td>1.00000</td>\n",
       "      <td>1.000000</td>\n",
       "      <td>149388.247500</td>\n",
       "      <td>0.000000</td>\n",
       "    </tr>\n",
       "    <tr>\n",
       "      <td>max</td>\n",
       "      <td>850.000000</td>\n",
       "      <td>92.000000</td>\n",
       "      <td>10.000000</td>\n",
       "      <td>250898.090000</td>\n",
       "      <td>4.000000</td>\n",
       "      <td>1.00000</td>\n",
       "      <td>1.000000</td>\n",
       "      <td>199992.480000</td>\n",
       "      <td>1.000000</td>\n",
       "    </tr>\n",
       "  </tbody>\n",
       "</table>\n",
       "</div>"
      ],
      "text/plain": [
       "        CreditScore           Age        Tenure        Balance  NumOfProducts  \\\n",
       "count  10000.000000  10000.000000  10000.000000   10000.000000   10000.000000   \n",
       "mean     650.528800     38.921800      5.012800   76485.889288       1.530200   \n",
       "std       96.653299     10.487806      2.892174   62397.405202       0.581654   \n",
       "min      350.000000     18.000000      0.000000       0.000000       1.000000   \n",
       "25%      584.000000     32.000000      3.000000       0.000000       1.000000   \n",
       "50%      652.000000     37.000000      5.000000   97198.540000       1.000000   \n",
       "75%      718.000000     44.000000      7.000000  127644.240000       2.000000   \n",
       "max      850.000000     92.000000     10.000000  250898.090000       4.000000   \n",
       "\n",
       "         HasCrCard  IsActiveMember  EstimatedSalary        Exited  \n",
       "count  10000.00000    10000.000000     10000.000000  10000.000000  \n",
       "mean       0.70550        0.515100    100090.239881      0.203700  \n",
       "std        0.45584        0.499797     57510.492818      0.402769  \n",
       "min        0.00000        0.000000        11.580000      0.000000  \n",
       "25%        0.00000        0.000000     51002.110000      0.000000  \n",
       "50%        1.00000        1.000000    100193.915000      0.000000  \n",
       "75%        1.00000        1.000000    149388.247500      0.000000  \n",
       "max        1.00000        1.000000    199992.480000      1.000000  "
      ]
     },
     "execution_count": 388,
     "metadata": {},
     "output_type": "execute_result"
    }
   ],
   "source": [
    "bnk_det1.describe()"
   ]
  },
  {
   "cell_type": "code",
   "execution_count": 389,
   "metadata": {},
   "outputs": [
    {
     "data": {
      "text/plain": [
       "Index(['CreditScore', 'Geography', 'Gender', 'Age', 'Tenure', 'Balance',\n",
       "       'NumOfProducts', 'HasCrCard', 'IsActiveMember', 'EstimatedSalary',\n",
       "       'Exited'],\n",
       "      dtype='object')"
      ]
     },
     "execution_count": 389,
     "metadata": {},
     "output_type": "execute_result"
    }
   ],
   "source": [
    "bnk_det1.columns"
   ]
  },
  {
   "cell_type": "code",
   "execution_count": 390,
   "metadata": {},
   "outputs": [],
   "source": [
    "bnk_feature_set = bnk_det1.drop(['Geography','Gender'],axis=1)"
   ]
  },
  {
   "cell_type": "code",
   "execution_count": 391,
   "metadata": {},
   "outputs": [],
   "source": [
    "bnk_target_set = bnk_feature_set.pop('Exited')"
   ]
  },
  {
   "cell_type": "code",
   "execution_count": 392,
   "metadata": {},
   "outputs": [
    {
     "data": {
      "text/html": [
       "<div>\n",
       "<style scoped>\n",
       "    .dataframe tbody tr th:only-of-type {\n",
       "        vertical-align: middle;\n",
       "    }\n",
       "\n",
       "    .dataframe tbody tr th {\n",
       "        vertical-align: top;\n",
       "    }\n",
       "\n",
       "    .dataframe thead th {\n",
       "        text-align: right;\n",
       "    }\n",
       "</style>\n",
       "<table border=\"1\" class=\"dataframe\">\n",
       "  <thead>\n",
       "    <tr style=\"text-align: right;\">\n",
       "      <th></th>\n",
       "      <th>CreditScore</th>\n",
       "      <th>Age</th>\n",
       "      <th>Tenure</th>\n",
       "      <th>Balance</th>\n",
       "      <th>NumOfProducts</th>\n",
       "      <th>HasCrCard</th>\n",
       "      <th>IsActiveMember</th>\n",
       "      <th>EstimatedSalary</th>\n",
       "    </tr>\n",
       "  </thead>\n",
       "  <tbody>\n",
       "    <tr>\n",
       "      <td>0</td>\n",
       "      <td>619</td>\n",
       "      <td>42</td>\n",
       "      <td>2</td>\n",
       "      <td>0.00</td>\n",
       "      <td>1</td>\n",
       "      <td>1</td>\n",
       "      <td>1</td>\n",
       "      <td>101348.88</td>\n",
       "    </tr>\n",
       "    <tr>\n",
       "      <td>1</td>\n",
       "      <td>608</td>\n",
       "      <td>41</td>\n",
       "      <td>1</td>\n",
       "      <td>83807.86</td>\n",
       "      <td>1</td>\n",
       "      <td>0</td>\n",
       "      <td>1</td>\n",
       "      <td>112542.58</td>\n",
       "    </tr>\n",
       "    <tr>\n",
       "      <td>2</td>\n",
       "      <td>502</td>\n",
       "      <td>42</td>\n",
       "      <td>8</td>\n",
       "      <td>159660.80</td>\n",
       "      <td>3</td>\n",
       "      <td>1</td>\n",
       "      <td>0</td>\n",
       "      <td>113931.57</td>\n",
       "    </tr>\n",
       "    <tr>\n",
       "      <td>3</td>\n",
       "      <td>699</td>\n",
       "      <td>39</td>\n",
       "      <td>1</td>\n",
       "      <td>0.00</td>\n",
       "      <td>2</td>\n",
       "      <td>0</td>\n",
       "      <td>0</td>\n",
       "      <td>93826.63</td>\n",
       "    </tr>\n",
       "    <tr>\n",
       "      <td>4</td>\n",
       "      <td>850</td>\n",
       "      <td>43</td>\n",
       "      <td>2</td>\n",
       "      <td>125510.82</td>\n",
       "      <td>1</td>\n",
       "      <td>1</td>\n",
       "      <td>1</td>\n",
       "      <td>79084.10</td>\n",
       "    </tr>\n",
       "  </tbody>\n",
       "</table>\n",
       "</div>"
      ],
      "text/plain": [
       "   CreditScore  Age  Tenure    Balance  NumOfProducts  HasCrCard  \\\n",
       "0          619   42       2       0.00              1          1   \n",
       "1          608   41       1   83807.86              1          0   \n",
       "2          502   42       8  159660.80              3          1   \n",
       "3          699   39       1       0.00              2          0   \n",
       "4          850   43       2  125510.82              1          1   \n",
       "\n",
       "   IsActiveMember  EstimatedSalary  \n",
       "0               1        101348.88  \n",
       "1               1        112542.58  \n",
       "2               0        113931.57  \n",
       "3               0         93826.63  \n",
       "4               1         79084.10  "
      ]
     },
     "execution_count": 392,
     "metadata": {},
     "output_type": "execute_result"
    }
   ],
   "source": [
    "bnk_feature_set.head(5)"
   ]
  },
  {
   "cell_type": "code",
   "execution_count": 393,
   "metadata": {},
   "outputs": [],
   "source": [
    "X_train, X_test, y_train, y_test = train_test_split(bnk_feature_set, bnk_target_set, test_size=0.3)"
   ]
  },
  {
   "cell_type": "code",
   "execution_count": 394,
   "metadata": {},
   "outputs": [
    {
     "name": "stdout",
     "output_type": "stream",
     "text": [
      "(7000, 8)\n",
      "(7000,)\n"
     ]
    }
   ],
   "source": [
    "print(X_train.shape)\n",
    "print(y_train.shape)"
   ]
  },
  {
   "cell_type": "code",
   "execution_count": 395,
   "metadata": {},
   "outputs": [
    {
     "name": "stdout",
     "output_type": "stream",
     "text": [
      "(3000, 8)\n",
      "(3000,)\n"
     ]
    }
   ],
   "source": [
    "print(X_test.shape)\n",
    "print(y_test.shape)"
   ]
  },
  {
   "cell_type": "code",
   "execution_count": 396,
   "metadata": {},
   "outputs": [],
   "source": [
    "min_max_scaler = preprocessing.MinMaxScaler()\n",
    "\n",
    "\n",
    "X_train = min_max_scaler.fit_transform(X_train)\n",
    "\n",
    "X_test = min_max_scaler.fit_transform(X_test)"
   ]
  },
  {
   "cell_type": "code",
   "execution_count": 397,
   "metadata": {},
   "outputs": [
    {
     "name": "stdout",
     "output_type": "stream",
     "text": [
      "[[0.426      0.18918919 0.6        ... 1.         1.         0.09855191]\n",
      " [0.904      0.27027027 0.7        ... 0.         1.         0.28879293]\n",
      " [0.47       0.28378378 0.7        ... 1.         0.         0.01194954]\n",
      " ...\n",
      " [0.446      0.22972973 0.9        ... 1.         1.         0.59962336]\n",
      " [0.664      0.43243243 1.         ... 1.         1.         0.51129173]\n",
      " [0.748      0.2972973  0.6        ... 1.         1.         0.43473722]]\n"
     ]
    }
   ],
   "source": [
    "print(X_train)"
   ]
  },
  {
   "cell_type": "code",
   "execution_count": 398,
   "metadata": {},
   "outputs": [
    {
     "name": "stdout",
     "output_type": "stream",
     "text": [
      "[[0.54268293 0.34285714 0.6        ... 1.         0.         0.46697802]\n",
      " [0.34756098 0.4        0.8        ... 0.         0.         0.63248672]\n",
      " [0.65447154 0.18571429 1.         ... 1.         1.         0.61311411]\n",
      " ...\n",
      " [0.3597561  0.37142857 0.2        ... 1.         1.         0.68160763]\n",
      " [0.30081301 0.45714286 0.3        ... 1.         0.         0.0596692 ]\n",
      " [0.43292683 0.24285714 0.8        ... 0.         0.         0.42264747]]\n"
     ]
    }
   ],
   "source": [
    "print(X_test)"
   ]
  },
  {
   "cell_type": "code",
   "execution_count": 399,
   "metadata": {},
   "outputs": [
    {
     "data": {
      "text/plain": [
       "(7000, 8)"
      ]
     },
     "execution_count": 399,
     "metadata": {},
     "output_type": "execute_result"
    }
   ],
   "source": [
    "X_train.shape"
   ]
  },
  {
   "cell_type": "code",
   "execution_count": 400,
   "metadata": {},
   "outputs": [
    {
     "data": {
      "text/plain": [
       "<tf.Tensor: shape=(3000, 8), dtype=float32, numpy=\n",
       "array([[0.54268295, 0.        , 0.6       , ..., 1.        , 0.        ,\n",
       "        0.        ],\n",
       "       [0.        , 0.        , 0.8       , ..., 0.        , 0.        ,\n",
       "        0.6324867 ],\n",
       "       [0.6544715 , 0.        , 1.        , ..., 1.        , 1.        ,\n",
       "        0.6131141 ],\n",
       "       ...,\n",
       "       [0.        , 0.        , 0.        , ..., 1.        , 1.        ,\n",
       "        0.6816076 ],\n",
       "       [0.        , 0.        , 0.        , ..., 1.        , 0.        ,\n",
       "        0.        ],\n",
       "       [0.        , 0.        , 0.8       , ..., 0.        , 0.        ,\n",
       "        0.        ]], dtype=float32)>"
      ]
     },
     "execution_count": 400,
     "metadata": {},
     "output_type": "execute_result"
    }
   ],
   "source": [
    "keras.activations.relu(X_test,threshold=0.5)"
   ]
  },
  {
   "cell_type": "code",
   "execution_count": 401,
   "metadata": {},
   "outputs": [],
   "source": [
    "model = Sequential()\n",
    "\n",
    "model.add(Dense(50, activation='relu'))\n",
    "\n",
    "model.add(Dense(2, activation='softmax', input_shape=(8,)))\n"
   ]
  },
  {
   "cell_type": "code",
   "execution_count": 402,
   "metadata": {},
   "outputs": [],
   "source": [
    "sgd = keras.optimizers.SGD(lr = 0.01)\n",
    "\n",
    "model.compile(optimizer = 'SGD', loss = 'categorical_crossentropy', metrics=['accuracy'])"
   ]
  },
  {
   "cell_type": "code",
   "execution_count": 406,
   "metadata": {},
   "outputs": [
    {
     "name": "stdout",
     "output_type": "stream",
     "text": [
      "Model: \"sequential_11\"\n",
      "_________________________________________________________________\n",
      "Layer (type)                 Output Shape              Param #   \n",
      "=================================================================\n",
      "dense_13 (Dense)             (None, 50)                450       \n",
      "_________________________________________________________________\n",
      "dense_14 (Dense)             (None, 2)                 102       \n",
      "=================================================================\n",
      "Total params: 552\n",
      "Trainable params: 552\n",
      "Non-trainable params: 0\n",
      "_________________________________________________________________\n"
     ]
    }
   ],
   "source": [
    "model.summary()"
   ]
  },
  {
   "cell_type": "code",
   "execution_count": 407,
   "metadata": {},
   "outputs": [],
   "source": [
    "y_train_bin = keras.utils.to_categorical(y_train)\n",
    "\n",
    "y_test_bin = keras.utils.to_categorical(y_test)"
   ]
  },
  {
   "cell_type": "code",
   "execution_count": 408,
   "metadata": {
    "scrolled": true
   },
   "outputs": [
    {
     "name": "stdout",
     "output_type": "stream",
     "text": [
      "Epoch 1/100\n",
      "7000/7000 [==============================] - 0s 16us/step - loss: 0.3813 - accuracy: 0.8441\n",
      "Epoch 2/100\n",
      "7000/7000 [==============================] - 0s 16us/step - loss: 0.3807 - accuracy: 0.8449\n",
      "Epoch 3/100\n",
      "7000/7000 [==============================] - 0s 16us/step - loss: 0.3800 - accuracy: 0.8447\n",
      "Epoch 4/100\n",
      "7000/7000 [==============================] - 0s 16us/step - loss: 0.3794 - accuracy: 0.8460\n",
      "Epoch 5/100\n",
      "7000/7000 [==============================] - 0s 17us/step - loss: 0.3787 - accuracy: 0.8463\n",
      "Epoch 6/100\n",
      "7000/7000 [==============================] - 0s 16us/step - loss: 0.3781 - accuracy: 0.8456\n",
      "Epoch 7/100\n",
      "7000/7000 [==============================] - 0s 16us/step - loss: 0.3775 - accuracy: 0.8471\n",
      "Epoch 8/100\n",
      "7000/7000 [==============================] - 0s 15us/step - loss: 0.3768 - accuracy: 0.8473\n",
      "Epoch 9/100\n",
      "7000/7000 [==============================] - 0s 15us/step - loss: 0.3761 - accuracy: 0.8476\n",
      "Epoch 10/100\n",
      "7000/7000 [==============================] - 0s 16us/step - loss: 0.3758 - accuracy: 0.8480\n",
      "Epoch 11/100\n",
      "7000/7000 [==============================] - 0s 15us/step - loss: 0.3750 - accuracy: 0.8496\n",
      "Epoch 12/100\n",
      "7000/7000 [==============================] - 0s 15us/step - loss: 0.3747 - accuracy: 0.8483\n",
      "Epoch 13/100\n",
      "7000/7000 [==============================] - 0s 15us/step - loss: 0.3741 - accuracy: 0.8487\n",
      "Epoch 14/100\n",
      "7000/7000 [==============================] - 0s 16us/step - loss: 0.3735 - accuracy: 0.8484\n",
      "Epoch 15/100\n",
      "7000/7000 [==============================] - 0s 15us/step - loss: 0.3732 - accuracy: 0.8501\n",
      "Epoch 16/100\n",
      "7000/7000 [==============================] - 0s 15us/step - loss: 0.3722 - accuracy: 0.8516\n",
      "Epoch 17/100\n",
      "7000/7000 [==============================] - 0s 15us/step - loss: 0.3720 - accuracy: 0.8497\n",
      "Epoch 18/100\n",
      "7000/7000 [==============================] - 0s 16us/step - loss: 0.3717 - accuracy: 0.8517\n",
      "Epoch 19/100\n",
      "7000/7000 [==============================] - 0s 15us/step - loss: 0.3711 - accuracy: 0.8519\n",
      "Epoch 20/100\n",
      "7000/7000 [==============================] - 0s 15us/step - loss: 0.3705 - accuracy: 0.8506\n",
      "Epoch 21/100\n",
      "7000/7000 [==============================] - 0s 15us/step - loss: 0.3701 - accuracy: 0.8521\n",
      "Epoch 22/100\n",
      "7000/7000 [==============================] - 0s 15us/step - loss: 0.3696 - accuracy: 0.8513\n",
      "Epoch 23/100\n",
      "7000/7000 [==============================] - 0s 15us/step - loss: 0.3692 - accuracy: 0.8517\n",
      "Epoch 24/100\n",
      "7000/7000 [==============================] - 0s 15us/step - loss: 0.3689 - accuracy: 0.8517\n",
      "Epoch 25/100\n",
      "7000/7000 [==============================] - 0s 15us/step - loss: 0.3684 - accuracy: 0.8524\n",
      "Epoch 26/100\n",
      "7000/7000 [==============================] - 0s 15us/step - loss: 0.3681 - accuracy: 0.8527\n",
      "Epoch 27/100\n",
      "7000/7000 [==============================] - 0s 15us/step - loss: 0.3677 - accuracy: 0.8533\n",
      "Epoch 28/100\n",
      "7000/7000 [==============================] - 0s 16us/step - loss: 0.3670 - accuracy: 0.8524\n",
      "Epoch 29/100\n",
      "7000/7000 [==============================] - 0s 16us/step - loss: 0.3671 - accuracy: 0.8533\n",
      "Epoch 30/100\n",
      "7000/7000 [==============================] - 0s 15us/step - loss: 0.3666 - accuracy: 0.8529\n",
      "Epoch 31/100\n",
      "7000/7000 [==============================] - 0s 15us/step - loss: 0.3662 - accuracy: 0.8547\n",
      "Epoch 32/100\n",
      "7000/7000 [==============================] - 0s 15us/step - loss: 0.3660 - accuracy: 0.8540\n",
      "Epoch 33/100\n",
      "7000/7000 [==============================] - 0s 15us/step - loss: 0.3655 - accuracy: 0.8559\n",
      "Epoch 34/100\n",
      "7000/7000 [==============================] - 0s 15us/step - loss: 0.3654 - accuracy: 0.8537\n",
      "Epoch 35/100\n",
      "7000/7000 [==============================] - 0s 16us/step - loss: 0.3649 - accuracy: 0.8539\n",
      "Epoch 36/100\n",
      "7000/7000 [==============================] - 0s 15us/step - loss: 0.3647 - accuracy: 0.8543\n",
      "Epoch 37/100\n",
      "7000/7000 [==============================] - 0s 16us/step - loss: 0.3639 - accuracy: 0.8547\n",
      "Epoch 38/100\n",
      "7000/7000 [==============================] - 0s 15us/step - loss: 0.3641 - accuracy: 0.8543\n",
      "Epoch 39/100\n",
      "7000/7000 [==============================] - 0s 16us/step - loss: 0.3640 - accuracy: 0.8550\n",
      "Epoch 40/100\n",
      "7000/7000 [==============================] - 0s 15us/step - loss: 0.3636 - accuracy: 0.8560\n",
      "Epoch 41/100\n",
      "7000/7000 [==============================] - 0s 16us/step - loss: 0.3634 - accuracy: 0.8537\n",
      "Epoch 42/100\n",
      "7000/7000 [==============================] - 0s 16us/step - loss: 0.3629 - accuracy: 0.8560\n",
      "Epoch 43/100\n",
      "7000/7000 [==============================] - 0s 15us/step - loss: 0.3626 - accuracy: 0.8543\n",
      "Epoch 44/100\n",
      "7000/7000 [==============================] - 0s 16us/step - loss: 0.3626 - accuracy: 0.8556\n",
      "Epoch 45/100\n",
      "7000/7000 [==============================] - 0s 16us/step - loss: 0.3623 - accuracy: 0.8543\n",
      "Epoch 46/100\n",
      "7000/7000 [==============================] - 0s 16us/step - loss: 0.3619 - accuracy: 0.8559\n",
      "Epoch 47/100\n",
      "7000/7000 [==============================] - 0s 17us/step - loss: 0.3616 - accuracy: 0.8551\n",
      "Epoch 48/100\n",
      "7000/7000 [==============================] - 0s 17us/step - loss: 0.3616 - accuracy: 0.8560\n",
      "Epoch 49/100\n",
      "7000/7000 [==============================] - 0s 16us/step - loss: 0.3614 - accuracy: 0.8541\n",
      "Epoch 50/100\n",
      "7000/7000 [==============================] - 0s 15us/step - loss: 0.3611 - accuracy: 0.8567\n",
      "Epoch 51/100\n",
      "7000/7000 [==============================] - 0s 15us/step - loss: 0.3611 - accuracy: 0.8559\n",
      "Epoch 52/100\n",
      "7000/7000 [==============================] - 0s 15us/step - loss: 0.3605 - accuracy: 0.8563\n",
      "Epoch 53/100\n",
      "7000/7000 [==============================] - 0s 16us/step - loss: 0.3604 - accuracy: 0.8557\n",
      "Epoch 54/100\n",
      "7000/7000 [==============================] - 0s 16us/step - loss: 0.3603 - accuracy: 0.8556\n",
      "Epoch 55/100\n",
      "7000/7000 [==============================] - 0s 16us/step - loss: 0.3600 - accuracy: 0.8553\n",
      "Epoch 56/100\n",
      "7000/7000 [==============================] - 0s 15us/step - loss: 0.3600 - accuracy: 0.8561\n",
      "Epoch 57/100\n",
      "7000/7000 [==============================] - 0s 15us/step - loss: 0.3594 - accuracy: 0.8561\n",
      "Epoch 58/100\n",
      "7000/7000 [==============================] - 0s 15us/step - loss: 0.3597 - accuracy: 0.8564\n",
      "Epoch 59/100\n",
      "7000/7000 [==============================] - 0s 18us/step - loss: 0.3591 - accuracy: 0.8559\n",
      "Epoch 60/100\n",
      "7000/7000 [==============================] - 0s 16us/step - loss: 0.3593 - accuracy: 0.8556\n",
      "Epoch 61/100\n",
      "7000/7000 [==============================] - 0s 16us/step - loss: 0.3588 - accuracy: 0.8559\n",
      "Epoch 62/100\n",
      "7000/7000 [==============================] - 0s 16us/step - loss: 0.3590 - accuracy: 0.8554\n",
      "Epoch 63/100\n",
      "7000/7000 [==============================] - 0s 15us/step - loss: 0.3589 - accuracy: 0.8566\n",
      "Epoch 64/100\n",
      "7000/7000 [==============================] - 0s 16us/step - loss: 0.3587 - accuracy: 0.8561\n",
      "Epoch 65/100\n",
      "7000/7000 [==============================] - 0s 16us/step - loss: 0.3583 - accuracy: 0.8547\n",
      "Epoch 66/100\n",
      "7000/7000 [==============================] - 0s 16us/step - loss: 0.3581 - accuracy: 0.8560\n",
      "Epoch 67/100\n",
      "7000/7000 [==============================] - 0s 15us/step - loss: 0.3578 - accuracy: 0.8556\n",
      "Epoch 68/100\n",
      "7000/7000 [==============================] - 0s 16us/step - loss: 0.3582 - accuracy: 0.8557\n",
      "Epoch 69/100\n",
      "7000/7000 [==============================] - 0s 15us/step - loss: 0.3578 - accuracy: 0.8561\n",
      "Epoch 70/100\n",
      "7000/7000 [==============================] - 0s 15us/step - loss: 0.3578 - accuracy: 0.8557\n",
      "Epoch 71/100\n",
      "7000/7000 [==============================] - 0s 15us/step - loss: 0.3572 - accuracy: 0.8557\n",
      "Epoch 72/100\n",
      "7000/7000 [==============================] - 0s 15us/step - loss: 0.3576 - accuracy: 0.8546\n",
      "Epoch 73/100\n",
      "7000/7000 [==============================] - 0s 15us/step - loss: 0.3573 - accuracy: 0.8569\n",
      "Epoch 74/100\n",
      "7000/7000 [==============================] - 0s 15us/step - loss: 0.3573 - accuracy: 0.8564\n",
      "Epoch 75/100\n",
      "7000/7000 [==============================] - 0s 15us/step - loss: 0.3572 - accuracy: 0.8557\n",
      "Epoch 76/100\n",
      "7000/7000 [==============================] - 0s 15us/step - loss: 0.3569 - accuracy: 0.8551\n",
      "Epoch 77/100\n",
      "7000/7000 [==============================] - 0s 16us/step - loss: 0.3569 - accuracy: 0.8554\n",
      "Epoch 78/100\n",
      "7000/7000 [==============================] - 0s 15us/step - loss: 0.3566 - accuracy: 0.8543\n",
      "Epoch 79/100\n"
     ]
    },
    {
     "name": "stdout",
     "output_type": "stream",
     "text": [
      "7000/7000 [==============================] - 0s 14us/step - loss: 0.3566 - accuracy: 0.8546\n",
      "Epoch 80/100\n",
      "7000/7000 [==============================] - 0s 15us/step - loss: 0.3564 - accuracy: 0.8547\n",
      "Epoch 81/100\n",
      "7000/7000 [==============================] - 0s 15us/step - loss: 0.3564 - accuracy: 0.8560\n",
      "Epoch 82/100\n",
      "7000/7000 [==============================] - 0s 15us/step - loss: 0.3563 - accuracy: 0.8566\n",
      "Epoch 83/100\n",
      "7000/7000 [==============================] - 0s 16us/step - loss: 0.3562 - accuracy: 0.8547\n",
      "Epoch 84/100\n",
      "7000/7000 [==============================] - 0s 15us/step - loss: 0.3561 - accuracy: 0.8539\n",
      "Epoch 85/100\n",
      "7000/7000 [==============================] - 0s 15us/step - loss: 0.3557 - accuracy: 0.8556\n",
      "Epoch 86/100\n",
      "7000/7000 [==============================] - 0s 15us/step - loss: 0.3558 - accuracy: 0.8550\n",
      "Epoch 87/100\n",
      "7000/7000 [==============================] - 0s 16us/step - loss: 0.3555 - accuracy: 0.8570\n",
      "Epoch 88/100\n",
      "7000/7000 [==============================] - 0s 16us/step - loss: 0.3558 - accuracy: 0.8539\n",
      "Epoch 89/100\n",
      "7000/7000 [==============================] - 0s 15us/step - loss: 0.3553 - accuracy: 0.8557\n",
      "Epoch 90/100\n",
      "7000/7000 [==============================] - 0s 16us/step - loss: 0.3558 - accuracy: 0.8556\n",
      "Epoch 91/100\n",
      "7000/7000 [==============================] - 0s 16us/step - loss: 0.3553 - accuracy: 0.8547\n",
      "Epoch 92/100\n",
      "7000/7000 [==============================] - 0s 15us/step - loss: 0.3551 - accuracy: 0.8551\n",
      "Epoch 93/100\n",
      "7000/7000 [==============================] - 0s 16us/step - loss: 0.3553 - accuracy: 0.8561\n",
      "Epoch 94/100\n",
      "7000/7000 [==============================] - 0s 16us/step - loss: 0.3554 - accuracy: 0.8549\n",
      "Epoch 95/100\n",
      "7000/7000 [==============================] - 0s 16us/step - loss: 0.3551 - accuracy: 0.8567\n",
      "Epoch 96/100\n",
      "7000/7000 [==============================] - 0s 15us/step - loss: 0.3551 - accuracy: 0.8556\n",
      "Epoch 97/100\n",
      "7000/7000 [==============================] - 0s 15us/step - loss: 0.3553 - accuracy: 0.8544\n",
      "Epoch 98/100\n",
      "7000/7000 [==============================] - 0s 16us/step - loss: 0.3551 - accuracy: 0.8557\n",
      "Epoch 99/100\n",
      "7000/7000 [==============================] - 0s 16us/step - loss: 0.3548 - accuracy: 0.8553\n",
      "Epoch 100/100\n",
      "7000/7000 [==============================] - 0s 15us/step - loss: 0.3550 - accuracy: 0.8547\n"
     ]
    },
    {
     "data": {
      "text/plain": [
       "<keras.callbacks.callbacks.History at 0x1d79f084f48>"
      ]
     },
     "execution_count": 408,
     "metadata": {},
     "output_type": "execute_result"
    }
   ],
   "source": [
    "model.fit(X_train,y_train_bin, epochs = 100)"
   ]
  },
  {
   "cell_type": "code",
   "execution_count": 409,
   "metadata": {},
   "outputs": [
    {
     "name": "stdout",
     "output_type": "stream",
     "text": [
      "Accuracy : 0.857\n",
      "Loss : 0.365\n"
     ]
    }
   ],
   "source": [
    "#Accuracy\n",
    "loss, acc = model.evaluate(X_test_norm, y_test_binary, verbose=0)\n",
    "\n",
    "print('Accuracy : %.3f' %acc)\n",
    "print('Loss : %.3f' %loss)"
   ]
  },
  {
   "cell_type": "code",
   "execution_count": 410,
   "metadata": {},
   "outputs": [
    {
     "data": {
      "text/plain": [
       "array([[1., 0.],\n",
       "       [0., 1.],\n",
       "       [1., 0.],\n",
       "       ...,\n",
       "       [1., 0.],\n",
       "       [1., 0.],\n",
       "       [1., 0.]], dtype=float32)"
      ]
     },
     "execution_count": 410,
     "metadata": {},
     "output_type": "execute_result"
    }
   ],
   "source": [
    "y_pred = np.round(model.predict(X_test))\n",
    "y_pred"
   ]
  },
  {
   "cell_type": "code",
   "execution_count": 411,
   "metadata": {},
   "outputs": [],
   "source": [
    "y_pred1 = []\n",
    "for val in y_pred:\n",
    "    y_pred1.append(np.argmax(val))"
   ]
  },
  {
   "cell_type": "code",
   "execution_count": 412,
   "metadata": {},
   "outputs": [
    {
     "data": {
      "text/plain": [
       "array([[2287,  104],\n",
       "       [ 338,  271]], dtype=int64)"
      ]
     },
     "execution_count": 412,
     "metadata": {},
     "output_type": "execute_result"
    }
   ],
   "source": [
    "#Confusion Matrix\n",
    "\n",
    "metrics.confusion_matrix(y_test,y_pred1)"
   ]
  }
 ],
 "metadata": {
  "kernelspec": {
   "display_name": "Python 3",
   "language": "python",
   "name": "python3"
  },
  "language_info": {
   "codemirror_mode": {
    "name": "ipython",
    "version": 3
   },
   "file_extension": ".py",
   "mimetype": "text/x-python",
   "name": "python",
   "nbconvert_exporter": "python",
   "pygments_lexer": "ipython3",
   "version": "3.7.4"
  }
 },
 "nbformat": 4,
 "nbformat_minor": 2
}
