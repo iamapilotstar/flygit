{
  "nbformat": 4,
  "nbformat_minor": 0,
  "metadata": {
    "kernelspec": {
      "display_name": "Python 3",
      "language": "python",
      "name": "python3"
    },
    "language_info": {
      "codemirror_mode": {
        "name": "ipython",
        "version": 3
      },
      "file_extension": ".py",
      "mimetype": "text/x-python",
      "name": "python",
      "nbconvert_exporter": "python",
      "pygments_lexer": "ipython3",
      "version": "3.7.3"
    },
    "colab": {
      "name": "Statistical_NLP_Project1.ipynb",
      "provenance": []
    },
    "accelerator": "TPU"
  },
  "cells": [
    {
      "cell_type": "code",
      "metadata": {
        "id": "wUfMzzGP8rJ0"
      },
      "source": [
        "import warnings\n",
        "warnings.filterwarnings('ignore')\n",
        "\n",
        "import pandas as pd\n",
        "\n",
        "import re\n",
        "import nltk\n",
        "from sklearn.model_selection import train_test_split\n",
        "from sklearn.feature_extraction.text import CountVectorizer\n",
        "from sklearn.linear_model import LogisticRegression\n",
        "from sklearn.naive_bayes import MultinomialNB\n",
        "from nltk.corpus import stopwords\n",
        "from sklearn import metrics\n",
        "from sklearn.metrics import accuracy_score, f1_score, average_precision_score, recall_score\n",
        "from nltk.tokenize import word_tokenize\n",
        "from string import punctuation\n",
        "from nltk.stem import WordNetLemmatizer \n",
        "lemma = WordNetLemmatizer()\n",
        "from wordcloud import WordCloud\n",
        "from nltk import FreqDist\n",
        "from sklearn.multiclass import OneVsRestClassifier\n",
        "from sklearn.linear_model import LogisticRegression"
      ],
      "execution_count": 122,
      "outputs": []
    },
    {
      "cell_type": "code",
      "metadata": {
        "id": "zph6lyHd8rJ3"
      },
      "source": [
        "#Load the dataset\n",
        "df = pd.read_csv('blogtext.csv', nrows= 5000)\n"
      ],
      "execution_count": 123,
      "outputs": []
    },
    {
      "cell_type": "code",
      "metadata": {
        "id": "FkAa49Dc8rJ3",
        "colab": {
          "base_uri": "https://localhost:8080/",
          "height": 204
        },
        "outputId": "fd448189-7cdd-4d01-f1f8-beae16c14bbd"
      },
      "source": [
        "df.head()"
      ],
      "execution_count": 124,
      "outputs": [
        {
          "output_type": "execute_result",
          "data": {
            "text/html": [
              "<div>\n",
              "<style scoped>\n",
              "    .dataframe tbody tr th:only-of-type {\n",
              "        vertical-align: middle;\n",
              "    }\n",
              "\n",
              "    .dataframe tbody tr th {\n",
              "        vertical-align: top;\n",
              "    }\n",
              "\n",
              "    .dataframe thead th {\n",
              "        text-align: right;\n",
              "    }\n",
              "</style>\n",
              "<table border=\"1\" class=\"dataframe\">\n",
              "  <thead>\n",
              "    <tr style=\"text-align: right;\">\n",
              "      <th></th>\n",
              "      <th>id</th>\n",
              "      <th>gender</th>\n",
              "      <th>age</th>\n",
              "      <th>topic</th>\n",
              "      <th>sign</th>\n",
              "      <th>date</th>\n",
              "      <th>text</th>\n",
              "    </tr>\n",
              "  </thead>\n",
              "  <tbody>\n",
              "    <tr>\n",
              "      <th>0</th>\n",
              "      <td>2059027</td>\n",
              "      <td>male</td>\n",
              "      <td>15</td>\n",
              "      <td>Student</td>\n",
              "      <td>Leo</td>\n",
              "      <td>14,May,2004</td>\n",
              "      <td>Info has been found (+/- 100 pages,...</td>\n",
              "    </tr>\n",
              "    <tr>\n",
              "      <th>1</th>\n",
              "      <td>2059027</td>\n",
              "      <td>male</td>\n",
              "      <td>15</td>\n",
              "      <td>Student</td>\n",
              "      <td>Leo</td>\n",
              "      <td>13,May,2004</td>\n",
              "      <td>These are the team members:   Drewe...</td>\n",
              "    </tr>\n",
              "    <tr>\n",
              "      <th>2</th>\n",
              "      <td>2059027</td>\n",
              "      <td>male</td>\n",
              "      <td>15</td>\n",
              "      <td>Student</td>\n",
              "      <td>Leo</td>\n",
              "      <td>12,May,2004</td>\n",
              "      <td>In het kader van kernfusie op aarde...</td>\n",
              "    </tr>\n",
              "    <tr>\n",
              "      <th>3</th>\n",
              "      <td>2059027</td>\n",
              "      <td>male</td>\n",
              "      <td>15</td>\n",
              "      <td>Student</td>\n",
              "      <td>Leo</td>\n",
              "      <td>12,May,2004</td>\n",
              "      <td>testing!!!  testing!!!</td>\n",
              "    </tr>\n",
              "    <tr>\n",
              "      <th>4</th>\n",
              "      <td>3581210</td>\n",
              "      <td>male</td>\n",
              "      <td>33</td>\n",
              "      <td>InvestmentBanking</td>\n",
              "      <td>Aquarius</td>\n",
              "      <td>11,June,2004</td>\n",
              "      <td>Thanks to Yahoo!'s Toolbar I can ...</td>\n",
              "    </tr>\n",
              "  </tbody>\n",
              "</table>\n",
              "</div>"
            ],
            "text/plain": [
              "        id  ...                                               text\n",
              "0  2059027  ...             Info has been found (+/- 100 pages,...\n",
              "1  2059027  ...             These are the team members:   Drewe...\n",
              "2  2059027  ...             In het kader van kernfusie op aarde...\n",
              "3  2059027  ...                   testing!!!  testing!!!          \n",
              "4  3581210  ...               Thanks to Yahoo!'s Toolbar I can ...\n",
              "\n",
              "[5 rows x 7 columns]"
            ]
          },
          "metadata": {
            "tags": []
          },
          "execution_count": 124
        }
      ]
    },
    {
      "cell_type": "code",
      "metadata": {
        "id": "E35grxzJ8rJ4",
        "colab": {
          "base_uri": "https://localhost:8080/"
        },
        "outputId": "4d80dfa7-0679-409d-98d1-858013a93141"
      },
      "source": [
        "df.shape"
      ],
      "execution_count": 125,
      "outputs": [
        {
          "output_type": "execute_result",
          "data": {
            "text/plain": [
              "(5000, 7)"
            ]
          },
          "metadata": {
            "tags": []
          },
          "execution_count": 125
        }
      ]
    },
    {
      "cell_type": "code",
      "metadata": {
        "colab": {
          "base_uri": "https://localhost:8080/"
        },
        "id": "50N8NzmGefoE",
        "outputId": "5eb2638a-2980-4ae4-b4c5-1aeace1a6a19"
      },
      "source": [
        "df.isnull().sum()"
      ],
      "execution_count": 126,
      "outputs": [
        {
          "output_type": "execute_result",
          "data": {
            "text/plain": [
              "id        0\n",
              "gender    0\n",
              "age       0\n",
              "topic     0\n",
              "sign      0\n",
              "date      0\n",
              "text      0\n",
              "dtype: int64"
            ]
          },
          "metadata": {
            "tags": []
          },
          "execution_count": 126
        }
      ]
    },
    {
      "cell_type": "code",
      "metadata": {
        "id": "D-Wnl7EyjUdN"
      },
      "source": [
        "df = df.head(3000)"
      ],
      "execution_count": 127,
      "outputs": []
    },
    {
      "cell_type": "code",
      "metadata": {
        "id": "yJZAWbx4emnK"
      },
      "source": [
        "# Selecting the alphabets\n",
        "df.text = df.text.apply(lambda x: re.sub('[^A-Za-z]+', ' ', x))\n",
        "\n"
      ],
      "execution_count": 128,
      "outputs": []
    },
    {
      "cell_type": "code",
      "metadata": {
        "id": "-zSX1nPgfeyX"
      },
      "source": [
        "# Converting to Lower Case\n",
        "df.text = df.text.apply(lambda x: x.lower())\n",
        "\n"
      ],
      "execution_count": 129,
      "outputs": []
    },
    {
      "cell_type": "code",
      "metadata": {
        "id": "X3aupTLXfg7-"
      },
      "source": [
        "# Strip the Unwanted Keywords\n",
        "df.text = df.text.apply(lambda x: x.strip())"
      ],
      "execution_count": 130,
      "outputs": []
    },
    {
      "cell_type": "code",
      "metadata": {
        "id": "92wzUqzy8rJ6"
      },
      "source": [
        "#mergeall the label columns together\n",
        "df1=df[['gender', 'age', 'topic', 'sign']]"
      ],
      "execution_count": 131,
      "outputs": []
    },
    {
      "cell_type": "code",
      "metadata": {
        "id": "pjxiBSF28rJ7"
      },
      "source": [
        "df1['age']=df1['age'].astype('str')"
      ],
      "execution_count": 132,
      "outputs": []
    },
    {
      "cell_type": "code",
      "metadata": {
        "id": "3sRobjSJ8rJ7"
      },
      "source": [
        "m=[]                              \n",
        "for i in range(df1.shape[0]):\n",
        "    g=[]                          \n",
        "    for j in range(df1.shape[1]):\n",
        "        g.append(df1.iloc[i][j])\n",
        "    m.append(g)"
      ],
      "execution_count": 133,
      "outputs": []
    },
    {
      "cell_type": "code",
      "metadata": {
        "id": "6QUE7yPi8rJ7"
      },
      "source": [
        "df['labels']=m"
      ],
      "execution_count": 134,
      "outputs": []
    },
    {
      "cell_type": "code",
      "metadata": {
        "id": "jC9ivqmm8rJ8",
        "colab": {
          "base_uri": "https://localhost:8080/",
          "height": 204
        },
        "outputId": "0d840082-681f-4f5f-e58d-2600f45cdec3"
      },
      "source": [
        "df2 = df[['text', 'labels']]\n",
        "df2.head(5)"
      ],
      "execution_count": 135,
      "outputs": [
        {
          "output_type": "execute_result",
          "data": {
            "text/html": [
              "<div>\n",
              "<style scoped>\n",
              "    .dataframe tbody tr th:only-of-type {\n",
              "        vertical-align: middle;\n",
              "    }\n",
              "\n",
              "    .dataframe tbody tr th {\n",
              "        vertical-align: top;\n",
              "    }\n",
              "\n",
              "    .dataframe thead th {\n",
              "        text-align: right;\n",
              "    }\n",
              "</style>\n",
              "<table border=\"1\" class=\"dataframe\">\n",
              "  <thead>\n",
              "    <tr style=\"text-align: right;\">\n",
              "      <th></th>\n",
              "      <th>text</th>\n",
              "      <th>labels</th>\n",
              "    </tr>\n",
              "  </thead>\n",
              "  <tbody>\n",
              "    <tr>\n",
              "      <th>0</th>\n",
              "      <td>info has been found pages and mb of pdf files ...</td>\n",
              "      <td>[male, 15, Student, Leo]</td>\n",
              "    </tr>\n",
              "    <tr>\n",
              "      <th>1</th>\n",
              "      <td>these are the team members drewes van der laag...</td>\n",
              "      <td>[male, 15, Student, Leo]</td>\n",
              "    </tr>\n",
              "    <tr>\n",
              "      <th>2</th>\n",
              "      <td>in het kader van kernfusie op aarde maak je ei...</td>\n",
              "      <td>[male, 15, Student, Leo]</td>\n",
              "    </tr>\n",
              "    <tr>\n",
              "      <th>3</th>\n",
              "      <td>testing testing</td>\n",
              "      <td>[male, 15, Student, Leo]</td>\n",
              "    </tr>\n",
              "    <tr>\n",
              "      <th>4</th>\n",
              "      <td>thanks to yahoo s toolbar i can now capture th...</td>\n",
              "      <td>[male, 33, InvestmentBanking, Aquarius]</td>\n",
              "    </tr>\n",
              "  </tbody>\n",
              "</table>\n",
              "</div>"
            ],
            "text/plain": [
              "                                                text                                   labels\n",
              "0  info has been found pages and mb of pdf files ...                 [male, 15, Student, Leo]\n",
              "1  these are the team members drewes van der laag...                 [male, 15, Student, Leo]\n",
              "2  in het kader van kernfusie op aarde maak je ei...                 [male, 15, Student, Leo]\n",
              "3                                    testing testing                 [male, 15, Student, Leo]\n",
              "4  thanks to yahoo s toolbar i can now capture th...  [male, 33, InvestmentBanking, Aquarius]"
            ]
          },
          "metadata": {
            "tags": []
          },
          "execution_count": 135
        }
      ]
    },
    {
      "cell_type": "code",
      "metadata": {
        "id": "NJJu_dol8rJ8",
        "colab": {
          "base_uri": "https://localhost:8080/"
        },
        "outputId": "f95dcd19-2529-4b89-b38a-7194d4a7837f"
      },
      "source": [
        "df2['labels'].astype('str').value_counts()"
      ],
      "execution_count": 136,
      "outputs": [
        {
          "output_type": "execute_result",
          "data": {
            "text/plain": [
              "['male', '35', 'Technology', 'Aries']               1607\n",
              "['female', '24', 'indUnk', 'Scorpio']                191\n",
              "['female', '15', 'Student', 'Libra']                 131\n",
              "['male', '24', 'Engineering', 'Libra']               119\n",
              "['female', '27', 'Education', 'Aquarius']             85\n",
              "['male', '17', 'Sports-Recreation', 'Capricorn']      75\n",
              "['male', '33', 'InvestmentBanking', 'Aquarius']       70\n",
              "['female', '15', 'Student', 'Aquarius']               62\n",
              "['male', '23', 'indUnk', 'Sagittarius']               49\n",
              "['male', '25', 'Non-Profit', 'Cancer']                46\n",
              "['male', '14', 'Student', 'Scorpio']                  46\n",
              "['male', '26', 'indUnk', 'Leo']                       35\n",
              "['male', '15', 'Student', 'Aquarius']                 34\n",
              "['female', '25', 'Student', 'Taurus']                 33\n",
              "['male', '17', 'Student', 'Sagittarius']              32\n",
              "['male', '39', 'Education', 'Virgo']                  32\n",
              "['male', '15', 'Science', 'Libra']                    29\n",
              "['female', '15', 'indUnk', 'Aries']                   26\n",
              "['female', '17', 'Student', 'Aries']                  25\n",
              "['female', '14', 'indUnk', 'Aries']                   21\n",
              "['male', '24', 'BusinessServices', 'Cancer']          21\n",
              "['female', '16', 'indUnk', 'Taurus']                  20\n",
              "['male', '25', 'Internet', 'Aries']                   20\n",
              "['female', '37', 'indUnk', 'Aquarius']                19\n",
              "['female', '23', 'indUnk', 'Libra']                   17\n",
              "['male', '41', 'Communications-Media', 'Libra']       14\n",
              "['female', '45', 'indUnk', 'Sagittarius']             14\n",
              "['male', '23', 'indUnk', 'Taurus']                    14\n",
              "['female', '33', 'Banking', 'Aquarius']               13\n",
              "['female', '33', 'indUnk', 'Leo']                     10\n",
              "['female', '17', 'Student', 'Gemini']                 10\n",
              "['male', '23', 'Student', 'Sagittarius']              10\n",
              "['female', '25', 'indUnk', 'Taurus']                   6\n",
              "['female', '15', 'Student', 'Cancer']                  6\n",
              "['female', '34', 'indUnk', 'Scorpio']                  6\n",
              "['female', '15', 'Student', 'Gemini']                  5\n",
              "['male', '17', 'Student', 'Virgo']                     5\n",
              "['male', '16', 'indUnk', 'Gemini']                     5\n",
              "['female', '14', 'indUnk', 'Leo']                      4\n",
              "['female', '26', 'Science', 'Sagittarius']             4\n",
              "['male', '15', 'Student', 'Leo']                       4\n",
              "['female', '25', 'indUnk', 'Sagittarius']              3\n",
              "['female', '24', 'Banking', 'Libra']                   3\n",
              "['female', '14', 'indUnk', 'Cancer']                   3\n",
              "['male', '44', 'indUnk', 'Taurus']                     3\n",
              "['female', '26', 'Accounting', 'Aquarius']             2\n",
              "['female', '15', 'Arts', 'Pisces']                     2\n",
              "['male', '26', 'Museums-Libraries', 'Leo']             2\n",
              "['female', '25', 'indUnk', 'Capricorn']                2\n",
              "['female', '23', 'indUnk', 'Virgo']                    2\n",
              "['female', '33', 'indUnk', 'Sagittarius']              1\n",
              "['female', '27', 'Education', 'Gemini']                1\n",
              "['female', '23', 'indUnk', 'Aquarius']                 1\n",
              "Name: labels, dtype: int64"
            ]
          },
          "metadata": {
            "tags": []
          },
          "execution_count": 136
        }
      ]
    },
    {
      "cell_type": "code",
      "metadata": {
        "id": "iAWprbac8rJ8"
      },
      "source": [
        "#split the data into training and testing\n",
        "X_train, X_test, y_train, y_test = train_test_split(df.text.values, df.labels.values, test_size=0.20, random_state=40)"
      ],
      "execution_count": 137,
      "outputs": []
    },
    {
      "cell_type": "code",
      "metadata": {
        "id": "8LLr7Lq-8rJ9"
      },
      "source": [
        "#Vectorize the features\n",
        "vectorizer = CountVectorizer(binary=True, ngram_range=(1, 2))\n",
        "X_train_r = vectorizer.fit_transform(X_train)\n",
        "X_test_r = vectorizer.transform(X_test)"
      ],
      "execution_count": 139,
      "outputs": []
    },
    {
      "cell_type": "code",
      "metadata": {
        "id": "IUDJMrxN8rJ9",
        "colab": {
          "base_uri": "https://localhost:8080/"
        },
        "outputId": "7c8873f9-6f6f-420c-8950-6e5c4480ca96"
      },
      "source": [
        "vectorizer.get_feature_names()[:10]"
      ],
      "execution_count": 140,
      "outputs": [
        {
          "output_type": "execute_result",
          "data": {
            "text/plain": [
              "['aa',\n",
              " 'aa compared',\n",
              " 'aa nice',\n",
              " 'aa or',\n",
              " 'aaaaack',\n",
              " 'aaaah',\n",
              " 'aaaah the',\n",
              " 'aaaahh',\n",
              " 'aaah',\n",
              " 'aaah what']"
            ]
          },
          "metadata": {
            "tags": []
          },
          "execution_count": 140
        }
      ]
    },
    {
      "cell_type": "code",
      "metadata": {
        "id": "-UbbdELFkUXj"
      },
      "source": [
        "label_counts = dict()\n",
        "\n",
        "for labels in df.labels.values:\n",
        "    for label in labels:\n",
        "        if label in label_counts:\n",
        "            label_counts[label] += 1\n",
        "        else:\n",
        "            label_counts[label] = 1"
      ],
      "execution_count": 141,
      "outputs": []
    },
    {
      "cell_type": "code",
      "metadata": {
        "id": "lxG0dY2x8rKA"
      },
      "source": [
        "#Transform the labels\n",
        "mlb = MultiLabelBinarizer(classes=sorted(dictionary.keys()))\n",
        "y_train_y = mlb.fit_transform(y_train)\n",
        "y_test_y = mlb.transform(y_test)"
      ],
      "execution_count": 142,
      "outputs": []
    },
    {
      "cell_type": "code",
      "metadata": {
        "id": "-IjQ2f3L8rKB"
      },
      "source": [
        "# Choose a classifier\n",
        "\n",
        "clf = LogisticRegression(solver='lbfgs')\n",
        "clf = OneVsRestClassifier(clf)"
      ],
      "execution_count": 143,
      "outputs": []
    },
    {
      "cell_type": "code",
      "metadata": {
        "id": "HfmBqUp18rKB",
        "colab": {
          "base_uri": "https://localhost:8080/"
        },
        "outputId": "616903eb-c0de-4b23-fa86-ba159b896981"
      },
      "source": [
        "#Fit the classifier, make predictions and get the accuracy \n",
        "clf.fit(X_train_r, y_train_y)"
      ],
      "execution_count": 145,
      "outputs": [
        {
          "output_type": "execute_result",
          "data": {
            "text/plain": [
              "OneVsRestClassifier(estimator=LogisticRegression(C=1.0, class_weight=None,\n",
              "                                                 dual=False, fit_intercept=True,\n",
              "                                                 intercept_scaling=1,\n",
              "                                                 l1_ratio=None, max_iter=100,\n",
              "                                                 multi_class='auto',\n",
              "                                                 n_jobs=None, penalty='l2',\n",
              "                                                 random_state=None,\n",
              "                                                 solver='lbfgs', tol=0.0001,\n",
              "                                                 verbose=0, warm_start=False),\n",
              "                    n_jobs=None)"
            ]
          },
          "metadata": {
            "tags": []
          },
          "execution_count": 145
        }
      ]
    },
    {
      "cell_type": "code",
      "metadata": {
        "id": "obcxwjt_lfou"
      },
      "source": [
        "predict_N = clf.predict(X_test_r)\n",
        "predict_scores = clf.decision_function(X_test_r)"
      ],
      "execution_count": 153,
      "outputs": []
    },
    {
      "cell_type": "code",
      "metadata": {
        "id": "1X-6XvxWlIvu"
      },
      "source": [
        "pred_inverse = mlb.inverse_transform(predict_N)\n",
        "y_test_inverse = mlb.inverse_transform(y_test_y)"
      ],
      "execution_count": 154,
      "outputs": []
    },
    {
      "cell_type": "code",
      "metadata": {
        "id": "PevxfU6nnNGu"
      },
      "source": [
        "def print_evaluation_scores(y_val, predicted):\n",
        "    print('Accuracy score: ', accuracy_score(y_val, predicted))\n",
        "    print('F1 score: ', f1_score(y_val, predicted, average='micro'))\n",
        "    print('Average precision score: ', average_precision_score(y_val, predicted, average='micro'))\n",
        "    print('Average recall score: ', recall_score(y_val, predicted, average='micro'))"
      ],
      "execution_count": 156,
      "outputs": []
    },
    {
      "cell_type": "code",
      "metadata": {
        "colab": {
          "base_uri": "https://localhost:8080/"
        },
        "id": "3x08JMBnnSBA",
        "outputId": "5b430a2e-3cdf-4f48-a507-2bef92e2a143"
      },
      "source": [
        "print('Bag-of-words')\n",
        "print_evaluation_scores(y_test_y, predict_N)"
      ],
      "execution_count": 159,
      "outputs": [
        {
          "output_type": "stream",
          "text": [
            "Bag-of-words\n",
            "Accuracy score:  0.5466666666666666\n",
            "F1 score:  0.7460093896713615\n",
            "Average precision score:  0.5906493677817602\n",
            "Average recall score:  0.6620833333333334\n"
          ],
          "name": "stdout"
        }
      ]
    }
  ]
}
