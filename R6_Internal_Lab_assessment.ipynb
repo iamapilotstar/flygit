{
 "cells": [
  {
   "cell_type": "markdown",
   "metadata": {
    "colab_type": "text",
    "id": "zUZjPnVXGz0Z"
   },
   "source": [
    "# The Iris Dataset\n",
    "The data set consists of 50 samples from each of three species of Iris (Iris setosa, Iris virginica and Iris versicolor). Four features were measured from each sample: the length and the width of the sepals and petals, in centimeters.\n",
    "\n",
    "The dataset contains a set of 150 records under five attributes - petal length, petal width, sepal length, sepal width and species."
   ]
  },
  {
   "cell_type": "markdown",
   "metadata": {
    "colab_type": "text",
    "id": "RMbmpriavLE9"
   },
   "source": [
    "### Specifying the TensorFlow version\n",
    "Running `import tensorflow` will import the default version (currently 1.x). You can use 2.x by running a cell with the `tensorflow_version` magic **before** you run `import tensorflow`."
   ]
  },
  {
   "cell_type": "code",
   "execution_count": 1,
   "metadata": {
    "colab": {},
    "colab_type": "code",
    "id": "fu8bUU__oa7h"
   },
   "outputs": [
    {
     "name": "stderr",
     "output_type": "stream",
     "text": [
      "UsageError: Line magic function `%tensorflow_version` not found.\n"
     ]
    }
   ],
   "source": [
    "%tensorflow_version 2.x"
   ]
  },
  {
   "cell_type": "markdown",
   "metadata": {
    "colab_type": "text",
    "id": "bLz1Ckvfvn6D"
   },
   "source": [
    "### Import TensorFlow\n",
    "Once you have specified a version via this magic, you can run `import tensorflow` as normal and verify which version was imported as follows:"
   ]
  },
  {
   "cell_type": "code",
   "execution_count": 2,
   "metadata": {
    "colab": {},
    "colab_type": "code",
    "id": "CWrzVTLOvn6M"
   },
   "outputs": [
    {
     "name": "stdout",
     "output_type": "stream",
     "text": [
      "2.1.0\n"
     ]
    }
   ],
   "source": [
    "import tensorflow as tf\n",
    "print(tf.__version__)"
   ]
  },
  {
   "cell_type": "markdown",
   "metadata": {
    "colab_type": "text",
    "id": "_uYeJgkNuXNC"
   },
   "source": [
    "### Set random seed"
   ]
  },
  {
   "cell_type": "code",
   "execution_count": 3,
   "metadata": {
    "colab": {},
    "colab_type": "code",
    "id": "lcASNsewsfQX"
   },
   "outputs": [],
   "source": [
    "tf.random.set_seed(42)"
   ]
  },
  {
   "cell_type": "markdown",
   "metadata": {
    "colab_type": "text",
    "id": "5-vVQBBqg7DI"
   },
   "source": [
    "## Question 1"
   ]
  },
  {
   "cell_type": "markdown",
   "metadata": {
    "colab_type": "text",
    "id": "kE0EDKvQhEIe"
   },
   "source": [
    "### Import dataset\n",
    "- Import iris dataset\n",
    "- Import the dataset using sklearn library"
   ]
  },
  {
   "cell_type": "code",
   "execution_count": 4,
   "metadata": {
    "colab": {},
    "colab_type": "code",
    "id": "IOOWpD26Haq3"
   },
   "outputs": [],
   "source": [
    "import numpy as np\n",
    "import pandas as pd\n",
    "from sklearn import datasets\n",
    "from sklearn.model_selection import train_test_split"
   ]
  },
  {
   "cell_type": "markdown",
   "metadata": {
    "colab_type": "text",
    "id": "ta8YqInTh5v5"
   },
   "source": [
    "## Question 2"
   ]
  },
  {
   "cell_type": "markdown",
   "metadata": {
    "colab_type": "text",
    "id": "HERt3drbhX0i"
   },
   "source": [
    "### Get features and label from the dataset in separate variable\n",
    "- you can get the features using .data method\n",
    "- you can get the features using .target method"
   ]
  },
  {
   "cell_type": "code",
   "execution_count": 5,
   "metadata": {
    "colab": {},
    "colab_type": "code",
    "id": "0cV-_qHAHyvE"
   },
   "outputs": [],
   "source": [
    "iris = datasets.load_iris()\n",
    "x = iris.data\n",
    "y = iris.target"
   ]
  },
  {
   "cell_type": "markdown",
   "metadata": {
    "colab_type": "text",
    "id": "Qg1A2lkUjFak"
   },
   "source": [
    "## Question 3"
   ]
  },
  {
   "cell_type": "markdown",
   "metadata": {
    "colab_type": "text",
    "id": "3YErwYLCH0N_"
   },
   "source": [
    "### Create train and test data\n",
    "- use train_test_split to get train and test set\n",
    "- set a random_state\n",
    "- test_size: 0.25"
   ]
  },
  {
   "cell_type": "code",
   "execution_count": 6,
   "metadata": {
    "colab": {},
    "colab_type": "code",
    "id": "TYKNJL85h7pQ"
   },
   "outputs": [
    {
     "data": {
      "text/plain": [
       "array([[0],\n",
       "       [2],\n",
       "       [2],\n",
       "       [1],\n",
       "       [0],\n",
       "       [0],\n",
       "       [1],\n",
       "       [2],\n",
       "       [1],\n",
       "       [2],\n",
       "       [2],\n",
       "       [0],\n",
       "       [2],\n",
       "       [0],\n",
       "       [0],\n",
       "       [0],\n",
       "       [0],\n",
       "       [1],\n",
       "       [1],\n",
       "       [1],\n",
       "       [1],\n",
       "       [2],\n",
       "       [1],\n",
       "       [2],\n",
       "       [2],\n",
       "       [1],\n",
       "       [0],\n",
       "       [1],\n",
       "       [0],\n",
       "       [1],\n",
       "       [2],\n",
       "       [1],\n",
       "       [2],\n",
       "       [1],\n",
       "       [2],\n",
       "       [1],\n",
       "       [1],\n",
       "       [1],\n",
       "       [2],\n",
       "       [1],\n",
       "       [0],\n",
       "       [2],\n",
       "       [0],\n",
       "       [0],\n",
       "       [1],\n",
       "       [0],\n",
       "       [0],\n",
       "       [2],\n",
       "       [1],\n",
       "       [0],\n",
       "       [2],\n",
       "       [0],\n",
       "       [2],\n",
       "       [1],\n",
       "       [0],\n",
       "       [0],\n",
       "       [2],\n",
       "       [1],\n",
       "       [1],\n",
       "       [0],\n",
       "       [0],\n",
       "       [2],\n",
       "       [1],\n",
       "       [1],\n",
       "       [0],\n",
       "       [1],\n",
       "       [2],\n",
       "       [1],\n",
       "       [0],\n",
       "       [1],\n",
       "       [2],\n",
       "       [2],\n",
       "       [2],\n",
       "       [2],\n",
       "       [0],\n",
       "       [0],\n",
       "       [1],\n",
       "       [2],\n",
       "       [0],\n",
       "       [1],\n",
       "       [0],\n",
       "       [0],\n",
       "       [2],\n",
       "       [1],\n",
       "       [2],\n",
       "       [0],\n",
       "       [2],\n",
       "       [0],\n",
       "       [2],\n",
       "       [0],\n",
       "       [1],\n",
       "       [0],\n",
       "       [2],\n",
       "       [2],\n",
       "       [0],\n",
       "       [2],\n",
       "       [2],\n",
       "       [2],\n",
       "       [1],\n",
       "       [0],\n",
       "       [1],\n",
       "       [0],\n",
       "       [0],\n",
       "       [1],\n",
       "       [2],\n",
       "       [0],\n",
       "       [2],\n",
       "       [0],\n",
       "       [1],\n",
       "       [2],\n",
       "       [2],\n",
       "       [1]])"
      ]
     },
     "execution_count": 6,
     "metadata": {},
     "output_type": "execute_result"
    }
   ],
   "source": [
    "x_train, x_test, y_train, y_test = train_test_split(x,y, test_size= 0.25 ,random_state= 5)\n",
    "y_train.reshape(-1,1)"
   ]
  },
  {
   "cell_type": "markdown",
   "metadata": {
    "colab_type": "text",
    "id": "g0KVP17Ozaix"
   },
   "source": [
    "## Question 4"
   ]
  },
  {
   "cell_type": "markdown",
   "metadata": {
    "colab_type": "text",
    "id": "SIjqxbhWv1zv"
   },
   "source": [
    "### One-hot encode the labels\n",
    "- convert class vectors (integers) to binary class matrix\n",
    "- convert labels\n",
    "- number of classes: 3\n",
    "- we are doing this to use categorical_crossentropy as loss"
   ]
  },
  {
   "cell_type": "code",
   "execution_count": 7,
   "metadata": {
    "colab": {},
    "colab_type": "code",
    "id": "R9vv-_gpyLY9"
   },
   "outputs": [],
   "source": [
    "from sklearn import preprocessing"
   ]
  },
  {
   "cell_type": "code",
   "execution_count": 8,
   "metadata": {},
   "outputs": [],
   "source": [
    "enc = preprocessing.OneHotEncoder()"
   ]
  },
  {
   "cell_type": "code",
   "execution_count": 9,
   "metadata": {},
   "outputs": [
    {
     "name": "stderr",
     "output_type": "stream",
     "text": [
      "C:\\Users\\amrit\\Anaconda3\\lib\\site-packages\\sklearn\\preprocessing\\_encoders.py:415: FutureWarning: The handling of integer data will change in version 0.22. Currently, the categories are determined based on the range [0, max(values)], while in the future they will be determined based on the unique values.\n",
      "If you want the future behaviour and silence this warning, you can specify \"categories='auto'\".\n",
      "In case you used a LabelEncoder before this OneHotEncoder to convert the categories to integers, then you can now use the OneHotEncoder directly.\n",
      "  warnings.warn(msg, FutureWarning)\n"
     ]
    },
    {
     "data": {
      "text/plain": [
       "OneHotEncoder(categorical_features=None, categories=None, drop=None,\n",
       "              dtype=<class 'numpy.float64'>, handle_unknown='error',\n",
       "              n_values=None, sparse=True)"
      ]
     },
     "execution_count": 9,
     "metadata": {},
     "output_type": "execute_result"
    }
   ],
   "source": [
    "enc.fit(y_train.reshape(-1, 1))\n"
   ]
  },
  {
   "cell_type": "code",
   "execution_count": 10,
   "metadata": {},
   "outputs": [],
   "source": [
    "y_train = enc.transform(y_train.reshape(-1,1)).toarray()"
   ]
  },
  {
   "cell_type": "code",
   "execution_count": 11,
   "metadata": {},
   "outputs": [
    {
     "name": "stderr",
     "output_type": "stream",
     "text": [
      "C:\\Users\\amrit\\Anaconda3\\lib\\site-packages\\sklearn\\preprocessing\\_encoders.py:415: FutureWarning: The handling of integer data will change in version 0.22. Currently, the categories are determined based on the range [0, max(values)], while in the future they will be determined based on the unique values.\n",
      "If you want the future behaviour and silence this warning, you can specify \"categories='auto'\".\n",
      "In case you used a LabelEncoder before this OneHotEncoder to convert the categories to integers, then you can now use the OneHotEncoder directly.\n",
      "  warnings.warn(msg, FutureWarning)\n"
     ]
    },
    {
     "data": {
      "text/plain": [
       "OneHotEncoder(categorical_features=None, categories=None, drop=None,\n",
       "              dtype=<class 'numpy.float64'>, handle_unknown='error',\n",
       "              n_values=None, sparse=True)"
      ]
     },
     "execution_count": 11,
     "metadata": {},
     "output_type": "execute_result"
    }
   ],
   "source": [
    "enc.fit(y_test.reshape(-1, 1))"
   ]
  },
  {
   "cell_type": "code",
   "execution_count": 12,
   "metadata": {},
   "outputs": [
    {
     "data": {
      "text/plain": [
       "array([[1., 0., 0.],\n",
       "       [0., 0., 1.],\n",
       "       [0., 0., 1.],\n",
       "       [0., 1., 0.],\n",
       "       [1., 0., 0.],\n",
       "       [1., 0., 0.],\n",
       "       [0., 1., 0.],\n",
       "       [0., 0., 1.],\n",
       "       [0., 1., 0.],\n",
       "       [0., 0., 1.],\n",
       "       [0., 0., 1.],\n",
       "       [1., 0., 0.],\n",
       "       [0., 0., 1.],\n",
       "       [1., 0., 0.],\n",
       "       [1., 0., 0.],\n",
       "       [1., 0., 0.],\n",
       "       [1., 0., 0.],\n",
       "       [0., 1., 0.],\n",
       "       [0., 1., 0.],\n",
       "       [0., 1., 0.],\n",
       "       [0., 1., 0.],\n",
       "       [0., 0., 1.],\n",
       "       [0., 1., 0.],\n",
       "       [0., 0., 1.],\n",
       "       [0., 0., 1.],\n",
       "       [0., 1., 0.],\n",
       "       [1., 0., 0.],\n",
       "       [0., 1., 0.],\n",
       "       [1., 0., 0.],\n",
       "       [0., 1., 0.],\n",
       "       [0., 0., 1.],\n",
       "       [0., 1., 0.],\n",
       "       [0., 0., 1.],\n",
       "       [0., 1., 0.],\n",
       "       [0., 0., 1.],\n",
       "       [0., 1., 0.],\n",
       "       [0., 1., 0.],\n",
       "       [0., 1., 0.],\n",
       "       [0., 0., 1.],\n",
       "       [0., 1., 0.],\n",
       "       [1., 0., 0.],\n",
       "       [0., 0., 1.],\n",
       "       [1., 0., 0.],\n",
       "       [1., 0., 0.],\n",
       "       [0., 1., 0.],\n",
       "       [1., 0., 0.],\n",
       "       [1., 0., 0.],\n",
       "       [0., 0., 1.],\n",
       "       [0., 1., 0.],\n",
       "       [1., 0., 0.],\n",
       "       [0., 0., 1.],\n",
       "       [1., 0., 0.],\n",
       "       [0., 0., 1.],\n",
       "       [0., 1., 0.],\n",
       "       [1., 0., 0.],\n",
       "       [1., 0., 0.],\n",
       "       [0., 0., 1.],\n",
       "       [0., 1., 0.],\n",
       "       [0., 1., 0.],\n",
       "       [1., 0., 0.],\n",
       "       [1., 0., 0.],\n",
       "       [0., 0., 1.],\n",
       "       [0., 1., 0.],\n",
       "       [0., 1., 0.],\n",
       "       [1., 0., 0.],\n",
       "       [0., 1., 0.],\n",
       "       [0., 0., 1.],\n",
       "       [0., 1., 0.],\n",
       "       [1., 0., 0.],\n",
       "       [0., 1., 0.],\n",
       "       [0., 0., 1.],\n",
       "       [0., 0., 1.],\n",
       "       [0., 0., 1.],\n",
       "       [0., 0., 1.],\n",
       "       [1., 0., 0.],\n",
       "       [1., 0., 0.],\n",
       "       [0., 1., 0.],\n",
       "       [0., 0., 1.],\n",
       "       [1., 0., 0.],\n",
       "       [0., 1., 0.],\n",
       "       [1., 0., 0.],\n",
       "       [1., 0., 0.],\n",
       "       [0., 0., 1.],\n",
       "       [0., 1., 0.],\n",
       "       [0., 0., 1.],\n",
       "       [1., 0., 0.],\n",
       "       [0., 0., 1.],\n",
       "       [1., 0., 0.],\n",
       "       [0., 0., 1.],\n",
       "       [1., 0., 0.],\n",
       "       [0., 1., 0.],\n",
       "       [1., 0., 0.],\n",
       "       [0., 0., 1.],\n",
       "       [0., 0., 1.],\n",
       "       [1., 0., 0.],\n",
       "       [0., 0., 1.],\n",
       "       [0., 0., 1.],\n",
       "       [0., 0., 1.],\n",
       "       [0., 1., 0.],\n",
       "       [1., 0., 0.],\n",
       "       [0., 1., 0.],\n",
       "       [1., 0., 0.],\n",
       "       [1., 0., 0.],\n",
       "       [0., 1., 0.],\n",
       "       [0., 0., 1.],\n",
       "       [1., 0., 0.],\n",
       "       [0., 0., 1.],\n",
       "       [1., 0., 0.],\n",
       "       [0., 1., 0.],\n",
       "       [0., 0., 1.],\n",
       "       [0., 0., 1.],\n",
       "       [0., 1., 0.]])"
      ]
     },
     "execution_count": 12,
     "metadata": {},
     "output_type": "execute_result"
    }
   ],
   "source": [
    "y_test = enc.transform(y_test.reshape(-1, 1)).toarray()\n",
    "y_train"
   ]
  },
  {
   "cell_type": "markdown",
   "metadata": {
    "colab_type": "text",
    "id": "ovjLyYzWkO9s"
   },
   "source": [
    "## Question 5"
   ]
  },
  {
   "cell_type": "markdown",
   "metadata": {
    "colab_type": "text",
    "id": "hbIFzoPNSyYo"
   },
   "source": [
    "### Initialize a sequential model\n",
    "- Define a sequential model"
   ]
  },
  {
   "cell_type": "code",
   "execution_count": 13,
   "metadata": {
    "colab": {},
    "colab_type": "code",
    "id": "4FvSbf1UjHtl"
   },
   "outputs": [
    {
     "name": "stderr",
     "output_type": "stream",
     "text": [
      "Using TensorFlow backend.\n"
     ]
    }
   ],
   "source": [
    "from keras.models import Sequential\n",
    "from keras.layers import Dense\n",
    "from keras.layers import Activation"
   ]
  },
  {
   "cell_type": "code",
   "execution_count": 14,
   "metadata": {},
   "outputs": [],
   "source": [
    "model1= Sequential()"
   ]
  },
  {
   "cell_type": "markdown",
   "metadata": {
    "colab_type": "text",
    "id": "dGMy999vlacX"
   },
   "source": [
    "## Question 6"
   ]
  },
  {
   "cell_type": "markdown",
   "metadata": {
    "colab_type": "text",
    "id": "72ibK5Jxm8iL"
   },
   "source": [
    "### Add a layer\n",
    "- Use Dense Layer  with input shape of 4 (according to the feature set) and number of outputs set to 3\n",
    "- Apply Softmax on Dense Layer outputs"
   ]
  },
  {
   "cell_type": "code",
   "execution_count": 15,
   "metadata": {
    "colab": {},
    "colab_type": "code",
    "id": "uZKrBNSRm_o9"
   },
   "outputs": [],
   "source": [
    "model1.add(Dense(3, activation='softmax', input_shape=(4,)))\n"
   ]
  },
  {
   "cell_type": "markdown",
   "metadata": {
    "colab_type": "text",
    "id": "i4uiTH8plmNX"
   },
   "source": [
    "## Question 7"
   ]
  },
  {
   "cell_type": "markdown",
   "metadata": {
    "colab_type": "text",
    "id": "yJL8n8vcSyYz"
   },
   "source": [
    "### Compile the model\n",
    "- Use SGD as Optimizer\n",
    "- Use categorical_crossentropy as loss function\n",
    "- Use accuracy as metrics"
   ]
  },
  {
   "cell_type": "code",
   "execution_count": 16,
   "metadata": {
    "colab": {},
    "colab_type": "code",
    "id": "Tc_-fjIEk1ve",
    "scrolled": true
   },
   "outputs": [],
   "source": [
    "model1.compile(loss='categorical_crossentropy',optimizer='SGD',metrics=['accuracy'])"
   ]
  },
  {
   "cell_type": "markdown",
   "metadata": {
    "colab_type": "text",
    "id": "sihIGbRll_jT"
   },
   "source": [
    "## Question 8"
   ]
  },
  {
   "cell_type": "markdown",
   "metadata": {
    "colab_type": "text",
    "id": "54ZZCfNGlu0i"
   },
   "source": [
    "### Summarize the model\n",
    "- Check model layers\n",
    "- Understand number of trainable parameters"
   ]
  },
  {
   "cell_type": "code",
   "execution_count": 17,
   "metadata": {
    "colab": {},
    "colab_type": "code",
    "id": "elER3F_4ln8n"
   },
   "outputs": [
    {
     "name": "stdout",
     "output_type": "stream",
     "text": [
      "Model: \"sequential_1\"\n",
      "_________________________________________________________________\n",
      "Layer (type)                 Output Shape              Param #   \n",
      "=================================================================\n",
      "dense_1 (Dense)              (None, 3)                 15        \n",
      "=================================================================\n",
      "Total params: 15\n",
      "Trainable params: 15\n",
      "Non-trainable params: 0\n",
      "_________________________________________________________________\n"
     ]
    }
   ],
   "source": [
    "model1.summary()\n"
   ]
  },
  {
   "cell_type": "markdown",
   "metadata": {
    "colab_type": "text",
    "id": "2PiP7j3Vmj4p"
   },
   "source": [
    "## Question 9"
   ]
  },
  {
   "cell_type": "markdown",
   "metadata": {
    "colab_type": "text",
    "id": "rWdbfFCXmCHt"
   },
   "source": [
    "### Fit the model\n",
    "- Give train data as training features and labels\n",
    "- Epochs: 100\n",
    "- Give validation data as testing features and labels"
   ]
  },
  {
   "cell_type": "code",
   "execution_count": 18,
   "metadata": {
    "colab": {},
    "colab_type": "code",
    "id": "cO1c-5tjmBVZ"
   },
   "outputs": [
    {
     "name": "stdout",
     "output_type": "stream",
     "text": [
      "Train on 112 samples, validate on 38 samples\n",
      "Epoch 1/100\n",
      "112/112 [==============================] - 0s 1ms/step - loss: 1.5233 - accuracy: 0.2321 - val_loss: 0.8862 - val_accuracy: 0.7632\n",
      "Epoch 2/100\n",
      "112/112 [==============================] - 0s 570us/step - loss: 0.8223 - accuracy: 0.5982 - val_loss: 0.6822 - val_accuracy: 0.7368\n",
      "Epoch 3/100\n",
      "112/112 [==============================] - 0s 579us/step - loss: 0.6329 - accuracy: 0.7679 - val_loss: 0.7729 - val_accuracy: 0.6842\n",
      "Epoch 4/100\n",
      "112/112 [==============================] - 0s 588us/step - loss: 0.5736 - accuracy: 0.7589 - val_loss: 0.6731 - val_accuracy: 0.6316\n",
      "Epoch 5/100\n",
      "112/112 [==============================] - 0s 597us/step - loss: 0.5204 - accuracy: 0.7500 - val_loss: 0.5811 - val_accuracy: 0.6316\n",
      "Epoch 6/100\n",
      "112/112 [==============================] - 0s 596us/step - loss: 0.4715 - accuracy: 0.7768 - val_loss: 0.5661 - val_accuracy: 0.6842\n",
      "Epoch 7/100\n",
      "112/112 [==============================] - 0s 552us/step - loss: 0.4615 - accuracy: 0.8125 - val_loss: 0.4446 - val_accuracy: 0.7895\n",
      "Epoch 8/100\n",
      "112/112 [==============================] - 0s 561us/step - loss: 0.4458 - accuracy: 0.7946 - val_loss: 0.4833 - val_accuracy: 0.6579\n",
      "Epoch 9/100\n",
      "112/112 [==============================] - 0s 561us/step - loss: 0.4249 - accuracy: 0.8125 - val_loss: 0.4127 - val_accuracy: 0.8158\n",
      "Epoch 10/100\n",
      "112/112 [==============================] - 0s 543us/step - loss: 0.3933 - accuracy: 0.8482 - val_loss: 0.4349 - val_accuracy: 0.7368\n",
      "Epoch 11/100\n",
      "112/112 [==============================] - 0s 558us/step - loss: 0.3873 - accuracy: 0.8571 - val_loss: 0.4448 - val_accuracy: 0.6842\n",
      "Epoch 12/100\n",
      "112/112 [==============================] - 0s 597us/step - loss: 0.3723 - accuracy: 0.8393 - val_loss: 0.3485 - val_accuracy: 0.9474\n",
      "Epoch 13/100\n",
      "112/112 [==============================] - 0s 552us/step - loss: 0.3162 - accuracy: 0.8929 - val_loss: 0.3398 - val_accuracy: 0.8947\n",
      "Epoch 14/100\n",
      "112/112 [==============================] - 0s 579us/step - loss: 0.3402 - accuracy: 0.9018 - val_loss: 0.3996 - val_accuracy: 0.7895\n",
      "Epoch 15/100\n",
      "112/112 [==============================] - 0s 579us/step - loss: 0.3312 - accuracy: 0.8929 - val_loss: 0.3111 - val_accuracy: 0.9211\n",
      "Epoch 16/100\n",
      "112/112 [==============================] - 0s 557us/step - loss: 0.3186 - accuracy: 0.9107 - val_loss: 0.3041 - val_accuracy: 0.9211\n",
      "Epoch 17/100\n",
      "112/112 [==============================] - 0s 567us/step - loss: 0.2875 - accuracy: 0.9107 - val_loss: 0.2966 - val_accuracy: 0.9211\n",
      "Epoch 18/100\n",
      "112/112 [==============================] - 0s 615us/step - loss: 0.2917 - accuracy: 0.9375 - val_loss: 0.3383 - val_accuracy: 0.8158\n",
      "Epoch 19/100\n",
      "112/112 [==============================] - 0s 562us/step - loss: 0.2891 - accuracy: 0.9464 - val_loss: 0.2836 - val_accuracy: 0.9474\n",
      "Epoch 20/100\n",
      "112/112 [==============================] - 0s 570us/step - loss: 0.2761 - accuracy: 0.9196 - val_loss: 0.3156 - val_accuracy: 0.8684\n",
      "Epoch 21/100\n",
      "112/112 [==============================] - 0s 561us/step - loss: 0.2691 - accuracy: 0.9196 - val_loss: 0.2721 - val_accuracy: 0.9211\n",
      "Epoch 22/100\n",
      "112/112 [==============================] - 0s 570us/step - loss: 0.2710 - accuracy: 0.9286 - val_loss: 0.2719 - val_accuracy: 0.8947\n",
      "Epoch 23/100\n",
      "112/112 [==============================] - 0s 543us/step - loss: 0.2606 - accuracy: 0.9464 - val_loss: 0.3196 - val_accuracy: 0.8421\n",
      "Epoch 24/100\n",
      "112/112 [==============================] - 0s 552us/step - loss: 0.2502 - accuracy: 0.9286 - val_loss: 0.2588 - val_accuracy: 0.9211\n",
      "Epoch 25/100\n",
      "112/112 [==============================] - 0s 543us/step - loss: 0.2472 - accuracy: 0.9375 - val_loss: 0.2552 - val_accuracy: 0.9474\n",
      "Epoch 26/100\n",
      "112/112 [==============================] - 0s 525us/step - loss: 0.2395 - accuracy: 0.9643 - val_loss: 0.2520 - val_accuracy: 0.9474\n",
      "Epoch 27/100\n",
      "112/112 [==============================] - 0s 552us/step - loss: 0.2291 - accuracy: 0.9554 - val_loss: 0.3285 - val_accuracy: 0.8158\n",
      "Epoch 28/100\n",
      "112/112 [==============================] - 0s 552us/step - loss: 0.2228 - accuracy: 0.9196 - val_loss: 0.2575 - val_accuracy: 0.9474\n",
      "Epoch 29/100\n",
      "112/112 [==============================] - 0s 552us/step - loss: 0.2169 - accuracy: 0.9732 - val_loss: 0.3712 - val_accuracy: 0.8158\n",
      "Epoch 30/100\n",
      "112/112 [==============================] - 0s 543us/step - loss: 0.2307 - accuracy: 0.9554 - val_loss: 0.2507 - val_accuracy: 0.8947\n",
      "Epoch 31/100\n",
      "112/112 [==============================] - 0s 534us/step - loss: 0.2199 - accuracy: 0.9464 - val_loss: 0.2329 - val_accuracy: 0.9211\n",
      "Epoch 32/100\n",
      "112/112 [==============================] - 0s 561us/step - loss: 0.2097 - accuracy: 0.9821 - val_loss: 0.2377 - val_accuracy: 0.8947\n",
      "Epoch 33/100\n",
      "112/112 [==============================] - 0s 579us/step - loss: 0.2061 - accuracy: 0.9554 - val_loss: 0.3490 - val_accuracy: 0.8421\n",
      "Epoch 34/100\n",
      "112/112 [==============================] - 0s 552us/step - loss: 0.2059 - accuracy: 0.9464 - val_loss: 0.2238 - val_accuracy: 0.9474\n",
      "Epoch 35/100\n",
      "112/112 [==============================] - 0s 542us/step - loss: 0.2071 - accuracy: 0.9732 - val_loss: 0.2412 - val_accuracy: 0.8947\n",
      "Epoch 36/100\n",
      "112/112 [==============================] - 0s 543us/step - loss: 0.1999 - accuracy: 0.9643 - val_loss: 0.2260 - val_accuracy: 0.9211\n",
      "Epoch 37/100\n",
      "112/112 [==============================] - 0s 525us/step - loss: 0.1924 - accuracy: 0.9554 - val_loss: 0.2164 - val_accuracy: 0.9211\n",
      "Epoch 38/100\n",
      "112/112 [==============================] - 0s 542us/step - loss: 0.1943 - accuracy: 0.9643 - val_loss: 0.2455 - val_accuracy: 0.8947\n",
      "Epoch 39/100\n",
      "112/112 [==============================] - 0s 534us/step - loss: 0.1922 - accuracy: 0.9643 - val_loss: 0.2173 - val_accuracy: 0.9474\n",
      "Epoch 40/100\n",
      "112/112 [==============================] - 0s 534us/step - loss: 0.1753 - accuracy: 0.9643 - val_loss: 0.2797 - val_accuracy: 0.8421\n",
      "Epoch 41/100\n",
      "112/112 [==============================] - 0s 561us/step - loss: 0.1900 - accuracy: 0.9821 - val_loss: 0.2530 - val_accuracy: 0.8947\n",
      "Epoch 42/100\n",
      "112/112 [==============================] - 0s 543us/step - loss: 0.1784 - accuracy: 0.9643 - val_loss: 0.2218 - val_accuracy: 0.9474\n",
      "Epoch 43/100\n",
      "112/112 [==============================] - 0s 570us/step - loss: 0.1745 - accuracy: 0.9643 - val_loss: 0.2642 - val_accuracy: 0.8947\n",
      "Epoch 44/100\n",
      "112/112 [==============================] - 0s 579us/step - loss: 0.1728 - accuracy: 0.9643 - val_loss: 0.2463 - val_accuracy: 0.8947\n",
      "Epoch 45/100\n",
      "112/112 [==============================] - 0s 552us/step - loss: 0.1809 - accuracy: 0.9732 - val_loss: 0.2021 - val_accuracy: 0.9211\n",
      "Epoch 46/100\n",
      "112/112 [==============================] - 0s 552us/step - loss: 0.1754 - accuracy: 0.9732 - val_loss: 0.2025 - val_accuracy: 0.9474\n",
      "Epoch 47/100\n",
      "112/112 [==============================] - 0s 543us/step - loss: 0.1768 - accuracy: 0.9821 - val_loss: 0.2190 - val_accuracy: 0.8947\n",
      "Epoch 48/100\n",
      "112/112 [==============================] - 0s 561us/step - loss: 0.1699 - accuracy: 0.9732 - val_loss: 0.2174 - val_accuracy: 0.8947\n",
      "Epoch 49/100\n",
      "112/112 [==============================] - 0s 552us/step - loss: 0.1696 - accuracy: 0.9821 - val_loss: 0.1970 - val_accuracy: 0.9474\n",
      "Epoch 50/100\n",
      "112/112 [==============================] - 0s 570us/step - loss: 0.1683 - accuracy: 0.9643 - val_loss: 0.2210 - val_accuracy: 0.8947\n",
      "Epoch 51/100\n",
      "112/112 [==============================] - 0s 561us/step - loss: 0.1637 - accuracy: 0.9732 - val_loss: 0.1945 - val_accuracy: 0.9211\n",
      "Epoch 52/100\n",
      "112/112 [==============================] - 0s 614us/step - loss: 0.1631 - accuracy: 0.9643 - val_loss: 0.1950 - val_accuracy: 0.9211\n",
      "Epoch 53/100\n",
      "112/112 [==============================] - 0s 570us/step - loss: 0.1614 - accuracy: 0.9554 - val_loss: 0.2278 - val_accuracy: 0.8947\n",
      "Epoch 54/100\n",
      "112/112 [==============================] - 0s 570us/step - loss: 0.1630 - accuracy: 0.9554 - val_loss: 0.2354 - val_accuracy: 0.8947\n",
      "Epoch 55/100\n",
      "112/112 [==============================] - 0s 552us/step - loss: 0.1619 - accuracy: 0.9732 - val_loss: 0.1871 - val_accuracy: 0.9211\n",
      "Epoch 56/100\n",
      "112/112 [==============================] - 0s 561us/step - loss: 0.1504 - accuracy: 0.9732 - val_loss: 0.1909 - val_accuracy: 0.9211\n"
     ]
    },
    {
     "name": "stdout",
     "output_type": "stream",
     "text": [
      "Epoch 57/100\n",
      "112/112 [==============================] - 0s 559us/step - loss: 0.1597 - accuracy: 0.9732 - val_loss: 0.2014 - val_accuracy: 0.8947\n",
      "Epoch 58/100\n",
      "112/112 [==============================] - 0s 552us/step - loss: 0.1461 - accuracy: 0.9821 - val_loss: 0.2504 - val_accuracy: 0.8684\n",
      "Epoch 59/100\n",
      "112/112 [==============================] - 0s 570us/step - loss: 0.1510 - accuracy: 0.9643 - val_loss: 0.2802 - val_accuracy: 0.8684\n",
      "Epoch 60/100\n",
      "112/112 [==============================] - 0s 552us/step - loss: 0.1445 - accuracy: 0.9643 - val_loss: 0.2098 - val_accuracy: 0.8947\n",
      "Epoch 61/100\n",
      "112/112 [==============================] - 0s 543us/step - loss: 0.1528 - accuracy: 0.9821 - val_loss: 0.2153 - val_accuracy: 0.8947\n",
      "Epoch 62/100\n",
      "112/112 [==============================] - 0s 550us/step - loss: 0.1442 - accuracy: 0.9911 - val_loss: 0.1869 - val_accuracy: 0.9211\n",
      "Epoch 63/100\n",
      "112/112 [==============================] - 0s 570us/step - loss: 0.1490 - accuracy: 0.9732 - val_loss: 0.1863 - val_accuracy: 0.9474\n",
      "Epoch 64/100\n",
      "112/112 [==============================] - 0s 570us/step - loss: 0.1463 - accuracy: 0.9821 - val_loss: 0.2209 - val_accuracy: 0.8947\n",
      "Epoch 65/100\n",
      "112/112 [==============================] - 0s 561us/step - loss: 0.1443 - accuracy: 0.9732 - val_loss: 0.1834 - val_accuracy: 0.9474\n",
      "Epoch 66/100\n",
      "112/112 [==============================] - 0s 552us/step - loss: 0.1415 - accuracy: 0.9821 - val_loss: 0.1987 - val_accuracy: 0.8947\n",
      "Epoch 67/100\n",
      "112/112 [==============================] - 0s 561us/step - loss: 0.1453 - accuracy: 0.9911 - val_loss: 0.1751 - val_accuracy: 0.9474\n",
      "Epoch 68/100\n",
      "112/112 [==============================] - 0s 525us/step - loss: 0.1397 - accuracy: 0.9821 - val_loss: 0.1742 - val_accuracy: 0.9474\n",
      "Epoch 69/100\n",
      "112/112 [==============================] - 0s 561us/step - loss: 0.1398 - accuracy: 0.9821 - val_loss: 0.2057 - val_accuracy: 0.8947\n",
      "Epoch 70/100\n",
      "112/112 [==============================] - 0s 561us/step - loss: 0.1378 - accuracy: 0.9643 - val_loss: 0.1770 - val_accuracy: 0.9211\n",
      "Epoch 71/100\n",
      "112/112 [==============================] - 0s 579us/step - loss: 0.1404 - accuracy: 0.9732 - val_loss: 0.1760 - val_accuracy: 0.9211\n",
      "Epoch 72/100\n",
      "112/112 [==============================] - 0s 587us/step - loss: 0.1327 - accuracy: 0.9732 - val_loss: 0.1708 - val_accuracy: 0.9474\n",
      "Epoch 73/100\n",
      "112/112 [==============================] - 0s 561us/step - loss: 0.1407 - accuracy: 0.9821 - val_loss: 0.1697 - val_accuracy: 0.9474\n",
      "Epoch 74/100\n",
      "112/112 [==============================] - 0s 535us/step - loss: 0.1341 - accuracy: 0.9643 - val_loss: 0.1717 - val_accuracy: 0.9211\n",
      "Epoch 75/100\n",
      "112/112 [==============================] - 0s 543us/step - loss: 0.1384 - accuracy: 0.9732 - val_loss: 0.1952 - val_accuracy: 0.8947\n",
      "Epoch 76/100\n",
      "112/112 [==============================] - 0s 579us/step - loss: 0.1318 - accuracy: 0.9732 - val_loss: 0.2047 - val_accuracy: 0.8947\n",
      "Epoch 77/100\n",
      "112/112 [==============================] - 0s 570us/step - loss: 0.1339 - accuracy: 0.9732 - val_loss: 0.1668 - val_accuracy: 0.9474\n",
      "Epoch 78/100\n",
      "112/112 [==============================] - 0s 588us/step - loss: 0.1322 - accuracy: 0.9732 - val_loss: 0.1866 - val_accuracy: 0.8947\n",
      "Epoch 79/100\n",
      "112/112 [==============================] - 0s 576us/step - loss: 0.1319 - accuracy: 0.9821 - val_loss: 0.1771 - val_accuracy: 0.9474\n",
      "Epoch 80/100\n",
      "112/112 [==============================] - 0s 534us/step - loss: 0.1265 - accuracy: 0.9821 - val_loss: 0.1654 - val_accuracy: 0.9211\n",
      "Epoch 81/100\n",
      "112/112 [==============================] - 0s 559us/step - loss: 0.1334 - accuracy: 0.9821 - val_loss: 0.1701 - val_accuracy: 0.9211\n",
      "Epoch 82/100\n",
      "112/112 [==============================] - 0s 534us/step - loss: 0.1285 - accuracy: 0.9732 - val_loss: 0.1670 - val_accuracy: 0.9211\n",
      "Epoch 83/100\n",
      "112/112 [==============================] - 0s 516us/step - loss: 0.1286 - accuracy: 0.9821 - val_loss: 0.1910 - val_accuracy: 0.8947\n",
      "Epoch 84/100\n",
      "112/112 [==============================] - 0s 512us/step - loss: 0.1258 - accuracy: 0.9732 - val_loss: 0.2397 - val_accuracy: 0.8947\n",
      "Epoch 85/100\n",
      "112/112 [==============================] - 0s 516us/step - loss: 0.1306 - accuracy: 0.9732 - val_loss: 0.1981 - val_accuracy: 0.8947\n",
      "Epoch 86/100\n",
      "112/112 [==============================] - 0s 514us/step - loss: 0.1272 - accuracy: 0.9821 - val_loss: 0.1787 - val_accuracy: 0.9211\n",
      "Epoch 87/100\n",
      "112/112 [==============================] - 0s 542us/step - loss: 0.1282 - accuracy: 0.9732 - val_loss: 0.1774 - val_accuracy: 0.9211\n",
      "Epoch 88/100\n",
      "112/112 [==============================] - 0s 534us/step - loss: 0.1230 - accuracy: 0.9732 - val_loss: 0.1749 - val_accuracy: 0.9474\n",
      "Epoch 89/100\n",
      "112/112 [==============================] - 0s 543us/step - loss: 0.1117 - accuracy: 0.9821 - val_loss: 0.1733 - val_accuracy: 0.9474\n",
      "Epoch 90/100\n",
      "112/112 [==============================] - 0s 561us/step - loss: 0.1233 - accuracy: 0.9821 - val_loss: 0.1670 - val_accuracy: 0.9474\n",
      "Epoch 91/100\n",
      "112/112 [==============================] - 0s 552us/step - loss: 0.1268 - accuracy: 0.9732 - val_loss: 0.1604 - val_accuracy: 0.9211\n",
      "Epoch 92/100\n",
      "112/112 [==============================] - 0s 552us/step - loss: 0.1243 - accuracy: 0.9821 - val_loss: 0.1633 - val_accuracy: 0.9211\n",
      "Epoch 93/100\n",
      "112/112 [==============================] - 0s 534us/step - loss: 0.1227 - accuracy: 0.9911 - val_loss: 0.1609 - val_accuracy: 0.9211\n",
      "Epoch 94/100\n",
      "112/112 [==============================] - 0s 543us/step - loss: 0.1172 - accuracy: 0.9821 - val_loss: 0.1694 - val_accuracy: 0.9474\n",
      "Epoch 95/100\n",
      "112/112 [==============================] - 0s 543us/step - loss: 0.1212 - accuracy: 0.9821 - val_loss: 0.1920 - val_accuracy: 0.8947\n",
      "Epoch 96/100\n",
      "112/112 [==============================] - 0s 552us/step - loss: 0.1143 - accuracy: 0.9821 - val_loss: 0.2432 - val_accuracy: 0.8947\n",
      "Epoch 97/100\n",
      "112/112 [==============================] - 0s 534us/step - loss: 0.1233 - accuracy: 0.9732 - val_loss: 0.1648 - val_accuracy: 0.9474\n",
      "Epoch 98/100\n",
      "112/112 [==============================] - 0s 543us/step - loss: 0.1169 - accuracy: 0.9732 - val_loss: 0.1699 - val_accuracy: 0.9474\n",
      "Epoch 99/100\n",
      "112/112 [==============================] - 0s 534us/step - loss: 0.1143 - accuracy: 0.9821 - val_loss: 0.1983 - val_accuracy: 0.8947\n",
      "Epoch 100/100\n",
      "112/112 [==============================] - 0s 534us/step - loss: 0.1197 - accuracy: 0.9911 - val_loss: 0.1778 - val_accuracy: 0.8947\n",
      "\n",
      "history dict: {'val_loss': [0.886151268293983, 0.6821784251614621, 0.7728884831855172, 0.6731090155479155, 0.5810550141491388, 0.5661450569566927, 0.4446121103277332, 0.48334437383240775, 0.4127123953872605, 0.4349108493249667, 0.44481337384173747, 0.34846313042860283, 0.33976388526590245, 0.3995912211309922, 0.31112487947470263, 0.3041172757940857, 0.29663342345309884, 0.33832530657711785, 0.2836463196497214, 0.31562180258333683, 0.27213906937916027, 0.27193150424251433, 0.31960149682862193, 0.25881674763207374, 0.25519441421094696, 0.25195219024623694, 0.32854944320493623, 0.2574906108018599, 0.3711817425822741, 0.2507007761221183, 0.23288842266131388, 0.23774896067027984, 0.3489918841637279, 0.2238240680706344, 0.2412078979572183, 0.226028154506103, 0.21642581643046518, 0.2455281569671474, 0.2172519297486073, 0.27971266906120273, 0.25303933230277736, 0.22178598679602146, 0.26422987018074645, 0.2462707000637525, 0.2020500519459969, 0.20254385907595096, 0.2190437365666424, 0.21738248416467718, 0.1970133513310238, 0.2210155515196292, 0.19451272914088086, 0.19502858528377195, 0.22777301430898278, 0.2353932383519254, 0.18714747484773397, 0.19090905511065534, 0.201409335885393, 0.2504107234264283, 0.28023353585434196, 0.20983236113955317, 0.21533528363675272, 0.18693913730155481, 0.18633851889324815, 0.22088438821466347, 0.1834283488753595, 0.19869630552191092, 0.17511995374470166, 0.17421677064052538, 0.2056978443073795, 0.17697899987136848, 0.17597504619410947, 0.17080253460689596, 0.1696841947636322, 0.1716623864577789, 0.1951813857242661, 0.20466793120201482, 0.16683874061135084, 0.18661070616278602, 0.17708210007434613, 0.1653937400367699, 0.17005050837944605, 0.16697875260816594, 0.19095471229306177, 0.2397277873854986, 0.1981298767128273, 0.178667873707845, 0.17737607910346828, 0.17491718014015964, 0.17334584181049936, 0.16704266735254542, 0.16040872679533144, 0.1633463572637227, 0.16086758323945105, 0.16937051095852726, 0.19195923263721756, 0.24323059952094858, 0.16477246551872476, 0.16986652988156206, 0.19828815202498318, 0.17775718975003416], 'val_accuracy': [0.7631579041481018, 0.7368420958518982, 0.6842105388641357, 0.6315789222717285, 0.6315789222717285, 0.6842105388641357, 0.7894737124443054, 0.6578947305679321, 0.8157894611358643, 0.7368420958518982, 0.6842105388641357, 0.9473684430122375, 0.8947368264198303, 0.7894737124443054, 0.9210526347160339, 0.9210526347160339, 0.9210526347160339, 0.8157894611358643, 0.9473684430122375, 0.8684210777282715, 0.9210526347160339, 0.8947368264198303, 0.8421052694320679, 0.9210526347160339, 0.9473684430122375, 0.9473684430122375, 0.8157894611358643, 0.9473684430122375, 0.8157894611358643, 0.8947368264198303, 0.9210526347160339, 0.8947368264198303, 0.8421052694320679, 0.9473684430122375, 0.8947368264198303, 0.9210526347160339, 0.9210526347160339, 0.8947368264198303, 0.9473684430122375, 0.8421052694320679, 0.8947368264198303, 0.9473684430122375, 0.8947368264198303, 0.8947368264198303, 0.9210526347160339, 0.9473684430122375, 0.8947368264198303, 0.8947368264198303, 0.9473684430122375, 0.8947368264198303, 0.9210526347160339, 0.9210526347160339, 0.8947368264198303, 0.8947368264198303, 0.9210526347160339, 0.9210526347160339, 0.8947368264198303, 0.8684210777282715, 0.8684210777282715, 0.8947368264198303, 0.8947368264198303, 0.9210526347160339, 0.9473684430122375, 0.8947368264198303, 0.9473684430122375, 0.8947368264198303, 0.9473684430122375, 0.9473684430122375, 0.8947368264198303, 0.9210526347160339, 0.9210526347160339, 0.9473684430122375, 0.9473684430122375, 0.9210526347160339, 0.8947368264198303, 0.8947368264198303, 0.9473684430122375, 0.8947368264198303, 0.9473684430122375, 0.9210526347160339, 0.9210526347160339, 0.9210526347160339, 0.8947368264198303, 0.8947368264198303, 0.8947368264198303, 0.9210526347160339, 0.9210526347160339, 0.9473684430122375, 0.9473684430122375, 0.9473684430122375, 0.9210526347160339, 0.9210526347160339, 0.9210526347160339, 0.9473684430122375, 0.8947368264198303, 0.8947368264198303, 0.9473684430122375, 0.9473684430122375, 0.8947368264198303, 0.8947368264198303], 'loss': [1.52329221367836, 0.8223129373842052, 0.6328522322832474, 0.5735831524112395, 0.520443017128855, 0.4715188398092453, 0.46147199124763055, 0.4458223550713488, 0.4248880629061854, 0.39329346069800003, 0.38733268339586047, 0.37229287333320826, 0.3161963916915868, 0.3401584783402671, 0.33123601616326986, 0.31857512940353316, 0.2874959865086047, 0.29168347906254766, 0.2890730165942971, 0.27613542075102615, 0.2690722551862044, 0.2710040388462533, 0.2605912601408948, 0.25017229172018624, 0.24717216310922854, 0.23945403270772658, 0.22913055878598243, 0.22279626426669502, 0.2168575552225645, 0.23074468561597833, 0.21985827678249084, 0.20970681927532756, 0.206103552561087, 0.205923954573726, 0.20706810703268275, 0.19990231659695773, 0.19244554004814876, 0.1943439599334462, 0.19217722651748254, 0.1752946478913405, 0.1900072545727848, 0.1784132133824252, 0.17452421940730087, 0.17279192075199848, 0.1808631897770933, 0.1753779188792188, 0.17683320228908478, 0.1698937792160515, 0.16964387527592148, 0.16829555853785547, 0.1636961543533419, 0.16306564048240293, 0.16144439522343287, 0.1629605735839245, 0.1618681532438911, 0.1503935771158597, 0.1596567138102338, 0.14611412274825852, 0.15103321884816978, 0.14450007469817397, 0.15280234172574378, 0.1442218671769037, 0.14898927700622672, 0.1462895968434168, 0.1443251097454257, 0.14149983983017073, 0.1452632093299014, 0.13971191195845936, 0.1398352324509428, 0.13778760135755874, 0.1403850609037493, 0.13270660667227016, 0.14070237940593092, 0.1340801438782364, 0.1383691397547539, 0.13182173727234062, 0.13389338639223883, 0.13215718872691337, 0.13193887133924623, 0.12651854829372106, 0.1334496468022865, 0.12850934521182872, 0.12860111387375842, 0.1258122319808795, 0.13063776833431412, 0.12718946078894078, 0.12817828559283434, 0.12299885663222605, 0.1116996271043068, 0.12328373094351264, 0.12676026139940536, 0.12429650450732359, 0.122737730485304, 0.11715263374623776, 0.12123550225234274, 0.11430891805606994, 0.12328337607115307, 0.11694724701166186, 0.11434202666194844, 0.1196830599250721], 'accuracy': [0.23214285, 0.59821427, 0.76785713, 0.7589286, 0.75, 0.77678573, 0.8125, 0.79464287, 0.8125, 0.84821427, 0.85714287, 0.83928573, 0.89285713, 0.90178573, 0.89285713, 0.91071427, 0.91071427, 0.9375, 0.9464286, 0.91964287, 0.91964287, 0.9285714, 0.9464286, 0.9285714, 0.9375, 0.96428573, 0.95535713, 0.91964287, 0.97321427, 0.95535713, 0.9464286, 0.98214287, 0.95535713, 0.9464286, 0.97321427, 0.96428573, 0.95535713, 0.96428573, 0.96428573, 0.96428573, 0.98214287, 0.96428573, 0.96428573, 0.96428573, 0.97321427, 0.97321427, 0.98214287, 0.97321427, 0.98214287, 0.96428573, 0.97321427, 0.96428573, 0.95535713, 0.95535713, 0.97321427, 0.97321427, 0.97321427, 0.98214287, 0.96428573, 0.96428573, 0.98214287, 0.9910714, 0.97321427, 0.98214287, 0.97321427, 0.98214287, 0.9910714, 0.98214287, 0.98214287, 0.96428573, 0.97321427, 0.97321427, 0.98214287, 0.96428573, 0.97321427, 0.97321427, 0.97321427, 0.97321427, 0.98214287, 0.98214287, 0.98214287, 0.97321427, 0.98214287, 0.97321427, 0.97321427, 0.98214287, 0.97321427, 0.97321427, 0.98214287, 0.98214287, 0.97321427, 0.98214287, 0.9910714, 0.98214287, 0.98214287, 0.98214287, 0.97321427, 0.97321427, 0.98214287, 0.9910714]}\n"
     ]
    }
   ],
   "source": [
    "history  = model1.fit(x_train, y_train,epochs=100, batch_size=1,validation_data=(x_test, y_test),verbose=1)\n",
    "print('\\nhistory dict:', history.history)"
   ]
  },
  {
   "cell_type": "code",
   "execution_count": 19,
   "metadata": {},
   "outputs": [
    {
     "name": "stdout",
     "output_type": "stream",
     "text": [
      "Accuracy: 0.895\n",
      "Loss: 0.178\n"
     ]
    }
   ],
   "source": [
    "loss, acc = model1.evaluate(x_test, y_test, verbose=0)\n",
    "print('Accuracy: %.3f'  % acc)\n",
    "print('Loss: %.3f' % loss)"
   ]
  },
  {
   "cell_type": "markdown",
   "metadata": {
    "colab_type": "text",
    "id": "re9ItAR3yS3J"
   },
   "source": [
    "## Question 10"
   ]
  },
  {
   "cell_type": "markdown",
   "metadata": {
    "colab_type": "text",
    "id": "liw0IFf9yVqH"
   },
   "source": [
    "### Make predictions\n",
    "- Predict labels on one row"
   ]
  },
  {
   "cell_type": "code",
   "execution_count": 27,
   "metadata": {
    "colab": {},
    "colab_type": "code",
    "id": "H5sBybi6mlLl"
   },
   "outputs": [],
   "source": [
    "y_premod = model1.predict(x_test)"
   ]
  },
  {
   "cell_type": "markdown",
   "metadata": {
    "colab_type": "text",
    "id": "hSUgMq3m0bG7"
   },
   "source": [
    "### Compare the prediction with actual label\n",
    "- Print the same row as done in the previous step but of actual labels"
   ]
  },
  {
   "cell_type": "code",
   "execution_count": 28,
   "metadata": {
    "colab": {},
    "colab_type": "code",
    "id": "K5WbwVPyz-qQ"
   },
   "outputs": [
    {
     "name": "stdout",
     "output_type": "stream",
     "text": [
      "Predicted one [[1.5037649e-02 9.6668142e-01 1.8280946e-02]\n",
      " [3.1373671e-05 1.3734420e-01 8.6262435e-01]\n",
      " [4.2489896e-06 6.3483980e-03 9.9364728e-01]\n",
      " [9.8745000e-01 1.2550049e-02 2.5074602e-08]]\n",
      "Actual one [[0. 1. 0.]\n",
      " [0. 0. 1.]\n",
      " [0. 0. 1.]\n",
      " [1. 0. 0.]]\n"
     ]
    }
   ],
   "source": [
    "print(\"Predicted one\",y_premod[0:4])\n",
    "print(\"Actual one\",y_test[0:4])"
   ]
  },
  {
   "cell_type": "markdown",
   "metadata": {
    "colab_type": "text",
    "id": "FrTKwbgE7NFT"
   },
   "source": [
    "\n",
    "\n",
    "---\n",
    "\n"
   ]
  },
  {
   "cell_type": "markdown",
   "metadata": {
    "colab_type": "text",
    "id": "a1UBYPNp5Tn1"
   },
   "source": [
    "# Stock prices dataset\n",
    "The data is of tock exchange's stock listings for each trading day of 2010 to 2016.\n",
    "\n",
    "## Description\n",
    "A brief description of columns.\n",
    "- open: The opening market price of the equity symbol on the date\n",
    "- high: The highest market price of the equity symbol on the date\n",
    "- low: The lowest recorded market price of the equity symbol on the date\n",
    "- close: The closing recorded price of the equity symbol on the date\n",
    "- symbol: Symbol of the listed company\n",
    "- volume: Total traded volume of the equity symbol on the date\n",
    "- date: Date of record"
   ]
  },
  {
   "cell_type": "markdown",
   "metadata": {
    "colab_type": "text",
    "id": "ctH_ZW5g-M3g"
   },
   "source": [
    "### Specifying the TensorFlow version\n",
    "Running `import tensorflow` will import the default version (currently 1.x). You can use 2.x by running a cell with the `tensorflow_version` magic **before** you run `import tensorflow`."
   ]
  },
  {
   "cell_type": "code",
   "execution_count": 0,
   "metadata": {
    "colab": {},
    "colab_type": "code",
    "id": "vQbdODpH-M3r"
   },
   "outputs": [],
   "source": [
    "%tensorflow_version 2.x"
   ]
  },
  {
   "cell_type": "markdown",
   "metadata": {
    "colab_type": "text",
    "id": "nFQWH1tj-M38"
   },
   "source": [
    "### Import TensorFlow\n",
    "Once you have specified a version via this magic, you can run `import tensorflow` as normal and verify which version was imported as follows:"
   ]
  },
  {
   "cell_type": "code",
   "execution_count": 0,
   "metadata": {
    "colab": {},
    "colab_type": "code",
    "id": "Ho5n-xhd-M3_"
   },
   "outputs": [],
   "source": [
    "import tensorflow as tf\n",
    "print(tf.__version__)"
   ]
  },
  {
   "cell_type": "markdown",
   "metadata": {
    "colab_type": "text",
    "id": "tgkl0qu6-M4F"
   },
   "source": [
    "### Set random seed"
   ]
  },
  {
   "cell_type": "code",
   "execution_count": 0,
   "metadata": {
    "colab": {},
    "colab_type": "code",
    "id": "TKgTyuA3-M4G"
   },
   "outputs": [],
   "source": [
    "tf.random.set_seed(42)"
   ]
  },
  {
   "cell_type": "markdown",
   "metadata": {
    "colab_type": "text",
    "id": "_88voqAH-O6J"
   },
   "source": [
    "## Question 1"
   ]
  },
  {
   "cell_type": "markdown",
   "metadata": {
    "colab_type": "text",
    "id": "dRHCeJqP-evf"
   },
   "source": [
    "### Load the data\n",
    "- load the csv file and read it using pandas\n",
    "- file name is prices.csv"
   ]
  },
  {
   "cell_type": "code",
   "execution_count": null,
   "metadata": {
    "colab": {},
    "colab_type": "code",
    "id": "-gDC6cSW_FSK"
   },
   "outputs": [],
   "source": []
  },
  {
   "cell_type": "code",
   "execution_count": null,
   "metadata": {},
   "outputs": [],
   "source": []
  },
  {
   "cell_type": "markdown",
   "metadata": {
    "colab_type": "text",
    "id": "HlLKVPVH_BCT"
   },
   "source": [
    "## Question 2"
   ]
  },
  {
   "cell_type": "markdown",
   "metadata": {
    "colab_type": "text",
    "id": "9J4BlzVA_gZd"
   },
   "source": [
    "### Drop columnns\n",
    "- drop \"date\" and \"symbol\" column from the data"
   ]
  },
  {
   "cell_type": "code",
   "execution_count": null,
   "metadata": {
    "colab": {},
    "colab_type": "code",
    "id": "IKEK8aEE_Csx"
   },
   "outputs": [],
   "source": []
  },
  {
   "cell_type": "code",
   "execution_count": null,
   "metadata": {},
   "outputs": [],
   "source": []
  },
  {
   "cell_type": "markdown",
   "metadata": {
    "colab_type": "text",
    "id": "cTPhO6v-AiZt"
   },
   "source": [
    "## Question 3"
   ]
  },
  {
   "cell_type": "markdown",
   "metadata": {
    "colab_type": "text",
    "id": "SsZXmF3NAkna"
   },
   "source": [
    "### Take initial rows\n",
    "- Take first 1000 rows from the data\n",
    "- This step is done to make the execution faster"
   ]
  },
  {
   "cell_type": "code",
   "execution_count": null,
   "metadata": {
    "colab": {},
    "colab_type": "code",
    "id": "aKs04iIHAjxN"
   },
   "outputs": [],
   "source": []
  },
  {
   "cell_type": "markdown",
   "metadata": {
    "colab_type": "text",
    "id": "6vGtnapgBIJm"
   },
   "source": [
    "## Question 4"
   ]
  },
  {
   "cell_type": "markdown",
   "metadata": {
    "colab_type": "text",
    "id": "C8u_jlbABTip"
   },
   "source": [
    "### Get features and label from the dataset in separate variable\n",
    "- Take \"open\", \"close\", \"low\", \"high\" columns as features\n",
    "- Take \"volume\" column as label\n",
    "- Normalize label column by dividing it with 1000000"
   ]
  },
  {
   "cell_type": "code",
   "execution_count": null,
   "metadata": {
    "colab": {},
    "colab_type": "code",
    "id": "xQjCMzUXBJbg"
   },
   "outputs": [],
   "source": []
  },
  {
   "cell_type": "markdown",
   "metadata": {
    "colab_type": "text",
    "id": "aTAKzlxZBz0z"
   },
   "source": [
    "## Question 5"
   ]
  },
  {
   "cell_type": "markdown",
   "metadata": {
    "colab_type": "text",
    "id": "IfY8Km1Zzyt2"
   },
   "source": [
    "### Convert data\n",
    "- Convert features and labels to numpy array\n",
    "- Convert their data type to \"float32\""
   ]
  },
  {
   "cell_type": "code",
   "execution_count": null,
   "metadata": {
    "colab": {},
    "colab_type": "code",
    "id": "Ko7nnQVbYENh"
   },
   "outputs": [],
   "source": []
  },
  {
   "cell_type": "markdown",
   "metadata": {
    "colab_type": "text",
    "id": "3TWpN0nVTpUx"
   },
   "source": [
    "## Question 6"
   ]
  },
  {
   "cell_type": "markdown",
   "metadata": {
    "colab_type": "text",
    "id": "WQ1FKEs-4btX"
   },
   "source": [
    "### Normalize data\n",
    "- Normalize features\n",
    "- Use tf.math.l2_normalize to normalize features\n",
    "- You can read more about it here https://www.tensorflow.org/api_docs/python/tf/math/l2_normalize"
   ]
  },
  {
   "cell_type": "code",
   "execution_count": 0,
   "metadata": {
    "colab": {},
    "colab_type": "code",
    "id": "V0Tfe00X78wB"
   },
   "outputs": [],
   "source": []
  },
  {
   "cell_type": "markdown",
   "metadata": {
    "colab_type": "text",
    "id": "wmXUGc2oTspa"
   },
   "source": [
    "## Question 7"
   ]
  },
  {
   "cell_type": "markdown",
   "metadata": {
    "colab_type": "text",
    "id": "VJelDMpzxs0L"
   },
   "source": [
    "### Define weight and bias\n",
    "- Initialize weight and bias with tf.zeros\n",
    "- tf.zeros is an initializer that generates tensors initialized to 0\n",
    "- Specify the value for shape"
   ]
  },
  {
   "cell_type": "code",
   "execution_count": 0,
   "metadata": {
    "colab": {},
    "colab_type": "code",
    "id": "8o9RPWVTxs0O"
   },
   "outputs": [],
   "source": []
  },
  {
   "cell_type": "markdown",
   "metadata": {
    "colab_type": "text",
    "id": "8a0wr94aTyjg"
   },
   "source": [
    "## Question 8"
   ]
  },
  {
   "cell_type": "markdown",
   "metadata": {
    "colab_type": "text",
    "id": "zMXXYdOSxs0Q"
   },
   "source": [
    "### Get prediction\n",
    "- Define a function to get prediction\n",
    "- Approach: prediction = (X * W) + b; here is X is features"
   ]
  },
  {
   "cell_type": "code",
   "execution_count": 0,
   "metadata": {
    "colab": {},
    "colab_type": "code",
    "id": "U8Cty1y0xs0S"
   },
   "outputs": [],
   "source": []
  },
  {
   "cell_type": "markdown",
   "metadata": {
    "colab_type": "text",
    "id": "lQmS3Tauxs0V"
   },
   "source": [
    "### Calculate loss\n",
    "- Calculate loss using predictions\n",
    "- Define a function to calculate loss\n",
    "- We are calculating mean squared error"
   ]
  },
  {
   "cell_type": "code",
   "execution_count": 0,
   "metadata": {
    "colab": {},
    "colab_type": "code",
    "id": "-FRXmDd5xs0X"
   },
   "outputs": [],
   "source": []
  },
  {
   "cell_type": "markdown",
   "metadata": {
    "colab_type": "text",
    "id": "ZbBpnOtfT0wd"
   },
   "source": [
    "## Question 9"
   ]
  },
  {
   "cell_type": "markdown",
   "metadata": {
    "colab_type": "text",
    "id": "bkOzAUUsTmF_"
   },
   "source": [
    "### Define a function to train the model\n",
    "1.   Record all the mathematical steps to calculate Loss\n",
    "2.   Calculate Gradients of Loss w.r.t weights and bias\n",
    "3.   Update Weights and Bias based on gradients and learning rate to minimize loss"
   ]
  },
  {
   "cell_type": "code",
   "execution_count": 0,
   "metadata": {
    "colab": {},
    "colab_type": "code",
    "id": "2R4uieGYLYtM"
   },
   "outputs": [],
   "source": []
  },
  {
   "cell_type": "markdown",
   "metadata": {
    "colab_type": "text",
    "id": "AW4SEP8kT2ls"
   },
   "source": [
    "## Question 10"
   ]
  },
  {
   "cell_type": "markdown",
   "metadata": {
    "colab_type": "text",
    "id": "yeN0deOvT81N"
   },
   "source": [
    "### Train the model for 100 epochs \n",
    "- Observe the training loss at every iteration"
   ]
  },
  {
   "cell_type": "code",
   "execution_count": 0,
   "metadata": {
    "colab": {},
    "colab_type": "code",
    "id": "Jjkn4gUgLevE"
   },
   "outputs": [],
   "source": []
  },
  {
   "cell_type": "markdown",
   "metadata": {
    "colab_type": "text",
    "id": "vanvD93FV0_k"
   },
   "source": [
    "### Observe values of Weight\n",
    "- Print the updated values"
   ]
  },
  {
   "cell_type": "code",
   "execution_count": 0,
   "metadata": {
    "colab": {},
    "colab_type": "code",
    "id": "QSqpy4gtWaOD"
   },
   "outputs": [],
   "source": []
  },
  {
   "cell_type": "markdown",
   "metadata": {
    "colab_type": "text",
    "id": "y9KpRupYUEwy"
   },
   "source": [
    "### Observe values of Bias\n",
    "- Print the updated values"
   ]
  },
  {
   "cell_type": "code",
   "execution_count": 0,
   "metadata": {
    "colab": {},
    "colab_type": "code",
    "id": "bhEWkGqHWohg"
   },
   "outputs": [],
   "source": []
  }
 ],
 "metadata": {
  "colab": {
   "collapsed_sections": [],
   "name": "Questions - Internal - R6 - AIML Labs",
   "provenance": []
  },
  "kernelspec": {
   "display_name": "Python 3",
   "language": "python",
   "name": "python3"
  },
  "language_info": {
   "codemirror_mode": {
    "name": "ipython",
    "version": 3
   },
   "file_extension": ".py",
   "mimetype": "text/x-python",
   "name": "python",
   "nbconvert_exporter": "python",
   "pygments_lexer": "ipython3",
   "version": "3.7.4"
  }
 },
 "nbformat": 4,
 "nbformat_minor": 1
}
