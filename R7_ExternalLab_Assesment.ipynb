{
  "nbformat": 4,
  "nbformat_minor": 0,
  "metadata": {
    "colab": {
      "name": "Updated_R7_ExternalLab_Questions (1).ipynb",
      "provenance": [],
      "collapsed_sections": []
    },
    "kernelspec": {
      "name": "python3",
      "display_name": "Python 3"
    },
    "language_info": {
      "codemirror_mode": {
        "name": "ipython",
        "version": 3
      },
      "file_extension": ".py",
      "mimetype": "text/x-python",
      "name": "python",
      "nbconvert_exporter": "python",
      "pygments_lexer": "ipython3",
      "version": "3.7.3"
    },
    "accelerator": "GPU"
  },
  "cells": [
    {
      "cell_type": "markdown",
      "metadata": {
        "colab_type": "text",
        "id": "4WH1Pr4KQlCh"
      },
      "source": [
        "### Build a DNN using Keras with `RELU` and `ADAM`"
      ]
    },
    {
      "cell_type": "markdown",
      "metadata": {
        "colab_type": "text",
        "id": "TbvI8LqlQlCl"
      },
      "source": [
        "#### Load tensorflow"
      ]
    },
    {
      "cell_type": "code",
      "metadata": {
        "colab_type": "code",
        "id": "SPW-a-qYQlCp",
        "outputId": "07e8fe0a-c419-4a30-a8ca-c91275340aec",
        "colab": {
          "base_uri": "https://localhost:8080/",
          "height": 34
        }
      },
      "source": [
        "%tensorflow_version 2.x\n",
        "import tensorflow as tf\n",
        "print(tf.__version__)"
      ],
      "execution_count": 35,
      "outputs": [
        {
          "output_type": "stream",
          "text": [
            "2.1.0\n"
          ],
          "name": "stdout"
        }
      ]
    },
    {
      "cell_type": "markdown",
      "metadata": {
        "colab_type": "text",
        "id": "74cQBsi5QlCw"
      },
      "source": [
        "#### Collect Fashion mnist data from tf.keras.datasets "
      ]
    },
    {
      "cell_type": "code",
      "metadata": {
        "colab_type": "code",
        "id": "wVWy0oDTr2Kj",
        "colab": {}
      },
      "source": [
        "(x_train, y_train),(x_test, y_test) = tf.keras.datasets.fashion_mnist.load_data()"
      ],
      "execution_count": 0,
      "outputs": []
    },
    {
      "cell_type": "markdown",
      "metadata": {
        "colab_type": "text",
        "id": "no7aWYZyQlC1"
      },
      "source": [
        "#### Change train and test labels into one-hot vectors"
      ]
    },
    {
      "cell_type": "code",
      "metadata": {
        "colab_type": "code",
        "id": "UX6otc4wQlC2",
        "outputId": "f087b6af-ae6b-4c86-eedf-836c94582139",
        "colab": {
          "base_uri": "https://localhost:8080/",
          "height": 85
        }
      },
      "source": [
        "print(\"X train shape:\",x_train.shape)\n",
        "print(\"Y train shape:\",y_train.shape)\n",
        "print(\"X test shape:\",x_test.shape)\n",
        "print(\"Y test shape:\",y_test.shape)"
      ],
      "execution_count": 37,
      "outputs": [
        {
          "output_type": "stream",
          "text": [
            "X train shape: (60000, 28, 28)\n",
            "Y train shape: (60000,)\n",
            "X test shape: (10000, 28, 28)\n",
            "Y test shape: (10000,)\n"
          ],
          "name": "stdout"
        }
      ]
    },
    {
      "cell_type": "code",
      "metadata": {
        "id": "95tdhbn-J5wf",
        "colab_type": "code",
        "outputId": "84f00097-a20d-492b-ebba-f31a6a2a33eb",
        "colab": {
          "base_uri": "https://localhost:8080/",
          "height": 34
        }
      },
      "source": [
        "y_train"
      ],
      "execution_count": 38,
      "outputs": [
        {
          "output_type": "execute_result",
          "data": {
            "text/plain": [
              "array([9, 0, 0, ..., 3, 0, 5], dtype=uint8)"
            ]
          },
          "metadata": {
            "tags": []
          },
          "execution_count": 38
        }
      ]
    },
    {
      "cell_type": "code",
      "metadata": {
        "id": "p60hEC-5J67d",
        "colab_type": "code",
        "outputId": "5fda6c6a-64a8-4aba-8089-8947f7952c36",
        "colab": {
          "base_uri": "https://localhost:8080/",
          "height": 34
        }
      },
      "source": [
        "y_test"
      ],
      "execution_count": 39,
      "outputs": [
        {
          "output_type": "execute_result",
          "data": {
            "text/plain": [
              "array([9, 2, 1, ..., 8, 1, 5], dtype=uint8)"
            ]
          },
          "metadata": {
            "tags": []
          },
          "execution_count": 39
        }
      ]
    },
    {
      "cell_type": "code",
      "metadata": {
        "id": "iurcliWEHFa9",
        "colab_type": "code",
        "colab": {}
      },
      "source": [
        "y_train = tf.keras.utils.to_categorical(y_train, num_classes = 10)\n",
        "y_test = tf.keras.utils.to_categorical(y_test, num_classes = 10)"
      ],
      "execution_count": 0,
      "outputs": []
    },
    {
      "cell_type": "code",
      "metadata": {
        "id": "udVSVIxvIYUk",
        "colab_type": "code",
        "outputId": "7acf6d5d-9639-4282-86c0-b2106fecb929",
        "colab": {
          "base_uri": "https://localhost:8080/",
          "height": 136
        }
      },
      "source": [
        "print(y_train)"
      ],
      "execution_count": 41,
      "outputs": [
        {
          "output_type": "stream",
          "text": [
            "[[0. 0. 0. ... 0. 0. 1.]\n",
            " [1. 0. 0. ... 0. 0. 0.]\n",
            " [1. 0. 0. ... 0. 0. 0.]\n",
            " ...\n",
            " [0. 0. 0. ... 0. 0. 0.]\n",
            " [1. 0. 0. ... 0. 0. 0.]\n",
            " [0. 0. 0. ... 0. 0. 0.]]\n"
          ],
          "name": "stdout"
        }
      ]
    },
    {
      "cell_type": "code",
      "metadata": {
        "id": "3aDwN1a3H3Pe",
        "colab_type": "code",
        "outputId": "55c017fc-71c4-414a-e50a-2450c20a8f97",
        "colab": {
          "base_uri": "https://localhost:8080/",
          "height": 136
        }
      },
      "source": [
        "print(ytest)"
      ],
      "execution_count": 42,
      "outputs": [
        {
          "output_type": "stream",
          "text": [
            "[[0. 0. 0. ... 0. 0. 1.]\n",
            " [0. 0. 1. ... 0. 0. 0.]\n",
            " [0. 1. 0. ... 0. 0. 0.]\n",
            " ...\n",
            " [0. 0. 0. ... 0. 1. 0.]\n",
            " [0. 1. 0. ... 0. 0. 0.]\n",
            " [0. 0. 0. ... 0. 0. 0.]]\n"
          ],
          "name": "stdout"
        }
      ]
    },
    {
      "cell_type": "markdown",
      "metadata": {
        "colab_type": "text",
        "id": "QjNrRTdoQlC5"
      },
      "source": [
        "#### Build the Graph"
      ]
    },
    {
      "cell_type": "markdown",
      "metadata": {
        "colab_type": "text",
        "id": "CDJ9DHVNQlC7"
      },
      "source": [
        "#### Initialize model, reshape & normalize data"
      ]
    },
    {
      "cell_type": "code",
      "metadata": {
        "colab_type": "code",
        "id": "pCDQs_g1QlC8",
        "colab": {}
      },
      "source": [
        "x_train = x_train.astype('float32')      \n",
        "x_test = x_test.astype('float32')\n",
        "x_train /= 255                           \n",
        "x_test /= 255"
      ],
      "execution_count": 0,
      "outputs": []
    },
    {
      "cell_type": "code",
      "metadata": {
        "id": "J0F0pDfdK7np",
        "colab_type": "code",
        "outputId": "adc7e4e4-949d-4f89-a579-d3f17a907190",
        "colab": {
          "base_uri": "https://localhost:8080/",
          "height": 51
        }
      },
      "source": [
        "x_train = x_train.reshape(60000, 28,28,1)    \n",
        "x_test = x_test.reshape(10000, 28,28,1)      \n",
        "print(x_train.shape)\n",
        "print(x_test.shape)"
      ],
      "execution_count": 44,
      "outputs": [
        {
          "output_type": "stream",
          "text": [
            "(60000, 28, 28, 1)\n",
            "(10000, 28, 28, 1)\n"
          ],
          "name": "stdout"
        }
      ]
    },
    {
      "cell_type": "code",
      "metadata": {
        "id": "nY6XR4pyLH26",
        "colab_type": "code",
        "colab": {}
      },
      "source": [
        "import numpy as np\n",
        "from tensorflow.keras import Sequential\n",
        "from tensorflow.keras.layers import Dense, Dropout\n",
        "from tensorflow.keras.layers import BatchNormalization\n",
        "from tensorflow.keras.activations import relu\n",
        "from tensorflow.keras.layers import Convolution2D, MaxPooling2D\n",
        "from tensorflow.keras.callbacks import EarlyStopping"
      ],
      "execution_count": 0,
      "outputs": []
    },
    {
      "cell_type": "markdown",
      "metadata": {
        "colab_type": "text",
        "id": "kBGwTTilQlDD"
      },
      "source": [
        "#### Add two fully connected layers with 200 and 100 neurons respectively with `relu` activations. Add a dropout layer with `p=0.25`"
      ]
    },
    {
      "cell_type": "code",
      "metadata": {
        "colab_type": "code",
        "id": "IXbfpfOzQlDF",
        "colab": {}
      },
      "source": [
        "model = Sequential()\n",
        "\n",
        "\n",
        "model.add(tf.keras.layers.Conv2D(32,kernel_size=(3,3), #Size of the filter\n",
        "                                 activation='relu',input_shape=(28,28,1,)))\n",
        "model.add(tf.keras.layers.Conv2D(32,kernel_size=(3,3), #Size of the filter\n",
        "                                 activation='relu'))\n",
        "model.add(tf.keras.layers.Flatten())\n",
        "model.add(tf.keras.layers.Dense(200, activation='relu'))\n",
        "model.add(tf.keras.layers.Dense(100, activation='relu'))\n",
        "model.add(tf.keras.layers.Dropout(0.25))\n",
        "\n"
      ],
      "execution_count": 0,
      "outputs": []
    },
    {
      "cell_type": "markdown",
      "metadata": {
        "colab_type": "text",
        "id": "5I8f5otcQlDJ"
      },
      "source": [
        "### Add the output layer with a fully connected layer with 10 neurons with `softmax` activation. Use `categorical_crossentropy` loss and `adam` optimizer and train the network. And, report the final validation."
      ]
    },
    {
      "cell_type": "code",
      "metadata": {
        "id": "jUQHz4vGMLwS",
        "colab_type": "code",
        "outputId": "7fc055ab-3b55-4739-acce-3af2fb77363e",
        "colab": {
          "base_uri": "https://localhost:8080/",
          "height": 340
        }
      },
      "source": [
        "model.add(tf.keras.layers.Dense(10, activation='softmax'))\n",
        "\n",
        "\n",
        "\n",
        "model.compile(optimizer='adam', \n",
        "              loss='categorical_crossentropy', \n",
        "              metrics=['accuracy'])\n",
        "\n",
        "es = EarlyStopping(monitor='val_loss', mode='min', patience=5, verbose=1) \n",
        "\n",
        "model.fit(x_train, y_train,          \n",
        "          validation_data=(x_test, y_test),\n",
        "          epochs=10,\n",
        "          callbacks = [es])"
      ],
      "execution_count": 47,
      "outputs": [
        {
          "output_type": "stream",
          "text": [
            "Train on 60000 samples, validate on 10000 samples\n",
            "Epoch 1/10\n",
            "60000/60000 [==============================] - 18s 305us/sample - loss: 0.4217 - accuracy: 0.8486 - val_loss: 0.3175 - val_accuracy: 0.8874\n",
            "Epoch 2/10\n",
            "60000/60000 [==============================] - 17s 289us/sample - loss: 0.2583 - accuracy: 0.9050 - val_loss: 0.2628 - val_accuracy: 0.9073\n",
            "Epoch 3/10\n",
            "60000/60000 [==============================] - 18s 292us/sample - loss: 0.1967 - accuracy: 0.9270 - val_loss: 0.2527 - val_accuracy: 0.9134\n",
            "Epoch 4/10\n",
            "60000/60000 [==============================] - 17s 288us/sample - loss: 0.1466 - accuracy: 0.9456 - val_loss: 0.2816 - val_accuracy: 0.9058\n",
            "Epoch 5/10\n",
            "60000/60000 [==============================] - 17s 290us/sample - loss: 0.1043 - accuracy: 0.9610 - val_loss: 0.3073 - val_accuracy: 0.9089\n",
            "Epoch 6/10\n",
            "60000/60000 [==============================] - 17s 282us/sample - loss: 0.0765 - accuracy: 0.9713 - val_loss: 0.3519 - val_accuracy: 0.9049\n",
            "Epoch 7/10\n",
            "60000/60000 [==============================] - 17s 287us/sample - loss: 0.0582 - accuracy: 0.9784 - val_loss: 0.3768 - val_accuracy: 0.9170\n",
            "Epoch 8/10\n",
            "60000/60000 [==============================] - 17s 285us/sample - loss: 0.0430 - accuracy: 0.9840 - val_loss: 0.4341 - val_accuracy: 0.9130\n",
            "Epoch 00008: early stopping\n"
          ],
          "name": "stdout"
        },
        {
          "output_type": "execute_result",
          "data": {
            "text/plain": [
              "<tensorflow.python.keras.callbacks.History at 0x7fd506d7bc88>"
            ]
          },
          "metadata": {
            "tags": []
          },
          "execution_count": 47
        }
      ]
    },
    {
      "cell_type": "code",
      "metadata": {
        "id": "nmB7LQV1NES8",
        "colab_type": "code",
        "outputId": "16a7112d-9aa4-48a3-b5c0-d90967fc6382",
        "colab": {
          "base_uri": "https://localhost:8080/",
          "height": 255
        }
      },
      "source": [
        "es = EarlyStopping(monitor='val_loss', mode='min', patience=5, verbose=1) \n",
        "\n",
        "history = model.fit(x_train, y_train,epochs=10,verbose=1,validation_data=(x_test, y_test),callbacks = [es])\n",
        "\n",
        "score = model.evaluate(x_test, y_test, verbose=False)"
      ],
      "execution_count": 48,
      "outputs": [
        {
          "output_type": "stream",
          "text": [
            "Train on 60000 samples, validate on 10000 samples\n",
            "Epoch 1/10\n",
            "60000/60000 [==============================] - 18s 301us/sample - loss: 0.0360 - accuracy: 0.9877 - val_loss: 0.4618 - val_accuracy: 0.9116\n",
            "Epoch 2/10\n",
            "60000/60000 [==============================] - 18s 297us/sample - loss: 0.0294 - accuracy: 0.9897 - val_loss: 0.5114 - val_accuracy: 0.9140\n",
            "Epoch 3/10\n",
            "60000/60000 [==============================] - 18s 301us/sample - loss: 0.0271 - accuracy: 0.9904 - val_loss: 0.5434 - val_accuracy: 0.9097\n",
            "Epoch 4/10\n",
            "60000/60000 [==============================] - 18s 303us/sample - loss: 0.0248 - accuracy: 0.9917 - val_loss: 0.5714 - val_accuracy: 0.9091\n",
            "Epoch 5/10\n",
            "60000/60000 [==============================] - 18s 301us/sample - loss: 0.0193 - accuracy: 0.9931 - val_loss: 0.6820 - val_accuracy: 0.9030\n",
            "Epoch 6/10\n",
            "60000/60000 [==============================] - 18s 298us/sample - loss: 0.0225 - accuracy: 0.9929 - val_loss: 0.5946 - val_accuracy: 0.9122\n",
            "Epoch 00006: early stopping\n"
          ],
          "name": "stdout"
        }
      ]
    },
    {
      "cell_type": "code",
      "metadata": {
        "id": "63kEsS0t5Lp0",
        "colab_type": "code",
        "colab": {}
      },
      "source": [
        "import matplotlib.pyplot as plt"
      ],
      "execution_count": 0,
      "outputs": []
    },
    {
      "cell_type": "code",
      "metadata": {
        "id": "r42UfLHxXY10",
        "colab_type": "code",
        "colab": {
          "base_uri": "https://localhost:8080/",
          "height": 34
        },
        "outputId": "30a87a48-5941-423a-8dea-c493db4ee642"
      },
      "source": [
        "\n",
        "loss,accuracy  = model.evaluate(x_test, y_test, verbose=False)\n",
        "print(\"model accuracy :\" , accuracy)\n",
        "#print(\"validation accuracy : \", val_accuracy)\n"
      ],
      "execution_count": 54,
      "outputs": [
        {
          "output_type": "stream",
          "text": [
            "model accuracy : 0.9122\n"
          ],
          "name": "stdout"
        }
      ]
    },
    {
      "cell_type": "code",
      "metadata": {
        "id": "BJ77jl9b5BQ4",
        "colab_type": "code",
        "colab": {
          "base_uri": "https://localhost:8080/",
          "height": 391
        },
        "outputId": "8b140ae3-c411-495e-c805-82adb8d8cb82"
      },
      "source": [
        "model.summary()\n"
      ],
      "execution_count": 55,
      "outputs": [
        {
          "output_type": "stream",
          "text": [
            "Model: \"sequential_2\"\n",
            "_________________________________________________________________\n",
            "Layer (type)                 Output Shape              Param #   \n",
            "=================================================================\n",
            "conv2d_4 (Conv2D)            (None, 26, 26, 32)        320       \n",
            "_________________________________________________________________\n",
            "conv2d_5 (Conv2D)            (None, 24, 24, 32)        9248      \n",
            "_________________________________________________________________\n",
            "flatten_2 (Flatten)          (None, 18432)             0         \n",
            "_________________________________________________________________\n",
            "dense_6 (Dense)              (None, 200)               3686600   \n",
            "_________________________________________________________________\n",
            "dense_7 (Dense)              (None, 100)               20100     \n",
            "_________________________________________________________________\n",
            "dropout_2 (Dropout)          (None, 100)               0         \n",
            "_________________________________________________________________\n",
            "dense_8 (Dense)              (None, 10)                1010      \n",
            "=================================================================\n",
            "Total params: 3,717,278\n",
            "Trainable params: 3,717,278\n",
            "Non-trainable params: 0\n",
            "_________________________________________________________________\n"
          ],
          "name": "stdout"
        }
      ]
    }
  ]
}