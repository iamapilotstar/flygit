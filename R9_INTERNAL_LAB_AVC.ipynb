{
  "nbformat": 4,
  "nbformat_minor": 0,
  "metadata": {
    "colab": {
      "name": "R9_INTERNAL_LAB_AVC.ipynb",
      "provenance": [],
      "collapsed_sections": [],
      "toc_visible": true
    },
    "kernelspec": {
      "display_name": "Python 3",
      "language": "python",
      "name": "python3"
    },
    "language_info": {
      "codemirror_mode": {
        "name": "ipython",
        "version": 3
      },
      "file_extension": ".py",
      "mimetype": "text/x-python",
      "name": "python",
      "nbconvert_exporter": "python",
      "pygments_lexer": "ipython3",
      "version": "3.7.6"
    }
  },
  "cells": [
    {
      "cell_type": "markdown",
      "metadata": {
        "id": "I-P5m4iA_xe7"
      },
      "source": [
        "# Bounding box detection - Racoon data\n",
        "\n",
        "\n",
        "## Data files\n",
        "- images_racoon.rar: contain images of racoons\n",
        "- train_labels.cv: contains coordinates for bounding box for every image"
      ]
    },
    {
      "cell_type": "code",
      "metadata": {
        "id": "dzEu5fzCA_w0",
        "outputId": "dcd2ea0b-81c5-4b7d-df48-a34ec6ad3999",
        "colab": {
          "base_uri": "https://localhost:8080/",
          "height": 34
        }
      },
      "source": [
        "from google.colab import drive\n",
        "drive.mount('/content/drive')"
      ],
      "execution_count": 3,
      "outputs": [
        {
          "output_type": "stream",
          "text": [
            "Drive already mounted at /content/drive; to attempt to forcibly remount, call drive.mount(\"/content/drive\", force_remount=True).\n"
          ],
          "name": "stdout"
        }
      ]
    },
    {
      "cell_type": "markdown",
      "metadata": {
        "id": "d8M5gzwKWGiU"
      },
      "source": [
        "### Import the necessary libraries"
      ]
    },
    {
      "cell_type": "code",
      "metadata": {
        "id": "FnaaweaABrRQ"
      },
      "source": [
        "import numpy as np\n",
        "import pandas as pd\n",
        "import os"
      ],
      "execution_count": 4,
      "outputs": []
    },
    {
      "cell_type": "markdown",
      "metadata": {
        "id": "Z_INIZOi_tUW"
      },
      "source": [
        "### Change directory"
      ]
    },
    {
      "cell_type": "code",
      "metadata": {
        "id": "Sxgw3GT1AR9Y"
      },
      "source": [
        "os.chdir('/content/drive/My Drive/DATA')"
      ],
      "execution_count": 5,
      "outputs": []
    },
    {
      "cell_type": "code",
      "metadata": {
        "id": "kmPLg86ICwUl",
        "outputId": "a3179198-a268-4d58-94ea-b82d2f4d8b52",
        "colab": {
          "base_uri": "https://localhost:8080/",
          "height": 1000
        }
      },
      "source": [
        "!unzip '/content/drive/My Drive/DATA/images.zip'"
      ],
      "execution_count": 6,
      "outputs": [
        {
          "output_type": "stream",
          "text": [
            "Archive:  /content/drive/My Drive/DATA/images.zip\n",
            "replace images/raccoon-1.jpg? [y]es, [n]o, [A]ll, [N]one, [r]ename: A\n",
            "  inflating: images/raccoon-1.jpg    \n",
            "  inflating: images/raccoon-10.jpg   \n",
            "  inflating: images/raccoon-100.jpg  \n",
            "  inflating: images/raccoon-101.jpg  \n",
            "  inflating: images/raccoon-102.jpg  \n",
            "  inflating: images/raccoon-103.jpg  \n",
            "  inflating: images/raccoon-104.jpg  \n",
            "  inflating: images/raccoon-105.jpg  \n",
            "  inflating: images/raccoon-106.jpg  \n",
            " extracting: images/raccoon-107.jpg  \n",
            " extracting: images/raccoon-108.jpg  \n",
            "  inflating: images/raccoon-109.jpg  \n",
            "  inflating: images/raccoon-11.jpg   \n",
            "  inflating: images/raccoon-110.jpg  \n",
            "  inflating: images/raccoon-111.jpg  \n",
            " extracting: images/raccoon-112.jpg  \n",
            " extracting: images/raccoon-113.jpg  \n",
            "  inflating: images/raccoon-114.jpg  \n",
            "  inflating: images/raccoon-115.jpg  \n",
            "  inflating: images/raccoon-116.jpg  \n",
            "  inflating: images/raccoon-117.jpg  \n",
            "  inflating: images/raccoon-118.jpg  \n",
            "  inflating: images/raccoon-119.jpg  \n",
            "  inflating: images/raccoon-12.jpg   \n",
            "  inflating: images/raccoon-120.jpg  \n",
            "  inflating: images/raccoon-121.jpg  \n",
            "  inflating: images/raccoon-122.jpg  \n",
            "  inflating: images/raccoon-123.jpg  \n",
            "  inflating: images/raccoon-124.jpg  \n",
            "  inflating: images/raccoon-125.jpg  \n",
            "  inflating: images/raccoon-126.jpg  \n",
            "  inflating: images/raccoon-127.jpg  \n",
            "  inflating: images/raccoon-128.jpg  \n",
            "  inflating: images/raccoon-129.jpg  \n",
            "  inflating: images/raccoon-13.jpg   \n",
            "  inflating: images/raccoon-130.jpg  \n",
            "  inflating: images/raccoon-131.jpg  \n",
            "  inflating: images/raccoon-132.jpg  \n",
            "  inflating: images/raccoon-133.jpg  \n",
            "  inflating: images/raccoon-134.jpg  \n",
            "  inflating: images/raccoon-135.jpg  \n",
            "  inflating: images/raccoon-136.jpg  \n",
            "  inflating: images/raccoon-137.jpg  \n",
            "  inflating: images/raccoon-138.jpg  \n",
            "  inflating: images/raccoon-139.jpg  \n",
            "  inflating: images/raccoon-14.jpg   \n",
            "  inflating: images/raccoon-140.jpg  \n",
            "  inflating: images/raccoon-141.jpg  \n",
            "  inflating: images/raccoon-142.jpg  \n",
            "  inflating: images/raccoon-143.jpg  \n",
            "  inflating: images/raccoon-144.jpg  \n",
            " extracting: images/raccoon-145.jpg  \n",
            "  inflating: images/raccoon-146.jpg  \n",
            "  inflating: images/raccoon-147.jpg  \n",
            "  inflating: images/raccoon-148.jpg  \n",
            "  inflating: images/raccoon-149.jpg  \n",
            "  inflating: images/raccoon-15.jpg   \n",
            " extracting: images/raccoon-150.jpg  \n",
            "  inflating: images/raccoon-151.jpg  \n",
            "  inflating: images/raccoon-152.jpg  \n",
            "  inflating: images/raccoon-153.jpg  \n",
            "  inflating: images/raccoon-154.jpg  \n",
            "  inflating: images/raccoon-155.jpg  \n",
            "  inflating: images/raccoon-156.jpg  \n",
            "  inflating: images/raccoon-157.jpg  \n",
            "  inflating: images/raccoon-158.jpg  \n",
            "  inflating: images/raccoon-159.jpg  \n",
            "  inflating: images/raccoon-16.jpg   \n",
            "  inflating: images/raccoon-160.jpg  \n",
            "  inflating: images/raccoon-161.jpg  \n",
            "  inflating: images/raccoon-162.jpg  \n",
            "  inflating: images/raccoon-163.jpg  \n",
            "  inflating: images/raccoon-164.jpg  \n",
            "  inflating: images/raccoon-165.jpg  \n",
            "  inflating: images/raccoon-166.jpg  \n",
            "  inflating: images/raccoon-167.jpg  \n",
            " extracting: images/raccoon-168.jpg  \n",
            " extracting: images/raccoon-169.jpg  \n",
            "  inflating: images/raccoon-17.jpg   \n",
            "  inflating: images/raccoon-170.jpg  \n",
            "  inflating: images/raccoon-171.jpg  \n",
            "  inflating: images/raccoon-172.jpg  \n",
            "  inflating: images/raccoon-173.jpg  \n",
            "  inflating: images/raccoon-174.jpg  \n",
            "  inflating: images/raccoon-175.jpg  \n",
            " extracting: images/raccoon-176.jpg  \n",
            "  inflating: images/raccoon-177.jpg  \n",
            "  inflating: images/raccoon-178.jpg  \n",
            "  inflating: images/raccoon-179.jpg  \n",
            "  inflating: images/raccoon-18.jpg   \n",
            "  inflating: images/raccoon-180.jpg  \n",
            "  inflating: images/raccoon-181.jpg  \n",
            "  inflating: images/raccoon-182.jpg  \n",
            " extracting: images/raccoon-183.jpg  \n",
            "  inflating: images/raccoon-184.jpg  \n",
            "  inflating: images/raccoon-185.jpg  \n",
            " extracting: images/raccoon-186.jpg  \n",
            "  inflating: images/raccoon-187.jpg  \n",
            "  inflating: images/raccoon-188.jpg  \n",
            "  inflating: images/raccoon-189.jpg  \n",
            "  inflating: images/raccoon-19.jpg   \n",
            "  inflating: images/raccoon-190.jpg  \n",
            " extracting: images/raccoon-191.jpg  \n",
            "  inflating: images/raccoon-192.jpg  \n",
            "  inflating: images/raccoon-193.jpg  \n",
            "  inflating: images/raccoon-194.jpg  \n",
            "  inflating: images/raccoon-195.jpg  \n",
            "  inflating: images/raccoon-196.jpg  \n",
            "  inflating: images/raccoon-197.jpg  \n",
            "  inflating: images/raccoon-198.jpg  \n",
            " extracting: images/raccoon-199.jpg  \n",
            "  inflating: images/raccoon-2.jpg    \n",
            " extracting: images/raccoon-20.jpg   \n",
            "  inflating: images/raccoon-200.jpg  \n",
            "  inflating: images/raccoon-21.jpg   \n",
            "  inflating: images/raccoon-22.jpg   \n",
            "  inflating: images/raccoon-23.jpg   \n",
            "  inflating: images/raccoon-24.jpg   \n",
            "  inflating: images/raccoon-25.jpg   \n",
            "  inflating: images/raccoon-26.jpg   \n",
            " extracting: images/raccoon-27.jpg   \n",
            "  inflating: images/raccoon-28.jpg   \n",
            "  inflating: images/raccoon-29.jpg   \n",
            "  inflating: images/raccoon-3.jpg    \n",
            "  inflating: images/raccoon-30.jpg   \n",
            "  inflating: images/raccoon-31.jpg   \n",
            "  inflating: images/raccoon-32.jpg   \n",
            " extracting: images/raccoon-33.jpg   \n",
            "  inflating: images/raccoon-34.jpg   \n",
            "  inflating: images/raccoon-35.jpg   \n",
            "  inflating: images/raccoon-36.jpg   \n",
            "  inflating: images/raccoon-37.jpg   \n",
            "  inflating: images/raccoon-38.jpg   \n",
            "  inflating: images/raccoon-39.jpg   \n",
            "  inflating: images/raccoon-4.jpg    \n",
            "  inflating: images/raccoon-40.jpg   \n",
            " extracting: images/raccoon-41.jpg   \n",
            "  inflating: images/raccoon-42.jpg   \n",
            "  inflating: images/raccoon-43.jpg   \n",
            "  inflating: images/raccoon-44.jpg   \n",
            "  inflating: images/raccoon-45.jpg   \n",
            "  inflating: images/raccoon-46.jpg   \n",
            "  inflating: images/raccoon-47.jpg   \n",
            "  inflating: images/raccoon-48.jpg   \n",
            "  inflating: images/raccoon-49.jpg   \n",
            "  inflating: images/raccoon-5.jpg    \n",
            "  inflating: images/raccoon-50.jpg   \n",
            " extracting: images/raccoon-51.jpg   \n",
            " extracting: images/raccoon-52.jpg   \n",
            "  inflating: images/raccoon-53.jpg   \n",
            "  inflating: images/raccoon-54.jpg   \n",
            "  inflating: images/raccoon-55.jpg   \n",
            "  inflating: images/raccoon-56.jpg   \n",
            "  inflating: images/raccoon-57.jpg   \n",
            "  inflating: images/raccoon-58.jpg   \n",
            "  inflating: images/raccoon-59.jpg   \n",
            "  inflating: images/raccoon-6.jpg    \n",
            "  inflating: images/raccoon-60.jpg   \n",
            "  inflating: images/raccoon-61.jpg   \n",
            "  inflating: images/raccoon-62.jpg   \n",
            "  inflating: images/raccoon-63.jpg   \n",
            "  inflating: images/raccoon-64.jpg   \n",
            "  inflating: images/raccoon-65.jpg   \n",
            "  inflating: images/raccoon-66.jpg   \n",
            "  inflating: images/raccoon-67.jpg   \n",
            "  inflating: images/raccoon-68.jpg   \n",
            "  inflating: images/raccoon-69.jpg   \n",
            "  inflating: images/raccoon-7.jpg    \n",
            "  inflating: images/raccoon-70.jpg   \n",
            "  inflating: images/raccoon-71.jpg   \n",
            "  inflating: images/raccoon-72.jpg   \n",
            "  inflating: images/raccoon-73.jpg   \n",
            " extracting: images/raccoon-74.jpg   \n",
            "  inflating: images/raccoon-75.jpg   \n",
            "  inflating: images/raccoon-76.jpg   \n",
            "  inflating: images/raccoon-77.jpg   \n",
            "  inflating: images/raccoon-78.jpg   \n",
            "  inflating: images/raccoon-79.jpg   \n",
            "  inflating: images/raccoon-8.jpg    \n",
            "  inflating: images/raccoon-80.jpg   \n",
            " extracting: images/raccoon-81.jpg   \n",
            "  inflating: images/raccoon-82.jpg   \n",
            "  inflating: images/raccoon-83.jpg   \n",
            "  inflating: images/raccoon-84.jpg   \n",
            "  inflating: images/raccoon-85.jpg   \n",
            "  inflating: images/raccoon-86.jpg   \n",
            "  inflating: images/raccoon-87.jpg   \n",
            "  inflating: images/raccoon-88.jpg   \n",
            "  inflating: images/raccoon-89.jpg   \n",
            " extracting: images/raccoon-9.jpg    \n",
            "  inflating: images/raccoon-90.jpg   \n",
            "  inflating: images/raccoon-91.jpg   \n",
            "  inflating: images/raccoon-92.jpg   \n",
            "  inflating: images/raccoon-93.jpg   \n",
            " extracting: images/raccoon-94.jpg   \n",
            "  inflating: images/raccoon-95.jpg   \n",
            "  inflating: images/raccoon-96.jpg   \n",
            "  inflating: images/raccoon-97.jpg   \n",
            "  inflating: images/raccoon-98.jpg   \n",
            "  inflating: images/raccoon-99.jpg   \n"
          ],
          "name": "stdout"
        }
      ]
    },
    {
      "cell_type": "markdown",
      "metadata": {
        "id": "lwxBtvYRWGii"
      },
      "source": [
        "### Load the training data from train.csv file"
      ]
    },
    {
      "cell_type": "code",
      "metadata": {
        "id": "xIZO1LOrDpmr"
      },
      "source": [
        "df=pd.read_csv('train_labels.csv')"
      ],
      "execution_count": 8,
      "outputs": []
    },
    {
      "cell_type": "markdown",
      "metadata": {
        "id": "-F3CkYxUWGin"
      },
      "source": [
        "### Print the shape of the train dataset"
      ]
    },
    {
      "cell_type": "code",
      "metadata": {
        "id": "uRz_MtnvWGip",
        "outputId": "84191b05-f171-41bc-afb8-e2a38fc32df7",
        "colab": {
          "base_uri": "https://localhost:8080/",
          "height": 347
        }
      },
      "source": [
        "df.head(10)"
      ],
      "execution_count": 10,
      "outputs": [
        {
          "output_type": "execute_result",
          "data": {
            "text/html": [
              "<div>\n",
              "<style scoped>\n",
              "    .dataframe tbody tr th:only-of-type {\n",
              "        vertical-align: middle;\n",
              "    }\n",
              "\n",
              "    .dataframe tbody tr th {\n",
              "        vertical-align: top;\n",
              "    }\n",
              "\n",
              "    .dataframe thead th {\n",
              "        text-align: right;\n",
              "    }\n",
              "</style>\n",
              "<table border=\"1\" class=\"dataframe\">\n",
              "  <thead>\n",
              "    <tr style=\"text-align: right;\">\n",
              "      <th></th>\n",
              "      <th>filename</th>\n",
              "      <th>width</th>\n",
              "      <th>height</th>\n",
              "      <th>class</th>\n",
              "      <th>xmin</th>\n",
              "      <th>ymin</th>\n",
              "      <th>xmax</th>\n",
              "      <th>ymax</th>\n",
              "    </tr>\n",
              "  </thead>\n",
              "  <tbody>\n",
              "    <tr>\n",
              "      <th>0</th>\n",
              "      <td>raccoon-17.jpg</td>\n",
              "      <td>259</td>\n",
              "      <td>194</td>\n",
              "      <td>raccoon</td>\n",
              "      <td>95</td>\n",
              "      <td>60</td>\n",
              "      <td>167</td>\n",
              "      <td>118</td>\n",
              "    </tr>\n",
              "    <tr>\n",
              "      <th>1</th>\n",
              "      <td>raccoon-11.jpg</td>\n",
              "      <td>660</td>\n",
              "      <td>432</td>\n",
              "      <td>raccoon</td>\n",
              "      <td>3</td>\n",
              "      <td>1</td>\n",
              "      <td>461</td>\n",
              "      <td>431</td>\n",
              "    </tr>\n",
              "    <tr>\n",
              "      <th>2</th>\n",
              "      <td>raccoon-63.jpg</td>\n",
              "      <td>600</td>\n",
              "      <td>400</td>\n",
              "      <td>raccoon</td>\n",
              "      <td>74</td>\n",
              "      <td>107</td>\n",
              "      <td>280</td>\n",
              "      <td>290</td>\n",
              "    </tr>\n",
              "    <tr>\n",
              "      <th>3</th>\n",
              "      <td>raccoon-63.jpg</td>\n",
              "      <td>600</td>\n",
              "      <td>400</td>\n",
              "      <td>raccoon</td>\n",
              "      <td>227</td>\n",
              "      <td>93</td>\n",
              "      <td>403</td>\n",
              "      <td>298</td>\n",
              "    </tr>\n",
              "    <tr>\n",
              "      <th>4</th>\n",
              "      <td>raccoon-60.jpg</td>\n",
              "      <td>273</td>\n",
              "      <td>185</td>\n",
              "      <td>raccoon</td>\n",
              "      <td>58</td>\n",
              "      <td>33</td>\n",
              "      <td>197</td>\n",
              "      <td>127</td>\n",
              "    </tr>\n",
              "    <tr>\n",
              "      <th>5</th>\n",
              "      <td>raccoon-69.jpg</td>\n",
              "      <td>205</td>\n",
              "      <td>246</td>\n",
              "      <td>raccoon</td>\n",
              "      <td>12</td>\n",
              "      <td>11</td>\n",
              "      <td>188</td>\n",
              "      <td>240</td>\n",
              "    </tr>\n",
              "    <tr>\n",
              "      <th>6</th>\n",
              "      <td>raccoon-180.jpg</td>\n",
              "      <td>600</td>\n",
              "      <td>400</td>\n",
              "      <td>raccoon</td>\n",
              "      <td>119</td>\n",
              "      <td>21</td>\n",
              "      <td>368</td>\n",
              "      <td>399</td>\n",
              "    </tr>\n",
              "    <tr>\n",
              "      <th>7</th>\n",
              "      <td>raccoon-200.jpg</td>\n",
              "      <td>261</td>\n",
              "      <td>193</td>\n",
              "      <td>raccoon</td>\n",
              "      <td>107</td>\n",
              "      <td>10</td>\n",
              "      <td>249</td>\n",
              "      <td>166</td>\n",
              "    </tr>\n",
              "    <tr>\n",
              "      <th>8</th>\n",
              "      <td>raccoon-141.jpg</td>\n",
              "      <td>249</td>\n",
              "      <td>202</td>\n",
              "      <td>raccoon</td>\n",
              "      <td>1</td>\n",
              "      <td>1</td>\n",
              "      <td>154</td>\n",
              "      <td>176</td>\n",
              "    </tr>\n",
              "    <tr>\n",
              "      <th>9</th>\n",
              "      <td>raccoon-19.jpg</td>\n",
              "      <td>259</td>\n",
              "      <td>194</td>\n",
              "      <td>raccoon</td>\n",
              "      <td>87</td>\n",
              "      <td>8</td>\n",
              "      <td>182</td>\n",
              "      <td>89</td>\n",
              "    </tr>\n",
              "  </tbody>\n",
              "</table>\n",
              "</div>"
            ],
            "text/plain": [
              "          filename  width  height    class  xmin  ymin  xmax  ymax\n",
              "0   raccoon-17.jpg    259     194  raccoon    95    60   167   118\n",
              "1   raccoon-11.jpg    660     432  raccoon     3     1   461   431\n",
              "2   raccoon-63.jpg    600     400  raccoon    74   107   280   290\n",
              "3   raccoon-63.jpg    600     400  raccoon   227    93   403   298\n",
              "4   raccoon-60.jpg    273     185  raccoon    58    33   197   127\n",
              "5   raccoon-69.jpg    205     246  raccoon    12    11   188   240\n",
              "6  raccoon-180.jpg    600     400  raccoon   119    21   368   399\n",
              "7  raccoon-200.jpg    261     193  raccoon   107    10   249   166\n",
              "8  raccoon-141.jpg    249     202  raccoon     1     1   154   176\n",
              "9   raccoon-19.jpg    259     194  raccoon    87     8   182    89"
            ]
          },
          "metadata": {
            "tags": []
          },
          "execution_count": 10
        }
      ]
    },
    {
      "cell_type": "code",
      "metadata": {
        "id": "QjbOEHq4D9L0",
        "outputId": "04df5ca3-b1ce-483f-9922-acc29f6c4715",
        "colab": {
          "base_uri": "https://localhost:8080/",
          "height": 34
        }
      },
      "source": [
        "df.shape"
      ],
      "execution_count": 11,
      "outputs": [
        {
          "output_type": "execute_result",
          "data": {
            "text/plain": [
              "(173, 8)"
            ]
          },
          "metadata": {
            "tags": []
          },
          "execution_count": 11
        }
      ]
    },
    {
      "cell_type": "markdown",
      "metadata": {
        "id": "axf5m10eWGis"
      },
      "source": [
        "### Declare a variable IMAGE_SIZE = 128 as we will be using MobileNet which will be taking Input shape as 128 * 128 "
      ]
    },
    {
      "cell_type": "code",
      "metadata": {
        "id": "7ayEk2c9WGit"
      },
      "source": [
        "IMAGE_SIZE = 128"
      ],
      "execution_count": 12,
      "outputs": []
    },
    {
      "cell_type": "markdown",
      "metadata": {
        "id": "wbrrYb5IWGix"
      },
      "source": [
        "### With the help of csv.reader write a for loop which can load the train.csv file and store the path, width, height, x0,y0,x1,y1 in induvidual variables. <br>\n",
        "1. Create a list variable known as 'path' which has all the path for all the training images\n",
        "2. Create an array 'coords' which has the resized coordinates of the bounding box for the training images\n",
        "\n",
        "<u>Note:</u> All the training images should be downsampled to 128 * 128 as it is the input shape of MobileNet (which we will be using for Object detection). Hence the corresponding coordinates of the bounding boxes should be changed to match the image dimension of 128 * 128 "
      ]
    },
    {
      "cell_type": "code",
      "metadata": {
        "id": "twSTiPpRWGiy"
      },
      "source": [
        "import csv\n",
        "with open('train_labels.csv','r') as csvfile:\n",
        "    paths = []\n",
        "    coords = np.zeros((sum(1 for line in csvfile) - 1, 4))\n",
        "    spamreader = csv.reader(csvfile, delimiter=',')\n",
        "    csvfile.seek(0)\n",
        "    next(spamreader, None)\n",
        "    for i,row in enumerate(spamreader):\n",
        "        #print(row)\n",
        "        for j, r in enumerate(row): # Parse row with seven entities\n",
        "            #print(i)\n",
        "            if((j!= 0) & (j!=3)):\n",
        "                row[j] = int(r)\n",
        "            \n",
        "        #print(row)      \n",
        "        path, width, height, class_, xmin, ymin, xmax, ymax = row\n",
        "        paths.append(path)\n",
        "        #print(i)\n",
        "        coords[i,0] = xmin * IMAGE_SIZE / width\n",
        "        coords[i,1] = ymin * IMAGE_SIZE / height\n",
        "        coords[i,2] = xmax * IMAGE_SIZE / width # Normalize bounding box by image size\n",
        "        coords[i,3] = ymax * IMAGE_SIZE / height\n"
      ],
      "execution_count": 13,
      "outputs": []
    },
    {
      "cell_type": "markdown",
      "metadata": {
        "id": "Z9iZWEpKWGi2"
      },
      "source": [
        "### Write a for loop which can load all the training images into a variable 'batch_images' using the paths from the 'paths' variable\n",
        "<u>Note:</u> Convert the image to RGB scale as the MobileNet accepts 3 channels as inputs   "
      ]
    },
    {
      "cell_type": "code",
      "metadata": {
        "id": "h6e99qquWGi3",
        "outputId": "43763bba-652d-42d6-d19e-bae40523949e",
        "colab": {
          "base_uri": "https://localhost:8080/",
          "height": 1000
        }
      },
      "source": [
        "import cv2\n",
        "from keras.applications.mobilenet import preprocess_input\n",
        "#batch_images = []\n",
        "#for filename in paths:\n",
        "#  img=cv2.imread(\"images/\"+filename)\n",
        "#  img=img.resize(128,128)\n",
        "#  img.img.convert('RGB')\n",
        "#  if img is not None:\n",
        "#    batch_images.append(img)\n",
        "from PIL import Image\n",
        "batch_images = np.zeros((len(paths), IMAGE_SIZE, IMAGE_SIZE, 3), dtype=np.float32)\n",
        "\n",
        "for i, f in enumerate(paths):\n",
        "    print(f)\n",
        "    img = Image.open('images/'+ f) # Read image\n",
        "    img = img.resize((IMAGE_SIZE, IMAGE_SIZE)) # Resize image\n",
        "    img = img.convert('RGB')\n",
        "    batch_images[i] = preprocess_input(np.array(img, dtype=np.float32))\n"
      ],
      "execution_count": 14,
      "outputs": [
        {
          "output_type": "stream",
          "text": [
            "raccoon-17.jpg\n",
            "raccoon-11.jpg\n",
            "raccoon-63.jpg\n",
            "raccoon-63.jpg\n",
            "raccoon-60.jpg\n",
            "raccoon-69.jpg\n",
            "raccoon-180.jpg\n",
            "raccoon-200.jpg\n",
            "raccoon-141.jpg\n",
            "raccoon-19.jpg\n",
            "raccoon-84.jpg\n",
            "raccoon-124.jpg\n",
            "raccoon-182.jpg\n",
            "raccoon-111.jpg\n",
            "raccoon-91.jpg\n",
            "raccoon-79.jpg\n",
            "raccoon-93.jpg\n",
            "raccoon-20.jpg\n",
            "raccoon-42.jpg\n",
            "raccoon-139.jpg\n",
            "raccoon-58.jpg\n",
            "raccoon-71.jpg\n",
            "raccoon-183.jpg\n",
            "raccoon-1.jpg\n",
            "raccoon-169.jpg\n",
            "raccoon-82.jpg\n",
            "raccoon-4.jpg\n",
            "raccoon-101.jpg\n",
            "raccoon-10.jpg\n",
            "raccoon-166.jpg\n",
            "raccoon-184.jpg\n",
            "raccoon-38.jpg\n",
            "raccoon-120.jpg\n",
            "raccoon-142.jpg\n",
            "raccoon-149.jpg\n",
            "raccoon-51.jpg\n",
            "raccoon-43.jpg\n",
            "raccoon-123.jpg\n",
            "raccoon-66.jpg\n",
            "raccoon-9.jpg\n",
            "raccoon-178.jpg\n",
            "raccoon-47.jpg\n",
            "raccoon-167.jpg\n",
            "raccoon-54.jpg\n",
            "raccoon-77.jpg\n",
            "raccoon-155.jpg\n",
            "raccoon-89.jpg\n",
            "raccoon-153.jpg\n",
            "raccoon-179.jpg\n",
            "raccoon-115.jpg\n",
            "raccoon-64.jpg\n",
            "raccoon-56.jpg\n",
            "raccoon-44.jpg\n",
            "raccoon-39.jpg\n",
            "raccoon-26.jpg\n",
            "raccoon-162.jpg\n",
            "raccoon-170.jpg\n",
            "raccoon-187.jpg\n",
            "raccoon-131.jpg\n",
            "raccoon-174.jpg\n",
            "raccoon-92.jpg\n",
            "raccoon-193.jpg\n",
            "raccoon-138.jpg\n",
            "raccoon-157.jpg\n",
            "raccoon-108.jpg\n",
            "raccoon-116.jpg\n",
            "raccoon-117.jpg\n",
            "raccoon-117.jpg\n",
            "raccoon-12.jpg\n",
            "raccoon-12.jpg\n",
            "raccoon-16.jpg\n",
            "raccoon-90.jpg\n",
            "raccoon-160.jpg\n",
            "raccoon-75.jpg\n",
            "raccoon-199.jpg\n",
            "raccoon-97.jpg\n",
            "raccoon-188.jpg\n",
            "raccoon-21.jpg\n",
            "raccoon-35.jpg\n",
            "raccoon-85.jpg\n",
            "raccoon-49.jpg\n",
            "raccoon-86.jpg\n",
            "raccoon-34.jpg\n",
            "raccoon-196.jpg\n",
            "raccoon-96.jpg\n",
            "raccoon-3.jpg\n",
            "raccoon-2.jpg\n",
            "raccoon-52.jpg\n",
            "raccoon-81.jpg\n",
            "raccoon-112.jpg\n",
            "raccoon-18.jpg\n",
            "raccoon-94.jpg\n",
            "raccoon-98.jpg\n",
            "raccoon-83.jpg\n",
            "raccoon-36.jpg\n",
            "raccoon-24.jpg\n",
            "raccoon-24.jpg\n",
            "raccoon-195.jpg\n",
            "raccoon-55.jpg\n",
            "raccoon-55.jpg\n",
            "raccoon-175.jpg\n",
            "raccoon-163.jpg\n",
            "raccoon-48.jpg\n",
            "raccoon-70.jpg\n",
            "raccoon-119.jpg\n",
            "raccoon-119.jpg\n",
            "raccoon-119.jpg\n",
            "raccoon-88.jpg\n",
            "raccoon-61.jpg\n",
            "raccoon-61.jpg\n",
            "raccoon-121.jpg\n",
            "raccoon-74.jpg\n",
            "raccoon-133.jpg\n",
            "raccoon-177.jpg\n",
            "raccoon-177.jpg\n",
            "raccoon-159.jpg\n",
            "raccoon-53.jpg\n",
            "raccoon-132.jpg\n",
            "raccoon-198.jpg\n",
            "raccoon-198.jpg\n",
            "raccoon-103.jpg\n",
            "raccoon-46.jpg\n",
            "raccoon-50.jpg\n",
            "raccoon-37.jpg\n",
            "raccoon-161.jpg\n",
            "raccoon-194.jpg\n",
            "raccoon-32.jpg\n",
            "raccoon-15.jpg\n",
            "raccoon-147.jpg\n",
            "raccoon-151.jpg\n",
            "raccoon-80.jpg\n",
            "raccoon-6.jpg\n",
            "raccoon-154.jpg\n",
            "raccoon-135.jpg\n",
            "raccoon-118.jpg\n",
            "raccoon-150.jpg\n",
            "raccoon-102.jpg\n",
            "raccoon-130.jpg\n",
            "raccoon-130.jpg\n",
            "raccoon-7.jpg\n",
            "raccoon-107.jpg\n",
            "raccoon-173.jpg\n",
            "raccoon-165.jpg\n",
            "raccoon-25.jpg\n",
            "raccoon-67.jpg\n",
            "raccoon-13.jpg\n",
            "raccoon-191.jpg\n",
            "raccoon-45.jpg\n",
            "raccoon-31.jpg\n",
            "raccoon-31.jpg\n",
            "raccoon-172.jpg\n",
            "raccoon-100.jpg\n",
            "raccoon-148.jpg\n",
            "raccoon-148.jpg\n",
            "raccoon-23.jpg\n",
            "raccoon-30.jpg\n",
            "raccoon-33.jpg\n",
            "raccoon-136.jpg\n",
            "raccoon-114.jpg\n",
            "raccoon-76.jpg\n",
            "raccoon-104.jpg\n",
            "raccoon-109.jpg\n",
            "raccoon-87.jpg\n",
            "raccoon-113.jpg\n",
            "raccoon-78.jpg\n",
            "raccoon-65.jpg\n",
            "raccoon-122.jpg\n",
            "raccoon-73.jpg\n",
            "raccoon-137.jpg\n",
            "raccoon-171.jpg\n",
            "raccoon-190.jpg\n",
            "raccoon-22.jpg\n",
            "raccoon-152.jpg\n"
          ],
          "name": "stdout"
        }
      ]
    },
    {
      "cell_type": "code",
      "metadata": {
        "id": "rqrM4cn7N6uz",
        "outputId": "9816ef05-8485-45c5-a1f0-bfd0620db091",
        "colab": {
          "base_uri": "https://localhost:8080/",
          "height": 1000
        }
      },
      "source": [
        "batch_images"
      ],
      "execution_count": 15,
      "outputs": [
        {
          "output_type": "execute_result",
          "data": {
            "text/plain": [
              "array([[[[-0.38823527, -0.20784312, -0.3098039 ],\n",
              "         [-0.8901961 , -0.7647059 , -0.84313726],\n",
              "         [-0.9137255 , -0.8509804 , -0.8980392 ],\n",
              "         ...,\n",
              "         [ 0.04313731,  0.5137255 ,  0.05882359],\n",
              "         [ 0.04313731,  0.4666667 ,  0.18431377],\n",
              "         [ 0.26274514,  0.654902  ,  0.38823533]],\n",
              "\n",
              "        [[-0.4352941 , -0.27843136, -0.36470586],\n",
              "         [-0.9529412 , -0.8666667 , -0.92941177],\n",
              "         [-0.8509804 , -0.79607844, -0.827451  ],\n",
              "         ...,\n",
              "         [-0.23921567,  0.21568632, -0.23921567],\n",
              "         [-0.0745098 ,  0.33333337,  0.00392163],\n",
              "         [ 0.09019613,  0.4431373 ,  0.20784318]],\n",
              "\n",
              "        [[-0.7019608 , -0.5764706 , -0.64705884],\n",
              "         [-0.85882354, -0.77254903, -0.8117647 ],\n",
              "         [-0.81960785, -0.78039217, -0.78039217],\n",
              "         ...,\n",
              "         [-0.2862745 ,  0.1686275 , -0.5058824 ],\n",
              "         [-0.1607843 ,  0.26274514, -0.31764704],\n",
              "         [-0.08235294,  0.254902  , -0.02745098]],\n",
              "\n",
              "        ...,\n",
              "\n",
              "        [[-0.04313725,  0.27843142, -0.25490195],\n",
              "         [-0.19215685,  0.12941182, -0.42745095],\n",
              "         [-0.15294117,  0.19215691, -0.42745095],\n",
              "         ...,\n",
              "         [-0.8352941 , -0.6784314 , -0.85882354],\n",
              "         [-0.45098037, -0.17647058, -0.5686275 ],\n",
              "         [-0.45098037,  0.0196079 , -0.6156863 ]],\n",
              "\n",
              "        [[ 0.03529418,  0.34901965, -0.19215685],\n",
              "         [-0.01176471,  0.3176471 , -0.25490195],\n",
              "         [-0.09019607,  0.24705887, -0.36470586],\n",
              "         ...,\n",
              "         [-0.8117647 , -0.6313726 , -0.827451  ],\n",
              "         [-0.8352941 , -0.4823529 , -0.8745098 ],\n",
              "         [-0.42745095,  0.1686275 , -0.49019605]],\n",
              "\n",
              "        [[-0.04313725,  0.30196083, -0.30196077],\n",
              "         [ 0.02745104,  0.3803922 , -0.23921567],\n",
              "         [-0.05098039,  0.2941177 , -0.3333333 ],\n",
              "         ...,\n",
              "         [-0.7176471 , -0.3960784 , -0.7019608 ],\n",
              "         [-0.6156863 , -0.17647058, -0.69411767],\n",
              "         [-0.03529412,  0.56078434, -0.14509803]]],\n",
              "\n",
              "\n",
              "       [[[-0.6862745 , -0.69411767, -0.56078434],\n",
              "         [-0.60784316, -0.60784316, -0.52156866],\n",
              "         [-0.58431375, -0.58431375, -0.47450978],\n",
              "         ...,\n",
              "         [ 0.43529415,  0.70980394, -0.35686272],\n",
              "         [ 0.39607847,  0.69411767, -0.4352941 ],\n",
              "         [ 0.26274514,  0.5764706 , -0.46666664]],\n",
              "\n",
              "        [[-0.7019608 , -0.6862745 , -0.5764706 ],\n",
              "         [-0.62352943, -0.6392157 , -0.5529412 ],\n",
              "         [-0.56078434, -0.58431375, -0.4980392 ],\n",
              "         ...,\n",
              "         [ 0.4039216 ,  0.69411767, -0.3960784 ],\n",
              "         [ 0.3803922 ,  0.7019608 , -0.4352941 ],\n",
              "         [ 0.254902  ,  0.5686275 , -0.46666664]],\n",
              "\n",
              "        [[-0.7176471 , -0.69411767, -0.5764706 ],\n",
              "         [-0.6392157 , -0.64705884, -0.5686275 ],\n",
              "         [-0.54509807, -0.58431375, -0.5058824 ],\n",
              "         ...,\n",
              "         [ 0.33333337,  0.6       , -0.38823527],\n",
              "         [ 0.36470592,  0.654902  , -0.36470586],\n",
              "         [ 0.24705887,  0.56078434, -0.42745095]],\n",
              "\n",
              "        ...,\n",
              "\n",
              "        [[ 0.27843142,  0.11372554,  0.03529418],\n",
              "         [ 0.26274514,  0.11372554,  0.06666672],\n",
              "         [ 0.22352946,  0.02745104, -0.04313725],\n",
              "         ...,\n",
              "         [-0.5764706 , -0.3333333 , -0.62352943],\n",
              "         [-0.49019605, -0.06666666, -0.52156866],\n",
              "         [-0.73333335, -0.32549018, -0.7254902 ]],\n",
              "\n",
              "        [[ 0.28627455,  0.12156868,  0.03529418],\n",
              "         [ 0.2313726 ,  0.03529418, -0.04313725],\n",
              "         [ 0.21568632, -0.00392157, -0.08235294],\n",
              "         ...,\n",
              "         [-0.5294118 , -0.1372549 , -0.5294118 ],\n",
              "         [-0.58431375, -0.12941176, -0.58431375],\n",
              "         [-0.7882353 , -0.5529412 , -0.8352941 ]],\n",
              "\n",
              "        [[ 0.254902  ,  0.09019613,  0.00392163],\n",
              "         [ 0.23921573, -0.00392157, -0.11372548],\n",
              "         [ 0.23921573,  0.0196079 , -0.0745098 ],\n",
              "         ...,\n",
              "         [-0.60784316, -0.04313725, -0.5529412 ],\n",
              "         [-0.77254903, -0.27058822, -0.7490196 ],\n",
              "         [-0.8901961 , -0.6627451 , -0.92941177]]],\n",
              "\n",
              "\n",
              "       [[[ 0.4901961 ,  0.5058824 ,  0.6862745 ],\n",
              "         [ 0.35686278,  0.35686278,  0.54509807],\n",
              "         [ 0.4039216 ,  0.43529415,  0.5529412 ],\n",
              "         ...,\n",
              "         [-0.23137254,  0.00392163, -0.5686275 ],\n",
              "         [-0.2862745 , -0.03529412, -0.5529412 ],\n",
              "         [-0.38039213, -0.25490195, -0.7647059 ]],\n",
              "\n",
              "        [[ 0.52156866,  0.5137255 ,  0.6784314 ],\n",
              "         [ 0.4431373 ,  0.43529415,  0.654902  ],\n",
              "         [ 0.6       ,  0.6392157 ,  0.78039217],\n",
              "         ...,\n",
              "         [-0.25490195, -0.05098039, -0.5372549 ],\n",
              "         [-0.20784312, -0.05882353, -0.56078434],\n",
              "         [-0.2862745 , -0.19999999, -0.7490196 ]],\n",
              "\n",
              "        [[ 0.37254906,  0.33333337,  0.5137255 ],\n",
              "         [ 0.38823533,  0.39607847,  0.5764706 ],\n",
              "         [ 0.6       ,  0.62352943,  0.827451  ],\n",
              "         ...,\n",
              "         [-0.12156862,  0.082353  , -0.4980392 ],\n",
              "         [-0.15294117,  0.12941182, -0.54509807],\n",
              "         [-0.26274508, -0.09803921, -0.8039216 ]],\n",
              "\n",
              "        ...,\n",
              "\n",
              "        [[-0.36470586, -0.4980392 , -0.52156866],\n",
              "         [ 0.5529412 ,  0.5137255 ,  0.5372549 ],\n",
              "         [ 0.48235297,  0.38823533,  0.427451  ],\n",
              "         ...,\n",
              "         [-0.6313726 , -0.5921569 , -0.8117647 ],\n",
              "         [-0.60784316, -0.5058824 , -0.7176471 ],\n",
              "         [-0.4823529 , -0.47450978, -0.62352943]],\n",
              "\n",
              "        [[ 0.427451  ,  0.34901965,  0.3411765 ],\n",
              "         [ 0.5921569 ,  0.5372549 ,  0.56078434],\n",
              "         [ 0.03529418, -0.0745098 , -0.0745098 ],\n",
              "         ...,\n",
              "         [-0.62352943, -0.5529412 , -0.79607844],\n",
              "         [-0.60784316, -0.49019605, -0.6862745 ],\n",
              "         [-0.5372549 , -0.47450978, -0.64705884]],\n",
              "\n",
              "        [[ 0.6313726 ,  0.54509807,  0.52156866],\n",
              "         [ 0.16078436,  0.04313731,  0.02745104],\n",
              "         [-0.03529412, -0.21568626, -0.16862744],\n",
              "         ...,\n",
              "         [-0.56078434, -0.49019605, -0.7490196 ],\n",
              "         [-0.5137255 , -0.41176468, -0.7019608 ],\n",
              "         [-0.62352943, -0.4980392 , -0.7490196 ]]],\n",
              "\n",
              "\n",
              "       ...,\n",
              "\n",
              "\n",
              "       [[[ 0.13725495, -0.02745098, -0.23921567],\n",
              "         [ 0.24705887,  0.082353  , -0.12941176],\n",
              "         [ 0.30980396,  0.14509809, -0.06666666],\n",
              "         ...,\n",
              "         [ 0.14509809,  0.15294123,  0.11372554],\n",
              "         [ 0.2313726 ,  0.22352946,  0.15294123],\n",
              "         [ 0.23921573,  0.20784318,  0.11372554]],\n",
              "\n",
              "        [[ 0.21568632,  0.05882359, -0.15294117],\n",
              "         [ 0.23921573,  0.082353  , -0.12941176],\n",
              "         [ 0.30196083,  0.14509809, -0.06666666],\n",
              "         ...,\n",
              "         [ 0.2941177 ,  0.30196083,  0.254902  ],\n",
              "         [ 0.30980396,  0.30196083,  0.2313726 ],\n",
              "         [ 0.2313726 ,  0.20000005,  0.09803927]],\n",
              "\n",
              "        [[ 0.22352946,  0.09803927, -0.10588235],\n",
              "         [ 0.30980396,  0.17647064, -0.01960784],\n",
              "         [ 0.34901965,  0.21568632,  0.0196079 ],\n",
              "         ...,\n",
              "         [ 0.19215691,  0.20000005,  0.14509809],\n",
              "         [ 0.28627455,  0.27058828,  0.20000005],\n",
              "         [ 0.2313726 ,  0.20000005,  0.10588241]],\n",
              "\n",
              "        ...,\n",
              "\n",
              "        [[-0.31764704, -0.05882353, -0.4588235 ],\n",
              "         [-0.21568626,  0.01176476, -0.36470586],\n",
              "         [-0.23921567, -0.03529412, -0.40392154],\n",
              "         ...,\n",
              "         [-0.54509807, -0.5294118 , -0.6392157 ],\n",
              "         [-0.5372549 , -0.52156866, -0.60784316],\n",
              "         [-0.47450978, -0.46666664, -0.52156866]],\n",
              "\n",
              "        [[-0.27058822, -0.05098039, -0.41176468],\n",
              "         [-0.21568626, -0.01176471, -0.372549  ],\n",
              "         [-0.25490195, -0.09019607, -0.44313723],\n",
              "         ...,\n",
              "         [-0.49019605, -0.47450978, -0.5921569 ],\n",
              "         [-0.5058824 , -0.4980392 , -0.5921569 ],\n",
              "         [-0.49019605, -0.4823529 , -0.54509807]],\n",
              "\n",
              "        [[-0.19999999, -0.09803921, -0.36470586],\n",
              "         [-0.42745095, -0.31764704, -0.60784316],\n",
              "         [-0.3098039 , -0.20784312, -0.5372549 ],\n",
              "         ...,\n",
              "         [-0.3960784 , -0.3960784 , -0.49019605],\n",
              "         [-0.5058824 , -0.5058824 , -0.5921569 ],\n",
              "         [-0.5137255 , -0.5137255 , -0.5921569 ]]],\n",
              "\n",
              "\n",
              "       [[[-0.46666664, -0.21568626, -0.6784314 ],\n",
              "         [-0.38823527, -0.16862744, -0.6313726 ],\n",
              "         [-0.04313725, -0.16862744, -0.40392154],\n",
              "         ...,\n",
              "         [-0.21568626, -0.30196077, -0.3960784 ],\n",
              "         [-0.35686272, -0.23921567, -0.36470586],\n",
              "         [-0.1372549 , -0.06666666, -0.14509803]],\n",
              "\n",
              "        [[-0.26274508,  0.00392163, -0.5137255 ],\n",
              "         [-0.4588235 , -0.17647058, -0.6862745 ],\n",
              "         [-0.09803921, -0.12156862, -0.31764704],\n",
              "         ...,\n",
              "         [-0.3333333 , -0.4823529 , -0.4823529 ],\n",
              "         [-0.00392157, -0.1607843 , -0.2235294 ],\n",
              "         [-0.20784312, -0.23137254, -0.24705881]],\n",
              "\n",
              "        [[ 0.082353  ,  0.24705887, -0.17647058],\n",
              "         [-0.06666666,  0.0196079 , -0.372549  ],\n",
              "         [-0.20784312, -0.14509803, -0.30196077],\n",
              "         ...,\n",
              "         [-0.4588235 , -0.6313726 , -0.6862745 ],\n",
              "         [ 0.14509809, -0.18431371, -0.36470586],\n",
              "         [-0.10588235, -0.26274508, -0.3490196 ]],\n",
              "\n",
              "        ...,\n",
              "\n",
              "        [[-0.02745098, -0.00392157,  0.20784318],\n",
              "         [ 0.427451  ,  0.45098042,  0.8039216 ],\n",
              "         [ 0.35686278,  0.47450984,  0.79607844],\n",
              "         ...,\n",
              "         [-0.05098039,  0.19215691, -0.03529412],\n",
              "         [-0.27058822, -0.14509803, -0.3490196 ],\n",
              "         [-0.05098039,  0.11372554, -0.03529412]],\n",
              "\n",
              "        [[-0.10588235, -0.05098039,  0.22352946],\n",
              "         [-0.03529412,  0.0196079 ,  0.18431377],\n",
              "         [ 0.39607847,  0.45882356,  0.7882353 ],\n",
              "         ...,\n",
              "         [-0.42745095, -0.14509803, -0.372549  ],\n",
              "         [-0.14509803,  0.04313731, -0.18431371],\n",
              "         [-0.1607843 ,  0.03529418, -0.12156862]],\n",
              "\n",
              "        [[ 0.36470592,  0.45882356,  0.7882353 ],\n",
              "         [-0.10588235, -0.03529412,  0.15294123],\n",
              "         [ 0.02745104,  0.06666672,  0.27843142],\n",
              "         ...,\n",
              "         [-0.20784312,  0.10588241, -0.10588235],\n",
              "         [-0.372549  , -0.09803921, -0.3490196 ],\n",
              "         [ 0.02745104,  0.254902  ,  0.09803927]]],\n",
              "\n",
              "\n",
              "       [[[-0.47450978, -0.47450978, -0.47450978],\n",
              "         [-0.41960782, -0.41960782, -0.41960782],\n",
              "         [-0.5058824 , -0.5058824 , -0.5058824 ],\n",
              "         ...,\n",
              "         [-0.4823529 , -0.4823529 , -0.4823529 ],\n",
              "         [-0.4980392 , -0.4980392 , -0.4980392 ],\n",
              "         [-0.5137255 , -0.5137255 , -0.5137255 ]],\n",
              "\n",
              "        [[-0.47450978, -0.47450978, -0.47450978],\n",
              "         [-0.42745095, -0.42745095, -0.42745095],\n",
              "         [-0.54509807, -0.54509807, -0.54509807],\n",
              "         ...,\n",
              "         [-0.49019605, -0.49019605, -0.49019605],\n",
              "         [-0.4980392 , -0.4980392 , -0.4980392 ],\n",
              "         [-0.5137255 , -0.5137255 , -0.5137255 ]],\n",
              "\n",
              "        [[-0.56078434, -0.56078434, -0.56078434],\n",
              "         [-0.52156866, -0.52156866, -0.52156866],\n",
              "         [-0.5058824 , -0.5058824 , -0.5058824 ],\n",
              "         ...,\n",
              "         [-0.4980392 , -0.4980392 , -0.4980392 ],\n",
              "         [-0.5058824 , -0.5058824 , -0.5058824 ],\n",
              "         [-0.5137255 , -0.5137255 , -0.5137255 ]],\n",
              "\n",
              "        ...,\n",
              "\n",
              "        [[ 0.03529418,  0.03529418,  0.03529418],\n",
              "         [ 0.03529418,  0.03529418,  0.03529418],\n",
              "         [ 0.09019613,  0.09019613,  0.09019613],\n",
              "         ...,\n",
              "         [-0.0745098 , -0.0745098 , -0.0745098 ],\n",
              "         [ 0.02745104,  0.02745104,  0.02745104],\n",
              "         [ 0.09803927,  0.09803927,  0.09803927]],\n",
              "\n",
              "        [[ 0.02745104,  0.02745104,  0.02745104],\n",
              "         [ 0.05882359,  0.05882359,  0.05882359],\n",
              "         [ 0.04313731,  0.04313731,  0.04313731],\n",
              "         ...,\n",
              "         [ 0.03529418,  0.03529418,  0.03529418],\n",
              "         [-0.01176471, -0.01176471, -0.01176471],\n",
              "         [ 0.02745104,  0.02745104,  0.02745104]],\n",
              "\n",
              "        [[ 0.04313731,  0.04313731,  0.04313731],\n",
              "         [-0.01960784, -0.01960784, -0.01960784],\n",
              "         [-0.03529412, -0.03529412, -0.03529412],\n",
              "         ...,\n",
              "         [ 0.05098045,  0.05098045,  0.05098045],\n",
              "         [-0.05882353, -0.05882353, -0.05882353],\n",
              "         [-0.05098039, -0.05098039, -0.05098039]]]], dtype=float32)"
            ]
          },
          "metadata": {
            "tags": []
          },
          "execution_count": 15
        }
      ]
    },
    {
      "cell_type": "markdown",
      "metadata": {
        "id": "C9KU6pUTWGi9"
      },
      "source": [
        "### Import MobileNet and load MobileNet into a variable named 'model' which takes input shape of 128 * 128 * 3. Freeze all the layers. Add convolution and reshape layers at the end to ensure the output is 4 coordinates"
      ]
    },
    {
      "cell_type": "code",
      "metadata": {
        "id": "nosEtf1lWGi-"
      },
      "source": [
        "from tensorflow.keras import Model\n",
        "from tensorflow.keras.applications.mobilenet import MobileNet, preprocess_input\n",
        "from tensorflow.keras.callbacks import ModelCheckpoint, EarlyStopping, ReduceLROnPlateau, Callback\n",
        "from tensorflow.keras.layers import Conv2D, Reshape\n",
        "from tensorflow.keras.utils import Sequence\n",
        "from tensorflow.keras.backend import epsilon\n",
        "import tensorflow as tf\n"
      ],
      "execution_count": 16,
      "outputs": []
    },
    {
      "cell_type": "code",
      "metadata": {
        "id": "Czq1IbSdSzjG",
        "outputId": "3b877e58-25db-4573-ffab-b4cfc2e04fea",
        "colab": {
          "base_uri": "https://localhost:8080/",
          "height": 52
        }
      },
      "source": [
        "model = MobileNet(weights='imagenet',include_top=False,input_shape=(128,128,3))\n",
        "\n",
        "# to freeze layers, except the new top layer, of course, which will be added below\n",
        "for layer in model.layers:\n",
        "    layer.trainable = False\n",
        "\n",
        "# Add new top layer which is a conv layer of the same size as the previous layer so that only 4 coords of BBox can be output\n",
        "x = model.layers[-1].output\n",
        "x = Conv2D(4, kernel_size=4, name=\"coords\")(x)\n",
        "# In the line above kernel size should be 3 for img size 96, 4 for img size 128, 5 for img size 160 etc.\n",
        "x = Reshape((4,))(x) # These are the 4 predicted coordinates of one BBox\n",
        "\n",
        "model = Model(inputs=model.input, outputs=x)\n"
      ],
      "execution_count": 17,
      "outputs": [
        {
          "output_type": "stream",
          "text": [
            "Downloading data from https://storage.googleapis.com/tensorflow/keras-applications/mobilenet/mobilenet_1_0_128_tf_no_top.h5\n",
            "17227776/17225924 [==============================] - 0s 0us/step\n"
          ],
          "name": "stdout"
        }
      ]
    },
    {
      "cell_type": "markdown",
      "metadata": {
        "id": "nsQSHWgpWGjC"
      },
      "source": [
        "### Define a custom loss function IoU which calculates Intersection Over Union"
      ]
    },
    {
      "cell_type": "code",
      "metadata": {
        "id": "7Ig_Gsn-WGjD"
      },
      "source": [
        "def loss(gt,pred):\n",
        "    intersections = 0\n",
        "    unions = 0\n",
        "    diff_width = np.minimum(gt[:,0] + gt[:,2], pred[:,0] + pred[:,2]) - np.maximum(gt[:,0], pred[:,0])\n",
        "    diff_height = np.minimum(gt[:,1] + gt[:,3], pred[:,1] + pred[:,3]) - np.maximum(gt[:,1], pred[:,1])\n",
        "    intersection = diff_width * diff_height\n",
        "    \n",
        "    # Compute union\n",
        "    area_gt = gt[:,2] * gt[:,3]\n",
        "    area_pred = pred[:,2] * pred[:,3]\n",
        "    union = area_gt + area_pred - intersection\n",
        "\n",
        "#     Compute intersection and union over multiple boxes\n",
        "    for j, _ in enumerate(union):\n",
        "        if union[j] > 0 and intersection[j] > 0 and union[j] >= intersection[j]:\n",
        "            intersections += intersection[j]\n",
        "            unions += union[j]\n",
        "\n",
        "    # Compute IOU. Use epsilon to prevent division by zero\n",
        "    iou = np.round(intersections / (unions + epsilon()), 4)\n",
        "    iou = iou.astype(np.float32)\n",
        "    return iou\n",
        "\n",
        "def IoU(y_true, y_pred):\n",
        "    iou = tf.compat.v1.py_func(loss, [y_true, y_pred], tf.float32)\n",
        "    return iou"
      ],
      "execution_count": 18,
      "outputs": []
    },
    {
      "cell_type": "markdown",
      "metadata": {
        "id": "2Zs7VcSVWGjF"
      },
      "source": [
        "### Write model.compile function & model.fit function with: <br>\n",
        "1. Optimizer = Adam, Loss = 'mse' and metrics = IoU\n",
        "2. Epochs = 30, batch_size = 32, verbose = 1"
      ]
    },
    {
      "cell_type": "code",
      "metadata": {
        "id": "f35dLEJlWGjG"
      },
      "source": [
        "model.compile(optimizer='Adam',loss='mse',metrics=[IoU])"
      ],
      "execution_count": 19,
      "outputs": []
    },
    {
      "cell_type": "code",
      "metadata": {
        "id": "8o3HrJOzWcn9",
        "outputId": "68352029-9592-4292-de4b-494130f7bbbe",
        "colab": {
          "base_uri": "https://localhost:8080/",
          "height": 1000
        }
      },
      "source": [
        "history=model.fit(batch_images,coords,epochs=30,batch_size=32,verbose=1)\n"
      ],
      "execution_count": 20,
      "outputs": [
        {
          "output_type": "stream",
          "text": [
            "Epoch 1/30\n",
            "WARNING:tensorflow:From <ipython-input-18-7ee04dc8b169>:25: py_func (from tensorflow.python.ops.script_ops) is deprecated and will be removed in a future version.\n",
            "Instructions for updating:\n",
            "tf.py_func is deprecated in TF V2. Instead, there are two\n",
            "    options available in V2.\n",
            "    - tf.py_function takes a python function which manipulates tf eager\n",
            "    tensors instead of numpy arrays. It's easy to convert a tf eager tensor to\n",
            "    an ndarray (just call tensor.numpy()) but having access to eager tensors\n",
            "    means `tf.py_function`s can use accelerators such as GPUs as well as\n",
            "    being differentiable using a gradient tape.\n",
            "    - tf.numpy_function maintains the semantics of the deprecated tf.py_func\n",
            "    (it is not differentiable, and manipulates numpy arrays). It drops the\n",
            "    stateful argument making all functions stateful.\n",
            "    \n",
            "6/6 [==============================] - 2s 330ms/step - loss: 4095.6816 - IoU: 0.0821\n",
            "Epoch 2/30\n",
            "6/6 [==============================] - 2s 300ms/step - loss: 792.9418 - IoU: 0.4172\n",
            "Epoch 3/30\n",
            "6/6 [==============================] - 2s 329ms/step - loss: 443.4709 - IoU: 0.5739\n",
            "Epoch 4/30\n",
            "6/6 [==============================] - 2s 329ms/step - loss: 585.3007 - IoU: 0.5446\n",
            "Epoch 5/30\n",
            "6/6 [==============================] - 2s 344ms/step - loss: 333.5933 - IoU: 0.6361\n",
            "Epoch 6/30\n",
            "6/6 [==============================] - 2s 312ms/step - loss: 192.8566 - IoU: 0.6616\n",
            "Epoch 7/30\n",
            "6/6 [==============================] - 2s 343ms/step - loss: 195.9144 - IoU: 0.6510\n",
            "Epoch 8/30\n",
            "6/6 [==============================] - 2s 345ms/step - loss: 162.9830 - IoU: 0.6845\n",
            "Epoch 9/30\n",
            "6/6 [==============================] - 2s 340ms/step - loss: 123.8148 - IoU: 0.7437\n",
            "Epoch 10/30\n",
            "6/6 [==============================] - 2s 312ms/step - loss: 115.3506 - IoU: 0.7699\n",
            "Epoch 11/30\n",
            "6/6 [==============================] - 2s 335ms/step - loss: 103.8430 - IoU: 0.7724\n",
            "Epoch 12/30\n",
            "6/6 [==============================] - 2s 330ms/step - loss: 91.2180 - IoU: 0.7806\n",
            "Epoch 13/30\n",
            "6/6 [==============================] - 2s 348ms/step - loss: 85.2482 - IoU: 0.7911\n",
            "Epoch 14/30\n",
            "6/6 [==============================] - 2s 346ms/step - loss: 78.9459 - IoU: 0.8045\n",
            "Epoch 15/30\n",
            "6/6 [==============================] - 2s 340ms/step - loss: 75.8921 - IoU: 0.7956\n",
            "Epoch 16/30\n",
            "6/6 [==============================] - 2s 332ms/step - loss: 71.0435 - IoU: 0.8171\n",
            "Epoch 17/30\n",
            "6/6 [==============================] - 2s 344ms/step - loss: 69.3113 - IoU: 0.8274\n",
            "Epoch 18/30\n",
            "6/6 [==============================] - 2s 344ms/step - loss: 65.5745 - IoU: 0.8255\n",
            "Epoch 19/30\n",
            "6/6 [==============================] - 2s 336ms/step - loss: 63.1760 - IoU: 0.8331\n",
            "Epoch 20/30\n",
            "6/6 [==============================] - 2s 344ms/step - loss: 60.9949 - IoU: 0.8432\n",
            "Epoch 21/30\n",
            "6/6 [==============================] - 2s 345ms/step - loss: 59.7641 - IoU: 0.8430\n",
            "Epoch 22/30\n",
            "6/6 [==============================] - 2s 344ms/step - loss: 58.6253 - IoU: 0.8495\n",
            "Epoch 23/30\n",
            "6/6 [==============================] - 2s 324ms/step - loss: 56.6609 - IoU: 0.8466\n",
            "Epoch 24/30\n",
            "6/6 [==============================] - 2s 351ms/step - loss: 58.9524 - IoU: 0.8428\n",
            "Epoch 25/30\n",
            "6/6 [==============================] - 2s 316ms/step - loss: 55.5081 - IoU: 0.8413\n",
            "Epoch 26/30\n",
            "6/6 [==============================] - 2s 356ms/step - loss: 57.0937 - IoU: 0.8508\n",
            "Epoch 27/30\n",
            "6/6 [==============================] - 2s 321ms/step - loss: 56.2959 - IoU: 0.8454\n",
            "Epoch 28/30\n",
            "6/6 [==============================] - 2s 330ms/step - loss: 53.8970 - IoU: 0.8622\n",
            "Epoch 29/30\n",
            "6/6 [==============================] - 2s 342ms/step - loss: 53.0207 - IoU: 0.8622\n",
            "Epoch 30/30\n",
            "6/6 [==============================] - 2s 353ms/step - loss: 53.0955 - IoU: 0.8511\n"
          ],
          "name": "stdout"
        }
      ]
    },
    {
      "cell_type": "markdown",
      "metadata": {
        "id": "II1itmqiWGjK"
      },
      "source": [
        "### Pick a test image from the given data"
      ]
    },
    {
      "cell_type": "code",
      "metadata": {
        "id": "0ULErYeSWGjK"
      },
      "source": [
        "img=Image.open('images/raccoon-10.jpg')"
      ],
      "execution_count": 47,
      "outputs": []
    },
    {
      "cell_type": "markdown",
      "metadata": {
        "id": "h99SC9MjWGjO"
      },
      "source": [
        "### Resize the image to 128 * 128 and preprocess the image for the MobileNet model"
      ]
    },
    {
      "cell_type": "code",
      "metadata": {
        "id": "J3jbKm7_WGjP"
      },
      "source": [
        "img = img.resize((IMAGE_SIZE, IMAGE_SIZE)) # Resize image\n",
        "img = img.convert('RGB')\n",
        "img = preprocess_input(np.array(img, dtype=np.float32))"
      ],
      "execution_count": 48,
      "outputs": []
    },
    {
      "cell_type": "markdown",
      "metadata": {
        "id": "aGK4IjdaWGjR"
      },
      "source": [
        "### Predict the coordinates of the bounding box for the given test image"
      ]
    },
    {
      "cell_type": "code",
      "metadata": {
        "id": "abnXH5F7WGjS"
      },
      "source": [
        "region=model.predict(np.array([img]))[0]"
      ],
      "execution_count": 49,
      "outputs": []
    },
    {
      "cell_type": "markdown",
      "metadata": {
        "id": "CXbjVdLWWGjW"
      },
      "source": [
        "### Plot the test image using .imshow and draw a boundary box around the image with the coordinates obtained from the model"
      ]
    },
    {
      "cell_type": "code",
      "metadata": {
        "id": "B0elwbw5pCy2"
      },
      "source": [
        "unscaled=cv2.imread('images/raccoon-10.jpg')\n",
        "image_height, image_width, _ = unscaled.shape"
      ],
      "execution_count": 50,
      "outputs": []
    },
    {
      "cell_type": "code",
      "metadata": {
        "id": "t4Ah05MlWGjY",
        "outputId": "06b486b1-0e0f-4cc9-8dd5-fa523059250d",
        "colab": {
          "base_uri": "https://localhost:8080/",
          "height": 268
        }
      },
      "source": [
        "#image_width = 128\n",
        "#image_height = 128\n",
        "x0 = int(region[0] * image_width / IMAGE_SIZE) # Scale the BBox\n",
        "y0 = int(region[1] * image_height / IMAGE_SIZE)\n",
        "\n",
        "x1 = int((region[2]) * image_width / IMAGE_SIZE)\n",
        "y1 = int((region[3]) * image_height / IMAGE_SIZE)\n",
        "\n",
        "\n",
        "import matplotlib.pyplot as plt\n",
        "import matplotlib.patches as patches\n",
        "from PIL import Image\n",
        "import numpy as np\n",
        "\n",
        "\n",
        "# Create figure and axes\n",
        "fig,ax = plt.subplots(1)\n",
        "\n",
        "# Display the image\n",
        "ax.imshow(unscaled)\n",
        "\n",
        "# Create a Rectangle patch\n",
        "rect = patches.Rectangle((x0, y0), (x1 - x0) , (y1 - y0) , linewidth=2, edgecolor='r', facecolor='none')\n",
        "\n",
        "# Add the patch to the Axes\n",
        "ax.add_patch(rect)\n",
        "\n",
        "plt.show()"
      ],
      "execution_count": 51,
      "outputs": [
        {
          "output_type": "display_data",
          "data": {
            "image/png": "[encoded data removed]",
            "text/plain": [
              "<Figure size 432x288 with 1 Axes>"
            ]
          },
          "metadata": {
            "tags": [],
            "needs_background": "light"
          }
        }
      ]
    },
    {
      "cell_type": "code",
      "metadata": {
        "id": "FHbIWp-D7Jyn"
      },
      "source": [
        ""
      ],
      "execution_count": null,
      "outputs": []
    }
  ]
}