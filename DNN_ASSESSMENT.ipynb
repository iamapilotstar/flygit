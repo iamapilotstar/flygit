{
 "cells": [
  {
   "cell_type": "code",
   "execution_count": 58,
   "metadata": {},
   "outputs": [],
   "source": [
    "import tensorflow as tf\n",
    "import h5py\n",
    "import numpy as np\n",
    "from tensorflow import keras\n",
    "from sklearn import metrics\n",
    "import matplotlib.pyplot as plt\n",
    "import matplotlib.image as mpimg"
   ]
  },
  {
   "cell_type": "code",
   "execution_count": 59,
   "metadata": {},
   "outputs": [],
   "source": [
    "h1 = h5py.File('SVHN_single_grey1.h5','r')"
   ]
  },
  {
   "cell_type": "code",
   "execution_count": 60,
   "metadata": {},
   "outputs": [],
   "source": [
    "X_train = h1['X_train'][:]\n",
    "y_train1 = h1['y_train'][:]\n",
    "X_test = h1['X_test'][:]\n",
    "y_test1 = h1['y_test'][:]\n",
    "\n"
   ]
  },
  {
   "cell_type": "code",
   "execution_count": 61,
   "metadata": {},
   "outputs": [],
   "source": [
    "h1.close()"
   ]
  },
  {
   "cell_type": "code",
   "execution_count": 62,
   "metadata": {},
   "outputs": [
    {
     "name": "stdout",
     "output_type": "stream",
     "text": [
      "(42000, 32, 32)\n",
      "(42000,)\n",
      "(18000, 32, 32)\n",
      "(18000,)\n"
     ]
    }
   ],
   "source": [
    "print(X_train.shape)\n",
    "print(y_train1.shape)\n",
    "print(X_test.shape)\n",
    "print(y_test1.shape)"
   ]
  },
  {
   "cell_type": "code",
   "execution_count": 63,
   "metadata": {},
   "outputs": [],
   "source": [
    "y_train = tf.keras.utils.to_categorical(y_train1,num_classes = 10)\n",
    "y_test = tf.keras.utils.to_categorical(y_test1,num_classes = 10)"
   ]
  },
  {
   "cell_type": "code",
   "execution_count": 64,
   "metadata": {},
   "outputs": [],
   "source": [
    "# Initialize and Build the model\n",
    "model = tf.keras.models.Sequential()\n"
   ]
  },
  {
   "cell_type": "code",
   "execution_count": 65,
   "metadata": {},
   "outputs": [],
   "source": [
    "model.add(tf.keras.layers.Reshape((1024,),input_shape=(32,32,)))\n",
    "model.add(tf.keras.layers.BatchNormalization())"
   ]
  },
  {
   "cell_type": "code",
   "execution_count": 66,
   "metadata": {},
   "outputs": [],
   "source": [
    "#Add 1st hidden layer\n",
    "model.add(tf.keras.layers.Dense(200, activation='relu'))"
   ]
  },
  {
   "cell_type": "code",
   "execution_count": 67,
   "metadata": {},
   "outputs": [],
   "source": [
    "#Add 2nd hidden layer\n",
    "model.add(tf.keras.layers.Dense(100, activation='relu'))"
   ]
  },
  {
   "cell_type": "code",
   "execution_count": 68,
   "metadata": {},
   "outputs": [],
   "source": [
    "#Add 3rd hidden layer\n",
    "model.add(tf.keras.layers.Dense(60, activation='relu'))"
   ]
  },
  {
   "cell_type": "code",
   "execution_count": 69,
   "metadata": {},
   "outputs": [],
   "source": [
    "#Add 4th hidden layer\n",
    "model.add(tf.keras.layers.Dense(30, activation='relu'))"
   ]
  },
  {
   "cell_type": "code",
   "execution_count": 70,
   "metadata": {},
   "outputs": [],
   "source": [
    "#Add 5th hidden layer\n",
    "model.add(tf.keras.layers.Dense(15, activation='relu'))"
   ]
  },
  {
   "cell_type": "code",
   "execution_count": 71,
   "metadata": {},
   "outputs": [],
   "source": [
    "#Add OUTPUT layer\n",
    "model.add(tf.keras.layers.Dense(10, activation='softmax'))"
   ]
  },
  {
   "cell_type": "code",
   "execution_count": 72,
   "metadata": {},
   "outputs": [],
   "source": [
    "#Create optimizer with non-default learning rate\n",
    "sgd_optimizer = tf.keras.optimizers.SGD(lr=0.03)\n",
    "\n",
    "#Compile the model\n",
    "model.compile(optimizer=sgd_optimizer, loss='categorical_crossentropy', metrics=['accuracy'])"
   ]
  },
  {
   "cell_type": "markdown",
   "metadata": {},
   "source": [
    "## Review model"
   ]
  },
  {
   "cell_type": "code",
   "execution_count": 73,
   "metadata": {
    "scrolled": true
   },
   "outputs": [
    {
     "name": "stdout",
     "output_type": "stream",
     "text": [
      "Model: \"sequential_2\"\n",
      "_________________________________________________________________\n",
      "Layer (type)                 Output Shape              Param #   \n",
      "=================================================================\n",
      "reshape_2 (Reshape)          (None, 1024)              0         \n",
      "_________________________________________________________________\n",
      "batch_normalization_2 (Batch (None, 1024)              4096      \n",
      "_________________________________________________________________\n",
      "dense_14 (Dense)             (None, 200)               205000    \n",
      "_________________________________________________________________\n",
      "dense_15 (Dense)             (None, 100)               20100     \n",
      "_________________________________________________________________\n",
      "dense_16 (Dense)             (None, 60)                6060      \n",
      "_________________________________________________________________\n",
      "dense_17 (Dense)             (None, 30)                1830      \n",
      "_________________________________________________________________\n",
      "dense_18 (Dense)             (None, 15)                465       \n",
      "_________________________________________________________________\n",
      "dense_19 (Dense)             (None, 10)                160       \n",
      "=================================================================\n",
      "Total params: 237,711\n",
      "Trainable params: 235,663\n",
      "Non-trainable params: 2,048\n",
      "_________________________________________________________________\n"
     ]
    }
   ],
   "source": [
    "model.summary()"
   ]
  },
  {
   "cell_type": "markdown",
   "metadata": {},
   "source": [
    "## Train the model"
   ]
  },
  {
   "cell_type": "code",
   "execution_count": 74,
   "metadata": {},
   "outputs": [
    {
     "name": "stdout",
     "output_type": "stream",
     "text": [
      "Train on 42000 samples, validate on 18000 samples\n",
      "Epoch 1/30\n",
      "42000/42000 [==============================] - 3s 67us/sample - loss: 1.7604 - accuracy: 0.3824 - val_loss: 1.2708 - val_accuracy: 0.5918\n",
      "Epoch 2/30\n",
      "42000/42000 [==============================] - 2s 59us/sample - loss: 1.1389 - accuracy: 0.6346 - val_loss: 1.1212 - val_accuracy: 0.6569\n",
      "Epoch 3/30\n",
      "42000/42000 [==============================] - 3s 61us/sample - loss: 0.9619 - accuracy: 0.6920 - val_loss: 0.9218 - val_accuracy: 0.7086\n",
      "Epoch 4/30\n",
      "42000/42000 [==============================] - 2s 59us/sample - loss: 0.8629 - accuracy: 0.7290 - val_loss: 0.8714 - val_accuracy: 0.7429\n",
      "Epoch 5/30\n",
      "42000/42000 [==============================] - 3s 61us/sample - loss: 0.8070 - accuracy: 0.7448 - val_loss: 0.7498 - val_accuracy: 0.7695\n",
      "Epoch 6/30\n",
      "42000/42000 [==============================] - 3s 61us/sample - loss: 0.7517 - accuracy: 0.7621 - val_loss: 0.7385 - val_accuracy: 0.7721\n",
      "Epoch 7/30\n",
      "42000/42000 [==============================] - 3s 61us/sample - loss: 0.7179 - accuracy: 0.7725 - val_loss: 0.7125 - val_accuracy: 0.7841\n",
      "Epoch 8/30\n",
      "42000/42000 [==============================] - 3s 60us/sample - loss: 0.6882 - accuracy: 0.7818 - val_loss: 0.6686 - val_accuracy: 0.8027\n",
      "Epoch 9/30\n",
      "42000/42000 [==============================] - 2s 59us/sample - loss: 0.6583 - accuracy: 0.7925 - val_loss: 0.7620 - val_accuracy: 0.7744\n",
      "Epoch 10/30\n",
      "42000/42000 [==============================] - 2s 59us/sample - loss: 0.6359 - accuracy: 0.7976 - val_loss: 0.6495 - val_accuracy: 0.8041\n",
      "Epoch 11/30\n",
      "42000/42000 [==============================] - 2s 57us/sample - loss: 0.6139 - accuracy: 0.8070 - val_loss: 0.6394 - val_accuracy: 0.8125\n",
      "Epoch 12/30\n",
      "42000/42000 [==============================] - 2s 58us/sample - loss: 0.5956 - accuracy: 0.8124 - val_loss: 0.6082 - val_accuracy: 0.8197\n",
      "Epoch 13/30\n",
      "42000/42000 [==============================] - 2s 59us/sample - loss: 0.5818 - accuracy: 0.8154 - val_loss: 0.6022 - val_accuracy: 0.8225\n",
      "Epoch 14/30\n",
      "42000/42000 [==============================] - 2s 59us/sample - loss: 0.5648 - accuracy: 0.8217 - val_loss: 0.5926 - val_accuracy: 0.8291\n",
      "Epoch 15/30\n",
      "42000/42000 [==============================] - 2s 58us/sample - loss: 0.5553 - accuracy: 0.8230 - val_loss: 0.5890 - val_accuracy: 0.8252\n",
      "Epoch 16/30\n",
      "42000/42000 [==============================] - 2s 59us/sample - loss: 0.5407 - accuracy: 0.8276 - val_loss: 0.5856 - val_accuracy: 0.8304\n",
      "Epoch 17/30\n",
      "42000/42000 [==============================] - 2s 59us/sample - loss: 0.5307 - accuracy: 0.8297 - val_loss: 0.5772 - val_accuracy: 0.8312\n",
      "Epoch 18/30\n",
      "42000/42000 [==============================] - 3s 60us/sample - loss: 0.5132 - accuracy: 0.8380 - val_loss: 0.5774 - val_accuracy: 0.8314\n",
      "Epoch 19/30\n",
      "42000/42000 [==============================] - 2s 59us/sample - loss: 0.5104 - accuracy: 0.8379 - val_loss: 0.5870 - val_accuracy: 0.8322\n",
      "Epoch 20/30\n",
      "42000/42000 [==============================] - 2s 59us/sample - loss: 0.4998 - accuracy: 0.8411 - val_loss: 0.5756 - val_accuracy: 0.8319\n",
      "Epoch 21/30\n",
      "42000/42000 [==============================] - 3s 60us/sample - loss: 0.4882 - accuracy: 0.8455 - val_loss: 0.5817 - val_accuracy: 0.8273\n",
      "Epoch 22/30\n",
      "42000/42000 [==============================] - 2s 59us/sample - loss: 0.4832 - accuracy: 0.8467 - val_loss: 0.5551 - val_accuracy: 0.8408\n",
      "Epoch 23/30\n",
      "42000/42000 [==============================] - 3s 60us/sample - loss: 0.4735 - accuracy: 0.8483 - val_loss: 0.5775 - val_accuracy: 0.8321\n",
      "Epoch 24/30\n",
      "42000/42000 [==============================] - 2s 59us/sample - loss: 0.4702 - accuracy: 0.8516 - val_loss: 0.5874 - val_accuracy: 0.8313\n",
      "Epoch 25/30\n",
      "42000/42000 [==============================] - 3s 61us/sample - loss: 0.4587 - accuracy: 0.8549 - val_loss: 0.5874 - val_accuracy: 0.8304\n",
      "Epoch 26/30\n",
      "42000/42000 [==============================] - 2s 58us/sample - loss: 0.4548 - accuracy: 0.8562 - val_loss: 0.5561 - val_accuracy: 0.8408\n",
      "Epoch 27/30\n",
      "42000/42000 [==============================] - 3s 60us/sample - loss: 0.4475 - accuracy: 0.8589 - val_loss: 0.5466 - val_accuracy: 0.8443\n",
      "Epoch 28/30\n",
      "42000/42000 [==============================] - 3s 60us/sample - loss: 0.4389 - accuracy: 0.8596 - val_loss: 0.5394 - val_accuracy: 0.8462\n",
      "Epoch 29/30\n",
      "42000/42000 [==============================] - 3s 60us/sample - loss: 0.4391 - accuracy: 0.8592 - val_loss: 0.5750 - val_accuracy: 0.8420\n",
      "Epoch 30/30\n",
      "42000/42000 [==============================] - 2s 58us/sample - loss: 0.4300 - accuracy: 0.8619 - val_loss: 0.5353 - val_accuracy: 0.8472\n"
     ]
    }
   ],
   "source": [
    "history=model.fit(X_train,y_train,          \n",
    "          validation_data=(X_test,y_test),\n",
    "          epochs=30,\n",
    "          batch_size=32)"
   ]
  },
  {
   "cell_type": "code",
   "execution_count": 75,
   "metadata": {},
   "outputs": [
    {
     "name": "stdout",
     "output_type": "stream",
     "text": [
      "model predicted accuracy : 0.84716666\n"
     ]
    },
    {
     "data": {
      "image/png": "[encoded data removed]",
      "text/plain": [
       "<Figure size 432x288 with 1 Axes>"
      ]
     },
     "metadata": {
      "needs_background": "light"
     },
     "output_type": "display_data"
    }
   ],
   "source": [
    "loss,accuracy  = model.evaluate(X_test, y_test, verbose=False)\n",
    "print(\"model predicted accuracy :\" , accuracy)\n",
    "plt.plot(history.history['accuracy'])\n",
    "plt.plot(history.history['val_accuracy'])\n",
    "plt.plot(history.history['loss'])\n",
    "plt.title('model accuracy')\n",
    "plt.ylabel('accuracy / loss')\n",
    "plt.xlabel('epoch')\n",
    "plt.legend(['training', 'validation'], loc='best')\n",
    "plt.show()"
   ]
  },
  {
   "cell_type": "code",
   "execution_count": 76,
   "metadata": {},
   "outputs": [
    {
     "name": "stdout",
     "output_type": "stream",
     "text": [
      "[[7.24645332e-02 5.68639636e-01 3.70966531e-02 ... 6.19234256e-02\n",
      "  5.63792475e-02 3.31371240e-02]\n",
      " [2.21273376e-06 1.54164227e-04 1.21842055e-02 ... 9.87402260e-01\n",
      "  2.67478063e-05 8.85320187e-05]\n",
      " [1.35487289e-06 3.19947071e-06 9.99778569e-01 ... 4.12284753e-05\n",
      "  5.54756989e-05 1.60529216e-05]\n",
      " ...\n",
      " [4.53790290e-06 6.07215916e-04 6.14875353e-06 ... 9.98994052e-01\n",
      "  1.07046417e-05 1.34045331e-05]\n",
      " [4.82437015e-02 1.18665909e-02 1.76833440e-02 ... 6.75399462e-03\n",
      "  3.80126238e-02 7.13090599e-01]\n",
      " [1.13975384e-05 1.14029635e-05 9.98953700e-01 ... 6.53307303e-04\n",
      "  4.09549248e-05 1.44401711e-04]]\n"
     ]
    }
   ],
   "source": [
    "y_pred = model.predict(X_test)\n",
    "print(y_pred)"
   ]
  },
  {
   "cell_type": "code",
   "execution_count": 77,
   "metadata": {},
   "outputs": [
    {
     "name": "stdout",
     "output_type": "stream",
     "text": [
      "(18000, 32, 32)\n",
      "(1, 32, 32)\n"
     ]
    }
   ],
   "source": [
    "print(X_test.shape)\n",
    "in_data = np.expand_dims(X_test[1],axis = 0)\n",
    "print(in_data.shape)\n"
   ]
  },
  {
   "cell_type": "code",
   "execution_count": 78,
   "metadata": {},
   "outputs": [
    {
     "data": {
      "text/plain": [
       "7"
      ]
     },
     "execution_count": 78,
     "metadata": {},
     "output_type": "execute_result"
    }
   ],
   "source": [
    "y_test1[1]"
   ]
  },
  {
   "cell_type": "code",
   "execution_count": 79,
   "metadata": {},
   "outputs": [
    {
     "name": "stdout",
     "output_type": "stream",
     "text": [
      "[[2.2127299e-06 1.5416379e-04 1.2184184e-02 7.5797419e-05 4.0953640e-07\n",
      "  4.6841549e-05 1.8855977e-05 9.8740238e-01 2.6747708e-05 8.8531691e-05]]\n"
     ]
    }
   ],
   "source": [
    "prediction = model.predict(in_data)\n",
    "print(prediction)"
   ]
  },
  {
   "cell_type": "code",
   "execution_count": 80,
   "metadata": {},
   "outputs": [
    {
     "data": {
      "text/plain": [
       "(1, 10)"
      ]
     },
     "execution_count": 80,
     "metadata": {},
     "output_type": "execute_result"
    }
   ],
   "source": [
    "prediction.shape"
   ]
  },
  {
   "cell_type": "code",
   "execution_count": 81,
   "metadata": {},
   "outputs": [
    {
     "name": "stdout",
     "output_type": "stream",
     "text": [
      "Predicted Num: 7\n",
      "Original Num: 7\n"
     ]
    },
    {
     "data": {
      "image/png": "[encoded data removed]",
      "text/plain": [
       "<Figure size 432x288 with 1 Axes>"
      ]
     },
     "metadata": {
      "needs_background": "light"
     },
     "output_type": "display_data"
    }
   ],
   "source": [
    "plt.imshow(X_test[1], cmap = 'gray')\n",
    "predicted_num = np.argmax(prediction)\n",
    "\n",
    "print('Predicted Num:',predicted_num)\n",
    "print('Original Num:', y_test1[1])"
   ]
  },
  {
   "cell_type": "code",
   "execution_count": null,
   "metadata": {},
   "outputs": [],
   "source": []
  }
 ],
 "metadata": {
  "kernelspec": {
   "display_name": "Python 3",
   "language": "python",
   "name": "python3"
  },
  "language_info": {
   "codemirror_mode": {
    "name": "ipython",
    "version": 3
   },
   "file_extension": ".py",
   "mimetype": "text/x-python",
   "name": "python",
   "nbconvert_exporter": "python",
   "pygments_lexer": "ipython3",
   "version": "3.7.4"
  }
 },
 "nbformat": 4,
 "nbformat_minor": 2
}
